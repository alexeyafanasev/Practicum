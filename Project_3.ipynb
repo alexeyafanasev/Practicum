{
  "nbformat": 4,
  "nbformat_minor": 0,
  "metadata": {
    "kernelspec": {
      "display_name": "Python 3",
      "language": "python",
      "name": "python3"
    },
    "language_info": {
      "codemirror_mode": {
        "name": "ipython",
        "version": 3
      },
      "file_extension": ".py",
      "mimetype": "text/x-python",
      "name": "python",
      "nbconvert_exporter": "python",
      "pygments_lexer": "ipython3",
      "version": "3.7.8"
    },
    "toc": {
      "base_numbering": 1,
      "nav_menu": {},
      "number_sections": true,
      "sideBar": true,
      "skip_h1_title": true,
      "title_cell": "Table of Contents",
      "title_sidebar": "Contents",
      "toc_cell": false,
      "toc_position": {
        "height": "calc(100% - 180px)",
        "left": "10px",
        "top": "150px",
        "width": "270.764px"
      },
      "toc_section_display": true,
      "toc_window_display": true
    },
    "colab": {
      "name": "Project 3.ipynb",
      "provenance": []
    }
  },
  "cells": [
    {
      "cell_type": "markdown",
      "metadata": {
        "id": "DxEj0-59zneQ"
      },
      "source": [
        "# Исследование тарифов телеком компании\n",
        "\n",
        "Объект анализа - данные о 500 абонентах компании \"Мегалайн\" за 2018 год. Информация распределена на 5 таблиц: \n",
        "\n",
        " - users (информация о пользователях)\n",
        " - calls (информация о звонках)\n",
        " - messages (информация о сообщениях)\n",
        " - internet (информация об интернет-сессиях)\n",
        " - tariffs (информация о тарифах)\n",
        " \n",
        "Цель исследования - проанализировать поведение клиентов и предоставить коммерческому департаменту вывод о том, какой тариф приносит компании большую прибыль.\n",
        "\n",
        "План работы:\n",
        "\n",
        "    1 - Загрузка и обзор данных \n",
        "    2 - Предобработка данных\n",
        "    3 - Исследовательский анализ\n",
        "    4 - Проверка гипотез\n",
        "    5 - Вывод"
      ]
    },
    {
      "cell_type": "markdown",
      "metadata": {
        "id": "_aJujQsVzneR"
      },
      "source": [
        "### Загрузка и обзор данных"
      ]
    },
    {
      "cell_type": "code",
      "metadata": {
        "id": "81d3wbFfzneT"
      },
      "source": [
        "import pandas as pd\n",
        "import numpy as np\n",
        "#import statistics\n",
        "from scipy import stats as st\n",
        "import matplotlib.pyplot as plt\n",
        "#import seaborn as sns\n",
        "import warnings\n",
        "warnings.filterwarnings('ignore')\n",
        "#import inspect"
      ],
      "execution_count": null,
      "outputs": []
    },
    {
      "cell_type": "code",
      "metadata": {
        "id": "q624MgftzneV"
      },
      "source": [
        "raw_calls = pd.read_csv(\"/datasets/calls.csv\")\n",
        "raw_internet = pd.read_csv(\"/datasets/internet.csv\")\n",
        "raw_messages = pd.read_csv(\"/datasets/messages.csv\")\n",
        "raw_tariffs = pd.read_csv(\"/datasets/tariffs.csv\")\n",
        "raw_users = pd.read_csv(\"/datasets/users.csv\")"
      ],
      "execution_count": null,
      "outputs": []
    },
    {
      "cell_type": "markdown",
      "metadata": {
        "id": "MNII0skpzneW"
      },
      "source": [
        "Проведем первичный обзор каждой таблицы"
      ]
    },
    {
      "cell_type": "code",
      "metadata": {
        "id": "7FrTq237zneX"
      },
      "source": [
        "def table_info(table_name):\n",
        "    print()\n",
        "    print('Первые 5 строк:')\n",
        "    display(table_name.head())\n",
        "    print()\n",
        "    print('Информация о содержащихся данных:')\n",
        "    print()\n",
        "    display(table_name.info())\n",
        "    print('Обзор числовых данных:')\n",
        "    display(table_name.describe())\n",
        "    print('Число дубликатов:')\n",
        "    display(table_name.duplicated().sum())"
      ],
      "execution_count": null,
      "outputs": []
    },
    {
      "cell_type": "code",
      "metadata": {
        "id": "g63ivTQhzneY",
        "outputId": "afaba953-e766-444d-f3e0-6b022edbe486"
      },
      "source": [
        "print('Обзор таблицы users')\n",
        "table_info(raw_users)"
      ],
      "execution_count": null,
      "outputs": [
        {
          "output_type": "stream",
          "text": [
            "Обзор таблицы users\n",
            "\n",
            "Первые 5 строк:\n"
          ],
          "name": "stdout"
        },
        {
          "output_type": "display_data",
          "data": {
            "text/html": [
              "<div>\n",
              "<style scoped>\n",
              "    .dataframe tbody tr th:only-of-type {\n",
              "        vertical-align: middle;\n",
              "    }\n",
              "\n",
              "    .dataframe tbody tr th {\n",
              "        vertical-align: top;\n",
              "    }\n",
              "\n",
              "    .dataframe thead th {\n",
              "        text-align: right;\n",
              "    }\n",
              "</style>\n",
              "<table border=\"1\" class=\"dataframe\">\n",
              "  <thead>\n",
              "    <tr style=\"text-align: right;\">\n",
              "      <th></th>\n",
              "      <th>user_id</th>\n",
              "      <th>age</th>\n",
              "      <th>churn_date</th>\n",
              "      <th>city</th>\n",
              "      <th>first_name</th>\n",
              "      <th>last_name</th>\n",
              "      <th>reg_date</th>\n",
              "      <th>tariff</th>\n",
              "    </tr>\n",
              "  </thead>\n",
              "  <tbody>\n",
              "    <tr>\n",
              "      <td>0</td>\n",
              "      <td>1000</td>\n",
              "      <td>52</td>\n",
              "      <td>NaN</td>\n",
              "      <td>Краснодар</td>\n",
              "      <td>Рафаил</td>\n",
              "      <td>Верещагин</td>\n",
              "      <td>2018-05-25</td>\n",
              "      <td>ultra</td>\n",
              "    </tr>\n",
              "    <tr>\n",
              "      <td>1</td>\n",
              "      <td>1001</td>\n",
              "      <td>41</td>\n",
              "      <td>NaN</td>\n",
              "      <td>Москва</td>\n",
              "      <td>Иван</td>\n",
              "      <td>Ежов</td>\n",
              "      <td>2018-11-01</td>\n",
              "      <td>smart</td>\n",
              "    </tr>\n",
              "    <tr>\n",
              "      <td>2</td>\n",
              "      <td>1002</td>\n",
              "      <td>59</td>\n",
              "      <td>NaN</td>\n",
              "      <td>Стерлитамак</td>\n",
              "      <td>Евгений</td>\n",
              "      <td>Абрамович</td>\n",
              "      <td>2018-06-17</td>\n",
              "      <td>smart</td>\n",
              "    </tr>\n",
              "    <tr>\n",
              "      <td>3</td>\n",
              "      <td>1003</td>\n",
              "      <td>23</td>\n",
              "      <td>NaN</td>\n",
              "      <td>Москва</td>\n",
              "      <td>Белла</td>\n",
              "      <td>Белякова</td>\n",
              "      <td>2018-08-17</td>\n",
              "      <td>ultra</td>\n",
              "    </tr>\n",
              "    <tr>\n",
              "      <td>4</td>\n",
              "      <td>1004</td>\n",
              "      <td>68</td>\n",
              "      <td>NaN</td>\n",
              "      <td>Новокузнецк</td>\n",
              "      <td>Татьяна</td>\n",
              "      <td>Авдеенко</td>\n",
              "      <td>2018-05-14</td>\n",
              "      <td>ultra</td>\n",
              "    </tr>\n",
              "  </tbody>\n",
              "</table>\n",
              "</div>"
            ],
            "text/plain": [
              "   user_id  age churn_date         city first_name  last_name    reg_date  \\\n",
              "0     1000   52        NaN    Краснодар     Рафаил  Верещагин  2018-05-25   \n",
              "1     1001   41        NaN       Москва       Иван       Ежов  2018-11-01   \n",
              "2     1002   59        NaN  Стерлитамак    Евгений  Абрамович  2018-06-17   \n",
              "3     1003   23        NaN       Москва      Белла   Белякова  2018-08-17   \n",
              "4     1004   68        NaN  Новокузнецк    Татьяна   Авдеенко  2018-05-14   \n",
              "\n",
              "  tariff  \n",
              "0  ultra  \n",
              "1  smart  \n",
              "2  smart  \n",
              "3  ultra  \n",
              "4  ultra  "
            ]
          },
          "metadata": {
            "tags": []
          }
        },
        {
          "output_type": "stream",
          "text": [
            "\n",
            "Информация о содержащихся данных:\n",
            "\n",
            "<class 'pandas.core.frame.DataFrame'>\n",
            "RangeIndex: 500 entries, 0 to 499\n",
            "Data columns (total 8 columns):\n",
            "user_id       500 non-null int64\n",
            "age           500 non-null int64\n",
            "churn_date    38 non-null object\n",
            "city          500 non-null object\n",
            "first_name    500 non-null object\n",
            "last_name     500 non-null object\n",
            "reg_date      500 non-null object\n",
            "tariff        500 non-null object\n",
            "dtypes: int64(2), object(6)\n",
            "memory usage: 31.4+ KB\n"
          ],
          "name": "stdout"
        },
        {
          "output_type": "display_data",
          "data": {
            "text/plain": [
              "None"
            ]
          },
          "metadata": {
            "tags": []
          }
        },
        {
          "output_type": "stream",
          "text": [
            "Обзор числовых данных:\n"
          ],
          "name": "stdout"
        },
        {
          "output_type": "display_data",
          "data": {
            "text/html": [
              "<div>\n",
              "<style scoped>\n",
              "    .dataframe tbody tr th:only-of-type {\n",
              "        vertical-align: middle;\n",
              "    }\n",
              "\n",
              "    .dataframe tbody tr th {\n",
              "        vertical-align: top;\n",
              "    }\n",
              "\n",
              "    .dataframe thead th {\n",
              "        text-align: right;\n",
              "    }\n",
              "</style>\n",
              "<table border=\"1\" class=\"dataframe\">\n",
              "  <thead>\n",
              "    <tr style=\"text-align: right;\">\n",
              "      <th></th>\n",
              "      <th>user_id</th>\n",
              "      <th>age</th>\n",
              "    </tr>\n",
              "  </thead>\n",
              "  <tbody>\n",
              "    <tr>\n",
              "      <td>count</td>\n",
              "      <td>500.000000</td>\n",
              "      <td>500.00000</td>\n",
              "    </tr>\n",
              "    <tr>\n",
              "      <td>mean</td>\n",
              "      <td>1249.500000</td>\n",
              "      <td>46.58800</td>\n",
              "    </tr>\n",
              "    <tr>\n",
              "      <td>std</td>\n",
              "      <td>144.481833</td>\n",
              "      <td>16.66763</td>\n",
              "    </tr>\n",
              "    <tr>\n",
              "      <td>min</td>\n",
              "      <td>1000.000000</td>\n",
              "      <td>18.00000</td>\n",
              "    </tr>\n",
              "    <tr>\n",
              "      <td>25%</td>\n",
              "      <td>1124.750000</td>\n",
              "      <td>32.00000</td>\n",
              "    </tr>\n",
              "    <tr>\n",
              "      <td>50%</td>\n",
              "      <td>1249.500000</td>\n",
              "      <td>46.00000</td>\n",
              "    </tr>\n",
              "    <tr>\n",
              "      <td>75%</td>\n",
              "      <td>1374.250000</td>\n",
              "      <td>62.00000</td>\n",
              "    </tr>\n",
              "    <tr>\n",
              "      <td>max</td>\n",
              "      <td>1499.000000</td>\n",
              "      <td>75.00000</td>\n",
              "    </tr>\n",
              "  </tbody>\n",
              "</table>\n",
              "</div>"
            ],
            "text/plain": [
              "           user_id        age\n",
              "count   500.000000  500.00000\n",
              "mean   1249.500000   46.58800\n",
              "std     144.481833   16.66763\n",
              "min    1000.000000   18.00000\n",
              "25%    1124.750000   32.00000\n",
              "50%    1249.500000   46.00000\n",
              "75%    1374.250000   62.00000\n",
              "max    1499.000000   75.00000"
            ]
          },
          "metadata": {
            "tags": []
          }
        },
        {
          "output_type": "stream",
          "text": [
            "Число дубликатов:\n"
          ],
          "name": "stdout"
        },
        {
          "output_type": "display_data",
          "data": {
            "text/plain": [
              "0"
            ]
          },
          "metadata": {
            "tags": []
          }
        }
      ]
    },
    {
      "cell_type": "markdown",
      "metadata": {
        "id": "7VhIjbwZzneb"
      },
      "source": [
        "В таблице \"users\" пропущенные значения есть только в столбце \"churn_date\", т.е. почти все клиенты (кроме 38) продолжали пользоваться выбранным тарифом компании на момент выгрузки. Данные в числовых полях выглядят адекватно. Полных дубликатов нет."
      ]
    },
    {
      "cell_type": "code",
      "metadata": {
        "id": "tuhcEK-Sznec",
        "outputId": "6f5b33b8-4591-419c-9c91-45dd0b9dd139"
      },
      "source": [
        "print('Обзор таблицы calls')\n",
        "table_info(raw_calls)"
      ],
      "execution_count": null,
      "outputs": [
        {
          "output_type": "stream",
          "text": [
            "Обзор таблицы calls\n",
            "\n",
            "Первые 5 строк:\n"
          ],
          "name": "stdout"
        },
        {
          "output_type": "display_data",
          "data": {
            "text/html": [
              "<div>\n",
              "<style scoped>\n",
              "    .dataframe tbody tr th:only-of-type {\n",
              "        vertical-align: middle;\n",
              "    }\n",
              "\n",
              "    .dataframe tbody tr th {\n",
              "        vertical-align: top;\n",
              "    }\n",
              "\n",
              "    .dataframe thead th {\n",
              "        text-align: right;\n",
              "    }\n",
              "</style>\n",
              "<table border=\"1\" class=\"dataframe\">\n",
              "  <thead>\n",
              "    <tr style=\"text-align: right;\">\n",
              "      <th></th>\n",
              "      <th>id</th>\n",
              "      <th>call_date</th>\n",
              "      <th>duration</th>\n",
              "      <th>user_id</th>\n",
              "    </tr>\n",
              "  </thead>\n",
              "  <tbody>\n",
              "    <tr>\n",
              "      <td>0</td>\n",
              "      <td>1000_0</td>\n",
              "      <td>2018-07-25</td>\n",
              "      <td>0.00</td>\n",
              "      <td>1000</td>\n",
              "    </tr>\n",
              "    <tr>\n",
              "      <td>1</td>\n",
              "      <td>1000_1</td>\n",
              "      <td>2018-08-17</td>\n",
              "      <td>0.00</td>\n",
              "      <td>1000</td>\n",
              "    </tr>\n",
              "    <tr>\n",
              "      <td>2</td>\n",
              "      <td>1000_2</td>\n",
              "      <td>2018-06-11</td>\n",
              "      <td>2.85</td>\n",
              "      <td>1000</td>\n",
              "    </tr>\n",
              "    <tr>\n",
              "      <td>3</td>\n",
              "      <td>1000_3</td>\n",
              "      <td>2018-09-21</td>\n",
              "      <td>13.80</td>\n",
              "      <td>1000</td>\n",
              "    </tr>\n",
              "    <tr>\n",
              "      <td>4</td>\n",
              "      <td>1000_4</td>\n",
              "      <td>2018-12-15</td>\n",
              "      <td>5.18</td>\n",
              "      <td>1000</td>\n",
              "    </tr>\n",
              "  </tbody>\n",
              "</table>\n",
              "</div>"
            ],
            "text/plain": [
              "       id   call_date  duration  user_id\n",
              "0  1000_0  2018-07-25      0.00     1000\n",
              "1  1000_1  2018-08-17      0.00     1000\n",
              "2  1000_2  2018-06-11      2.85     1000\n",
              "3  1000_3  2018-09-21     13.80     1000\n",
              "4  1000_4  2018-12-15      5.18     1000"
            ]
          },
          "metadata": {
            "tags": []
          }
        },
        {
          "output_type": "stream",
          "text": [
            "\n",
            "Информация о содержащихся данных:\n",
            "\n",
            "<class 'pandas.core.frame.DataFrame'>\n",
            "RangeIndex: 202607 entries, 0 to 202606\n",
            "Data columns (total 4 columns):\n",
            "id           202607 non-null object\n",
            "call_date    202607 non-null object\n",
            "duration     202607 non-null float64\n",
            "user_id      202607 non-null int64\n",
            "dtypes: float64(1), int64(1), object(2)\n",
            "memory usage: 6.2+ MB\n"
          ],
          "name": "stdout"
        },
        {
          "output_type": "display_data",
          "data": {
            "text/plain": [
              "None"
            ]
          },
          "metadata": {
            "tags": []
          }
        },
        {
          "output_type": "stream",
          "text": [
            "Обзор числовых данных:\n"
          ],
          "name": "stdout"
        },
        {
          "output_type": "display_data",
          "data": {
            "text/html": [
              "<div>\n",
              "<style scoped>\n",
              "    .dataframe tbody tr th:only-of-type {\n",
              "        vertical-align: middle;\n",
              "    }\n",
              "\n",
              "    .dataframe tbody tr th {\n",
              "        vertical-align: top;\n",
              "    }\n",
              "\n",
              "    .dataframe thead th {\n",
              "        text-align: right;\n",
              "    }\n",
              "</style>\n",
              "<table border=\"1\" class=\"dataframe\">\n",
              "  <thead>\n",
              "    <tr style=\"text-align: right;\">\n",
              "      <th></th>\n",
              "      <th>duration</th>\n",
              "      <th>user_id</th>\n",
              "    </tr>\n",
              "  </thead>\n",
              "  <tbody>\n",
              "    <tr>\n",
              "      <td>count</td>\n",
              "      <td>202607.000000</td>\n",
              "      <td>202607.000000</td>\n",
              "    </tr>\n",
              "    <tr>\n",
              "      <td>mean</td>\n",
              "      <td>6.755887</td>\n",
              "      <td>1253.940619</td>\n",
              "    </tr>\n",
              "    <tr>\n",
              "      <td>std</td>\n",
              "      <td>5.843365</td>\n",
              "      <td>144.722751</td>\n",
              "    </tr>\n",
              "    <tr>\n",
              "      <td>min</td>\n",
              "      <td>0.000000</td>\n",
              "      <td>1000.000000</td>\n",
              "    </tr>\n",
              "    <tr>\n",
              "      <td>25%</td>\n",
              "      <td>1.300000</td>\n",
              "      <td>1126.000000</td>\n",
              "    </tr>\n",
              "    <tr>\n",
              "      <td>50%</td>\n",
              "      <td>6.000000</td>\n",
              "      <td>1260.000000</td>\n",
              "    </tr>\n",
              "    <tr>\n",
              "      <td>75%</td>\n",
              "      <td>10.700000</td>\n",
              "      <td>1379.000000</td>\n",
              "    </tr>\n",
              "    <tr>\n",
              "      <td>max</td>\n",
              "      <td>38.000000</td>\n",
              "      <td>1499.000000</td>\n",
              "    </tr>\n",
              "  </tbody>\n",
              "</table>\n",
              "</div>"
            ],
            "text/plain": [
              "            duration        user_id\n",
              "count  202607.000000  202607.000000\n",
              "mean        6.755887    1253.940619\n",
              "std         5.843365     144.722751\n",
              "min         0.000000    1000.000000\n",
              "25%         1.300000    1126.000000\n",
              "50%         6.000000    1260.000000\n",
              "75%        10.700000    1379.000000\n",
              "max        38.000000    1499.000000"
            ]
          },
          "metadata": {
            "tags": []
          }
        },
        {
          "output_type": "stream",
          "text": [
            "Число дубликатов:\n"
          ],
          "name": "stdout"
        },
        {
          "output_type": "display_data",
          "data": {
            "text/plain": [
              "0"
            ]
          },
          "metadata": {
            "tags": []
          }
        }
      ]
    },
    {
      "cell_type": "markdown",
      "metadata": {
        "id": "vMuF4dd-zned"
      },
      "source": [
        "В таблице \"calls\" нет пропущенных значений и полных дубликатов. Нулевые значения длительности разговоров скорее всего соответствуют пропущенным звонкам. В числовых данных аномалий не обнаружено."
      ]
    },
    {
      "cell_type": "code",
      "metadata": {
        "id": "T1n2BUpnznee",
        "outputId": "1160655f-dbc1-45cf-a647-0a7baf9f9f62"
      },
      "source": [
        "print('Обзор таблицы internet')\n",
        "table_info(raw_internet)"
      ],
      "execution_count": null,
      "outputs": [
        {
          "output_type": "stream",
          "text": [
            "Обзор таблицы internet\n",
            "\n",
            "Первые 5 строк:\n"
          ],
          "name": "stdout"
        },
        {
          "output_type": "display_data",
          "data": {
            "text/html": [
              "<div>\n",
              "<style scoped>\n",
              "    .dataframe tbody tr th:only-of-type {\n",
              "        vertical-align: middle;\n",
              "    }\n",
              "\n",
              "    .dataframe tbody tr th {\n",
              "        vertical-align: top;\n",
              "    }\n",
              "\n",
              "    .dataframe thead th {\n",
              "        text-align: right;\n",
              "    }\n",
              "</style>\n",
              "<table border=\"1\" class=\"dataframe\">\n",
              "  <thead>\n",
              "    <tr style=\"text-align: right;\">\n",
              "      <th></th>\n",
              "      <th>Unnamed: 0</th>\n",
              "      <th>id</th>\n",
              "      <th>mb_used</th>\n",
              "      <th>session_date</th>\n",
              "      <th>user_id</th>\n",
              "    </tr>\n",
              "  </thead>\n",
              "  <tbody>\n",
              "    <tr>\n",
              "      <td>0</td>\n",
              "      <td>0</td>\n",
              "      <td>1000_0</td>\n",
              "      <td>112.95</td>\n",
              "      <td>2018-11-25</td>\n",
              "      <td>1000</td>\n",
              "    </tr>\n",
              "    <tr>\n",
              "      <td>1</td>\n",
              "      <td>1</td>\n",
              "      <td>1000_1</td>\n",
              "      <td>1052.81</td>\n",
              "      <td>2018-09-07</td>\n",
              "      <td>1000</td>\n",
              "    </tr>\n",
              "    <tr>\n",
              "      <td>2</td>\n",
              "      <td>2</td>\n",
              "      <td>1000_2</td>\n",
              "      <td>1197.26</td>\n",
              "      <td>2018-06-25</td>\n",
              "      <td>1000</td>\n",
              "    </tr>\n",
              "    <tr>\n",
              "      <td>3</td>\n",
              "      <td>3</td>\n",
              "      <td>1000_3</td>\n",
              "      <td>550.27</td>\n",
              "      <td>2018-08-22</td>\n",
              "      <td>1000</td>\n",
              "    </tr>\n",
              "    <tr>\n",
              "      <td>4</td>\n",
              "      <td>4</td>\n",
              "      <td>1000_4</td>\n",
              "      <td>302.56</td>\n",
              "      <td>2018-09-24</td>\n",
              "      <td>1000</td>\n",
              "    </tr>\n",
              "  </tbody>\n",
              "</table>\n",
              "</div>"
            ],
            "text/plain": [
              "   Unnamed: 0      id  mb_used session_date  user_id\n",
              "0           0  1000_0   112.95   2018-11-25     1000\n",
              "1           1  1000_1  1052.81   2018-09-07     1000\n",
              "2           2  1000_2  1197.26   2018-06-25     1000\n",
              "3           3  1000_3   550.27   2018-08-22     1000\n",
              "4           4  1000_4   302.56   2018-09-24     1000"
            ]
          },
          "metadata": {
            "tags": []
          }
        },
        {
          "output_type": "stream",
          "text": [
            "\n",
            "Информация о содержащихся данных:\n",
            "\n",
            "<class 'pandas.core.frame.DataFrame'>\n",
            "RangeIndex: 149396 entries, 0 to 149395\n",
            "Data columns (total 5 columns):\n",
            "Unnamed: 0      149396 non-null int64\n",
            "id              149396 non-null object\n",
            "mb_used         149396 non-null float64\n",
            "session_date    149396 non-null object\n",
            "user_id         149396 non-null int64\n",
            "dtypes: float64(1), int64(2), object(2)\n",
            "memory usage: 5.7+ MB\n"
          ],
          "name": "stdout"
        },
        {
          "output_type": "display_data",
          "data": {
            "text/plain": [
              "None"
            ]
          },
          "metadata": {
            "tags": []
          }
        },
        {
          "output_type": "stream",
          "text": [
            "Обзор числовых данных:\n"
          ],
          "name": "stdout"
        },
        {
          "output_type": "display_data",
          "data": {
            "text/html": [
              "<div>\n",
              "<style scoped>\n",
              "    .dataframe tbody tr th:only-of-type {\n",
              "        vertical-align: middle;\n",
              "    }\n",
              "\n",
              "    .dataframe tbody tr th {\n",
              "        vertical-align: top;\n",
              "    }\n",
              "\n",
              "    .dataframe thead th {\n",
              "        text-align: right;\n",
              "    }\n",
              "</style>\n",
              "<table border=\"1\" class=\"dataframe\">\n",
              "  <thead>\n",
              "    <tr style=\"text-align: right;\">\n",
              "      <th></th>\n",
              "      <th>Unnamed: 0</th>\n",
              "      <th>mb_used</th>\n",
              "      <th>user_id</th>\n",
              "    </tr>\n",
              "  </thead>\n",
              "  <tbody>\n",
              "    <tr>\n",
              "      <td>count</td>\n",
              "      <td>149396.000000</td>\n",
              "      <td>149396.000000</td>\n",
              "      <td>149396.000000</td>\n",
              "    </tr>\n",
              "    <tr>\n",
              "      <td>mean</td>\n",
              "      <td>74697.500000</td>\n",
              "      <td>370.192426</td>\n",
              "      <td>1252.099842</td>\n",
              "    </tr>\n",
              "    <tr>\n",
              "      <td>std</td>\n",
              "      <td>43127.054745</td>\n",
              "      <td>278.300951</td>\n",
              "      <td>144.050823</td>\n",
              "    </tr>\n",
              "    <tr>\n",
              "      <td>min</td>\n",
              "      <td>0.000000</td>\n",
              "      <td>0.000000</td>\n",
              "      <td>1000.000000</td>\n",
              "    </tr>\n",
              "    <tr>\n",
              "      <td>25%</td>\n",
              "      <td>37348.750000</td>\n",
              "      <td>138.187500</td>\n",
              "      <td>1130.000000</td>\n",
              "    </tr>\n",
              "    <tr>\n",
              "      <td>50%</td>\n",
              "      <td>74697.500000</td>\n",
              "      <td>348.015000</td>\n",
              "      <td>1251.000000</td>\n",
              "    </tr>\n",
              "    <tr>\n",
              "      <td>75%</td>\n",
              "      <td>112046.250000</td>\n",
              "      <td>559.552500</td>\n",
              "      <td>1380.000000</td>\n",
              "    </tr>\n",
              "    <tr>\n",
              "      <td>max</td>\n",
              "      <td>149395.000000</td>\n",
              "      <td>1724.830000</td>\n",
              "      <td>1499.000000</td>\n",
              "    </tr>\n",
              "  </tbody>\n",
              "</table>\n",
              "</div>"
            ],
            "text/plain": [
              "          Unnamed: 0        mb_used        user_id\n",
              "count  149396.000000  149396.000000  149396.000000\n",
              "mean    74697.500000     370.192426    1252.099842\n",
              "std     43127.054745     278.300951     144.050823\n",
              "min         0.000000       0.000000    1000.000000\n",
              "25%     37348.750000     138.187500    1130.000000\n",
              "50%     74697.500000     348.015000    1251.000000\n",
              "75%    112046.250000     559.552500    1380.000000\n",
              "max    149395.000000    1724.830000    1499.000000"
            ]
          },
          "metadata": {
            "tags": []
          }
        },
        {
          "output_type": "stream",
          "text": [
            "Число дубликатов:\n"
          ],
          "name": "stdout"
        },
        {
          "output_type": "display_data",
          "data": {
            "text/plain": [
              "0"
            ]
          },
          "metadata": {
            "tags": []
          }
        }
      ]
    },
    {
      "cell_type": "markdown",
      "metadata": {
        "id": "RYAwT-Yhznef"
      },
      "source": [
        "В таблице \"internet\" нет пропущенных значений и полных дубликатов. Столбец \"Unnamed: 0\" скорее всего дублирует индексы. В числовых данных аномалий не обнаружено."
      ]
    },
    {
      "cell_type": "code",
      "metadata": {
        "id": "hG-BiY45zneg",
        "outputId": "ce503261-6f5d-405c-b6cc-b58db3cb9bf8"
      },
      "source": [
        "print('Обзор таблицы messages')\n",
        "table_info(raw_messages)"
      ],
      "execution_count": null,
      "outputs": [
        {
          "output_type": "stream",
          "text": [
            "Обзор таблицы messages\n",
            "\n",
            "Первые 5 строк:\n"
          ],
          "name": "stdout"
        },
        {
          "output_type": "display_data",
          "data": {
            "text/html": [
              "<div>\n",
              "<style scoped>\n",
              "    .dataframe tbody tr th:only-of-type {\n",
              "        vertical-align: middle;\n",
              "    }\n",
              "\n",
              "    .dataframe tbody tr th {\n",
              "        vertical-align: top;\n",
              "    }\n",
              "\n",
              "    .dataframe thead th {\n",
              "        text-align: right;\n",
              "    }\n",
              "</style>\n",
              "<table border=\"1\" class=\"dataframe\">\n",
              "  <thead>\n",
              "    <tr style=\"text-align: right;\">\n",
              "      <th></th>\n",
              "      <th>id</th>\n",
              "      <th>message_date</th>\n",
              "      <th>user_id</th>\n",
              "    </tr>\n",
              "  </thead>\n",
              "  <tbody>\n",
              "    <tr>\n",
              "      <td>0</td>\n",
              "      <td>1000_0</td>\n",
              "      <td>2018-06-27</td>\n",
              "      <td>1000</td>\n",
              "    </tr>\n",
              "    <tr>\n",
              "      <td>1</td>\n",
              "      <td>1000_1</td>\n",
              "      <td>2018-10-08</td>\n",
              "      <td>1000</td>\n",
              "    </tr>\n",
              "    <tr>\n",
              "      <td>2</td>\n",
              "      <td>1000_2</td>\n",
              "      <td>2018-08-04</td>\n",
              "      <td>1000</td>\n",
              "    </tr>\n",
              "    <tr>\n",
              "      <td>3</td>\n",
              "      <td>1000_3</td>\n",
              "      <td>2018-06-16</td>\n",
              "      <td>1000</td>\n",
              "    </tr>\n",
              "    <tr>\n",
              "      <td>4</td>\n",
              "      <td>1000_4</td>\n",
              "      <td>2018-12-05</td>\n",
              "      <td>1000</td>\n",
              "    </tr>\n",
              "  </tbody>\n",
              "</table>\n",
              "</div>"
            ],
            "text/plain": [
              "       id message_date  user_id\n",
              "0  1000_0   2018-06-27     1000\n",
              "1  1000_1   2018-10-08     1000\n",
              "2  1000_2   2018-08-04     1000\n",
              "3  1000_3   2018-06-16     1000\n",
              "4  1000_4   2018-12-05     1000"
            ]
          },
          "metadata": {
            "tags": []
          }
        },
        {
          "output_type": "stream",
          "text": [
            "\n",
            "Информация о содержащихся данных:\n",
            "\n",
            "<class 'pandas.core.frame.DataFrame'>\n",
            "RangeIndex: 123036 entries, 0 to 123035\n",
            "Data columns (total 3 columns):\n",
            "id              123036 non-null object\n",
            "message_date    123036 non-null object\n",
            "user_id         123036 non-null int64\n",
            "dtypes: int64(1), object(2)\n",
            "memory usage: 2.8+ MB\n"
          ],
          "name": "stdout"
        },
        {
          "output_type": "display_data",
          "data": {
            "text/plain": [
              "None"
            ]
          },
          "metadata": {
            "tags": []
          }
        },
        {
          "output_type": "stream",
          "text": [
            "Обзор числовых данных:\n"
          ],
          "name": "stdout"
        },
        {
          "output_type": "display_data",
          "data": {
            "text/html": [
              "<div>\n",
              "<style scoped>\n",
              "    .dataframe tbody tr th:only-of-type {\n",
              "        vertical-align: middle;\n",
              "    }\n",
              "\n",
              "    .dataframe tbody tr th {\n",
              "        vertical-align: top;\n",
              "    }\n",
              "\n",
              "    .dataframe thead th {\n",
              "        text-align: right;\n",
              "    }\n",
              "</style>\n",
              "<table border=\"1\" class=\"dataframe\">\n",
              "  <thead>\n",
              "    <tr style=\"text-align: right;\">\n",
              "      <th></th>\n",
              "      <th>user_id</th>\n",
              "    </tr>\n",
              "  </thead>\n",
              "  <tbody>\n",
              "    <tr>\n",
              "      <td>count</td>\n",
              "      <td>123036.000000</td>\n",
              "    </tr>\n",
              "    <tr>\n",
              "      <td>mean</td>\n",
              "      <td>1256.989410</td>\n",
              "    </tr>\n",
              "    <tr>\n",
              "      <td>std</td>\n",
              "      <td>143.523967</td>\n",
              "    </tr>\n",
              "    <tr>\n",
              "      <td>min</td>\n",
              "      <td>1000.000000</td>\n",
              "    </tr>\n",
              "    <tr>\n",
              "      <td>25%</td>\n",
              "      <td>1134.000000</td>\n",
              "    </tr>\n",
              "    <tr>\n",
              "      <td>50%</td>\n",
              "      <td>1271.000000</td>\n",
              "    </tr>\n",
              "    <tr>\n",
              "      <td>75%</td>\n",
              "      <td>1381.000000</td>\n",
              "    </tr>\n",
              "    <tr>\n",
              "      <td>max</td>\n",
              "      <td>1499.000000</td>\n",
              "    </tr>\n",
              "  </tbody>\n",
              "</table>\n",
              "</div>"
            ],
            "text/plain": [
              "             user_id\n",
              "count  123036.000000\n",
              "mean     1256.989410\n",
              "std       143.523967\n",
              "min      1000.000000\n",
              "25%      1134.000000\n",
              "50%      1271.000000\n",
              "75%      1381.000000\n",
              "max      1499.000000"
            ]
          },
          "metadata": {
            "tags": []
          }
        },
        {
          "output_type": "stream",
          "text": [
            "Число дубликатов:\n"
          ],
          "name": "stdout"
        },
        {
          "output_type": "display_data",
          "data": {
            "text/plain": [
              "0"
            ]
          },
          "metadata": {
            "tags": []
          }
        }
      ]
    },
    {
      "cell_type": "markdown",
      "metadata": {
        "id": "A7jxaXQjzneh"
      },
      "source": [
        "В таблице \"internet\" нет пропущенных значений и полных дубликатов. "
      ]
    },
    {
      "cell_type": "code",
      "metadata": {
        "id": "TyA8b_n-zneh",
        "outputId": "abe2a896-bf55-4f69-b08a-d70b242834ab"
      },
      "source": [
        "print('Обзор таблицы tariffs')\n",
        "raw_tariffs.head()"
      ],
      "execution_count": null,
      "outputs": [
        {
          "output_type": "stream",
          "text": [
            "Обзор таблицы tariffs\n"
          ],
          "name": "stdout"
        },
        {
          "output_type": "execute_result",
          "data": {
            "text/html": [
              "<div>\n",
              "<style scoped>\n",
              "    .dataframe tbody tr th:only-of-type {\n",
              "        vertical-align: middle;\n",
              "    }\n",
              "\n",
              "    .dataframe tbody tr th {\n",
              "        vertical-align: top;\n",
              "    }\n",
              "\n",
              "    .dataframe thead th {\n",
              "        text-align: right;\n",
              "    }\n",
              "</style>\n",
              "<table border=\"1\" class=\"dataframe\">\n",
              "  <thead>\n",
              "    <tr style=\"text-align: right;\">\n",
              "      <th></th>\n",
              "      <th>messages_included</th>\n",
              "      <th>mb_per_month_included</th>\n",
              "      <th>minutes_included</th>\n",
              "      <th>rub_monthly_fee</th>\n",
              "      <th>rub_per_gb</th>\n",
              "      <th>rub_per_message</th>\n",
              "      <th>rub_per_minute</th>\n",
              "      <th>tariff_name</th>\n",
              "    </tr>\n",
              "  </thead>\n",
              "  <tbody>\n",
              "    <tr>\n",
              "      <td>0</td>\n",
              "      <td>50</td>\n",
              "      <td>15360</td>\n",
              "      <td>500</td>\n",
              "      <td>550</td>\n",
              "      <td>200</td>\n",
              "      <td>3</td>\n",
              "      <td>3</td>\n",
              "      <td>smart</td>\n",
              "    </tr>\n",
              "    <tr>\n",
              "      <td>1</td>\n",
              "      <td>1000</td>\n",
              "      <td>30720</td>\n",
              "      <td>3000</td>\n",
              "      <td>1950</td>\n",
              "      <td>150</td>\n",
              "      <td>1</td>\n",
              "      <td>1</td>\n",
              "      <td>ultra</td>\n",
              "    </tr>\n",
              "  </tbody>\n",
              "</table>\n",
              "</div>"
            ],
            "text/plain": [
              "   messages_included  mb_per_month_included  minutes_included  \\\n",
              "0                 50                  15360               500   \n",
              "1               1000                  30720              3000   \n",
              "\n",
              "   rub_monthly_fee  rub_per_gb  rub_per_message  rub_per_minute tariff_name  \n",
              "0              550         200                3               3       smart  \n",
              "1             1950         150                1               1       ultra  "
            ]
          },
          "metadata": {
            "tags": []
          },
          "execution_count": 8
        }
      ]
    },
    {
      "cell_type": "markdown",
      "metadata": {
        "id": "Op-LujNEznei"
      },
      "source": [
        "#### Вывод:\n",
        "\n",
        "Таблицы содержат информацию о действиях 500 клиентов компании из разных регионов страны в 2018 году. Возраст клиентов от 18 до 75 лет. \n",
        "В представленных данных почти нет пропущеннных значений, дубликатов или аномальных значений.\n",
        "В некоторых столбцах нужно изменить тип данных.\n"
      ]
    },
    {
      "cell_type": "markdown",
      "metadata": {
        "id": "qjXX9Nq9znej"
      },
      "source": [
        "### Предобработка данных"
      ]
    },
    {
      "cell_type": "code",
      "metadata": {
        "id": "6xJ8DMwgznej",
        "outputId": "49b3653e-8633-4a84-f4ec-79b11b7c2a7f"
      },
      "source": [
        "# Рассмотрим столбец \"churn_date\" с пропущенными значениями \n",
        "\n",
        "print('Пропущено',(100. * raw_users[\"churn_date\"].isna().sum()/raw_users.shape[0]).round(1).astype(str) + '%', 'значений')"
      ],
      "execution_count": null,
      "outputs": [
        {
          "output_type": "stream",
          "text": [
            "Пропущено 92.4% значений\n"
          ],
          "name": "stdout"
        }
      ]
    },
    {
      "cell_type": "markdown",
      "metadata": {
        "id": "mLOCzZYKznel"
      },
      "source": [
        "Удалять NaN нельзя, мы потеряем почти все данные. Заменим пропущенные значения на последний день года '2018-12-31'\n"
      ]
    },
    {
      "cell_type": "code",
      "metadata": {
        "id": "MWe2mqyZznem"
      },
      "source": [
        "df_users = raw_users.copy(deep = True)\n",
        "df_users['churn_date'] = df_users['churn_date'].fillna('2018-12-31')"
      ],
      "execution_count": null,
      "outputs": []
    },
    {
      "cell_type": "markdown",
      "metadata": {
        "id": "QVR6_Y-Nznen"
      },
      "source": [
        "Создадим функции для автоматизации замены форматов данных в таблицах и для подсчета сэкономленной памяти."
      ]
    },
    {
      "cell_type": "code",
      "metadata": {
        "id": "j0u00gf4znen"
      },
      "source": [
        "# Функция подсчета памяти, используемой для хнанения данных\n",
        "\n",
        "def mem_usage(data):\n",
        "    usage_b = data.memory_usage(deep=True).sum()\n",
        "    usage_mb = usage_b / 1024 ** 2 \n",
        "    return usage_mb.round(3)"
      ],
      "execution_count": null,
      "outputs": []
    },
    {
      "cell_type": "code",
      "metadata": {
        "id": "I6D3ITskzneo"
      },
      "source": [
        "# Функция замены формата данных и оптимизации числовых подформатов\n",
        "\n",
        "def dtype_optim(data):\n",
        "        \n",
        "    dt_columns, obj_columns = ([],[])\n",
        "    data_dt = data.drop(axis = 1, columns = data.columns)\n",
        "    converted_dt = data.drop(axis = 1, columns = data.columns) \n",
        "    \n",
        "# Преобразуем столбцы типа 'object' в числовой формат или формат datetime\n",
        "    for column in data.columns:\n",
        "        if data[column].dtype == 'object':\n",
        "            try:\n",
        "                data[column] = pd.to_numeric(data[column])\n",
        "            except:\n",
        "                data_dt = pd.concat([data_dt, data[column]], axis=1)\n",
        "                try:\n",
        "                    data[column] = pd.to_datetime(data[column], format = '%Y-%m-%d')\n",
        "                    dt_columns.append(column)\n",
        "                    converted_dt = pd.concat([converted_dt, data[column]], axis=1)\n",
        "                except:\n",
        "                    obj_columns.append(column)\n",
        "                    pass\n",
        "        pass\n",
        "    \n",
        "    data_dt = data_dt[converted_dt.columns]   \n",
        "    \n",
        "    data_int = data.select_dtypes(include=['int'])\n",
        "    converted_int = data_int.apply(pd.to_numeric,downcast='unsigned')\n",
        "\n",
        "    data_float = data.select_dtypes(include=['float'])\n",
        "    converted_float = data_float.apply(pd.to_numeric,downcast='float')\n",
        "    \n",
        "    data.loc[:, data_int.columns] = converted_int\n",
        "    data.loc[:, data_float.columns] = converted_float\n",
        "    \n",
        "    tot_mem_before = (mem_usage(data_int) + mem_usage(data_float) + mem_usage(data_dt)).round(3)\n",
        "    tot_mem_after = (mem_usage(converted_int) + mem_usage(converted_float) + mem_usage(converted_dt)).round(3)\n",
        "    reduced_int = (100*(1-mem_usage(converted_int)/ mem_usage(data_int))).round(3)\n",
        "    reduced_float = (100*(1-mem_usage(converted_float)/ mem_usage(data_float))).round(3)\n",
        "    reduced_total = (100*(1-tot_mem_after/tot_mem_before)).round(3)\n",
        "    reduced_dt = (100*(1-mem_usage(converted_dt)/ mem_usage(data_dt))).round(3)\n",
        "\n",
        "# Строим итоговую таблицу экономленной памяти\n",
        "    mem_optimized = pd.DataFrame({'dtype' : ['int', 'float', 'datetime', 'total'], \n",
        "                                 'before, MB' : [mem_usage(data_int), mem_usage(data_float), mem_usage(data_dt), tot_mem_before], \n",
        "                                 'after, MB' : [mem_usage(converted_int), mem_usage(converted_float), mem_usage(converted_dt), tot_mem_after],\n",
        "                                 'reduced, %' : [reduced_int, reduced_float, reduced_dt, reduced_total]})\n",
        "    display(mem_optimized)\n",
        "    display(data.info())"
      ],
      "execution_count": null,
      "outputs": []
    },
    {
      "cell_type": "code",
      "metadata": {
        "scrolled": false,
        "id": "dM_kNyVcznep",
        "outputId": "030f3cf0-da60-4b0b-d9a5-5e77ce742641"
      },
      "source": [
        "dtype_optim(df_users)"
      ],
      "execution_count": null,
      "outputs": [
        {
          "output_type": "display_data",
          "data": {
            "text/html": [
              "<div>\n",
              "<style scoped>\n",
              "    .dataframe tbody tr th:only-of-type {\n",
              "        vertical-align: middle;\n",
              "    }\n",
              "\n",
              "    .dataframe tbody tr th {\n",
              "        vertical-align: top;\n",
              "    }\n",
              "\n",
              "    .dataframe thead th {\n",
              "        text-align: right;\n",
              "    }\n",
              "</style>\n",
              "<table border=\"1\" class=\"dataframe\">\n",
              "  <thead>\n",
              "    <tr style=\"text-align: right;\">\n",
              "      <th></th>\n",
              "      <th>dtype</th>\n",
              "      <th>before, MB</th>\n",
              "      <th>after, MB</th>\n",
              "      <th>reduced, %</th>\n",
              "    </tr>\n",
              "  </thead>\n",
              "  <tbody>\n",
              "    <tr>\n",
              "      <td>0</td>\n",
              "      <td>int</td>\n",
              "      <td>0.008</td>\n",
              "      <td>0.002</td>\n",
              "      <td>75.000</td>\n",
              "    </tr>\n",
              "    <tr>\n",
              "      <td>1</td>\n",
              "      <td>float</td>\n",
              "      <td>0.000</td>\n",
              "      <td>0.000</td>\n",
              "      <td>NaN</td>\n",
              "    </tr>\n",
              "    <tr>\n",
              "      <td>2</td>\n",
              "      <td>datetime</td>\n",
              "      <td>0.064</td>\n",
              "      <td>0.008</td>\n",
              "      <td>87.500</td>\n",
              "    </tr>\n",
              "    <tr>\n",
              "      <td>3</td>\n",
              "      <td>total</td>\n",
              "      <td>0.072</td>\n",
              "      <td>0.010</td>\n",
              "      <td>86.111</td>\n",
              "    </tr>\n",
              "  </tbody>\n",
              "</table>\n",
              "</div>"
            ],
            "text/plain": [
              "      dtype  before, MB  after, MB  reduced, %\n",
              "0       int       0.008      0.002      75.000\n",
              "1     float       0.000      0.000         NaN\n",
              "2  datetime       0.064      0.008      87.500\n",
              "3     total       0.072      0.010      86.111"
            ]
          },
          "metadata": {
            "tags": []
          }
        },
        {
          "output_type": "stream",
          "text": [
            "<class 'pandas.core.frame.DataFrame'>\n",
            "RangeIndex: 500 entries, 0 to 499\n",
            "Data columns (total 8 columns):\n",
            "user_id       500 non-null uint16\n",
            "age           500 non-null uint8\n",
            "churn_date    500 non-null datetime64[ns]\n",
            "city          500 non-null object\n",
            "first_name    500 non-null object\n",
            "last_name     500 non-null object\n",
            "reg_date      500 non-null datetime64[ns]\n",
            "tariff        500 non-null object\n",
            "dtypes: datetime64[ns](2), object(4), uint16(1), uint8(1)\n",
            "memory usage: 25.0+ KB\n"
          ],
          "name": "stdout"
        },
        {
          "output_type": "display_data",
          "data": {
            "text/plain": [
              "None"
            ]
          },
          "metadata": {
            "tags": []
          }
        }
      ]
    },
    {
      "cell_type": "markdown",
      "metadata": {
        "id": "0IQDzNa9zneq"
      },
      "source": [
        "В результате замены форматов и подформатов в таблице \"users\" удалось привести к нужному виду перевенные даты и сэкономить около 86% памяти.\n"
      ]
    },
    {
      "cell_type": "markdown",
      "metadata": {
        "id": "0Y7x6p-Hzner"
      },
      "source": [
        "В следующей таблице \"calls\" удалим звонки с нулевой длительностью, т.к. они не тарифицируются.\n",
        "Идентификатор звонка \"id\" лучше привести к числовому формату. Для этого уберем номер user_id из значения \"id\" звонка, потому что это - дублирование информации из соседнего столбца."
      ]
    },
    {
      "cell_type": "code",
      "metadata": {
        "scrolled": true,
        "id": "xr9iMUzKznet"
      },
      "source": [
        "df_calls = raw_calls.query('duration != .0').reset_index(drop = True)\n",
        "df_calls['id'] = df_calls['id'].str.slice(start=5)"
      ],
      "execution_count": null,
      "outputs": []
    },
    {
      "cell_type": "code",
      "metadata": {
        "id": "vHP7VMolznet",
        "outputId": "594f8dbf-5264-40fe-9e29-9ee84d980623"
      },
      "source": [
        "dtype_optim(df_calls)"
      ],
      "execution_count": null,
      "outputs": [
        {
          "output_type": "display_data",
          "data": {
            "text/html": [
              "<div>\n",
              "<style scoped>\n",
              "    .dataframe tbody tr th:only-of-type {\n",
              "        vertical-align: middle;\n",
              "    }\n",
              "\n",
              "    .dataframe tbody tr th {\n",
              "        vertical-align: top;\n",
              "    }\n",
              "\n",
              "    .dataframe thead th {\n",
              "        text-align: right;\n",
              "    }\n",
              "</style>\n",
              "<table border=\"1\" class=\"dataframe\">\n",
              "  <thead>\n",
              "    <tr style=\"text-align: right;\">\n",
              "      <th></th>\n",
              "      <th>dtype</th>\n",
              "      <th>before, MB</th>\n",
              "      <th>after, MB</th>\n",
              "      <th>reduced, %</th>\n",
              "    </tr>\n",
              "  </thead>\n",
              "  <tbody>\n",
              "    <tr>\n",
              "      <td>0</td>\n",
              "      <td>int</td>\n",
              "      <td>2.487</td>\n",
              "      <td>0.622</td>\n",
              "      <td>74.990</td>\n",
              "    </tr>\n",
              "    <tr>\n",
              "      <td>1</td>\n",
              "      <td>float</td>\n",
              "      <td>1.244</td>\n",
              "      <td>0.622</td>\n",
              "      <td>50.000</td>\n",
              "    </tr>\n",
              "    <tr>\n",
              "      <td>2</td>\n",
              "      <td>datetime</td>\n",
              "      <td>10.415</td>\n",
              "      <td>1.244</td>\n",
              "      <td>88.056</td>\n",
              "    </tr>\n",
              "    <tr>\n",
              "      <td>3</td>\n",
              "      <td>total</td>\n",
              "      <td>14.146</td>\n",
              "      <td>2.488</td>\n",
              "      <td>82.412</td>\n",
              "    </tr>\n",
              "  </tbody>\n",
              "</table>\n",
              "</div>"
            ],
            "text/plain": [
              "      dtype  before, MB  after, MB  reduced, %\n",
              "0       int       2.487      0.622      74.990\n",
              "1     float       1.244      0.622      50.000\n",
              "2  datetime      10.415      1.244      88.056\n",
              "3     total      14.146      2.488      82.412"
            ]
          },
          "metadata": {
            "tags": []
          }
        },
        {
          "output_type": "stream",
          "text": [
            "<class 'pandas.core.frame.DataFrame'>\n",
            "RangeIndex: 162994 entries, 0 to 162993\n",
            "Data columns (total 4 columns):\n",
            "id           162994 non-null uint16\n",
            "call_date    162994 non-null datetime64[ns]\n",
            "duration     162994 non-null float32\n",
            "user_id      162994 non-null uint16\n",
            "dtypes: datetime64[ns](1), float32(1), uint16(2)\n",
            "memory usage: 2.5 MB\n"
          ],
          "name": "stdout"
        },
        {
          "output_type": "display_data",
          "data": {
            "text/plain": [
              "None"
            ]
          },
          "metadata": {
            "tags": []
          }
        }
      ]
    },
    {
      "cell_type": "markdown",
      "metadata": {
        "id": "gULxATVFzneu"
      },
      "source": [
        "В результате преобразования типов данных в таблице \"calls\" удалось сократить использование памяти на 82%\n",
        "\n",
        "\n",
        "Рассмотрим таблицу \"internet\"\n",
        "\n",
        "Для дальнейшего анализа нужно очистить таблицу от лишней информации:\n",
        "\n",
        "- удалить лишний столбец-дубликат индекса \"Unnamed: 0\" \n",
        "- убрать значения user_id из идентификаторов интернет сессий \"id\"\n",
        "- удалить строки с нулевым значением \"mb_used\", т.к. они не тарифицируются\n",
        "\n",
        "После этого нужно применить функцию оптимизации форматов данных"
      ]
    },
    {
      "cell_type": "code",
      "metadata": {
        "id": "UKCzu02dznev"
      },
      "source": [
        "df_internet = raw_internet.drop(axis = 1, columns = \"Unnamed: 0\")\n",
        "df_internet['id'] = df_internet['id'].str.slice(start=5)\n",
        "df_internet = df_internet.query('mb_used != 0').reset_index(drop = True)"
      ],
      "execution_count": null,
      "outputs": []
    },
    {
      "cell_type": "code",
      "metadata": {
        "id": "mEXVemzxznew",
        "outputId": "930a3523-8c47-4827-9545-2dbe0c75cf65"
      },
      "source": [
        "dtype_optim(df_internet)"
      ],
      "execution_count": null,
      "outputs": [
        {
          "output_type": "display_data",
          "data": {
            "text/html": [
              "<div>\n",
              "<style scoped>\n",
              "    .dataframe tbody tr th:only-of-type {\n",
              "        vertical-align: middle;\n",
              "    }\n",
              "\n",
              "    .dataframe tbody tr th {\n",
              "        vertical-align: top;\n",
              "    }\n",
              "\n",
              "    .dataframe thead th {\n",
              "        text-align: right;\n",
              "    }\n",
              "</style>\n",
              "<table border=\"1\" class=\"dataframe\">\n",
              "  <thead>\n",
              "    <tr style=\"text-align: right;\">\n",
              "      <th></th>\n",
              "      <th>dtype</th>\n",
              "      <th>before, MB</th>\n",
              "      <th>after, MB</th>\n",
              "      <th>reduced, %</th>\n",
              "    </tr>\n",
              "  </thead>\n",
              "  <tbody>\n",
              "    <tr>\n",
              "      <td>0</td>\n",
              "      <td>int</td>\n",
              "      <td>1.981</td>\n",
              "      <td>0.495</td>\n",
              "      <td>75.013</td>\n",
              "    </tr>\n",
              "    <tr>\n",
              "      <td>1</td>\n",
              "      <td>float</td>\n",
              "      <td>0.990</td>\n",
              "      <td>0.495</td>\n",
              "      <td>50.000</td>\n",
              "    </tr>\n",
              "    <tr>\n",
              "      <td>2</td>\n",
              "      <td>datetime</td>\n",
              "      <td>8.294</td>\n",
              "      <td>0.990</td>\n",
              "      <td>88.064</td>\n",
              "    </tr>\n",
              "    <tr>\n",
              "      <td>3</td>\n",
              "      <td>total</td>\n",
              "      <td>11.265</td>\n",
              "      <td>1.980</td>\n",
              "      <td>82.423</td>\n",
              "    </tr>\n",
              "  </tbody>\n",
              "</table>\n",
              "</div>"
            ],
            "text/plain": [
              "      dtype  before, MB  after, MB  reduced, %\n",
              "0       int       1.981      0.495      75.013\n",
              "1     float       0.990      0.495      50.000\n",
              "2  datetime       8.294      0.990      88.064\n",
              "3     total      11.265      1.980      82.423"
            ]
          },
          "metadata": {
            "tags": []
          }
        },
        {
          "output_type": "stream",
          "text": [
            "<class 'pandas.core.frame.DataFrame'>\n",
            "RangeIndex: 129798 entries, 0 to 129797\n",
            "Data columns (total 4 columns):\n",
            "id              129798 non-null uint16\n",
            "mb_used         129798 non-null float32\n",
            "session_date    129798 non-null datetime64[ns]\n",
            "user_id         129798 non-null uint16\n",
            "dtypes: datetime64[ns](1), float32(1), uint16(2)\n",
            "memory usage: 2.0 MB\n"
          ],
          "name": "stdout"
        },
        {
          "output_type": "display_data",
          "data": {
            "text/plain": [
              "None"
            ]
          },
          "metadata": {
            "tags": []
          }
        }
      ]
    },
    {
      "cell_type": "markdown",
      "metadata": {
        "id": "6LnBdPWwznew"
      },
      "source": [
        "В результате преобразования типов данных в таблице \"internet\" удалось сократить использование памяти на 82%\n",
        "\n",
        "\n",
        "Рассмотрим таблицу \"messages\". Очистим значения \"id\" от идентификатора абонента user_id и заменим форматы данных.\n"
      ]
    },
    {
      "cell_type": "code",
      "metadata": {
        "id": "JPZHvJPtznex",
        "outputId": "ead05c87-c392-4313-8da1-b9acf78369c9"
      },
      "source": [
        "df_messages = raw_messages\n",
        "df_messages['id'] = df_messages['id'].str.slice(start=5)\n",
        "dtype_optim(df_messages)"
      ],
      "execution_count": null,
      "outputs": [
        {
          "output_type": "display_data",
          "data": {
            "text/html": [
              "<div>\n",
              "<style scoped>\n",
              "    .dataframe tbody tr th:only-of-type {\n",
              "        vertical-align: middle;\n",
              "    }\n",
              "\n",
              "    .dataframe tbody tr th {\n",
              "        vertical-align: top;\n",
              "    }\n",
              "\n",
              "    .dataframe thead th {\n",
              "        text-align: right;\n",
              "    }\n",
              "</style>\n",
              "<table border=\"1\" class=\"dataframe\">\n",
              "  <thead>\n",
              "    <tr style=\"text-align: right;\">\n",
              "      <th></th>\n",
              "      <th>dtype</th>\n",
              "      <th>before, MB</th>\n",
              "      <th>after, MB</th>\n",
              "      <th>reduced, %</th>\n",
              "    </tr>\n",
              "  </thead>\n",
              "  <tbody>\n",
              "    <tr>\n",
              "      <td>0</td>\n",
              "      <td>int</td>\n",
              "      <td>1.878</td>\n",
              "      <td>0.469</td>\n",
              "      <td>75.027</td>\n",
              "    </tr>\n",
              "    <tr>\n",
              "      <td>1</td>\n",
              "      <td>float</td>\n",
              "      <td>0.000</td>\n",
              "      <td>0.000</td>\n",
              "      <td>NaN</td>\n",
              "    </tr>\n",
              "    <tr>\n",
              "      <td>2</td>\n",
              "      <td>datetime</td>\n",
              "      <td>7.862</td>\n",
              "      <td>0.939</td>\n",
              "      <td>88.056</td>\n",
              "    </tr>\n",
              "    <tr>\n",
              "      <td>3</td>\n",
              "      <td>total</td>\n",
              "      <td>9.740</td>\n",
              "      <td>1.408</td>\n",
              "      <td>85.544</td>\n",
              "    </tr>\n",
              "  </tbody>\n",
              "</table>\n",
              "</div>"
            ],
            "text/plain": [
              "      dtype  before, MB  after, MB  reduced, %\n",
              "0       int       1.878      0.469      75.027\n",
              "1     float       0.000      0.000         NaN\n",
              "2  datetime       7.862      0.939      88.056\n",
              "3     total       9.740      1.408      85.544"
            ]
          },
          "metadata": {
            "tags": []
          }
        },
        {
          "output_type": "stream",
          "text": [
            "<class 'pandas.core.frame.DataFrame'>\n",
            "RangeIndex: 123036 entries, 0 to 123035\n",
            "Data columns (total 3 columns):\n",
            "id              123036 non-null uint16\n",
            "message_date    123036 non-null datetime64[ns]\n",
            "user_id         123036 non-null uint16\n",
            "dtypes: datetime64[ns](1), uint16(2)\n",
            "memory usage: 1.4 MB\n"
          ],
          "name": "stdout"
        },
        {
          "output_type": "display_data",
          "data": {
            "text/plain": [
              "None"
            ]
          },
          "metadata": {
            "tags": []
          }
        }
      ]
    },
    {
      "cell_type": "markdown",
      "metadata": {
        "id": "mBlDMR14zney"
      },
      "source": [
        "В результате преобразования типов данных в таблице \"messages\" удалось сократить использование памяти на 85%\n",
        "\n",
        "Таблица \"tariffs\" очень маленькая и не содержит особенных типов данных, поэтому оптимизировать ее не имеет смысла. "
      ]
    },
    {
      "cell_type": "code",
      "metadata": {
        "id": "Adnr-g6pzney"
      },
      "source": [
        "df_tariffs = raw_tariffs"
      ],
      "execution_count": null,
      "outputs": []
    },
    {
      "cell_type": "markdown",
      "metadata": {
        "id": "14cGehxPznez"
      },
      "source": [
        "<div class=\"alert alert-block alert-info\">\n",
        "Округлим число минут\n",
        "</div>"
      ]
    },
    {
      "cell_type": "code",
      "metadata": {
        "id": "BdF4vkiGznez"
      },
      "source": [
        "df_calls['duration'] = df_calls['duration'].apply(np.ceil)\n",
        "\n",
        "# Объем интернет-трафика округлим при пересчете в гигабайты"
      ],
      "execution_count": null,
      "outputs": []
    },
    {
      "cell_type": "markdown",
      "metadata": {
        "id": "G40bBWBkzne1"
      },
      "source": [
        "#### Вычисление дополнительных значений\n",
        "\n",
        "Рассчитаем параметры отдельных пользователей по месяцам, которые понадобятся в дальшейшем исследовании:\n",
        "\n",
        "- число звонков и израсходованных минут разговора\n",
        "- количество отправленных сообщений\n",
        "- объем израсходованного интернет-трафика\n",
        "- выручка с каждого пользователя "
      ]
    },
    {
      "cell_type": "code",
      "metadata": {
        "id": "ecgATiHhzne2",
        "outputId": "d36dc251-a306-45b0-86b2-801ed98590b7"
      },
      "source": [
        "# Число звонков и израсходованных минут разговора\n",
        "\n",
        "df_calls['month'] = df_calls['call_date'].dt.month\n",
        "df_calls_agg = df_calls.pivot_table(index = ['user_id','month'], values = 'duration', aggfunc = ['count', 'sum'])\n",
        "df_calls_agg.columns = ['calls_amount', 'time_spent']\n",
        "df_calls_agg = df_calls_agg.reset_index(level='month')\n",
        "display(df_calls_agg.tail(10))\n",
        "print('Количество пользователей, совершавших звонки:',len(df_calls_agg.index.unique()))\n",
        "print('Количество учтенных месяцев по всем пользователям:',df_calls_agg['month'].count())"
      ],
      "execution_count": null,
      "outputs": [
        {
          "output_type": "display_data",
          "data": {
            "text/html": [
              "<div>\n",
              "<style scoped>\n",
              "    .dataframe tbody tr th:only-of-type {\n",
              "        vertical-align: middle;\n",
              "    }\n",
              "\n",
              "    .dataframe tbody tr th {\n",
              "        vertical-align: top;\n",
              "    }\n",
              "\n",
              "    .dataframe thead th {\n",
              "        text-align: right;\n",
              "    }\n",
              "</style>\n",
              "<table border=\"1\" class=\"dataframe\">\n",
              "  <thead>\n",
              "    <tr style=\"text-align: right;\">\n",
              "      <th></th>\n",
              "      <th>month</th>\n",
              "      <th>calls_amount</th>\n",
              "      <th>time_spent</th>\n",
              "    </tr>\n",
              "    <tr>\n",
              "      <th>user_id</th>\n",
              "      <th></th>\n",
              "      <th></th>\n",
              "      <th></th>\n",
              "    </tr>\n",
              "  </thead>\n",
              "  <tbody>\n",
              "    <tr>\n",
              "      <td>1497</td>\n",
              "      <td>11</td>\n",
              "      <td>48</td>\n",
              "      <td>371.0</td>\n",
              "    </tr>\n",
              "    <tr>\n",
              "      <td>1497</td>\n",
              "      <td>12</td>\n",
              "      <td>58</td>\n",
              "      <td>545.0</td>\n",
              "    </tr>\n",
              "    <tr>\n",
              "      <td>1498</td>\n",
              "      <td>7</td>\n",
              "      <td>20</td>\n",
              "      <td>175.0</td>\n",
              "    </tr>\n",
              "    <tr>\n",
              "      <td>1498</td>\n",
              "      <td>8</td>\n",
              "      <td>43</td>\n",
              "      <td>400.0</td>\n",
              "    </tr>\n",
              "    <tr>\n",
              "      <td>1498</td>\n",
              "      <td>9</td>\n",
              "      <td>53</td>\n",
              "      <td>471.0</td>\n",
              "    </tr>\n",
              "    <tr>\n",
              "      <td>1498</td>\n",
              "      <td>10</td>\n",
              "      <td>30</td>\n",
              "      <td>247.0</td>\n",
              "    </tr>\n",
              "    <tr>\n",
              "      <td>1499</td>\n",
              "      <td>9</td>\n",
              "      <td>8</td>\n",
              "      <td>70.0</td>\n",
              "    </tr>\n",
              "    <tr>\n",
              "      <td>1499</td>\n",
              "      <td>10</td>\n",
              "      <td>44</td>\n",
              "      <td>449.0</td>\n",
              "    </tr>\n",
              "    <tr>\n",
              "      <td>1499</td>\n",
              "      <td>11</td>\n",
              "      <td>62</td>\n",
              "      <td>612.0</td>\n",
              "    </tr>\n",
              "    <tr>\n",
              "      <td>1499</td>\n",
              "      <td>12</td>\n",
              "      <td>56</td>\n",
              "      <td>492.0</td>\n",
              "    </tr>\n",
              "  </tbody>\n",
              "</table>\n",
              "</div>"
            ],
            "text/plain": [
              "         month  calls_amount  time_spent\n",
              "user_id                                 \n",
              "1497        11            48       371.0\n",
              "1497        12            58       545.0\n",
              "1498         7            20       175.0\n",
              "1498         8            43       400.0\n",
              "1498         9            53       471.0\n",
              "1498        10            30       247.0\n",
              "1499         9             8        70.0\n",
              "1499        10            44       449.0\n",
              "1499        11            62       612.0\n",
              "1499        12            56       492.0"
            ]
          },
          "metadata": {
            "tags": []
          }
        },
        {
          "output_type": "stream",
          "text": [
            "Количество пользователей, совершавших звонки: 492\n",
            "Количество учтенных месяцев по всем пользователям: 3168\n"
          ],
          "name": "stdout"
        }
      ]
    },
    {
      "cell_type": "code",
      "metadata": {
        "id": "KeaexZzyzne3",
        "outputId": "94948e3d-cde3-4c91-ab7a-4af27a43e4b9"
      },
      "source": [
        "# Количество отправленных сообщений\n",
        "\n",
        "df_messages['month'] = df_messages['message_date'].dt.month\n",
        "df_messages_agg = df_messages.pivot_table(index = ['user_id','month'], values = 'id', aggfunc = ['count'])\n",
        "df_messages_agg.columns = ['messages_amount']\n",
        "df_messages_agg = df_messages_agg.reset_index(level='month')\n",
        "display(df_messages_agg.tail(10))\n",
        "print('Количество пользователей, отправлявших сообщения:',len(df_messages_agg.index.unique()))\n",
        "print('Количество учтенных месяцев по всем пользователям:',df_messages_agg['month'].count())"
      ],
      "execution_count": null,
      "outputs": [
        {
          "output_type": "display_data",
          "data": {
            "text/html": [
              "<div>\n",
              "<style scoped>\n",
              "    .dataframe tbody tr th:only-of-type {\n",
              "        vertical-align: middle;\n",
              "    }\n",
              "\n",
              "    .dataframe tbody tr th {\n",
              "        vertical-align: top;\n",
              "    }\n",
              "\n",
              "    .dataframe thead th {\n",
              "        text-align: right;\n",
              "    }\n",
              "</style>\n",
              "<table border=\"1\" class=\"dataframe\">\n",
              "  <thead>\n",
              "    <tr style=\"text-align: right;\">\n",
              "      <th></th>\n",
              "      <th>month</th>\n",
              "      <th>messages_amount</th>\n",
              "    </tr>\n",
              "    <tr>\n",
              "      <th>user_id</th>\n",
              "      <th></th>\n",
              "      <th></th>\n",
              "    </tr>\n",
              "  </thead>\n",
              "  <tbody>\n",
              "    <tr>\n",
              "      <td>1497</td>\n",
              "      <td>11</td>\n",
              "      <td>14</td>\n",
              "    </tr>\n",
              "    <tr>\n",
              "      <td>1497</td>\n",
              "      <td>12</td>\n",
              "      <td>17</td>\n",
              "    </tr>\n",
              "    <tr>\n",
              "      <td>1498</td>\n",
              "      <td>7</td>\n",
              "      <td>20</td>\n",
              "    </tr>\n",
              "    <tr>\n",
              "      <td>1498</td>\n",
              "      <td>8</td>\n",
              "      <td>62</td>\n",
              "    </tr>\n",
              "    <tr>\n",
              "      <td>1498</td>\n",
              "      <td>9</td>\n",
              "      <td>44</td>\n",
              "    </tr>\n",
              "    <tr>\n",
              "      <td>1498</td>\n",
              "      <td>10</td>\n",
              "      <td>42</td>\n",
              "    </tr>\n",
              "    <tr>\n",
              "      <td>1499</td>\n",
              "      <td>9</td>\n",
              "      <td>11</td>\n",
              "    </tr>\n",
              "    <tr>\n",
              "      <td>1499</td>\n",
              "      <td>10</td>\n",
              "      <td>48</td>\n",
              "    </tr>\n",
              "    <tr>\n",
              "      <td>1499</td>\n",
              "      <td>11</td>\n",
              "      <td>59</td>\n",
              "    </tr>\n",
              "    <tr>\n",
              "      <td>1499</td>\n",
              "      <td>12</td>\n",
              "      <td>66</td>\n",
              "    </tr>\n",
              "  </tbody>\n",
              "</table>\n",
              "</div>"
            ],
            "text/plain": [
              "         month  messages_amount\n",
              "user_id                        \n",
              "1497        11               14\n",
              "1497        12               17\n",
              "1498         7               20\n",
              "1498         8               62\n",
              "1498         9               44\n",
              "1498        10               42\n",
              "1499         9               11\n",
              "1499        10               48\n",
              "1499        11               59\n",
              "1499        12               66"
            ]
          },
          "metadata": {
            "tags": []
          }
        },
        {
          "output_type": "stream",
          "text": [
            "Количество пользователей, отправлявших сообщения: 426\n",
            "Количество учтенных месяцев по всем пользователям: 2717\n"
          ],
          "name": "stdout"
        }
      ]
    },
    {
      "cell_type": "code",
      "metadata": {
        "scrolled": true,
        "id": "WZg4emF1zne4",
        "outputId": "3eff8e16-cc4b-4cbe-9e91-d17217cd68b2"
      },
      "source": [
        "# Объем израсходованного интернет-трафика\n",
        "\n",
        "df_internet['month'] = df_internet['session_date'].dt.month\n",
        "df_internet_agg = df_internet.pivot_table(index = ['user_id','month'], values = 'mb_used', aggfunc = ['sum'])\n",
        "df_internet_agg.columns = ['mb_spent']\n",
        "df_internet_agg['mb_spent'] = df_internet_agg['mb_spent'].round()\n",
        "df_internet_agg = df_internet_agg.reset_index(level='month')\n",
        "display(df_internet_agg.tail(10))\n",
        "print('Количество пользователей, пользовавшихся интернетом:',len(df_internet_agg.index.unique()))\n",
        "print('Количество учтенных месяцев по всем пользователям:',df_internet_agg['month'].count())"
      ],
      "execution_count": null,
      "outputs": [
        {
          "output_type": "display_data",
          "data": {
            "text/html": [
              "<div>\n",
              "<style scoped>\n",
              "    .dataframe tbody tr th:only-of-type {\n",
              "        vertical-align: middle;\n",
              "    }\n",
              "\n",
              "    .dataframe tbody tr th {\n",
              "        vertical-align: top;\n",
              "    }\n",
              "\n",
              "    .dataframe thead th {\n",
              "        text-align: right;\n",
              "    }\n",
              "</style>\n",
              "<table border=\"1\" class=\"dataframe\">\n",
              "  <thead>\n",
              "    <tr style=\"text-align: right;\">\n",
              "      <th></th>\n",
              "      <th>month</th>\n",
              "      <th>mb_spent</th>\n",
              "    </tr>\n",
              "    <tr>\n",
              "      <th>user_id</th>\n",
              "      <th></th>\n",
              "      <th></th>\n",
              "    </tr>\n",
              "  </thead>\n",
              "  <tbody>\n",
              "    <tr>\n",
              "      <td>1497</td>\n",
              "      <td>11</td>\n",
              "      <td>14156.0</td>\n",
              "    </tr>\n",
              "    <tr>\n",
              "      <td>1497</td>\n",
              "      <td>12</td>\n",
              "      <td>19919.0</td>\n",
              "    </tr>\n",
              "    <tr>\n",
              "      <td>1498</td>\n",
              "      <td>7</td>\n",
              "      <td>7476.0</td>\n",
              "    </tr>\n",
              "    <tr>\n",
              "      <td>1498</td>\n",
              "      <td>8</td>\n",
              "      <td>24235.0</td>\n",
              "    </tr>\n",
              "    <tr>\n",
              "      <td>1498</td>\n",
              "      <td>9</td>\n",
              "      <td>22134.0</td>\n",
              "    </tr>\n",
              "    <tr>\n",
              "      <td>1498</td>\n",
              "      <td>10</td>\n",
              "      <td>20579.0</td>\n",
              "    </tr>\n",
              "    <tr>\n",
              "      <td>1499</td>\n",
              "      <td>9</td>\n",
              "      <td>1846.0</td>\n",
              "    </tr>\n",
              "    <tr>\n",
              "      <td>1499</td>\n",
              "      <td>10</td>\n",
              "      <td>17789.0</td>\n",
              "    </tr>\n",
              "    <tr>\n",
              "      <td>1499</td>\n",
              "      <td>11</td>\n",
              "      <td>17963.0</td>\n",
              "    </tr>\n",
              "    <tr>\n",
              "      <td>1499</td>\n",
              "      <td>12</td>\n",
              "      <td>13056.0</td>\n",
              "    </tr>\n",
              "  </tbody>\n",
              "</table>\n",
              "</div>"
            ],
            "text/plain": [
              "         month  mb_spent\n",
              "user_id                 \n",
              "1497        11   14156.0\n",
              "1497        12   19919.0\n",
              "1498         7    7476.0\n",
              "1498         8   24235.0\n",
              "1498         9   22134.0\n",
              "1498        10   20579.0\n",
              "1499         9    1846.0\n",
              "1499        10   17789.0\n",
              "1499        11   17963.0\n",
              "1499        12   13056.0"
            ]
          },
          "metadata": {
            "tags": []
          }
        },
        {
          "output_type": "stream",
          "text": [
            "Количество пользователей, пользовавшихся интернетом: 497\n",
            "Количество учтенных месяцев по всем пользователям: 3201\n"
          ],
          "name": "stdout"
        }
      ]
    },
    {
      "cell_type": "code",
      "metadata": {
        "id": "k0m3hxIczne5",
        "outputId": "d5483876-9cba-480e-8595-e59c4117a2ac"
      },
      "source": [
        "# Объединяя данные по звонкам, сообщениям и интернет-трафику с параметром how='outer', мы получаем все строки \n",
        "# для каждой пары user_id - month если клиент использовал хотя бы один тип связи в этот месяц. \n",
        "\n",
        "total_agg = df_calls_agg.merge(df_messages_agg[['month', 'messages_amount' ]], on = ['user_id', 'month'], how='outer')\n",
        "total_agg = total_agg.merge(df_internet_agg[['mb_spent', 'month']], on = ['user_id', 'month'], how = 'outer')\n",
        "\n",
        "print('Число клиентов, пользовавшихся хотя бы раз услугами связи :',len(total_agg.index.unique()))"
      ],
      "execution_count": null,
      "outputs": [
        {
          "output_type": "stream",
          "text": [
            "Число клиентов, пользовавшихся хотя бы раз услугами связи : 498\n"
          ],
          "name": "stdout"
        }
      ]
    },
    {
      "cell_type": "code",
      "metadata": {
        "id": "D3lsYkR0zne6"
      },
      "source": [
        "# Теперь нужно дополнить сводную таблицу данными о пользователях из таблицы users так, чтобы в нее вошли даже те \n",
        "# два клиента, которые были неактивны всё время. Для этого объединяем таблицы \"справа\"\n",
        "\n",
        "total_agg = total_agg.merge(df_users[['user_id', 'tariff', 'city']], on = ['user_id'], how = 'right' )"
      ],
      "execution_count": null,
      "outputs": []
    },
    {
      "cell_type": "code",
      "metadata": {
        "id": "WAef751Vzne6"
      },
      "source": [
        "# Добавим информацию о тарифе каждого пользователя для расчета выручки.\n",
        "\n",
        "total_agg = total_agg.merge(df_tariffs, left_on='tariff', right_on='tariff_name', how = 'left')\n",
        "total_agg = total_agg.drop(['calls_amount', 'tariff_name'], axis = 1)\n",
        "total_agg = total_agg.set_index(['user_id', 'tariff', 'month']).sort_index(ascending = True)\n",
        "total_agg = total_agg.fillna(0)"
      ],
      "execution_count": null,
      "outputs": []
    },
    {
      "cell_type": "code",
      "metadata": {
        "id": "ytU0HXLJzne7",
        "outputId": "f0d958ed-07fb-45f9-b806-90c76778a0ff"
      },
      "source": [
        "# Расчитаем насколько клиенты превысили тарифные лимиты и сколько заплатили в итоге за все улуги\n",
        "\n",
        "total_agg['minutes_over'] = (total_agg['time_spent'] - total_agg['minutes_included']).where((total_agg['time_spent'] - total_agg['minutes_included']) > 0, 0)\n",
        "total_agg['messages_over'] = (total_agg['messages_amount'] - total_agg['messages_included']).where(total_agg['messages_amount'] - total_agg['messages_included'] > 0, 0)\n",
        "total_agg['mb_over'] = (total_agg['mb_spent'] - total_agg['mb_per_month_included']).where((total_agg['mb_spent'] - total_agg['mb_per_month_included']) > 0, 0)\n",
        "total_agg['gb_over'] = (total_agg['mb_over']/1024).apply(np.ceil)\n",
        "total_agg['total'] = (total_agg['minutes_over'] * total_agg['rub_per_minute'] + \n",
        "                     total_agg['messages_over'] * total_agg['rub_per_message'] + \n",
        "                     total_agg['gb_over'] * total_agg['rub_per_gb']) + total_agg['rub_monthly_fee']\n",
        "\n",
        "total_agg.head(14).T"
      ],
      "execution_count": null,
      "outputs": [
        {
          "output_type": "execute_result",
          "data": {
            "text/html": [
              "<div>\n",
              "<style scoped>\n",
              "    .dataframe tbody tr th:only-of-type {\n",
              "        vertical-align: middle;\n",
              "    }\n",
              "\n",
              "    .dataframe tbody tr th {\n",
              "        vertical-align: top;\n",
              "    }\n",
              "\n",
              "    .dataframe thead tr th {\n",
              "        text-align: left;\n",
              "    }\n",
              "</style>\n",
              "<table border=\"1\" class=\"dataframe\">\n",
              "  <thead>\n",
              "    <tr>\n",
              "      <th>user_id</th>\n",
              "      <th colspan=\"8\" halign=\"left\">1000</th>\n",
              "      <th colspan=\"2\" halign=\"left\">1001</th>\n",
              "      <th colspan=\"4\" halign=\"left\">1002</th>\n",
              "    </tr>\n",
              "    <tr>\n",
              "      <th>tariff</th>\n",
              "      <th colspan=\"8\" halign=\"left\">ultra</th>\n",
              "      <th colspan=\"2\" halign=\"left\">smart</th>\n",
              "      <th colspan=\"4\" halign=\"left\">smart</th>\n",
              "    </tr>\n",
              "    <tr>\n",
              "      <th>month</th>\n",
              "      <th>5.0</th>\n",
              "      <th>6.0</th>\n",
              "      <th>7.0</th>\n",
              "      <th>8.0</th>\n",
              "      <th>9.0</th>\n",
              "      <th>10.0</th>\n",
              "      <th>11.0</th>\n",
              "      <th>12.0</th>\n",
              "      <th>11.0</th>\n",
              "      <th>12.0</th>\n",
              "      <th>6.0</th>\n",
              "      <th>7.0</th>\n",
              "      <th>8.0</th>\n",
              "      <th>9.0</th>\n",
              "    </tr>\n",
              "  </thead>\n",
              "  <tbody>\n",
              "    <tr>\n",
              "      <td>time_spent</td>\n",
              "      <td>159</td>\n",
              "      <td>172</td>\n",
              "      <td>340</td>\n",
              "      <td>408</td>\n",
              "      <td>466</td>\n",
              "      <td>350</td>\n",
              "      <td>338</td>\n",
              "      <td>333</td>\n",
              "      <td>430</td>\n",
              "      <td>414</td>\n",
              "      <td>117</td>\n",
              "      <td>214</td>\n",
              "      <td>289</td>\n",
              "      <td>206</td>\n",
              "    </tr>\n",
              "    <tr>\n",
              "      <td>messages_amount</td>\n",
              "      <td>22</td>\n",
              "      <td>60</td>\n",
              "      <td>75</td>\n",
              "      <td>81</td>\n",
              "      <td>57</td>\n",
              "      <td>73</td>\n",
              "      <td>58</td>\n",
              "      <td>70</td>\n",
              "      <td>0</td>\n",
              "      <td>0</td>\n",
              "      <td>4</td>\n",
              "      <td>11</td>\n",
              "      <td>13</td>\n",
              "      <td>4</td>\n",
              "    </tr>\n",
              "    <tr>\n",
              "      <td>mb_spent</td>\n",
              "      <td>2253</td>\n",
              "      <td>23234</td>\n",
              "      <td>14004</td>\n",
              "      <td>14056</td>\n",
              "      <td>14569</td>\n",
              "      <td>14702</td>\n",
              "      <td>14756</td>\n",
              "      <td>9818</td>\n",
              "      <td>18429</td>\n",
              "      <td>14037</td>\n",
              "      <td>10857</td>\n",
              "      <td>17580</td>\n",
              "      <td>20319</td>\n",
              "      <td>16691</td>\n",
              "    </tr>\n",
              "    <tr>\n",
              "      <td>city</td>\n",
              "      <td>Краснодар</td>\n",
              "      <td>Краснодар</td>\n",
              "      <td>Краснодар</td>\n",
              "      <td>Краснодар</td>\n",
              "      <td>Краснодар</td>\n",
              "      <td>Краснодар</td>\n",
              "      <td>Краснодар</td>\n",
              "      <td>Краснодар</td>\n",
              "      <td>Москва</td>\n",
              "      <td>Москва</td>\n",
              "      <td>Стерлитамак</td>\n",
              "      <td>Стерлитамак</td>\n",
              "      <td>Стерлитамак</td>\n",
              "      <td>Стерлитамак</td>\n",
              "    </tr>\n",
              "    <tr>\n",
              "      <td>messages_included</td>\n",
              "      <td>1000</td>\n",
              "      <td>1000</td>\n",
              "      <td>1000</td>\n",
              "      <td>1000</td>\n",
              "      <td>1000</td>\n",
              "      <td>1000</td>\n",
              "      <td>1000</td>\n",
              "      <td>1000</td>\n",
              "      <td>50</td>\n",
              "      <td>50</td>\n",
              "      <td>50</td>\n",
              "      <td>50</td>\n",
              "      <td>50</td>\n",
              "      <td>50</td>\n",
              "    </tr>\n",
              "    <tr>\n",
              "      <td>mb_per_month_included</td>\n",
              "      <td>30720</td>\n",
              "      <td>30720</td>\n",
              "      <td>30720</td>\n",
              "      <td>30720</td>\n",
              "      <td>30720</td>\n",
              "      <td>30720</td>\n",
              "      <td>30720</td>\n",
              "      <td>30720</td>\n",
              "      <td>15360</td>\n",
              "      <td>15360</td>\n",
              "      <td>15360</td>\n",
              "      <td>15360</td>\n",
              "      <td>15360</td>\n",
              "      <td>15360</td>\n",
              "    </tr>\n",
              "    <tr>\n",
              "      <td>minutes_included</td>\n",
              "      <td>3000</td>\n",
              "      <td>3000</td>\n",
              "      <td>3000</td>\n",
              "      <td>3000</td>\n",
              "      <td>3000</td>\n",
              "      <td>3000</td>\n",
              "      <td>3000</td>\n",
              "      <td>3000</td>\n",
              "      <td>500</td>\n",
              "      <td>500</td>\n",
              "      <td>500</td>\n",
              "      <td>500</td>\n",
              "      <td>500</td>\n",
              "      <td>500</td>\n",
              "    </tr>\n",
              "    <tr>\n",
              "      <td>rub_monthly_fee</td>\n",
              "      <td>1950</td>\n",
              "      <td>1950</td>\n",
              "      <td>1950</td>\n",
              "      <td>1950</td>\n",
              "      <td>1950</td>\n",
              "      <td>1950</td>\n",
              "      <td>1950</td>\n",
              "      <td>1950</td>\n",
              "      <td>550</td>\n",
              "      <td>550</td>\n",
              "      <td>550</td>\n",
              "      <td>550</td>\n",
              "      <td>550</td>\n",
              "      <td>550</td>\n",
              "    </tr>\n",
              "    <tr>\n",
              "      <td>rub_per_gb</td>\n",
              "      <td>150</td>\n",
              "      <td>150</td>\n",
              "      <td>150</td>\n",
              "      <td>150</td>\n",
              "      <td>150</td>\n",
              "      <td>150</td>\n",
              "      <td>150</td>\n",
              "      <td>150</td>\n",
              "      <td>200</td>\n",
              "      <td>200</td>\n",
              "      <td>200</td>\n",
              "      <td>200</td>\n",
              "      <td>200</td>\n",
              "      <td>200</td>\n",
              "    </tr>\n",
              "    <tr>\n",
              "      <td>rub_per_message</td>\n",
              "      <td>1</td>\n",
              "      <td>1</td>\n",
              "      <td>1</td>\n",
              "      <td>1</td>\n",
              "      <td>1</td>\n",
              "      <td>1</td>\n",
              "      <td>1</td>\n",
              "      <td>1</td>\n",
              "      <td>3</td>\n",
              "      <td>3</td>\n",
              "      <td>3</td>\n",
              "      <td>3</td>\n",
              "      <td>3</td>\n",
              "      <td>3</td>\n",
              "    </tr>\n",
              "    <tr>\n",
              "      <td>rub_per_minute</td>\n",
              "      <td>1</td>\n",
              "      <td>1</td>\n",
              "      <td>1</td>\n",
              "      <td>1</td>\n",
              "      <td>1</td>\n",
              "      <td>1</td>\n",
              "      <td>1</td>\n",
              "      <td>1</td>\n",
              "      <td>3</td>\n",
              "      <td>3</td>\n",
              "      <td>3</td>\n",
              "      <td>3</td>\n",
              "      <td>3</td>\n",
              "      <td>3</td>\n",
              "    </tr>\n",
              "    <tr>\n",
              "      <td>minutes_over</td>\n",
              "      <td>0</td>\n",
              "      <td>0</td>\n",
              "      <td>0</td>\n",
              "      <td>0</td>\n",
              "      <td>0</td>\n",
              "      <td>0</td>\n",
              "      <td>0</td>\n",
              "      <td>0</td>\n",
              "      <td>0</td>\n",
              "      <td>0</td>\n",
              "      <td>0</td>\n",
              "      <td>0</td>\n",
              "      <td>0</td>\n",
              "      <td>0</td>\n",
              "    </tr>\n",
              "    <tr>\n",
              "      <td>messages_over</td>\n",
              "      <td>0</td>\n",
              "      <td>0</td>\n",
              "      <td>0</td>\n",
              "      <td>0</td>\n",
              "      <td>0</td>\n",
              "      <td>0</td>\n",
              "      <td>0</td>\n",
              "      <td>0</td>\n",
              "      <td>0</td>\n",
              "      <td>0</td>\n",
              "      <td>0</td>\n",
              "      <td>0</td>\n",
              "      <td>0</td>\n",
              "      <td>0</td>\n",
              "    </tr>\n",
              "    <tr>\n",
              "      <td>mb_over</td>\n",
              "      <td>0</td>\n",
              "      <td>0</td>\n",
              "      <td>0</td>\n",
              "      <td>0</td>\n",
              "      <td>0</td>\n",
              "      <td>0</td>\n",
              "      <td>0</td>\n",
              "      <td>0</td>\n",
              "      <td>3069</td>\n",
              "      <td>0</td>\n",
              "      <td>0</td>\n",
              "      <td>2220</td>\n",
              "      <td>4959</td>\n",
              "      <td>1331</td>\n",
              "    </tr>\n",
              "    <tr>\n",
              "      <td>gb_over</td>\n",
              "      <td>0</td>\n",
              "      <td>0</td>\n",
              "      <td>0</td>\n",
              "      <td>0</td>\n",
              "      <td>0</td>\n",
              "      <td>0</td>\n",
              "      <td>0</td>\n",
              "      <td>0</td>\n",
              "      <td>3</td>\n",
              "      <td>0</td>\n",
              "      <td>0</td>\n",
              "      <td>3</td>\n",
              "      <td>5</td>\n",
              "      <td>2</td>\n",
              "    </tr>\n",
              "    <tr>\n",
              "      <td>total</td>\n",
              "      <td>1950</td>\n",
              "      <td>1950</td>\n",
              "      <td>1950</td>\n",
              "      <td>1950</td>\n",
              "      <td>1950</td>\n",
              "      <td>1950</td>\n",
              "      <td>1950</td>\n",
              "      <td>1950</td>\n",
              "      <td>1150</td>\n",
              "      <td>550</td>\n",
              "      <td>550</td>\n",
              "      <td>1150</td>\n",
              "      <td>1550</td>\n",
              "      <td>950</td>\n",
              "    </tr>\n",
              "  </tbody>\n",
              "</table>\n",
              "</div>"
            ],
            "text/plain": [
              "user_id                     1000                                              \\\n",
              "tariff                     ultra                                               \n",
              "month                       5.0        6.0        7.0        8.0        9.0    \n",
              "time_spent                   159        172        340        408        466   \n",
              "messages_amount               22         60         75         81         57   \n",
              "mb_spent                    2253      23234      14004      14056      14569   \n",
              "city                   Краснодар  Краснодар  Краснодар  Краснодар  Краснодар   \n",
              "messages_included           1000       1000       1000       1000       1000   \n",
              "mb_per_month_included      30720      30720      30720      30720      30720   \n",
              "minutes_included            3000       3000       3000       3000       3000   \n",
              "rub_monthly_fee             1950       1950       1950       1950       1950   \n",
              "rub_per_gb                   150        150        150        150        150   \n",
              "rub_per_message                1          1          1          1          1   \n",
              "rub_per_minute                 1          1          1          1          1   \n",
              "minutes_over                   0          0          0          0          0   \n",
              "messages_over                  0          0          0          0          0   \n",
              "mb_over                        0          0          0          0          0   \n",
              "gb_over                        0          0          0          0          0   \n",
              "total                       1950       1950       1950       1950       1950   \n",
              "\n",
              "user_id                                                   1001          \\\n",
              "tariff                                                   smart           \n",
              "month                       10.0       11.0       12.0    11.0    12.0   \n",
              "time_spent                   350        338        333     430     414   \n",
              "messages_amount               73         58         70       0       0   \n",
              "mb_spent                   14702      14756       9818   18429   14037   \n",
              "city                   Краснодар  Краснодар  Краснодар  Москва  Москва   \n",
              "messages_included           1000       1000       1000      50      50   \n",
              "mb_per_month_included      30720      30720      30720   15360   15360   \n",
              "minutes_included            3000       3000       3000     500     500   \n",
              "rub_monthly_fee             1950       1950       1950     550     550   \n",
              "rub_per_gb                   150        150        150     200     200   \n",
              "rub_per_message                1          1          1       3       3   \n",
              "rub_per_minute                 1          1          1       3       3   \n",
              "minutes_over                   0          0          0       0       0   \n",
              "messages_over                  0          0          0       0       0   \n",
              "mb_over                        0          0          0    3069       0   \n",
              "gb_over                        0          0          0       3       0   \n",
              "total                       1950       1950       1950    1150     550   \n",
              "\n",
              "user_id                       1002                                         \n",
              "tariff                       smart                                         \n",
              "month                         6.0          7.0          8.0          9.0   \n",
              "time_spent                     117          214          289          206  \n",
              "messages_amount                  4           11           13            4  \n",
              "mb_spent                     10857        17580        20319        16691  \n",
              "city                   Стерлитамак  Стерлитамак  Стерлитамак  Стерлитамак  \n",
              "messages_included               50           50           50           50  \n",
              "mb_per_month_included        15360        15360        15360        15360  \n",
              "minutes_included               500          500          500          500  \n",
              "rub_monthly_fee                550          550          550          550  \n",
              "rub_per_gb                     200          200          200          200  \n",
              "rub_per_message                  3            3            3            3  \n",
              "rub_per_minute                   3            3            3            3  \n",
              "minutes_over                     0            0            0            0  \n",
              "messages_over                    0            0            0            0  \n",
              "mb_over                          0         2220         4959         1331  \n",
              "gb_over                          0            3            5            2  \n",
              "total                          550         1150         1550          950  "
            ]
          },
          "metadata": {
            "tags": []
          },
          "execution_count": 27
        }
      ]
    },
    {
      "cell_type": "markdown",
      "metadata": {
        "id": "ZPnLWjqHznfH"
      },
      "source": [
        "#### Вывод\n",
        "\n",
        "В результате предобработки данных удалось очистить таблицы от лишних столбцов и строк с нулевыми значениями. Также получилось привести к нужному типу данные с датой и с идентификаторами \"id\".\n",
        "В итоге оптимизации подформатов объем используемой памяти снизился примерно на 85%.\n",
        "\n",
        "Составлены сводные таблицы и расчитана месячная выручка с каждого клиента компании."
      ]
    },
    {
      "cell_type": "markdown",
      "metadata": {
        "id": "IEJiBRFbznfI"
      },
      "source": [
        "### Исследовательский анализ\n"
      ]
    },
    {
      "cell_type": "code",
      "metadata": {
        "id": "ScSp1mnQznfI"
      },
      "source": [
        "# Оставим в сводной таблице только переменные, описывающие поведение клиентов.\n",
        "\n",
        "total_stat = total_agg.drop(['messages_included', 'mb_per_month_included', 'minutes_included', 'rub_monthly_fee', 'rub_per_gb', 'rub_per_message', 'rub_per_minute'], axis = 1)"
      ],
      "execution_count": null,
      "outputs": []
    },
    {
      "cell_type": "code",
      "metadata": {
        "id": "ZvQGYxOSznfJ"
      },
      "source": [
        "# Напишем функцию для автоматизации анализа\n",
        "\n",
        "def analyze_param(data, label, bins = 600):\n",
        "    \n",
        "    mean = np.round(np.mean(data), 2)\n",
        "    median = np.round(np.median(data), 2)\n",
        "    variance = np.round(np.var(data), 2)\n",
        "    standart_deviation = np.round(np.std(data), 2)\n",
        "    min_value = np.round(data.min(), 2)\n",
        "    max_value = np.round(data.max(), 2)\n",
        "    Q0_05 = np.round(data.quantile(0.05), 2)\n",
        "    Q1 = np.round(data.quantile(0.25), 2)\n",
        "    Q3 = np.round(data.quantile(0.75), 2)\n",
        "    Q0_95 = np.round(data.quantile(0.95), 2)\n",
        "    iqr = np.round(Q3 - Q1, 2) # Interquartile range\n",
        "    \n",
        "    fig, axs = plt.subplots(2, 1, figsize = (10,10))\n",
        "\n",
        "    axs[0].set(xlabel = label)\n",
        "    axs[0].boxplot(data,\n",
        "                   notch=True, \n",
        "                   sym=\"o\", \n",
        "                   vert=False,\n",
        "                   widths = 0.1, \n",
        "                   patch_artist = True)\n",
        "    axs[0].tick_params(axis = 'both', \n",
        "                       which = 'major', \n",
        "                       direction = 'inout', \n",
        "                       pad = 10)\n",
        "                       \n",
        "    axs[1].set(xlabel = label)                  \n",
        "    axs[1].hist(data, bins)\n",
        "\n",
        "    plt.suptitle(label, y = 0.94)\n",
        "    fig.subplots_adjust(hspace=0.3)\n",
        "    plt.axvline(x=data.mean(),\n",
        "                linewidth=2, \n",
        "                color='g', \n",
        "                linestyle='--',\n",
        "                label = 'Среднее')\n",
        "    plt.axvline(x=data.median(),\n",
        "                linewidth=2, \n",
        "                color='red', \n",
        "                linestyle='--',\n",
        "                label = 'Медиана')\n",
        "    plt.axvline(x=data.quantile(.05),\n",
        "                linewidth=2, \n",
        "                color='y', \n",
        "                linestyle='--',\n",
        "                label = '5й квантиль')\n",
        "    plt.axvline(x=data.quantile(.95),\n",
        "                linewidth=2, \n",
        "                color='y', \n",
        "                linestyle='--',\n",
        "                label = '95й квантиль')\n",
        "    leg = axs[1].legend();\n",
        "    plt.show()\n",
        "    \n",
        "    print('Min: {:.2f}'.format(min_value))\n",
        "    print('Mean: {:.2f}'.format(mean))\n",
        "    print('Max: {:.2f}'.format(max_value))\n",
        "    print('Variance: {:.2f}'.format(variance))\n",
        "    print('Standart deviation: {:.2f}'.format(standart_deviation))\n",
        "    print('5st percentile: {:.2f}'.format(Q0_05)) \n",
        "    print('25th percentile: {:.2f}'.format(Q1))\n",
        "    print('Median: {:.2f}'.format(median))\n",
        "    print('75th percentile: {:.2f}'.format(Q3))\n",
        "    print('95th percentile: {:.2f}'.format(Q0_95))\n",
        "    print('Interquartile range (IQR): {:.2f}'.format(iqr))"
      ],
      "execution_count": null,
      "outputs": []
    },
    {
      "cell_type": "markdown",
      "metadata": {
        "id": "kPyvOiW6znfJ"
      },
      "source": [
        "#### Исследование тарифа Ultra"
      ]
    },
    {
      "cell_type": "code",
      "metadata": {
        "id": "eRiB7heMznfJ"
      },
      "source": [
        "# Рассмотрим статистику пользователей тарифа \"Ultra\"\n",
        "\n",
        "stat_ultra = total_stat.query('tariff == \"ultra\"')"
      ],
      "execution_count": null,
      "outputs": []
    },
    {
      "cell_type": "code",
      "metadata": {
        "id": "QpRNA8HnznfK",
        "outputId": "074caac2-eaef-4378-9906-8d0a4e25658e"
      },
      "source": [
        "analyze_param(stat_ultra['time_spent'], \n",
        "              label = 'Время разговоров в меcяц в тарифе Ultra, мин.', \n",
        "              bins = int(np.sqrt(len(stat_ultra['time_spent']))))"
      ],
      "execution_count": null,
      "outputs": [
        {
          "output_type": "display_data",
          "data": {
            "image/png": "[encoded data removed]",
            "text/plain": [
              "<Figure size 720x720 with 2 Axes>"
            ]
          },
          "metadata": {
            "tags": [],
            "needs_background": "light"
          }
        },
        {
          "output_type": "stream",
          "text": [
            "Min: 0.00\n",
            "Mean: 526.09\n",
            "Max: 1673.00\n",
            "Variance: 100950.01\n",
            "Standart deviation: 317.73\n",
            "5st percentile: 16.00\n",
            "25th percentile: 282.50\n",
            "Median: 518.00\n",
            "75th percentile: 751.75\n",
            "95th percentile: 1088.50\n",
            "Interquartile range (IQR): 469.25\n"
          ],
          "name": "stdout"
        }
      ]
    },
    {
      "cell_type": "markdown",
      "metadata": {
        "id": "rCEtXu3ZznfL"
      },
      "source": [
        "Общее время разговоров за месяц пользователей тарифа Ultra распределены преимущественно в диапазоне 16 - 1088.5 мин. со средним значением 526 мин. и медианным 518 мин.. Ни один клиент не превысил лимит в 3000 минут разговора в месяц. Распределение почти симметрично. Стандартное отклонение равно 300 мин."
      ]
    },
    {
      "cell_type": "code",
      "metadata": {
        "id": "UZT7bh2DznfL",
        "outputId": "213bdb88-391a-4895-b387-2f42c7dbe804"
      },
      "source": [
        "analyze_param(stat_ultra['messages_amount'], \n",
        "              label = 'Число отправленных сообщений в меcяц в тарифе Ultra, шт.', \n",
        "              bins = int(np.sqrt(len(stat_ultra['messages_amount']))))"
      ],
      "execution_count": null,
      "outputs": [
        {
          "output_type": "display_data",
          "data": {
            "image/png": "[encoded data removed]",
            "text/plain": [
              "<Figure size 720x720 with 2 Axes>"
            ]
          },
          "metadata": {
            "tags": [],
            "needs_background": "light"
          }
        },
        {
          "output_type": "stream",
          "text": [
            "Min: 0.00\n",
            "Mean: 49.31\n",
            "Max: 224.00\n",
            "Variance: 2283.10\n",
            "Standart deviation: 47.78\n",
            "5st percentile: 0.00\n",
            "25th percentile: 6.00\n",
            "Median: 38.00\n",
            "75th percentile: 78.75\n",
            "95th percentile: 145.00\n",
            "Interquartile range (IQR): 72.75\n"
          ],
          "name": "stdout"
        }
      ]
    },
    {
      "cell_type": "markdown",
      "metadata": {
        "id": "4amnimniznfM"
      },
      "source": [
        "Общее число сообщений, отправленных за месяц пользователями тарифа Ultra распределены преимущественно в диапазоне 0 - 145 шт. со средним значением 49.31 шт.. и медианным 38 шт..Многие клиенты не используют сообщения. Ни один клиент не превысил лимит в 1000 сообщений в месяц. Распределение сдвинуто вправо. Стандартное отклонение равно 47.78 шт."
      ]
    },
    {
      "cell_type": "code",
      "metadata": {
        "id": "niAKozc7znfM",
        "outputId": "30bfa4ec-14d7-4ca2-ae59-8b1cdc3459b3"
      },
      "source": [
        "analyze_param(stat_ultra['mb_spent'], \n",
        "              label = 'Объем интернет-трафика в меcяц в тарифе Ultra, мб.', \n",
        "              bins = int(np.sqrt(len(stat_ultra['mb_spent']))))"
      ],
      "execution_count": null,
      "outputs": [
        {
          "output_type": "display_data",
          "data": {
            "image/png": "[encoded data removed]",
            "text/plain": [
              "<Figure size 720x720 with 2 Axes>"
            ]
          },
          "metadata": {
            "tags": [],
            "needs_background": "light"
          }
        },
        {
          "output_type": "stream",
          "text": [
            "Min: 0.00\n",
            "Mean: 19449.06\n",
            "Max: 49746.00\n",
            "Variance: 101928608.00\n",
            "Standart deviation: 10095.97\n",
            "5st percentile: 3188.50\n",
            "25th percentile: 11748.25\n",
            "Median: 19304.00\n",
            "75th percentile: 26836.00\n",
            "95th percentile: 37102.00\n",
            "Interquartile range (IQR): 15087.75\n"
          ],
          "name": "stdout"
        }
      ]
    },
    {
      "cell_type": "markdown",
      "metadata": {
        "id": "jIM0GgEFznfN"
      },
      "source": [
        "Объем интернет-трафика, использованный за месяц пользователями тарифа Ultra распределен преимущественно в диапазоне 3188 - 37102 мб. со средним значением 19449 мб. и медианным 19304 мб.. Некоторые клиенты превысили лимит в 30Гб (30720 мб) в месяц. Распределение почти симметрично. Стандартное отклонение равно 10096 мб."
      ]
    },
    {
      "cell_type": "markdown",
      "metadata": {
        "id": "ybMZseGRznfN"
      },
      "source": [
        "#### Исследование тарифа Smart"
      ]
    },
    {
      "cell_type": "code",
      "metadata": {
        "id": "Hxo6x12mznfO"
      },
      "source": [
        "# Рассмотрим статистику пользователей тарифа \"Smart\"\n",
        "\n",
        "stat_smart = total_stat.query('tariff == \"smart\"')"
      ],
      "execution_count": null,
      "outputs": []
    },
    {
      "cell_type": "code",
      "metadata": {
        "id": "9rqMEKE2znfO",
        "outputId": "c5b66afc-f161-406b-b740-59d7024d73f7"
      },
      "source": [
        "analyze_param(stat_smart['time_spent'], \n",
        "              label = 'Время разговоров в меcяц в тарифе Smart, мин.', \n",
        "              bins = int(np.sqrt(len(stat_smart['time_spent']))))"
      ],
      "execution_count": null,
      "outputs": [
        {
          "output_type": "display_data",
          "data": {
            "image/png": "[encoded data removed]",
            "text/plain": [
              "<Figure size 720x720 with 2 Axes>"
            ]
          },
          "metadata": {
            "tags": [],
            "needs_background": "light"
          }
        },
        {
          "output_type": "stream",
          "text": [
            "Min: 0.00\n",
            "Mean: 417.75\n",
            "Max: 1435.00\n",
            "Variance: 36265.12\n",
            "Standart deviation: 190.43\n",
            "5st percentile: 95.00\n",
            "25th percentile: 282.00\n",
            "Median: 421.50\n",
            "75th percentile: 545.00\n",
            "95th percentile: 726.55\n",
            "Interquartile range (IQR): 263.00\n"
          ],
          "name": "stdout"
        }
      ]
    },
    {
      "cell_type": "markdown",
      "metadata": {
        "id": "m7U4B4w7znfP"
      },
      "source": [
        "Общее время разговоров за месяц пользователей тарифа Smart распределены преимущественно в диапазоне 95 - 726.5 мин. со средним значением 417.75 мин. и медианным 421.5 мин.. Многие клиенты превысили лимит в 500 минут разговора в месяц. Распределение почти симметрично, не считая некоторые выбросы с 1000 до 1435 мин. Стандартное отклонение равно 190 мин."
      ]
    },
    {
      "cell_type": "code",
      "metadata": {
        "id": "OJXabj-EznfP",
        "outputId": "5eca3bf3-ff80-41d3-8bb8-ce1d5f3a0785"
      },
      "source": [
        "analyze_param(stat_smart['messages_amount'], \n",
        "              label = 'Количество отправленных сообщений в меcяц в тарифе Smart, шт.', \n",
        "              bins = int(np.sqrt(len(stat_smart['messages_amount']))))"
      ],
      "execution_count": null,
      "outputs": [
        {
          "output_type": "display_data",
          "data": {
            "image/png": "[encoded data removed]",
            "text/plain": [
              "<Figure size 720x720 with 2 Axes>"
            ]
          },
          "metadata": {
            "tags": [],
            "needs_background": "light"
          }
        },
        {
          "output_type": "stream",
          "text": [
            "Min: 0.00\n",
            "Mean: 33.37\n",
            "Max: 143.00\n",
            "Variance: 796.60\n",
            "Standart deviation: 28.22\n",
            "5st percentile: 0.00\n",
            "25th percentile: 10.00\n",
            "Median: 28.00\n",
            "75th percentile: 51.00\n",
            "95th percentile: 88.00\n",
            "Interquartile range (IQR): 41.00\n"
          ],
          "name": "stdout"
        }
      ]
    },
    {
      "cell_type": "markdown",
      "metadata": {
        "id": "aR55UhXnznfQ"
      },
      "source": [
        "Общее число сообщений, отправленных за месяц пользователями тарифа Smart распределены преимущественно в диапазоне 0 - 88 шт. со средним значением 33.37 шт.. и медианным 28 шт.. Некоторые клиенты совсем не используют сообщения, некоторые, наоборот, превысили лимит в 50 сообщений в месяц. Распределение сдвинуто вправо с выбросами до 140 шт.. Стандартное отклонение равно  28.22 шт."
      ]
    },
    {
      "cell_type": "code",
      "metadata": {
        "id": "HMab7282znfQ",
        "outputId": "45d3af7d-7191-4886-b073-16a7cca15a50"
      },
      "source": [
        "analyze_param(stat_smart['mb_spent'], \n",
        "              label = 'Объем интернет-трафика в меcяц в тарифе Smart, мб.', \n",
        "              bins = int(np.sqrt(len(stat_smart['mb_spent']))))"
      ],
      "execution_count": null,
      "outputs": [
        {
          "output_type": "display_data",
          "data": {
            "image/png": "[encoded data removed]",
            "text/plain": [
              "<Figure size 720x720 with 2 Axes>"
            ]
          },
          "metadata": {
            "tags": [],
            "needs_background": "light"
          }
        },
        {
          "output_type": "stream",
          "text": [
            "Min: 0.00\n",
            "Mean: 16201.11\n",
            "Max: 38552.00\n",
            "Variance: 34549312.00\n",
            "Standart deviation: 5877.87\n",
            "5st percentile: 5576.90\n",
            "25th percentile: 12630.25\n",
            "Median: 16505.50\n",
            "75th percentile: 20042.25\n",
            "95th percentile: 25125.85\n",
            "Interquartile range (IQR): 7412.00\n"
          ],
          "name": "stdout"
        }
      ]
    },
    {
      "cell_type": "markdown",
      "metadata": {
        "id": "3fikB1-AznfR"
      },
      "source": [
        "Объем интернет-трафика, использованный за месяц пользователями тарифа Smart распределен преимущественно в диапазоне 5577 - 25126 мб. со средним значением 16201 мб. и медианным 16505.5 мб.. Многие клиенты превысили лимит в 15Гб (15360 мб) в месяц. Распределение почти симметрично. Стандартное отклонение равно 5877.87 мб.\n"
      ]
    },
    {
      "cell_type": "markdown",
      "metadata": {
        "id": "H-sTjzoRznfR"
      },
      "source": [
        "### Проверка гипотез\n",
        "\n",
        "Для сравнительного анализа тарифов проверим от чего зависит выручка."
      ]
    },
    {
      "cell_type": "markdown",
      "metadata": {
        "id": "-8BuIG_NznfR"
      },
      "source": [
        "#### Сравнение выручки пользователей тарифов «Ультра» и «Смарт»\n",
        "\n",
        "Построим распределение выручки клиентов обоих тарифов"
      ]
    },
    {
      "cell_type": "code",
      "metadata": {
        "scrolled": false,
        "id": "kpreitiYznfS",
        "outputId": "d1c9cfe7-9aa5-42df-906d-7a979326d78c"
      },
      "source": [
        "mean_s = np.round(np.mean(stat_smart['total']), 2)\n",
        "median_s = np.round(np.median(stat_smart['total']), 2)\n",
        "variance_s = np.round(np.var(stat_smart['total']), 2)\n",
        "standart_deviation_s = np.round(np.std(stat_smart['total']), 2)\n",
        "min_value_s = np.round(stat_smart['total'].min(), 2)\n",
        "max_value_s = np.round(stat_smart['total'].max(), 2)\n",
        "Q0_05_s = np.round(stat_smart['total'].quantile(0.05), 2)\n",
        "Q1_s = np.round(stat_smart['total'].quantile(0.25), 2)\n",
        "Q3_s = np.round(stat_smart['total'].quantile(0.75), 2)\n",
        "Q0_95_s = np.round(stat_smart['total'].quantile(0.95), 2)\n",
        "iqr_s = np.round(Q3_s - Q1_s, 2)\n",
        "\n",
        "mean_u = np.round(np.mean(stat_ultra['total']), 2)\n",
        "median_u = np.round(np.median(stat_ultra['total']), 2)\n",
        "variance_u = np.round(np.var(stat_ultra['total']), 2)\n",
        "standart_deviation_u = np.round(np.std(stat_ultra['total']), 2)\n",
        "min_value_u = np.round(stat_ultra['total'].min(), 2)\n",
        "max_value_u = np.round(stat_ultra['total'].max(), 2)\n",
        "Q0_05_u = np.round(stat_ultra['total'].quantile(0.05), 2)\n",
        "Q1_u = np.round(stat_ultra['total'].quantile(0.25), 2)\n",
        "Q3_u = np.round(stat_ultra['total'].quantile(0.75), 2)\n",
        "Q0_95_u = np.round(stat_ultra['total'].quantile(0.95), 2)\n",
        "iqr_u = np.round(Q3_u - Q1_u, 2)\n",
        "\n",
        "\n",
        "\n",
        "\n",
        "fig, ax = plt.subplots(figsize = (12,7)) \n",
        "ax.set_title('Распределение выручки пользователей тарифов «Ультра» и «Смарт»', pad = 20)\n",
        "ax.set(xlabel = \"Выручка, р\")\n",
        "plt.hist(stat_smart['total'], bins = int(np.sqrt(len(stat_smart['total']))),  alpha = 0.5, label = 'Выручка тариф Smart, р.')\n",
        "plt.hist(stat_ultra['total'], bins = int(np.sqrt(len(stat_ultra['total']))),  alpha = 0.5, label = 'Выручка тариф Ultra, р.')\n",
        "\n",
        "plt.axvline(x=stat_smart['total'].mean(),\n",
        "            linewidth=2, \n",
        "            color='b', \n",
        "            linestyle='--',\n",
        "            label = 'Среднее Smart')\n",
        "plt.axvline(x=stat_ultra['total'].mean(),\n",
        "            linewidth=2, \n",
        "            color='r', \n",
        "            linestyle='--',\n",
        "            label = 'Среднее Ultra')\n",
        "\n",
        "leg = plt.legend()\n",
        "plt.show()\n",
        "total_table = pd.DataFrame({'Tariff' : ['Smart', 'Ultra'], \n",
        "                            'Mean' : [mean_s, mean_u], \n",
        "                            'Median' : [median_s, median_u],\n",
        "                            'Variance' : [variance_s, variance_u], \n",
        "                            'Standart deviation' : [standart_deviation_s, standart_deviation_u],\n",
        "                            'Min value' : [min_value_s, min_value_u], \n",
        "                            'Max value' : [max_value_s, max_value_u],\n",
        "                            '5th quantile' : [Q0_05_s, Q0_05_u], \n",
        "                            '25th quantile' : [Q1_s, Q1_u],\n",
        "                            '75th quantile' : [Q3_s, Q3_u], \n",
        "                            '95th quantile' : [Q0_95_s, Q0_95_u],\n",
        "                            'IQR' : [iqr_s, iqr_u]})\n",
        "display(total_table.set_index('Tariff'))"
      ],
      "execution_count": null,
      "outputs": [
        {
          "output_type": "display_data",
          "data": {
            "image/png": "[encoded data removed]",
            "text/plain": [
              "<Figure size 864x504 with 1 Axes>"
            ]
          },
          "metadata": {
            "tags": [],
            "needs_background": "light"
          }
        },
        {
          "output_type": "display_data",
          "data": {
            "text/html": [
              "<div>\n",
              "<style scoped>\n",
              "    .dataframe tbody tr th:only-of-type {\n",
              "        vertical-align: middle;\n",
              "    }\n",
              "\n",
              "    .dataframe tbody tr th {\n",
              "        vertical-align: top;\n",
              "    }\n",
              "\n",
              "    .dataframe thead th {\n",
              "        text-align: right;\n",
              "    }\n",
              "</style>\n",
              "<table border=\"1\" class=\"dataframe\">\n",
              "  <thead>\n",
              "    <tr style=\"text-align: right;\">\n",
              "      <th></th>\n",
              "      <th>Mean</th>\n",
              "      <th>Median</th>\n",
              "      <th>Variance</th>\n",
              "      <th>Standart deviation</th>\n",
              "      <th>Min value</th>\n",
              "      <th>Max value</th>\n",
              "      <th>5th quantile</th>\n",
              "      <th>25th quantile</th>\n",
              "      <th>75th quantile</th>\n",
              "      <th>95th quantile</th>\n",
              "      <th>IQR</th>\n",
              "    </tr>\n",
              "    <tr>\n",
              "      <th>Tariff</th>\n",
              "      <th></th>\n",
              "      <th></th>\n",
              "      <th></th>\n",
              "      <th></th>\n",
              "      <th></th>\n",
              "      <th></th>\n",
              "      <th></th>\n",
              "      <th></th>\n",
              "      <th></th>\n",
              "      <th></th>\n",
              "      <th></th>\n",
              "    </tr>\n",
              "  </thead>\n",
              "  <tbody>\n",
              "    <tr>\n",
              "      <td>Smart</td>\n",
              "      <td>1289.64</td>\n",
              "      <td>1021.0</td>\n",
              "      <td>669430.44</td>\n",
              "      <td>818.19</td>\n",
              "      <td>550.0</td>\n",
              "      <td>6770.0</td>\n",
              "      <td>550.0</td>\n",
              "      <td>550.0</td>\n",
              "      <td>1750.0</td>\n",
              "      <td>2888.05</td>\n",
              "      <td>1200.0</td>\n",
              "    </tr>\n",
              "    <tr>\n",
              "      <td>Ultra</td>\n",
              "      <td>2070.03</td>\n",
              "      <td>1950.0</td>\n",
              "      <td>141244.32</td>\n",
              "      <td>375.82</td>\n",
              "      <td>1950.0</td>\n",
              "      <td>4800.0</td>\n",
              "      <td>1950.0</td>\n",
              "      <td>1950.0</td>\n",
              "      <td>1950.0</td>\n",
              "      <td>3000.00</td>\n",
              "      <td>0.0</td>\n",
              "    </tr>\n",
              "  </tbody>\n",
              "</table>\n",
              "</div>"
            ],
            "text/plain": [
              "           Mean  Median   Variance  Standart deviation  Min value  Max value  \\\n",
              "Tariff                                                                         \n",
              "Smart   1289.64  1021.0  669430.44              818.19      550.0     6770.0   \n",
              "Ultra   2070.03  1950.0  141244.32              375.82     1950.0     4800.0   \n",
              "\n",
              "        5th quantile  25th quantile  75th quantile  95th quantile     IQR  \n",
              "Tariff                                                                     \n",
              "Smart          550.0          550.0         1750.0        2888.05  1200.0  \n",
              "Ultra         1950.0         1950.0         1950.0        3000.00     0.0  "
            ]
          },
          "metadata": {
            "tags": []
          }
        }
      ]
    },
    {
      "cell_type": "markdown",
      "metadata": {
        "id": "v9LmCTjfznfT"
      },
      "source": [
        "На гистограмме видно отличие распределений и средних значений выручки по двум тарифам.\n",
        "Проверим гипотезу, что средняя выручка действительно отличается, т.е. что это статистически значимое различие средних значений.\n",
        "\n",
        "H0 - Средние выручки тарифов Ultra и Smart равны\n",
        "<br>\n",
        "Н1 - Средние выручки тарифов Ultra и Smart не равны\n",
        "\n",
        "Будем ипользовать двуторонний T-тест с уровнем статиcтической значимости alpha = 0.05. \n",
        "Значения стандартных отклонений сильно отличаются, поэтому значение параметра т-теста equal_var стоит поставить False  "
      ]
    },
    {
      "cell_type": "code",
      "metadata": {
        "scrolled": true,
        "id": "sdRvqkh3znfT",
        "outputId": "108d572e-5567-4bcb-b2c5-5f12584fba4f"
      },
      "source": [
        "alpha = 0.05\n",
        "results = st.ttest_ind(stat_smart['total'], stat_ultra['total'], equal_var = False)\n",
        "\n",
        "print('p-значение:', results.pvalue)\n",
        "\n",
        "if results.pvalue < alpha:\n",
        "    print(\"Отвергаем нулевую гипотезу\")\n",
        "else: \n",
        "    print(\"Не получилось отвергнуть нулевую гипотезу\") "
      ],
      "execution_count": null,
      "outputs": [
        {
          "output_type": "stream",
          "text": [
            "p-значение: 1.927011394420941e-250\n",
            "Отвергаем нулевую гипотезу\n"
          ],
          "name": "stdout"
        }
      ]
    },
    {
      "cell_type": "markdown",
      "metadata": {
        "id": "rNkMB1NkznfV"
      },
      "source": [
        "Полученное значение p-value гораздо меньше порогового уровня alpha, что дает нам возможность отвергнуть нулевую гипотезу и установить что средние выручки двух тарифов не равны. Из гистограмм распределения выручки мы также можем однозначно сказать, что средняя выручка клиентов с тарифом Ultra больше, чем средняя выручка клиентов с тарифом Smart. Разница между средними значениями распределений равна 780.66р\n",
        "\n",
        "Составим таблицу количества клиентов и выручки по тарифам"
      ]
    },
    {
      "cell_type": "code",
      "metadata": {
        "id": "2jvl-EuJznfV",
        "outputId": "021870f5-daf5-49dc-b4db-d07faad580e1"
      },
      "source": [
        "smart_clients = df_users.query('tariff == \"smart\"')['user_id'].count()\n",
        "ultra_clients = df_users.query('tariff == \"ultra\"')['user_id'].count()\n",
        "\n",
        "smart_total = int(stat_smart['total'].sum().round())\n",
        "ultra_total = int(stat_ultra['total'].sum().round())\n",
        "\n",
        "tariffs_total = pd.DataFrame({'tariff' : ['smart', 'ultra', 'smart_share', 'ultra_share', 'total'], \n",
        "                             'clients' : [smart_clients, ultra_clients, round(smart_clients*100 / (smart_clients + ultra_clients)), round(ultra_clients*100 / (smart_clients + ultra_clients)), (smart_clients + ultra_clients)], \n",
        "                             'gain' : [smart_total, ultra_total, round(smart_total*100 / (smart_total + ultra_total)), round(ultra_total*100 / (smart_total + ultra_total)), (smart_total + ultra_total)]}).set_index('tariff')\n",
        "display(tariffs_total.T)"
      ],
      "execution_count": null,
      "outputs": [
        {
          "output_type": "display_data",
          "data": {
            "text/html": [
              "<div>\n",
              "<style scoped>\n",
              "    .dataframe tbody tr th:only-of-type {\n",
              "        vertical-align: middle;\n",
              "    }\n",
              "\n",
              "    .dataframe tbody tr th {\n",
              "        vertical-align: top;\n",
              "    }\n",
              "\n",
              "    .dataframe thead th {\n",
              "        text-align: right;\n",
              "    }\n",
              "</style>\n",
              "<table border=\"1\" class=\"dataframe\">\n",
              "  <thead>\n",
              "    <tr style=\"text-align: right;\">\n",
              "      <th>tariff</th>\n",
              "      <th>smart</th>\n",
              "      <th>ultra</th>\n",
              "      <th>smart_share</th>\n",
              "      <th>ultra_share</th>\n",
              "      <th>total</th>\n",
              "    </tr>\n",
              "  </thead>\n",
              "  <tbody>\n",
              "    <tr>\n",
              "      <td>clients</td>\n",
              "      <td>351</td>\n",
              "      <td>149</td>\n",
              "      <td>70</td>\n",
              "      <td>30</td>\n",
              "      <td>500</td>\n",
              "    </tr>\n",
              "    <tr>\n",
              "      <td>gain</td>\n",
              "      <td>2875901</td>\n",
              "      <td>2041050</td>\n",
              "      <td>58</td>\n",
              "      <td>42</td>\n",
              "      <td>4916951</td>\n",
              "    </tr>\n",
              "  </tbody>\n",
              "</table>\n",
              "</div>"
            ],
            "text/plain": [
              "tariff     smart    ultra  smart_share  ultra_share    total\n",
              "clients      351      149           70           30      500\n",
              "gain     2875901  2041050           58           42  4916951"
            ]
          },
          "metadata": {
            "tags": []
          }
        }
      ]
    },
    {
      "cell_type": "markdown",
      "metadata": {
        "id": "nmp4sBm9znfW"
      },
      "source": [
        "При том, что тарифом Ультра пользуется только 30% клиентов, они приносят 42% выручки. Если скорректировать рекламный бюджет для увеличения доли клиентов с тарифом Ультра, то общая выручка компании значительно вырастет."
      ]
    },
    {
      "cell_type": "markdown",
      "metadata": {
        "id": "ZzkJ_svtznfX"
      },
      "source": [
        "#### Сравнение выручки пользователей из Москвы и пользователей из других регионов\n",
        "\n",
        "Построим распределение выручки клиентов из столицы и из остальных городов"
      ]
    },
    {
      "cell_type": "code",
      "metadata": {
        "id": "qM-IEDDiznfX"
      },
      "source": [
        "stat_moscow = total_stat.query('city == \"Москва\"')\n",
        "stat_region = total_stat.query('city != \"Москва\"')"
      ],
      "execution_count": null,
      "outputs": []
    },
    {
      "cell_type": "code",
      "metadata": {
        "id": "fxwk5388znfY",
        "outputId": "28a106e9-787d-4b25-c46a-6701aa21281b"
      },
      "source": [
        "mean_s = np.round(np.mean(stat_moscow['total']), 2)\n",
        "median_s = np.round(np.median(stat_moscow['total']), 2)\n",
        "variance_s = np.round(np.var(stat_moscow['total']), 2)\n",
        "standart_deviation_s = np.round(np.std(stat_moscow['total']), 2)\n",
        "min_value_s = np.round(stat_moscow['total'].min(), 2)\n",
        "max_value_s = np.round(stat_moscow['total'].max(), 2)\n",
        "Q0_05_s = np.round(stat_moscow['total'].quantile(0.05), 2)\n",
        "Q1_s = np.round(stat_moscow['total'].quantile(0.25), 2)\n",
        "Q3_s = np.round(stat_moscow['total'].quantile(0.75), 2)\n",
        "Q0_95_s = np.round(stat_moscow['total'].quantile(0.95), 2)\n",
        "iqr_s = np.round(Q3_s - Q1_s, 2)\n",
        "\n",
        "mean_u = np.round(np.mean(stat_region['total']), 2)\n",
        "median_u = np.round(np.median(stat_region['total']), 2)\n",
        "variance_u = np.round(np.var(stat_region['total']), 2)\n",
        "standart_deviation_u = np.round(np.std(stat_region['total']), 2)\n",
        "min_value_u = np.round(stat_region['total'].min(), 2)\n",
        "max_value_u = np.round(stat_region['total'].max(), 2)\n",
        "Q0_05_u = np.round(stat_region['total'].quantile(0.05), 2)\n",
        "Q1_u = np.round(stat_region['total'].quantile(0.25), 2)\n",
        "Q3_u = np.round(stat_region['total'].quantile(0.75), 2)\n",
        "Q0_95_u = np.round(stat_region['total'].quantile(0.95), 2)\n",
        "iqr_u = np.round(Q3_u - Q1_u, 2)\n",
        "\n",
        "\n",
        "\n",
        "\n",
        "fig, ax = plt.subplots(figsize = (12,7)) \n",
        "ax.set_title('Распределение выручки пользователей из Москвы и других регионов', pad = 20)\n",
        "ax.set(xlabel = \"Выручка, р\")\n",
        "plt.hist(stat_moscow['total'], bins = int(np.sqrt(len(stat_moscow['total']))),  alpha = 0.5, label = 'Выручка клиентов из Москвы, р.')\n",
        "plt.hist(stat_region['total'], bins = int(np.sqrt(len(stat_region['total']))),  alpha = 0.5, label = 'Выручка клиентов из регионов, р.')\n",
        "\n",
        "plt.axvline(x=stat_moscow['total'].mean(),\n",
        "            linewidth=2, \n",
        "            color='b', \n",
        "            linestyle='--',\n",
        "            label = 'Среднее по Москве')\n",
        "plt.axvline(x=stat_region['total'].mean(),\n",
        "            linewidth=2, \n",
        "            color='r', \n",
        "            linestyle='--',\n",
        "            label = 'Среднее по регионам')\n",
        "\n",
        "leg = plt.legend()\n",
        "plt.show()\n",
        "total_table = pd.DataFrame({'City' : ['Moscow', 'Regions'], \n",
        "                            'Mean' : [mean_s, mean_u], \n",
        "                            'Median' : [median_s, median_u],\n",
        "                            'Variance' : [variance_s, variance_u], \n",
        "                            'Standart deviation' : [standart_deviation_s, standart_deviation_u],\n",
        "                            'Min value' : [min_value_s, min_value_u], \n",
        "                            'Max value' : [max_value_s, max_value_u],\n",
        "                            '5th quantile' : [Q0_05_s, Q0_05_u], \n",
        "                            '25th quantile' : [Q1_s, Q1_u],\n",
        "                            '75th quantile' : [Q3_s, Q3_u], \n",
        "                            '95th quantile' : [Q0_95_s, Q0_95_u],\n",
        "                            'IQR' : [iqr_s, iqr_u]})\n",
        "display(total_table.set_index('City'))"
      ],
      "execution_count": null,
      "outputs": [
        {
          "output_type": "display_data",
          "data": {
            "image/png": "[encoded data removed]",
            "text/plain": [
              "<Figure size 864x504 with 1 Axes>"
            ]
          },
          "metadata": {
            "tags": [],
            "needs_background": "light"
          }
        },
        {
          "output_type": "display_data",
          "data": {
            "text/html": [
              "<div>\n",
              "<style scoped>\n",
              "    .dataframe tbody tr th:only-of-type {\n",
              "        vertical-align: middle;\n",
              "    }\n",
              "\n",
              "    .dataframe tbody tr th {\n",
              "        vertical-align: top;\n",
              "    }\n",
              "\n",
              "    .dataframe thead th {\n",
              "        text-align: right;\n",
              "    }\n",
              "</style>\n",
              "<table border=\"1\" class=\"dataframe\">\n",
              "  <thead>\n",
              "    <tr style=\"text-align: right;\">\n",
              "      <th></th>\n",
              "      <th>Mean</th>\n",
              "      <th>Median</th>\n",
              "      <th>Variance</th>\n",
              "      <th>Standart deviation</th>\n",
              "      <th>Min value</th>\n",
              "      <th>Max value</th>\n",
              "      <th>5th quantile</th>\n",
              "      <th>25th quantile</th>\n",
              "      <th>75th quantile</th>\n",
              "      <th>95th quantile</th>\n",
              "      <th>IQR</th>\n",
              "    </tr>\n",
              "    <tr>\n",
              "      <th>City</th>\n",
              "      <th></th>\n",
              "      <th></th>\n",
              "      <th></th>\n",
              "      <th></th>\n",
              "      <th></th>\n",
              "      <th></th>\n",
              "      <th></th>\n",
              "      <th></th>\n",
              "      <th></th>\n",
              "      <th></th>\n",
              "      <th></th>\n",
              "    </tr>\n",
              "  </thead>\n",
              "  <tbody>\n",
              "    <tr>\n",
              "      <td>Moscow</td>\n",
              "      <td>1546.71</td>\n",
              "      <td>1750.0</td>\n",
              "      <td>564710.71</td>\n",
              "      <td>751.47</td>\n",
              "      <td>550.0</td>\n",
              "      <td>5321.0</td>\n",
              "      <td>550.0</td>\n",
              "      <td>780.5</td>\n",
              "      <td>1950.0</td>\n",
              "      <td>2883.0</td>\n",
              "      <td>1169.5</td>\n",
              "    </tr>\n",
              "    <tr>\n",
              "      <td>Regions</td>\n",
              "      <td>1524.73</td>\n",
              "      <td>1583.0</td>\n",
              "      <td>653818.49</td>\n",
              "      <td>808.59</td>\n",
              "      <td>550.0</td>\n",
              "      <td>6770.0</td>\n",
              "      <td>550.0</td>\n",
              "      <td>750.0</td>\n",
              "      <td>1950.0</td>\n",
              "      <td>2906.2</td>\n",
              "      <td>1200.0</td>\n",
              "    </tr>\n",
              "  </tbody>\n",
              "</table>\n",
              "</div>"
            ],
            "text/plain": [
              "            Mean  Median   Variance  Standart deviation  Min value  Max value  \\\n",
              "City                                                                            \n",
              "Moscow   1546.71  1750.0  564710.71              751.47      550.0     5321.0   \n",
              "Regions  1524.73  1583.0  653818.49              808.59      550.0     6770.0   \n",
              "\n",
              "         5th quantile  25th quantile  75th quantile  95th quantile     IQR  \n",
              "City                                                                        \n",
              "Moscow          550.0          780.5         1950.0         2883.0  1169.5  \n",
              "Regions         550.0          750.0         1950.0         2906.2  1200.0  "
            ]
          },
          "metadata": {
            "tags": []
          }
        }
      ]
    },
    {
      "cell_type": "markdown",
      "metadata": {
        "id": "VmfqJBbDznfY"
      },
      "source": [
        "На гистограмме видна схожесть распределений и средних значений выручки по Москве и другим городам. Проверим гипотезу, что средняя выручка отличается, т.е. что есть статистически значимое различие средних значений.\n",
        "\n",
        "H0 - Средние выручки клиентов из Москвы и из других городов равны\n",
        "<br>\n",
        "Н1 - Средние выручки клиентов из Москвы и из других городов не равны\n",
        "\n",
        "Будем ипользовать двуторонний T-тест с уровнем статиcтической значимости alpha = 0.05.\n",
        "Значения стандартных отклонений очень близки, поэтому значение параметра т-теста equal_var поставим True"
      ]
    },
    {
      "cell_type": "code",
      "metadata": {
        "id": "FL0HGSHFznfZ",
        "outputId": "2f90d049-1512-4fa7-df50-82ffe8ddcca3"
      },
      "source": [
        "alpha = 0.05\n",
        "results = st.ttest_ind(stat_moscow['total'], stat_region['total'], equal_var = True)\n",
        "\n",
        "print('p-значение:', results.pvalue.round(2))\n",
        "\n",
        "if results.pvalue < alpha:\n",
        "    print(\"Отвергаем нулевую гипотезу\")\n",
        "else: \n",
        "    print(\"Не получилось отвергнуть нулевую гипотезу\") "
      ],
      "execution_count": null,
      "outputs": [
        {
          "output_type": "stream",
          "text": [
            "p-значение: 0.54\n",
            "Не получилось отвергнуть нулевую гипотезу\n"
          ],
          "name": "stdout"
        }
      ]
    },
    {
      "cell_type": "markdown",
      "metadata": {
        "id": "9E8fh_YjznfZ"
      },
      "source": [
        "Полученное значение p-value означает, что вероятность получить случайно такое или большее различие между средними значениями распределений равно 54%, что больше порогового уровня alpha. Это не дает нам возможность отвергнуть нулевую гипотезу и значит, средние выручки в Москве и регионах равны. \n"
      ]
    },
    {
      "cell_type": "markdown",
      "metadata": {
        "id": "R8DIolebznfa"
      },
      "source": [
        "<div class=\"alert alert-block alert-info\">\n",
        "Проверим нормальность распределений выручки по тарифам\n",
        "<br>\n",
        "    \n",
        "Используем комплексный Тест д'Агостино-Пирсона на асимметрию и эксцесс для проверки того, является ли распределение гауссовым.\n",
        "\n",
        "Н0 - выборка взята из нормально распределенной совокупности\n",
        "    <br>\n",
        "H1 - выборка взята не из нормально распределенной совокупности\n",
        "</div>"
      ]
    },
    {
      "cell_type": "code",
      "metadata": {
        "id": "eKJPp30tznfa",
        "outputId": "460cd03c-4de1-4104-ead1-01f0f3853ae2"
      },
      "source": [
        "for i in [stat_smart['total']]:  \n",
        "    k2, p = st.normaltest(stat_smart['total'], axis=0, nan_policy='propagate')\n",
        "    alpha = 1e-3\n",
        "    print(\"p = {:g}\".format(p))\n",
        "    if p < alpha:  # null hypothesis: x comes from a normal distribution\n",
        "        print(\"Отвергаем нулевую гипотезу\")\n",
        "    else: \n",
        "        print(\"Не получилось отвергнуть нулевую гипотезу\") "
      ],
      "execution_count": null,
      "outputs": [
        {
          "output_type": "stream",
          "text": [
            "p = 9.02036e-135\n",
            "Отвергаем нулевую гипотезу\n"
          ],
          "name": "stdout"
        }
      ]
    },
    {
      "cell_type": "markdown",
      "metadata": {
        "id": "c1APlh8fznfb"
      },
      "source": [
        "Как показал тест, распреление выручки не нормальное, но для проветения Т-теста на равенство средних значений это условие не обязательное при достаточном количестве выборок и отсутствии сильных выбросов."
      ]
    },
    {
      "cell_type": "markdown",
      "metadata": {
        "id": "pIIO7V_rznfb"
      },
      "source": [
        "<div class=\"alert alert-block alert-info\">\n",
        "Проверим равенство дисперсий выручки по тарифам и регионам\n",
        "<br>\n",
        "    \n",
        "Используем Тест Левена на равенство диспеерсий в случае существенно не нормальных распределений.\n",
        "\n",
        "Н0 - выборки имеют одинаковые дисперсии\n",
        "    <br>\n",
        "H1 - выборка имеют разные дисперсии\n",
        "</div>"
      ]
    },
    {
      "cell_type": "code",
      "metadata": {
        "id": "LK3NOcKLznfc",
        "outputId": "d4bc02f0-e740-4211-aae6-a4bf42137e27"
      },
      "source": [
        "stat, p = st.levene(stat_smart['total'], stat_ultra['total'])\n",
        "alpha = 1e-3\n",
        "print(\"p = {:g}\".format(p))\n",
        "if p < alpha:  # null hypothesis: samples have equal variances\n",
        "    print(\"Отвергаем нулевую гипотезу\")\n",
        "else: \n",
        "    print(\"Не получилось отвергнуть нулевую гипотезу\") "
      ],
      "execution_count": null,
      "outputs": [
        {
          "output_type": "stream",
          "text": [
            "p = 2.35787e-122\n",
            "Отвергаем нулевую гипотезу\n"
          ],
          "name": "stdout"
        }
      ]
    },
    {
      "cell_type": "code",
      "metadata": {
        "id": "7rMhH968znfc",
        "outputId": "681854cf-c4d0-44b6-c0d5-be862e9cb844"
      },
      "source": [
        "stat, p = st.levene(stat_moscow['total'], stat_region['total'])\n",
        "alpha = 1e-3\n",
        "print(\"p = {:g}\".format(p))\n",
        "if p < alpha:  # null hypothesis: samples have equal variances\n",
        "    print(\"Отвергаем нулевую гипотезу\")\n",
        "else: \n",
        "    print(\"Не получилось отвергнуть нулевую гипотезу\") "
      ],
      "execution_count": null,
      "outputs": [
        {
          "output_type": "stream",
          "text": [
            "p = 0.0140153\n",
            "Не получилось отвергнуть нулевую гипотезу\n"
          ],
          "name": "stdout"
        }
      ]
    },
    {
      "cell_type": "markdown",
      "metadata": {
        "id": "x4ZwWowYznfd"
      },
      "source": [
        "Как показал тест, распределения выручки по тарифам Смарт и Ультра имеют разные дисперссии. Параметр equal_var в Т-тесте стоит поставить False\n",
        "\n",
        "Распределения выручки по Москве и другим городам имеют одинаковые дисперссии. Параметр equal_var в Т-тесте стоит поставить True"
      ]
    },
    {
      "cell_type": "markdown",
      "metadata": {
        "id": "zAZZ5u4fznfd"
      },
      "source": [
        "### Общий вывод"
      ]
    },
    {
      "cell_type": "markdown",
      "metadata": {
        "id": "x523lexJznfe"
      },
      "source": [
        "Удалось определить с дотаточной статистической достоверностью, что средняя выручка клиентов с тарифом «Ультра» больше, чем средняя выручка клиентов с тарифом «Смарт» в среднем на 780.66р. При этом гипотеза о том, что выручка зависит от места проживания клиента, не подтвердилась.\n",
        "\n",
        "Проведен анализ поведения 500 клиентов из разных городов, пользующихся тарифами сотовой связи «Смарт» и «Ультра» в 2018 году. В ходе анализа построены гистограммы распределения показателей активности абонентов, расчитаны основные статистические характеристики. Характер распределений по двум тарифам схож, однако итоговая выручка сильно зависит от выбора тарифа. Многие клиенты с тарифом «Смарт» превышают установленные лимиты времени разговора, количества сообщений и интернет-трафика и оплачивают перерасход в соответствии с тарифом. В то время как клиенты с тарифом «Ультра» в большинстве своем укладываются в тарифные лимиты и не платят ничего сверх абонентской платы. Однако разница почти в 4 раза в абонентской плате между тарифами приводит к тому, что 30% клиентов компании с тарифом «Ультра», приносят 42% выручки. Если получится увеличить долю клиентов с тарифом «Ультра», то общая выручка компании значительно вырастет.\n",
        "\n",
        "| |Смарт|Ультра|Доля смарта|Доля ультры|Сумма|\n",
        "|:----|:----|:----|:----|:----|:----|\n",
        "|Количество клиентов|351|149|70|30|500|\n",
        "|Выручка|2802759|2041050|58|42|4843809|\n",
        "\n",
        "В ходе первичного анализа и предобработки данных таблицы были очищены от лишних столбцов и строк с нулевыми значениями. Также получилось привести к нужному типу данные с датой и с идентификаторами \"id\". В итоге оптимизации подформатов объем используемой памяти снизился примерно на 85%. "
      ]
    },
    {
      "cell_type": "code",
      "metadata": {
        "id": "1qMpVB3kznff"
      },
      "source": [
        ""
      ],
      "execution_count": null,
      "outputs": []
    }
  ]
}