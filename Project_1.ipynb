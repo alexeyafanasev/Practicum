{
  "nbformat": 4,
  "nbformat_minor": 0,
  "metadata": {
    "kernelspec": {
      "display_name": "Python 3",
      "language": "python",
      "name": "python3"
    },
    "language_info": {
      "codemirror_mode": {
        "name": "ipython",
        "version": 3
      },
      "file_extension": ".py",
      "mimetype": "text/x-python",
      "name": "python",
      "nbconvert_exporter": "python",
      "pygments_lexer": "ipython3",
      "version": "3.7.8"
    },
    "toc": {
      "base_numbering": 1,
      "nav_menu": {},
      "number_sections": true,
      "sideBar": true,
      "skip_h1_title": false,
      "title_cell": "Table of Contents",
      "title_sidebar": "Contents",
      "toc_cell": false,
      "toc_position": {},
      "toc_section_display": true,
      "toc_window_display": true
    },
    "colab": {
      "name": "Project 1 .ipynb",
      "provenance": []
    }
  },
  "cells": [
    {
      "cell_type": "markdown",
      "metadata": {
        "id": "6h_MoPwztfoL"
      },
      "source": [
        "## Исследование надёжности заёмщиков\n",
        "\n",
        "Заказчик — кредитный отдел банка. Нужно разобраться, влияет ли семейное положение и количество детей клиента на факт погашения кредита в срок. Входные данные от банка — статистика о платёжеспособности клиентов.\n",
        "\n",
        "Результаты исследования будут учтены при построении модели **кредитного скоринга** — специальной системы, которая оценивает способность потенциального заёмщика вернуть кредит банку."
      ]
    },
    {
      "cell_type": "markdown",
      "metadata": {
        "id": "f1oQUbLctfoM"
      },
      "source": [
        "### Шаг 1. Откройте файл с данными и изучите общую информацию. "
      ]
    },
    {
      "cell_type": "code",
      "metadata": {
        "scrolled": true,
        "id": "0-MD9YFGtfoN",
        "outputId": "ed3520f6-3ea8-47f8-b6e4-810d6dd62da4"
      },
      "source": [
        "import pandas as pd\n",
        "\n",
        "df = pd.read_csv('/datasets/data.csv')\n",
        "df.head()\n"
      ],
      "execution_count": null,
      "outputs": [
        {
          "output_type": "execute_result",
          "data": {
            "text/html": [
              "<div>\n",
              "<style scoped>\n",
              "    .dataframe tbody tr th:only-of-type {\n",
              "        vertical-align: middle;\n",
              "    }\n",
              "\n",
              "    .dataframe tbody tr th {\n",
              "        vertical-align: top;\n",
              "    }\n",
              "\n",
              "    .dataframe thead th {\n",
              "        text-align: right;\n",
              "    }\n",
              "</style>\n",
              "<table border=\"1\" class=\"dataframe\">\n",
              "  <thead>\n",
              "    <tr style=\"text-align: right;\">\n",
              "      <th></th>\n",
              "      <th>children</th>\n",
              "      <th>days_employed</th>\n",
              "      <th>dob_years</th>\n",
              "      <th>education</th>\n",
              "      <th>education_id</th>\n",
              "      <th>family_status</th>\n",
              "      <th>family_status_id</th>\n",
              "      <th>gender</th>\n",
              "      <th>income_type</th>\n",
              "      <th>debt</th>\n",
              "      <th>total_income</th>\n",
              "      <th>purpose</th>\n",
              "    </tr>\n",
              "  </thead>\n",
              "  <tbody>\n",
              "    <tr>\n",
              "      <td>0</td>\n",
              "      <td>1</td>\n",
              "      <td>-8437.673028</td>\n",
              "      <td>42</td>\n",
              "      <td>высшее</td>\n",
              "      <td>0</td>\n",
              "      <td>женат / замужем</td>\n",
              "      <td>0</td>\n",
              "      <td>F</td>\n",
              "      <td>сотрудник</td>\n",
              "      <td>0</td>\n",
              "      <td>253875.639453</td>\n",
              "      <td>покупка жилья</td>\n",
              "    </tr>\n",
              "    <tr>\n",
              "      <td>1</td>\n",
              "      <td>1</td>\n",
              "      <td>-4024.803754</td>\n",
              "      <td>36</td>\n",
              "      <td>среднее</td>\n",
              "      <td>1</td>\n",
              "      <td>женат / замужем</td>\n",
              "      <td>0</td>\n",
              "      <td>F</td>\n",
              "      <td>сотрудник</td>\n",
              "      <td>0</td>\n",
              "      <td>112080.014102</td>\n",
              "      <td>приобретение автомобиля</td>\n",
              "    </tr>\n",
              "    <tr>\n",
              "      <td>2</td>\n",
              "      <td>0</td>\n",
              "      <td>-5623.422610</td>\n",
              "      <td>33</td>\n",
              "      <td>Среднее</td>\n",
              "      <td>1</td>\n",
              "      <td>женат / замужем</td>\n",
              "      <td>0</td>\n",
              "      <td>M</td>\n",
              "      <td>сотрудник</td>\n",
              "      <td>0</td>\n",
              "      <td>145885.952297</td>\n",
              "      <td>покупка жилья</td>\n",
              "    </tr>\n",
              "    <tr>\n",
              "      <td>3</td>\n",
              "      <td>3</td>\n",
              "      <td>-4124.747207</td>\n",
              "      <td>32</td>\n",
              "      <td>среднее</td>\n",
              "      <td>1</td>\n",
              "      <td>женат / замужем</td>\n",
              "      <td>0</td>\n",
              "      <td>M</td>\n",
              "      <td>сотрудник</td>\n",
              "      <td>0</td>\n",
              "      <td>267628.550329</td>\n",
              "      <td>дополнительное образование</td>\n",
              "    </tr>\n",
              "    <tr>\n",
              "      <td>4</td>\n",
              "      <td>0</td>\n",
              "      <td>340266.072047</td>\n",
              "      <td>53</td>\n",
              "      <td>среднее</td>\n",
              "      <td>1</td>\n",
              "      <td>гражданский брак</td>\n",
              "      <td>1</td>\n",
              "      <td>F</td>\n",
              "      <td>пенсионер</td>\n",
              "      <td>0</td>\n",
              "      <td>158616.077870</td>\n",
              "      <td>сыграть свадьбу</td>\n",
              "    </tr>\n",
              "  </tbody>\n",
              "</table>\n",
              "</div>"
            ],
            "text/plain": [
              "   children  days_employed  dob_years education  education_id  \\\n",
              "0         1   -8437.673028         42    высшее             0   \n",
              "1         1   -4024.803754         36   среднее             1   \n",
              "2         0   -5623.422610         33   Среднее             1   \n",
              "3         3   -4124.747207         32   среднее             1   \n",
              "4         0  340266.072047         53   среднее             1   \n",
              "\n",
              "      family_status  family_status_id gender income_type  debt   total_income  \\\n",
              "0   женат / замужем                 0      F   сотрудник     0  253875.639453   \n",
              "1   женат / замужем                 0      F   сотрудник     0  112080.014102   \n",
              "2   женат / замужем                 0      M   сотрудник     0  145885.952297   \n",
              "3   женат / замужем                 0      M   сотрудник     0  267628.550329   \n",
              "4  гражданский брак                 1      F   пенсионер     0  158616.077870   \n",
              "\n",
              "                      purpose  \n",
              "0               покупка жилья  \n",
              "1     приобретение автомобиля  \n",
              "2               покупка жилья  \n",
              "3  дополнительное образование  \n",
              "4             сыграть свадьбу  "
            ]
          },
          "metadata": {
            "tags": []
          },
          "execution_count": 488
        }
      ]
    },
    {
      "cell_type": "code",
      "metadata": {
        "id": "HItEfIfHtfoR",
        "outputId": "de0e4621-c8bf-4baa-f87b-857e95dc5fb0"
      },
      "source": [
        "df.info()"
      ],
      "execution_count": null,
      "outputs": [
        {
          "output_type": "stream",
          "text": [
            "<class 'pandas.core.frame.DataFrame'>\n",
            "RangeIndex: 21525 entries, 0 to 21524\n",
            "Data columns (total 12 columns):\n",
            "children            21525 non-null int64\n",
            "days_employed       19351 non-null float64\n",
            "dob_years           21525 non-null int64\n",
            "education           21525 non-null object\n",
            "education_id        21525 non-null int64\n",
            "family_status       21525 non-null object\n",
            "family_status_id    21525 non-null int64\n",
            "gender              21525 non-null object\n",
            "income_type         21525 non-null object\n",
            "debt                21525 non-null int64\n",
            "total_income        19351 non-null float64\n",
            "purpose             21525 non-null object\n",
            "dtypes: float64(2), int64(5), object(5)\n",
            "memory usage: 2.0+ MB\n"
          ],
          "name": "stdout"
        }
      ]
    },
    {
      "cell_type": "code",
      "metadata": {
        "id": "Bmj0F-zBtfoS",
        "outputId": "5eb68ed0-e35d-43f5-8016-c6d7909905bb"
      },
      "source": [
        "df.isna().sum()"
      ],
      "execution_count": null,
      "outputs": [
        {
          "output_type": "execute_result",
          "data": {
            "text/plain": [
              "children               0\n",
              "days_employed       2174\n",
              "dob_years              0\n",
              "education              0\n",
              "education_id           0\n",
              "family_status          0\n",
              "family_status_id       0\n",
              "gender                 0\n",
              "income_type            0\n",
              "debt                   0\n",
              "total_income        2174\n",
              "purpose                0\n",
              "dtype: int64"
            ]
          },
          "metadata": {
            "tags": []
          },
          "execution_count": 490
        }
      ]
    },
    {
      "cell_type": "code",
      "metadata": {
        "id": "OkVxQZkVtfoT",
        "outputId": "bc8a866e-342c-42ee-e828-ef4cbaaa4be2"
      },
      "source": [
        "df.duplicated().sum()"
      ],
      "execution_count": null,
      "outputs": [
        {
          "output_type": "execute_result",
          "data": {
            "text/plain": [
              "54"
            ]
          },
          "metadata": {
            "tags": []
          },
          "execution_count": 491
        }
      ]
    },
    {
      "cell_type": "code",
      "metadata": {
        "id": "69fgbrjitfoU",
        "outputId": "8a080a4a-0765-4ab9-a611-0d90700befbf"
      },
      "source": [
        "df.describe() "
      ],
      "execution_count": null,
      "outputs": [
        {
          "output_type": "execute_result",
          "data": {
            "text/html": [
              "<div>\n",
              "<style scoped>\n",
              "    .dataframe tbody tr th:only-of-type {\n",
              "        vertical-align: middle;\n",
              "    }\n",
              "\n",
              "    .dataframe tbody tr th {\n",
              "        vertical-align: top;\n",
              "    }\n",
              "\n",
              "    .dataframe thead th {\n",
              "        text-align: right;\n",
              "    }\n",
              "</style>\n",
              "<table border=\"1\" class=\"dataframe\">\n",
              "  <thead>\n",
              "    <tr style=\"text-align: right;\">\n",
              "      <th></th>\n",
              "      <th>children</th>\n",
              "      <th>days_employed</th>\n",
              "      <th>dob_years</th>\n",
              "      <th>education_id</th>\n",
              "      <th>family_status_id</th>\n",
              "      <th>debt</th>\n",
              "      <th>total_income</th>\n",
              "    </tr>\n",
              "  </thead>\n",
              "  <tbody>\n",
              "    <tr>\n",
              "      <td>count</td>\n",
              "      <td>21525.000000</td>\n",
              "      <td>19351.000000</td>\n",
              "      <td>21525.000000</td>\n",
              "      <td>21525.000000</td>\n",
              "      <td>21525.000000</td>\n",
              "      <td>21525.000000</td>\n",
              "      <td>1.935100e+04</td>\n",
              "    </tr>\n",
              "    <tr>\n",
              "      <td>mean</td>\n",
              "      <td>0.538908</td>\n",
              "      <td>63046.497661</td>\n",
              "      <td>43.293380</td>\n",
              "      <td>0.817236</td>\n",
              "      <td>0.972544</td>\n",
              "      <td>0.080883</td>\n",
              "      <td>1.674223e+05</td>\n",
              "    </tr>\n",
              "    <tr>\n",
              "      <td>std</td>\n",
              "      <td>1.381587</td>\n",
              "      <td>140827.311974</td>\n",
              "      <td>12.574584</td>\n",
              "      <td>0.548138</td>\n",
              "      <td>1.420324</td>\n",
              "      <td>0.272661</td>\n",
              "      <td>1.029716e+05</td>\n",
              "    </tr>\n",
              "    <tr>\n",
              "      <td>min</td>\n",
              "      <td>-1.000000</td>\n",
              "      <td>-18388.949901</td>\n",
              "      <td>0.000000</td>\n",
              "      <td>0.000000</td>\n",
              "      <td>0.000000</td>\n",
              "      <td>0.000000</td>\n",
              "      <td>2.066726e+04</td>\n",
              "    </tr>\n",
              "    <tr>\n",
              "      <td>25%</td>\n",
              "      <td>0.000000</td>\n",
              "      <td>-2747.423625</td>\n",
              "      <td>33.000000</td>\n",
              "      <td>1.000000</td>\n",
              "      <td>0.000000</td>\n",
              "      <td>0.000000</td>\n",
              "      <td>1.030532e+05</td>\n",
              "    </tr>\n",
              "    <tr>\n",
              "      <td>50%</td>\n",
              "      <td>0.000000</td>\n",
              "      <td>-1203.369529</td>\n",
              "      <td>42.000000</td>\n",
              "      <td>1.000000</td>\n",
              "      <td>0.000000</td>\n",
              "      <td>0.000000</td>\n",
              "      <td>1.450179e+05</td>\n",
              "    </tr>\n",
              "    <tr>\n",
              "      <td>75%</td>\n",
              "      <td>1.000000</td>\n",
              "      <td>-291.095954</td>\n",
              "      <td>53.000000</td>\n",
              "      <td>1.000000</td>\n",
              "      <td>1.000000</td>\n",
              "      <td>0.000000</td>\n",
              "      <td>2.034351e+05</td>\n",
              "    </tr>\n",
              "    <tr>\n",
              "      <td>max</td>\n",
              "      <td>20.000000</td>\n",
              "      <td>401755.400475</td>\n",
              "      <td>75.000000</td>\n",
              "      <td>4.000000</td>\n",
              "      <td>4.000000</td>\n",
              "      <td>1.000000</td>\n",
              "      <td>2.265604e+06</td>\n",
              "    </tr>\n",
              "  </tbody>\n",
              "</table>\n",
              "</div>"
            ],
            "text/plain": [
              "           children  days_employed     dob_years  education_id  \\\n",
              "count  21525.000000   19351.000000  21525.000000  21525.000000   \n",
              "mean       0.538908   63046.497661     43.293380      0.817236   \n",
              "std        1.381587  140827.311974     12.574584      0.548138   \n",
              "min       -1.000000  -18388.949901      0.000000      0.000000   \n",
              "25%        0.000000   -2747.423625     33.000000      1.000000   \n",
              "50%        0.000000   -1203.369529     42.000000      1.000000   \n",
              "75%        1.000000    -291.095954     53.000000      1.000000   \n",
              "max       20.000000  401755.400475     75.000000      4.000000   \n",
              "\n",
              "       family_status_id          debt  total_income  \n",
              "count      21525.000000  21525.000000  1.935100e+04  \n",
              "mean           0.972544      0.080883  1.674223e+05  \n",
              "std            1.420324      0.272661  1.029716e+05  \n",
              "min            0.000000      0.000000  2.066726e+04  \n",
              "25%            0.000000      0.000000  1.030532e+05  \n",
              "50%            0.000000      0.000000  1.450179e+05  \n",
              "75%            1.000000      0.000000  2.034351e+05  \n",
              "max            4.000000      1.000000  2.265604e+06  "
            ]
          },
          "metadata": {
            "tags": []
          },
          "execution_count": 492
        }
      ]
    },
    {
      "cell_type": "markdown",
      "metadata": {
        "id": "4-P5JEjPtfoV"
      },
      "source": [
        "### Вывод"
      ]
    },
    {
      "cell_type": "markdown",
      "metadata": {
        "id": "T4Al5ywOtfoV"
      },
      "source": [
        "В предоставленном датасете находятся 21525 записи о клиентах банка (из которых 54 - полные дубликаты).\n",
        "В колонках \"days_employed\" и \"total_income\" по 2174 пропущенных значений (около 10%).\n",
        "Из полученных значений статистических характеристик видно, что в исходных данных содержится информация о людях до 75 лет с разным уровнем образования, рабочего стажа. Ежемесячный доход клиентов в выборке варьируется в диапазоне от 20667 до 2265604.\n",
        "Сразу можно заметить необычные, скорее всего ошибочные, данные:\n",
        "1) Отрицательное значение числа детей \n",
        "\n",
        "2) Как отрицательные, так и положительные значения общего трудового стажа в днях.\n",
        "\n",
        "3) Нулевое значение возраста клиента в годах.\n",
        "\n"
      ]
    },
    {
      "cell_type": "markdown",
      "metadata": {
        "id": "zMMeUfJvtfoW"
      },
      "source": [
        "### Шаг 2. Предобработка данных"
      ]
    },
    {
      "cell_type": "markdown",
      "metadata": {
        "id": "H91Gt2N1tfoX"
      },
      "source": [
        "### Обработка пропусков"
      ]
    },
    {
      "cell_type": "markdown",
      "metadata": {
        "id": "z16f5TPOtfoX"
      },
      "source": [
        "Исследуем природу пропущенных значений в столбцах \"days_employed\" и \"total_income\".\n",
        "Для этого поищем записи в которых значение в одной колонке пропущено, а в другой нет."
      ]
    },
    {
      "cell_type": "code",
      "metadata": {
        "id": "2-MlizWctfoY",
        "outputId": "59149a44-899e-4159-8152-562a04e26059"
      },
      "source": [
        "df['total_income'][df['days_employed'].isnull()].notnull().sum()\n"
      ],
      "execution_count": null,
      "outputs": [
        {
          "output_type": "execute_result",
          "data": {
            "text/plain": [
              "0"
            ]
          },
          "metadata": {
            "tags": []
          },
          "execution_count": 493
        }
      ]
    },
    {
      "cell_type": "markdown",
      "metadata": {
        "id": "9jmkll6etfoZ"
      },
      "source": [
        "Видим, что значения пропущены в одних и тех же строках.\n",
        "Возможно, это означает, что у людей, которые еще не работали ни одного дня, нет и дохода (NaN стоит вместо 0).\n",
        "Для проверки этой гипотезы, посмотрим что еще известно об этих людях. "
      ]
    },
    {
      "cell_type": "code",
      "metadata": {
        "id": "NdCh4uBxtfoZ",
        "outputId": "ad1df873-ec6c-4df1-9065-10e40e3bd689"
      },
      "source": [
        "print('age, amount')\n",
        "df['dob_years'][df['days_employed'].isnull()].value_counts().head(10)"
      ],
      "execution_count": null,
      "outputs": [
        {
          "output_type": "stream",
          "text": [
            "age, amount\n"
          ],
          "name": "stdout"
        },
        {
          "output_type": "execute_result",
          "data": {
            "text/plain": [
              "34    69\n",
              "40    66\n",
              "42    65\n",
              "31    65\n",
              "35    64\n",
              "36    63\n",
              "47    59\n",
              "41    59\n",
              "30    58\n",
              "28    57\n",
              "Name: dob_years, dtype: int64"
            ]
          },
          "metadata": {
            "tags": []
          },
          "execution_count": 494
        }
      ]
    },
    {
      "cell_type": "code",
      "metadata": {
        "id": "9zDN4W0ptfoa",
        "outputId": "fef5fef2-8e3a-47f7-cd07-1b98515a2be8"
      },
      "source": [
        "df['income_type'][df['days_employed'].isnull()].value_counts()"
      ],
      "execution_count": null,
      "outputs": [
        {
          "output_type": "execute_result",
          "data": {
            "text/plain": [
              "сотрудник          1105\n",
              "компаньон           508\n",
              "пенсионер           413\n",
              "госслужащий         147\n",
              "предприниматель       1\n",
              "Name: income_type, dtype: int64"
            ]
          },
          "metadata": {
            "tags": []
          },
          "execution_count": 495
        }
      ]
    },
    {
      "cell_type": "markdown",
      "metadata": {
        "id": "O_lOc_23tfoa"
      },
      "source": [
        "Так как это дотаточно взрослые люди с определенным типом занятости, можно предположить, что они на самом деле имеют трудовой стаж, а их значения \"days_employed\" и \"total_income\" были пропущены или потеряны. Заменить их нулями будет некорректно. Удалить строки с NaN тоже нельзя, потому что таким образом мы потеряем около 10% данных в других столбцах.\n",
        "\n",
        "Посмотрим на колонку \"days_employed\""
      ]
    },
    {
      "cell_type": "code",
      "metadata": {
        "id": "vr6XpAvUtfob",
        "outputId": "664b6f50-d792-4e8a-adac-74b8e575e779"
      },
      "source": [
        "df['days_employed'].describe()"
      ],
      "execution_count": null,
      "outputs": [
        {
          "output_type": "execute_result",
          "data": {
            "text/plain": [
              "count     19351.000000\n",
              "mean      63046.497661\n",
              "std      140827.311974\n",
              "min      -18388.949901\n",
              "25%       -2747.423625\n",
              "50%       -1203.369529\n",
              "75%        -291.095954\n",
              "max      401755.400475\n",
              "Name: days_employed, dtype: float64"
            ]
          },
          "metadata": {
            "tags": []
          },
          "execution_count": 496
        }
      ]
    },
    {
      "cell_type": "code",
      "metadata": {
        "id": "48qT9X3utfoc",
        "outputId": "9ebb734e-3a14-48fe-b09e-8716ab293e60"
      },
      "source": [
        "df_grouped = df.groupby('income_type').agg({'days_employed': ['min', 'max', 'median']})\n",
        "df_grouped"
      ],
      "execution_count": null,
      "outputs": [
        {
          "output_type": "execute_result",
          "data": {
            "text/html": [
              "<div>\n",
              "<style scoped>\n",
              "    .dataframe tbody tr th:only-of-type {\n",
              "        vertical-align: middle;\n",
              "    }\n",
              "\n",
              "    .dataframe tbody tr th {\n",
              "        vertical-align: top;\n",
              "    }\n",
              "\n",
              "    .dataframe thead tr th {\n",
              "        text-align: left;\n",
              "    }\n",
              "\n",
              "    .dataframe thead tr:last-of-type th {\n",
              "        text-align: right;\n",
              "    }\n",
              "</style>\n",
              "<table border=\"1\" class=\"dataframe\">\n",
              "  <thead>\n",
              "    <tr>\n",
              "      <th></th>\n",
              "      <th colspan=\"3\" halign=\"left\">days_employed</th>\n",
              "    </tr>\n",
              "    <tr>\n",
              "      <th></th>\n",
              "      <th>min</th>\n",
              "      <th>max</th>\n",
              "      <th>median</th>\n",
              "    </tr>\n",
              "    <tr>\n",
              "      <th>income_type</th>\n",
              "      <th></th>\n",
              "      <th></th>\n",
              "      <th></th>\n",
              "    </tr>\n",
              "  </thead>\n",
              "  <tbody>\n",
              "    <tr>\n",
              "      <td>безработный</td>\n",
              "      <td>337524.466835</td>\n",
              "      <td>395302.838654</td>\n",
              "      <td>366413.652744</td>\n",
              "    </tr>\n",
              "    <tr>\n",
              "      <td>в декрете</td>\n",
              "      <td>-3296.759962</td>\n",
              "      <td>-3296.759962</td>\n",
              "      <td>-3296.759962</td>\n",
              "    </tr>\n",
              "    <tr>\n",
              "      <td>госслужащий</td>\n",
              "      <td>-15193.032201</td>\n",
              "      <td>-39.954170</td>\n",
              "      <td>-2689.368353</td>\n",
              "    </tr>\n",
              "    <tr>\n",
              "      <td>компаньон</td>\n",
              "      <td>-17615.563266</td>\n",
              "      <td>-30.195337</td>\n",
              "      <td>-1547.382223</td>\n",
              "    </tr>\n",
              "    <tr>\n",
              "      <td>пенсионер</td>\n",
              "      <td>328728.720605</td>\n",
              "      <td>401755.400475</td>\n",
              "      <td>365213.306266</td>\n",
              "    </tr>\n",
              "    <tr>\n",
              "      <td>предприниматель</td>\n",
              "      <td>-520.848083</td>\n",
              "      <td>-520.848083</td>\n",
              "      <td>-520.848083</td>\n",
              "    </tr>\n",
              "    <tr>\n",
              "      <td>сотрудник</td>\n",
              "      <td>-18388.949901</td>\n",
              "      <td>-24.141633</td>\n",
              "      <td>-1574.202821</td>\n",
              "    </tr>\n",
              "    <tr>\n",
              "      <td>студент</td>\n",
              "      <td>-578.751554</td>\n",
              "      <td>-578.751554</td>\n",
              "      <td>-578.751554</td>\n",
              "    </tr>\n",
              "  </tbody>\n",
              "</table>\n",
              "</div>"
            ],
            "text/plain": [
              "                 days_employed                              \n",
              "                           min            max         median\n",
              "income_type                                                 \n",
              "безработный      337524.466835  395302.838654  366413.652744\n",
              "в декрете         -3296.759962   -3296.759962   -3296.759962\n",
              "госслужащий      -15193.032201     -39.954170   -2689.368353\n",
              "компаньон        -17615.563266     -30.195337   -1547.382223\n",
              "пенсионер        328728.720605  401755.400475  365213.306266\n",
              "предприниматель    -520.848083    -520.848083    -520.848083\n",
              "сотрудник        -18388.949901     -24.141633   -1574.202821\n",
              "студент            -578.751554    -578.751554    -578.751554"
            ]
          },
          "metadata": {
            "tags": []
          },
          "execution_count": 497
        }
      ]
    },
    {
      "cell_type": "markdown",
      "metadata": {
        "id": "q3mVlLzgtfoc"
      },
      "source": [
        "Значения в этой колонке варьируются от -18388 до 401755. \n",
        "\n",
        "Рассмотрим область положительных значений 'days_employed'"
      ]
    },
    {
      "cell_type": "code",
      "metadata": {
        "id": "WDCiN6nTtfod",
        "outputId": "8f11dd63-5969-4ace-c05a-d88b76cb3fc8"
      },
      "source": [
        "print('Клиенты с положительными значениями \"days_employed\" по роду занятия :\\n',\n",
        "      df['income_type'][df['days_employed'] >= 0].unique())"
      ],
      "execution_count": null,
      "outputs": [
        {
          "output_type": "stream",
          "text": [
            "Клиенты с положительными значениями \"days_employed\" по роду занятия :\n",
            " ['пенсионер' 'безработный']\n"
          ],
          "name": "stdout"
        }
      ]
    },
    {
      "cell_type": "code",
      "metadata": {
        "id": "egUeNn6mtfod",
        "outputId": "577d8f7b-611b-4e39-8de1-9d25b092d4d5"
      },
      "source": [
        "print('Самое крупное положительное значение стажа :', df['days_employed'][(df['days_employed'] > 0)].max(), 'дней')\n",
        "print('Что соответствует', df['days_employed'][(df['days_employed'] > 0)].max() / 365, \"лет\")"
      ],
      "execution_count": null,
      "outputs": [
        {
          "output_type": "stream",
          "text": [
            "Самое крупное положительное значение стажа : 401755.40047533 дней\n",
            "Что соответствует 1100.6997273296713 лет\n"
          ],
          "name": "stdout"
        }
      ]
    },
    {
      "cell_type": "code",
      "metadata": {
        "scrolled": true,
        "id": "3HaKN6NEtfoe",
        "outputId": "5f3afa28-0b98-436b-e0ad-c169fc6ec390"
      },
      "source": [
        "print('Самое маленькое положительное значение стажа :', df['days_employed'][(df['days_employed'] > 0)].min(), 'дней')\n",
        "print('Что соответствует', df['days_employed'][(df['days_employed'] > 0)].min() / 365, \"лет\")"
      ],
      "execution_count": null,
      "outputs": [
        {
          "output_type": "stream",
          "text": [
            "Самое маленькое положительное значение стажа : 328728.72060451825 дней\n",
            "Что соответствует 900.6266317932007 лет\n"
          ],
          "name": "stdout"
        }
      ]
    },
    {
      "cell_type": "markdown",
      "metadata": {
        "id": "C-5kAGPrtfoe"
      },
      "source": [
        "Мы видим, что положительные значения 'days_employed' встречаются только у пенсионеров и безработных.\n",
        "При этом положительные значения столбца 'days_employed' соответствуют нереальным значениям стажа от 900 до 1100 лет.\n",
        "Нужно получить уточнение у кредитного отдела банка об этих данных.\n",
        "Рассмотрим область отрицательных значений 'days_employed'\n",
        "\n"
      ]
    },
    {
      "cell_type": "code",
      "metadata": {
        "id": "W03Beuh9tfof",
        "outputId": "223da08e-f0b1-46cb-f066-0ea15fd648d3"
      },
      "source": [
        "print('Клиенты с отрицательными значениями \"days_employed\" по роду занятия :\\n',\n",
        "      df['income_type'][df['days_employed'] < 0].value_counts())"
      ],
      "execution_count": null,
      "outputs": [
        {
          "output_type": "stream",
          "text": [
            "Клиенты с отрицательными значениями \"days_employed\" по роду занятия :\n",
            " сотрудник          10014\n",
            "компаньон           4577\n",
            "госслужащий         1312\n",
            "студент                1\n",
            "предприниматель        1\n",
            "в декрете              1\n",
            "Name: income_type, dtype: int64\n"
          ],
          "name": "stdout"
        }
      ]
    },
    {
      "cell_type": "code",
      "metadata": {
        "id": "EHl5mS95tfog",
        "outputId": "31bf10f5-81b1-4833-884d-d7e908c93c99"
      },
      "source": [
        "print('Самое крупное отрицательное значение стажа :', df['days_employed'][(df['days_employed'] <= 0)].min(), 'дней')\n",
        "print('Что соответствует', df['days_employed'][(df['days_employed'] <= 0)].min() / 365, \"лет\")"
      ],
      "execution_count": null,
      "outputs": [
        {
          "output_type": "stream",
          "text": [
            "Самое крупное отрицательное значение стажа : -18388.949900568383 дней\n",
            "Что соответствует -50.38068465909146 лет\n"
          ],
          "name": "stdout"
        }
      ]
    },
    {
      "cell_type": "code",
      "metadata": {
        "scrolled": true,
        "id": "4dxblOCotfog",
        "outputId": "94d52ea5-0361-435d-edf2-ee1474773c6b"
      },
      "source": [
        "print('Самое маленькое отрицательное значение стажа :', df['days_employed'][(df['days_employed'] <= 0)].max(), 'дней')\n",
        "print('Что соответствует', df['days_employed'][(df['days_employed'] <= 0)].max() / 365, \"года\")"
      ],
      "execution_count": null,
      "outputs": [
        {
          "output_type": "stream",
          "text": [
            "Самое маленькое отрицательное значение стажа : -24.14163324048118 дней\n",
            "Что соответствует -0.06614146093282515 года\n"
          ],
          "name": "stdout"
        }
      ]
    },
    {
      "cell_type": "markdown",
      "metadata": {
        "id": "AOaIbWe0tfoh"
      },
      "source": [
        "Значения трудового стажа от 0,07 до 50,4 лет вполне соответствуют ожиданиям.\n",
        "\n"
      ]
    },
    {
      "cell_type": "markdown",
      "metadata": {
        "id": "UdcW_Of9tfoi"
      },
      "source": [
        "Заменим NaN в столбце 'days_employed' для группы пенсионеров и безработных на медианное значение положительной части столбца 'days_employed' и для группы остальных клиентов на медианное значение отрицательной части"
      ]
    },
    {
      "cell_type": "code",
      "metadata": {
        "id": "JEw2yw7htfoi",
        "outputId": "2f500e87-636d-4a21-c253-6fc3c4362384"
      },
      "source": [
        "pos_employed_median = df['days_employed'][df['days_employed'] > 0].median()\n",
        "df['days_employed'][(df['income_type'].isin(['пенсионер', 'безработный'])) & (df['days_employed'].isna())] = pos_employed_median\n",
        "\n",
        "neg_employed_median = df['days_employed'][df['days_employed'] <= 0].median()\n",
        "df['days_employed'][(df['income_type'].isin(['сотрудник', 'компаньон', 'госслужащий', 'в декрете', 'студент', 'предприниматель'])) & (df['days_employed'].isna())] = neg_employed_median\n"
      ],
      "execution_count": null,
      "outputs": [
        {
          "output_type": "stream",
          "text": [
            "/opt/conda/lib/python3.7/site-packages/ipykernel_launcher.py:2: SettingWithCopyWarning: \n",
            "A value is trying to be set on a copy of a slice from a DataFrame\n",
            "\n",
            "See the caveats in the documentation: http://pandas.pydata.org/pandas-docs/stable/user_guide/indexing.html#returning-a-view-versus-a-copy\n",
            "  \n",
            "/opt/conda/lib/python3.7/site-packages/ipykernel_launcher.py:5: SettingWithCopyWarning: \n",
            "A value is trying to be set on a copy of a slice from a DataFrame\n",
            "\n",
            "See the caveats in the documentation: http://pandas.pydata.org/pandas-docs/stable/user_guide/indexing.html#returning-a-view-versus-a-copy\n",
            "  \"\"\"\n"
          ],
          "name": "stderr"
        }
      ]
    },
    {
      "cell_type": "markdown",
      "metadata": {
        "id": "0qgHEtTztfoj"
      },
      "source": [
        "Сдеаем то же самое для столбца 'total_income'\n"
      ]
    },
    {
      "cell_type": "code",
      "metadata": {
        "id": "s539fu02tfok",
        "outputId": "42ecafb8-ca6e-44f8-a9a2-b242643220af"
      },
      "source": [
        "pos_income_median = df['total_income'][df['days_employed'] > 0].median()\n",
        "df['total_income'][(df['income_type'].isin(['пенсионер', 'безработный'])) & (df['total_income'].isna())] = pos_income_median\n",
        "\n",
        "neg_income_median = df['total_income'][df['days_employed'] <= 0].median()\n",
        "df['total_income'][(df['income_type'].isin(['сотрудник', 'компаньон', 'госслужащий', 'в декрете', 'студент', 'предприниматель'])) & (df['total_income'].isna())] = neg_income_median\n"
      ],
      "execution_count": null,
      "outputs": [
        {
          "output_type": "stream",
          "text": [
            "/opt/conda/lib/python3.7/site-packages/ipykernel_launcher.py:2: SettingWithCopyWarning: \n",
            "A value is trying to be set on a copy of a slice from a DataFrame\n",
            "\n",
            "See the caveats in the documentation: http://pandas.pydata.org/pandas-docs/stable/user_guide/indexing.html#returning-a-view-versus-a-copy\n",
            "  \n",
            "/opt/conda/lib/python3.7/site-packages/ipykernel_launcher.py:5: SettingWithCopyWarning: \n",
            "A value is trying to be set on a copy of a slice from a DataFrame\n",
            "\n",
            "See the caveats in the documentation: http://pandas.pydata.org/pandas-docs/stable/user_guide/indexing.html#returning-a-view-versus-a-copy\n",
            "  \"\"\"\n"
          ],
          "name": "stderr"
        }
      ]
    },
    {
      "cell_type": "code",
      "metadata": {
        "id": "OkEwVKX9tfok"
      },
      "source": [
        "df['days_employed'] = df['days_employed'].abs()"
      ],
      "execution_count": null,
      "outputs": []
    },
    {
      "cell_type": "code",
      "metadata": {
        "id": "KojMB_H-tfol",
        "outputId": "b34fd12a-e49d-4452-8a3a-b17af8174c94"
      },
      "source": [
        "df.info()"
      ],
      "execution_count": null,
      "outputs": [
        {
          "output_type": "stream",
          "text": [
            "<class 'pandas.core.frame.DataFrame'>\n",
            "RangeIndex: 21525 entries, 0 to 21524\n",
            "Data columns (total 12 columns):\n",
            "children            21525 non-null int64\n",
            "days_employed       21525 non-null float64\n",
            "dob_years           21525 non-null int64\n",
            "education           21525 non-null object\n",
            "education_id        21525 non-null int64\n",
            "family_status       21525 non-null object\n",
            "family_status_id    21525 non-null int64\n",
            "gender              21525 non-null object\n",
            "income_type         21525 non-null object\n",
            "debt                21525 non-null int64\n",
            "total_income        21525 non-null float64\n",
            "purpose             21525 non-null object\n",
            "dtypes: float64(2), int64(5), object(5)\n",
            "memory usage: 2.0+ MB\n"
          ],
          "name": "stdout"
        }
      ]
    },
    {
      "cell_type": "markdown",
      "metadata": {
        "id": "AHwl-Yigtfol"
      },
      "source": [
        "### Вывод"
      ]
    },
    {
      "cell_type": "markdown",
      "metadata": {
        "id": "u0gCgtwHtfom"
      },
      "source": [
        "Пропущенные значения в столбцах \"days_employed\" и \"total_income\" - случайные пропуски, которые не зависят от значений в других столбцах. Мы заменили их на медианные значения сответствующих величин, разделив датасет на две категории по типу занятости: \n",
        "\n",
        "1) Пенсионеры и безработные\n",
        "\n",
        "2) Остальные типы занятости\n",
        "\n",
        "Медианные значения подходят лучше, чем средние, потому что они не чувствительны к единичным выбросам значения величины.\n",
        "\n"
      ]
    },
    {
      "cell_type": "markdown",
      "metadata": {
        "id": "CMlY2R54tfom"
      },
      "source": [
        "### Замена типа данных"
      ]
    },
    {
      "cell_type": "markdown",
      "metadata": {
        "id": "J11rrpYAtfoo"
      },
      "source": [
        "В датасете есть два столбца с типом данных float64 (вещественные числа) - это уже исследованные нами \"days_employed\" и \"total_income\". В обоих случаях нам не нужна высокая точность до нескольких знаков после запятой, достаточно целых значений числа рабочих дней и сумм ежемесячного дохода \"без копеек\"."
      ]
    },
    {
      "cell_type": "code",
      "metadata": {
        "id": "XgFZUR5etfoo",
        "outputId": "0968d43e-d6a1-4691-c02b-5e1368168166"
      },
      "source": [
        "try:\n",
        "    df['days_employed'] = df['days_employed'].round().astype('int64')\n",
        "    df['total_income'] = df['total_income'].round().astype('int64')\n",
        "except:\n",
        "    print('Ошибка формата')\n",
        "df.head()"
      ],
      "execution_count": null,
      "outputs": [
        {
          "output_type": "execute_result",
          "data": {
            "text/html": [
              "<div>\n",
              "<style scoped>\n",
              "    .dataframe tbody tr th:only-of-type {\n",
              "        vertical-align: middle;\n",
              "    }\n",
              "\n",
              "    .dataframe tbody tr th {\n",
              "        vertical-align: top;\n",
              "    }\n",
              "\n",
              "    .dataframe thead th {\n",
              "        text-align: right;\n",
              "    }\n",
              "</style>\n",
              "<table border=\"1\" class=\"dataframe\">\n",
              "  <thead>\n",
              "    <tr style=\"text-align: right;\">\n",
              "      <th></th>\n",
              "      <th>children</th>\n",
              "      <th>days_employed</th>\n",
              "      <th>dob_years</th>\n",
              "      <th>education</th>\n",
              "      <th>education_id</th>\n",
              "      <th>family_status</th>\n",
              "      <th>family_status_id</th>\n",
              "      <th>gender</th>\n",
              "      <th>income_type</th>\n",
              "      <th>debt</th>\n",
              "      <th>total_income</th>\n",
              "      <th>purpose</th>\n",
              "    </tr>\n",
              "  </thead>\n",
              "  <tbody>\n",
              "    <tr>\n",
              "      <td>0</td>\n",
              "      <td>1</td>\n",
              "      <td>8438</td>\n",
              "      <td>42</td>\n",
              "      <td>высшее</td>\n",
              "      <td>0</td>\n",
              "      <td>женат / замужем</td>\n",
              "      <td>0</td>\n",
              "      <td>F</td>\n",
              "      <td>сотрудник</td>\n",
              "      <td>0</td>\n",
              "      <td>253876</td>\n",
              "      <td>покупка жилья</td>\n",
              "    </tr>\n",
              "    <tr>\n",
              "      <td>1</td>\n",
              "      <td>1</td>\n",
              "      <td>4025</td>\n",
              "      <td>36</td>\n",
              "      <td>среднее</td>\n",
              "      <td>1</td>\n",
              "      <td>женат / замужем</td>\n",
              "      <td>0</td>\n",
              "      <td>F</td>\n",
              "      <td>сотрудник</td>\n",
              "      <td>0</td>\n",
              "      <td>112080</td>\n",
              "      <td>приобретение автомобиля</td>\n",
              "    </tr>\n",
              "    <tr>\n",
              "      <td>2</td>\n",
              "      <td>0</td>\n",
              "      <td>5623</td>\n",
              "      <td>33</td>\n",
              "      <td>Среднее</td>\n",
              "      <td>1</td>\n",
              "      <td>женат / замужем</td>\n",
              "      <td>0</td>\n",
              "      <td>M</td>\n",
              "      <td>сотрудник</td>\n",
              "      <td>0</td>\n",
              "      <td>145886</td>\n",
              "      <td>покупка жилья</td>\n",
              "    </tr>\n",
              "    <tr>\n",
              "      <td>3</td>\n",
              "      <td>3</td>\n",
              "      <td>4125</td>\n",
              "      <td>32</td>\n",
              "      <td>среднее</td>\n",
              "      <td>1</td>\n",
              "      <td>женат / замужем</td>\n",
              "      <td>0</td>\n",
              "      <td>M</td>\n",
              "      <td>сотрудник</td>\n",
              "      <td>0</td>\n",
              "      <td>267629</td>\n",
              "      <td>дополнительное образование</td>\n",
              "    </tr>\n",
              "    <tr>\n",
              "      <td>4</td>\n",
              "      <td>0</td>\n",
              "      <td>340266</td>\n",
              "      <td>53</td>\n",
              "      <td>среднее</td>\n",
              "      <td>1</td>\n",
              "      <td>гражданский брак</td>\n",
              "      <td>1</td>\n",
              "      <td>F</td>\n",
              "      <td>пенсионер</td>\n",
              "      <td>0</td>\n",
              "      <td>158616</td>\n",
              "      <td>сыграть свадьбу</td>\n",
              "    </tr>\n",
              "  </tbody>\n",
              "</table>\n",
              "</div>"
            ],
            "text/plain": [
              "   children  days_employed  dob_years education  education_id  \\\n",
              "0         1           8438         42    высшее             0   \n",
              "1         1           4025         36   среднее             1   \n",
              "2         0           5623         33   Среднее             1   \n",
              "3         3           4125         32   среднее             1   \n",
              "4         0         340266         53   среднее             1   \n",
              "\n",
              "      family_status  family_status_id gender income_type  debt  total_income  \\\n",
              "0   женат / замужем                 0      F   сотрудник     0        253876   \n",
              "1   женат / замужем                 0      F   сотрудник     0        112080   \n",
              "2   женат / замужем                 0      M   сотрудник     0        145886   \n",
              "3   женат / замужем                 0      M   сотрудник     0        267629   \n",
              "4  гражданский брак                 1      F   пенсионер     0        158616   \n",
              "\n",
              "                      purpose  \n",
              "0               покупка жилья  \n",
              "1     приобретение автомобиля  \n",
              "2               покупка жилья  \n",
              "3  дополнительное образование  \n",
              "4             сыграть свадьбу  "
            ]
          },
          "metadata": {
            "tags": []
          },
          "execution_count": 508
        }
      ]
    },
    {
      "cell_type": "code",
      "metadata": {
        "id": "7S4NloMFtfop",
        "outputId": "c028310a-c887-40ab-af79-5fd670ce06a8"
      },
      "source": [
        "df.dtypes"
      ],
      "execution_count": null,
      "outputs": [
        {
          "output_type": "execute_result",
          "data": {
            "text/plain": [
              "children             int64\n",
              "days_employed        int64\n",
              "dob_years            int64\n",
              "education           object\n",
              "education_id         int64\n",
              "family_status       object\n",
              "family_status_id     int64\n",
              "gender              object\n",
              "income_type         object\n",
              "debt                 int64\n",
              "total_income         int64\n",
              "purpose             object\n",
              "dtype: object"
            ]
          },
          "metadata": {
            "tags": []
          },
          "execution_count": 509
        }
      ]
    },
    {
      "cell_type": "markdown",
      "metadata": {
        "id": "Tp70mIOUtfop"
      },
      "source": [
        "### Вывод"
      ]
    },
    {
      "cell_type": "markdown",
      "metadata": {
        "id": "y9M-fbAGtfoq"
      },
      "source": [
        "Оптимальный метод замены типа значений float на int - astype, но он округляет дробную часть числа до нуля вниз. Чтобы точнее перевести значения в целочисленные, мы можем сначала округлить вещественные числа методом round.\n",
        "В таблице остались только строковые и целочисленные значения\n",
        "\n"
      ]
    },
    {
      "cell_type": "markdown",
      "metadata": {
        "id": "KwheK2Nvtfoq"
      },
      "source": [
        "### Обработка дубликатов"
      ]
    },
    {
      "cell_type": "code",
      "metadata": {
        "id": "3BSEBD7Utfor",
        "outputId": "15c1003c-2aaa-4210-a12f-676532755c58"
      },
      "source": [
        "df.duplicated().sum()"
      ],
      "execution_count": null,
      "outputs": [
        {
          "output_type": "execute_result",
          "data": {
            "text/plain": [
              "54"
            ]
          },
          "metadata": {
            "tags": []
          },
          "execution_count": 510
        }
      ]
    },
    {
      "cell_type": "code",
      "metadata": {
        "id": "1vUIZ-RUtfos",
        "outputId": "e07148f5-e415-409e-a784-06d84bc29f7f"
      },
      "source": [
        "df = df.drop_duplicates().reset_index(drop = True)\n",
        "df.shape"
      ],
      "execution_count": null,
      "outputs": [
        {
          "output_type": "execute_result",
          "data": {
            "text/plain": [
              "(21471, 12)"
            ]
          },
          "metadata": {
            "tags": []
          },
          "execution_count": 511
        }
      ]
    },
    {
      "cell_type": "markdown",
      "metadata": {
        "id": "gaxjh-H9tfos"
      },
      "source": [
        "После удаления 54 полных дубликатов в датасете осталось 21471 строки.\n",
        "Теперь нужно найти частичные дубликаты вручную.\n",
        "Изучим столбцы со строковыми значениями."
      ]
    },
    {
      "cell_type": "code",
      "metadata": {
        "id": "hGNVJmW5tfot",
        "outputId": "908ddb87-a405-492b-d256-0a0972318f00"
      },
      "source": [
        "df['education'].value_counts()"
      ],
      "execution_count": null,
      "outputs": [
        {
          "output_type": "execute_result",
          "data": {
            "text/plain": [
              "среднее                13705\n",
              "высшее                  4710\n",
              "СРЕДНЕЕ                  772\n",
              "Среднее                  711\n",
              "неоконченное высшее      668\n",
              "ВЫСШЕЕ                   273\n",
              "Высшее                   268\n",
              "начальное                250\n",
              "Неоконченное высшее       47\n",
              "НЕОКОНЧЕННОЕ ВЫСШЕЕ       29\n",
              "НАЧАЛЬНОЕ                 17\n",
              "Начальное                 15\n",
              "ученая степень             4\n",
              "УЧЕНАЯ СТЕПЕНЬ             1\n",
              "Ученая степень             1\n",
              "Name: education, dtype: int64"
            ]
          },
          "metadata": {
            "tags": []
          },
          "execution_count": 512
        }
      ]
    },
    {
      "cell_type": "markdown",
      "metadata": {
        "id": "0oWaTbXNtfot"
      },
      "source": [
        "Проверим, влияет ли вариант написания на присвоенное значение 'education_id'"
      ]
    },
    {
      "cell_type": "code",
      "metadata": {
        "id": "2mDbnJkPtfou",
        "outputId": "3473c828-9d70-4844-9d36-ae3fb5e5be95"
      },
      "source": [
        "df.groupby('education_id')['education'].unique()"
      ],
      "execution_count": null,
      "outputs": [
        {
          "output_type": "execute_result",
          "data": {
            "text/plain": [
              "education_id\n",
              "0                             [высшее, ВЫСШЕЕ, Высшее]\n",
              "1                          [среднее, Среднее, СРЕДНЕЕ]\n",
              "2    [неоконченное высшее, НЕОКОНЧЕННОЕ ВЫСШЕЕ, Нео...\n",
              "3                    [начальное, НАЧАЛЬНОЕ, Начальное]\n",
              "4     [Ученая степень, УЧЕНАЯ СТЕПЕНЬ, ученая степень]\n",
              "Name: education, dtype: object"
            ]
          },
          "metadata": {
            "tags": []
          },
          "execution_count": 513
        }
      ]
    },
    {
      "cell_type": "markdown",
      "metadata": {
        "id": "lAWlN8qWtfou"
      },
      "source": [
        "Идентификаторы уровня образования присвоены правильно. \n",
        "Переведем все символы в столбце 'education' в нижний регистр"
      ]
    },
    {
      "cell_type": "code",
      "metadata": {
        "id": "jfD9zW8Vtfov",
        "outputId": "1a35d0d5-1440-4aaa-b3a4-ed4159a9dfa6"
      },
      "source": [
        "df['education'] = df['education'].str.lower()\n",
        "df['education'].value_counts()"
      ],
      "execution_count": null,
      "outputs": [
        {
          "output_type": "execute_result",
          "data": {
            "text/plain": [
              "среднее                15188\n",
              "высшее                  5251\n",
              "неоконченное высшее      744\n",
              "начальное                282\n",
              "ученая степень             6\n",
              "Name: education, dtype: int64"
            ]
          },
          "metadata": {
            "tags": []
          },
          "execution_count": 514
        }
      ]
    },
    {
      "cell_type": "code",
      "metadata": {
        "id": "eR3Rb_F4tfov",
        "outputId": "aca90033-5254-4c1a-b45e-13ea8a34afd0"
      },
      "source": [
        "df.duplicated().sum()"
      ],
      "execution_count": null,
      "outputs": [
        {
          "output_type": "execute_result",
          "data": {
            "text/plain": [
              "17"
            ]
          },
          "metadata": {
            "tags": []
          },
          "execution_count": 515
        }
      ]
    },
    {
      "cell_type": "markdown",
      "metadata": {
        "id": "ej7l3AbStfow"
      },
      "source": [
        "Мы обнаружили еще 17 дубликатов, различавшихся стилем написания уровня образования клиента.\n",
        "Уберем эти дубликаты"
      ]
    },
    {
      "cell_type": "code",
      "metadata": {
        "id": "L6Zg8AAEtfow",
        "outputId": "b756b2d2-5771-4202-80bb-0da520f2831c"
      },
      "source": [
        "df = df.drop_duplicates().reset_index(drop = True)\n",
        "df.info()"
      ],
      "execution_count": null,
      "outputs": [
        {
          "output_type": "stream",
          "text": [
            "<class 'pandas.core.frame.DataFrame'>\n",
            "RangeIndex: 21454 entries, 0 to 21453\n",
            "Data columns (total 12 columns):\n",
            "children            21454 non-null int64\n",
            "days_employed       21454 non-null int64\n",
            "dob_years           21454 non-null int64\n",
            "education           21454 non-null object\n",
            "education_id        21454 non-null int64\n",
            "family_status       21454 non-null object\n",
            "family_status_id    21454 non-null int64\n",
            "gender              21454 non-null object\n",
            "income_type         21454 non-null object\n",
            "debt                21454 non-null int64\n",
            "total_income        21454 non-null int64\n",
            "purpose             21454 non-null object\n",
            "dtypes: int64(7), object(5)\n",
            "memory usage: 2.0+ MB\n"
          ],
          "name": "stdout"
        }
      ]
    },
    {
      "cell_type": "markdown",
      "metadata": {
        "id": "Eh2WiAmatfow"
      },
      "source": [
        "Проверим остальные столбцы со строчными даннными"
      ]
    },
    {
      "cell_type": "code",
      "metadata": {
        "scrolled": true,
        "id": "q6hFsGn2tfox",
        "outputId": "de063502-ff3f-4fd2-f6ff-3a370727d35c"
      },
      "source": [
        "print('Уникальные значения family_status :',df['family_status'].unique())\n",
        "print()\n",
        "print('Уникальные значения gender :', df['gender'].unique())\n",
        "print()\n",
        "print('Уникальные значения income_type :', df['income_type'].unique())\n",
        "print()\n",
        "print('Уникальные значения purpose :', df['purpose'].unique())"
      ],
      "execution_count": null,
      "outputs": [
        {
          "output_type": "stream",
          "text": [
            "Уникальные значения family_status : ['женат / замужем' 'гражданский брак' 'вдовец / вдова' 'в разводе'\n",
            " 'Не женат / не замужем']\n",
            "\n",
            "Уникальные значения gender : ['F' 'M' 'XNA']\n",
            "\n",
            "Уникальные значения income_type : ['сотрудник' 'пенсионер' 'компаньон' 'госслужащий' 'безработный'\n",
            " 'предприниматель' 'студент' 'в декрете']\n",
            "\n",
            "Уникальные значения purpose : ['покупка жилья' 'приобретение автомобиля' 'дополнительное образование'\n",
            " 'сыграть свадьбу' 'операции с жильем' 'образование'\n",
            " 'на проведение свадьбы' 'покупка жилья для семьи' 'покупка недвижимости'\n",
            " 'покупка коммерческой недвижимости' 'покупка жилой недвижимости'\n",
            " 'строительство собственной недвижимости' 'недвижимость'\n",
            " 'строительство недвижимости' 'на покупку подержанного автомобиля'\n",
            " 'на покупку своего автомобиля' 'операции с коммерческой недвижимостью'\n",
            " 'строительство жилой недвижимости' 'жилье'\n",
            " 'операции со своей недвижимостью' 'автомобили' 'заняться образованием'\n",
            " 'сделка с подержанным автомобилем' 'получение образования' 'автомобиль'\n",
            " 'свадьба' 'получение дополнительного образования' 'покупка своего жилья'\n",
            " 'операции с недвижимостью' 'получение высшего образования'\n",
            " 'свой автомобиль' 'сделка с автомобилем' 'профильное образование'\n",
            " 'высшее образование' 'покупка жилья для сдачи' 'на покупку автомобиля'\n",
            " 'ремонт жилью' 'заняться высшим образованием']\n"
          ],
          "name": "stdout"
        }
      ]
    },
    {
      "cell_type": "code",
      "metadata": {
        "id": "ZvvHOwVutfox"
      },
      "source": [
        "df['family_status'] = df['family_status'].str.lower()"
      ],
      "execution_count": null,
      "outputs": []
    },
    {
      "cell_type": "markdown",
      "metadata": {
        "id": "6_vVcNPktfoy"
      },
      "source": [
        "### Вывод"
      ]
    },
    {
      "cell_type": "markdown",
      "metadata": {
        "id": "B7lbq6bgtfo1"
      },
      "source": [
        "Мы нашли и удалили 54 полных дубликата и еще 17 дубликатов с разным видом написания уровня образования в столбце 'education' . \n",
        "Для дальнейшего анализа нужно провести лемматизацию значений в столбце 'purpose'\n",
        "\n"
      ]
    },
    {
      "cell_type": "markdown",
      "metadata": {
        "id": "z-cDjVZbtfo1"
      },
      "source": [
        "### Лемматизация"
      ]
    },
    {
      "cell_type": "markdown",
      "metadata": {
        "id": "NtslxyLStfo2"
      },
      "source": [
        "Найдем какие слова встречаются в столбце 'purpose'. "
      ]
    },
    {
      "cell_type": "code",
      "metadata": {
        "id": "kOzLK2cWtfo2",
        "outputId": "c7389420-3e9b-40bf-cc42-3ac017f4e831"
      },
      "source": [
        "from pymystem3 import Mystem\n",
        "from collections import Counter\n",
        "m = Mystem() \n",
        "word_list = []\n",
        "for value in df['purpose'].unique():\n",
        "    lemmas = m.lemmatize(value)\n",
        "    word_list += lemmas\n",
        "        \n",
        "print(Counter(word_list))"
      ],
      "execution_count": null,
      "outputs": [
        {
          "output_type": "stream",
          "text": [
            "Counter({' ': 59, '\\n': 38, 'покупка': 10, 'недвижимость': 10, 'автомобиль': 9, 'образование': 9, 'жилье': 7, 'с': 5, 'операция': 4, 'на': 4, 'свой': 4, 'свадьба': 3, 'строительство': 3, 'получение': 3, 'высокий': 3, 'дополнительный': 2, 'для': 2, 'коммерческий': 2, 'жилой': 2, 'заниматься': 2, 'сделка': 2, 'приобретение': 1, 'сыграть': 1, 'проведение': 1, 'семья': 1, 'собственный': 1, 'подержать': 1, 'со': 1, 'подержанный': 1, 'профильный': 1, 'сдача': 1, 'ремонт': 1})\n"
          ],
          "name": "stdout"
        }
      ]
    },
    {
      "cell_type": "markdown",
      "metadata": {
        "id": "C4br9VR-tfo3"
      },
      "source": [
        "Мы можем составить список ключевых слов по которым будут однозначно определены цели кредитов. "
      ]
    },
    {
      "cell_type": "code",
      "metadata": {
        "id": "i2yzFKugtfo3"
      },
      "source": [
        "purpose_list = ['недвижимость', 'автомобиль', 'образование', 'жилье', 'свадьба']"
      ],
      "execution_count": null,
      "outputs": []
    },
    {
      "cell_type": "code",
      "metadata": {
        "id": "MO_kt307tfo4",
        "outputId": "544e6b49-0213-4664-bf95-8b5a8879b559"
      },
      "source": [
        "\n",
        "def purpose_choose(row):\n",
        "    purpose = row['purpose']\n",
        "    lemmas = m.lemmatize(purpose)\n",
        "    for purpose_type in purpose_list:\n",
        "        if (purpose_type in lemmas):\n",
        "            return purpose_type\n",
        "\n",
        "\n",
        "\n",
        "df['purpose_type'] = df.apply(purpose_choose, axis=1) \n",
        "df['purpose_type'].value_counts()"
      ],
      "execution_count": null,
      "outputs": [
        {
          "output_type": "execute_result",
          "data": {
            "text/plain": [
              "недвижимость    6351\n",
              "жилье           4460\n",
              "автомобиль      4306\n",
              "образование     4013\n",
              "свадьба         2324\n",
              "Name: purpose_type, dtype: int64"
            ]
          },
          "metadata": {
            "tags": []
          },
          "execution_count": 521
        }
      ]
    },
    {
      "cell_type": "markdown",
      "metadata": {
        "id": "jIqfDvxUtfo4"
      },
      "source": [
        "Проверим датасет на дубликаты без изначального столбца 'purpose'."
      ]
    },
    {
      "cell_type": "code",
      "metadata": {
        "id": "evUebq_0tfo5",
        "outputId": "7c5eb5f7-70ad-4529-df0d-cd5fde963717"
      },
      "source": [
        "df = df.drop(['purpose'], axis = 1)\n",
        "df.duplicated().sum()"
      ],
      "execution_count": null,
      "outputs": [
        {
          "output_type": "execute_result",
          "data": {
            "text/plain": [
              "244"
            ]
          },
          "metadata": {
            "tags": []
          },
          "execution_count": 522
        }
      ]
    },
    {
      "cell_type": "code",
      "metadata": {
        "scrolled": true,
        "id": "5FD6ysa8tfo5",
        "outputId": "28a50bd3-850a-44b5-c9d9-30df2cc37f60"
      },
      "source": [
        "df = df.drop_duplicates().reset_index(drop = True)\n",
        "df.info()"
      ],
      "execution_count": null,
      "outputs": [
        {
          "output_type": "stream",
          "text": [
            "<class 'pandas.core.frame.DataFrame'>\n",
            "RangeIndex: 21210 entries, 0 to 21209\n",
            "Data columns (total 12 columns):\n",
            "children            21210 non-null int64\n",
            "days_employed       21210 non-null int64\n",
            "dob_years           21210 non-null int64\n",
            "education           21210 non-null object\n",
            "education_id        21210 non-null int64\n",
            "family_status       21210 non-null object\n",
            "family_status_id    21210 non-null int64\n",
            "gender              21210 non-null object\n",
            "income_type         21210 non-null object\n",
            "debt                21210 non-null int64\n",
            "total_income        21210 non-null int64\n",
            "purpose_type        21210 non-null object\n",
            "dtypes: int64(7), object(5)\n",
            "memory usage: 1.9+ MB\n"
          ],
          "name": "stdout"
        }
      ]
    },
    {
      "cell_type": "markdown",
      "metadata": {
        "id": "YZM7zmY-tfo6"
      },
      "source": [
        "### Вывод"
      ]
    },
    {
      "cell_type": "markdown",
      "metadata": {
        "id": "G6gLWCNMtfo7"
      },
      "source": [
        "Все уникальные значения столбца 'purpose' мы разделили на 5 категорий. \n",
        "Благодаря этому мы смогли найти и удалить еще 244 дубликата, различавшихся только формулировкой цели кредита. \n",
        "Вcего нам удалось найти в иходном датасете 315 дубликатов.\n",
        "\n",
        "Скорее всего, причина возникновения дубликатов состоит в копировании данных из нескольких баз с разными форматами написания категорий и целей кредита.\n",
        "\n"
      ]
    },
    {
      "cell_type": "markdown",
      "metadata": {
        "id": "1cd4dApStfo7"
      },
      "source": [
        "### Категоризация данных"
      ]
    },
    {
      "cell_type": "markdown",
      "metadata": {
        "id": "P4eYUcA5tfo7"
      },
      "source": [
        "Для ответа на поставленные вопросы нам необходимо провести категоризацию данных в соответствующих столбцах.\n",
        "Начнем со столбца 'children'.  "
      ]
    },
    {
      "cell_type": "code",
      "metadata": {
        "id": "hgpdEa9Otfo8",
        "outputId": "9b563b2f-b107-4e87-d001-02c6a24cec9f"
      },
      "source": [
        "df['children'].value_counts()"
      ],
      "execution_count": null,
      "outputs": [
        {
          "output_type": "execute_result",
          "data": {
            "text/plain": [
              " 0     13892\n",
              " 1      4773\n",
              " 2      2043\n",
              " 3       329\n",
              " 20       76\n",
              "-1        47\n",
              " 4        41\n",
              " 5         9\n",
              "Name: children, dtype: int64"
            ]
          },
          "metadata": {
            "tags": []
          },
          "execution_count": 524
        }
      ]
    },
    {
      "cell_type": "code",
      "metadata": {
        "id": "yhH6KjLFtfo8",
        "outputId": "d1893b9d-269f-4866-b01c-b4451240eeb5"
      },
      "source": [
        "df.groupby('children').mean()"
      ],
      "execution_count": null,
      "outputs": [
        {
          "output_type": "execute_result",
          "data": {
            "text/html": [
              "<div>\n",
              "<style scoped>\n",
              "    .dataframe tbody tr th:only-of-type {\n",
              "        vertical-align: middle;\n",
              "    }\n",
              "\n",
              "    .dataframe tbody tr th {\n",
              "        vertical-align: top;\n",
              "    }\n",
              "\n",
              "    .dataframe thead th {\n",
              "        text-align: right;\n",
              "    }\n",
              "</style>\n",
              "<table border=\"1\" class=\"dataframe\">\n",
              "  <thead>\n",
              "    <tr style=\"text-align: right;\">\n",
              "      <th></th>\n",
              "      <th>days_employed</th>\n",
              "      <th>dob_years</th>\n",
              "      <th>education_id</th>\n",
              "      <th>family_status_id</th>\n",
              "      <th>debt</th>\n",
              "      <th>total_income</th>\n",
              "    </tr>\n",
              "    <tr>\n",
              "      <th>children</th>\n",
              "      <th></th>\n",
              "      <th></th>\n",
              "      <th></th>\n",
              "      <th></th>\n",
              "      <th></th>\n",
              "      <th></th>\n",
              "    </tr>\n",
              "  </thead>\n",
              "  <tbody>\n",
              "    <tr>\n",
              "      <td>-1</td>\n",
              "      <td>63145.191489</td>\n",
              "      <td>42.574468</td>\n",
              "      <td>0.829787</td>\n",
              "      <td>0.957447</td>\n",
              "      <td>0.021277</td>\n",
              "      <td>152995.000000</td>\n",
              "    </tr>\n",
              "    <tr>\n",
              "      <td>0</td>\n",
              "      <td>92218.663691</td>\n",
              "      <td>46.174201</td>\n",
              "      <td>0.829758</td>\n",
              "      <td>1.130507</td>\n",
              "      <td>0.076447</td>\n",
              "      <td>163281.528002</td>\n",
              "    </tr>\n",
              "    <tr>\n",
              "      <td>1</td>\n",
              "      <td>22836.083805</td>\n",
              "      <td>38.375864</td>\n",
              "      <td>0.786298</td>\n",
              "      <td>0.812696</td>\n",
              "      <td>0.093023</td>\n",
              "      <td>169267.536769</td>\n",
              "    </tr>\n",
              "    <tr>\n",
              "      <td>2</td>\n",
              "      <td>5665.122859</td>\n",
              "      <td>35.764562</td>\n",
              "      <td>0.790015</td>\n",
              "      <td>0.452766</td>\n",
              "      <td>0.094958</td>\n",
              "      <td>169857.335781</td>\n",
              "    </tr>\n",
              "    <tr>\n",
              "      <td>3</td>\n",
              "      <td>8518.352584</td>\n",
              "      <td>36.264438</td>\n",
              "      <td>0.823708</td>\n",
              "      <td>0.404255</td>\n",
              "      <td>0.082067</td>\n",
              "      <td>179848.167173</td>\n",
              "    </tr>\n",
              "    <tr>\n",
              "      <td>4</td>\n",
              "      <td>11774.390244</td>\n",
              "      <td>36.048780</td>\n",
              "      <td>0.780488</td>\n",
              "      <td>0.512195</td>\n",
              "      <td>0.097561</td>\n",
              "      <td>167244.731707</td>\n",
              "    </tr>\n",
              "    <tr>\n",
              "      <td>5</td>\n",
              "      <td>1454.222222</td>\n",
              "      <td>38.777778</td>\n",
              "      <td>1.222222</td>\n",
              "      <td>0.222222</td>\n",
              "      <td>0.000000</td>\n",
              "      <td>168286.222222</td>\n",
              "    </tr>\n",
              "    <tr>\n",
              "      <td>20</td>\n",
              "      <td>44692.328947</td>\n",
              "      <td>41.815789</td>\n",
              "      <td>0.842105</td>\n",
              "      <td>0.815789</td>\n",
              "      <td>0.105263</td>\n",
              "      <td>165779.657895</td>\n",
              "    </tr>\n",
              "  </tbody>\n",
              "</table>\n",
              "</div>"
            ],
            "text/plain": [
              "          days_employed  dob_years  education_id  family_status_id      debt  \\\n",
              "children                                                                       \n",
              "-1         63145.191489  42.574468      0.829787          0.957447  0.021277   \n",
              " 0         92218.663691  46.174201      0.829758          1.130507  0.076447   \n",
              " 1         22836.083805  38.375864      0.786298          0.812696  0.093023   \n",
              " 2          5665.122859  35.764562      0.790015          0.452766  0.094958   \n",
              " 3          8518.352584  36.264438      0.823708          0.404255  0.082067   \n",
              " 4         11774.390244  36.048780      0.780488          0.512195  0.097561   \n",
              " 5          1454.222222  38.777778      1.222222          0.222222  0.000000   \n",
              " 20        44692.328947  41.815789      0.842105          0.815789  0.105263   \n",
              "\n",
              "           total_income  \n",
              "children                 \n",
              "-1        152995.000000  \n",
              " 0        163281.528002  \n",
              " 1        169267.536769  \n",
              " 2        169857.335781  \n",
              " 3        179848.167173  \n",
              " 4        167244.731707  \n",
              " 5        168286.222222  \n",
              " 20       165779.657895  "
            ]
          },
          "metadata": {
            "tags": []
          },
          "execution_count": 525
        }
      ]
    },
    {
      "cell_type": "markdown",
      "metadata": {
        "id": "cF0iqN1rtfo9"
      },
      "source": [
        "Видим 47 записей со значением 'children' равным -1. По остальным числовым параметрам в среднем эти клиенты наиболее близки к людям без детей. Правда, среднее значение 'debt' в этой группе очень низко, что может быть обусловлено малым размером выборки.\n",
        "Заменим значения 'children' c -1 на 0."
      ]
    },
    {
      "cell_type": "code",
      "metadata": {
        "id": "0hMQVyMctfo9"
      },
      "source": [
        "df['children'] = df['children'].replace(-1, 0)"
      ],
      "execution_count": null,
      "outputs": []
    },
    {
      "cell_type": "markdown",
      "metadata": {
        "id": "UcrfmdUktfo9"
      },
      "source": [
        "Разделим клиентов банка на 4 группы, у кого 0, 1, 2 и более детей. Статус сохраним в новом столбце 'children_status'"
      ]
    },
    {
      "cell_type": "code",
      "metadata": {
        "id": "0J0WA4XFtfo-"
      },
      "source": [
        "def children_status(children):\n",
        "\n",
        "        if children == 0:\n",
        "                return 0\n",
        "        if children == 1:\n",
        "                return 1\n",
        "        if children == 2:\n",
        "                return 2\n",
        "        return 3\n",
        "    \n",
        "df['children_status'] = df['children'].apply(children_status)"
      ],
      "execution_count": null,
      "outputs": []
    },
    {
      "cell_type": "markdown",
      "metadata": {
        "id": "PM6yPJtvtfo-"
      },
      "source": [
        "Добавим столбец с категоризацией клиентов по их доходу так, чтобы количество человек в группах было сопоставимо."
      ]
    },
    {
      "cell_type": "code",
      "metadata": {
        "id": "485bh97ytfo-",
        "outputId": "c0c5fad9-786d-4315-96d1-6725a1e59c67"
      },
      "source": [
        "def income_group(income):\n",
        "\n",
        "        if income < 100000:\n",
        "                return 'низкий доход'\n",
        "        if income <= 200000:\n",
        "                return 'средний доход'\n",
        "        return 'высокий доход'\n",
        "    \n",
        "df['income_level'] = df['total_income'].apply(income_group)\n",
        "df.groupby('income_level')['children'].count()"
      ],
      "execution_count": null,
      "outputs": [
        {
          "output_type": "execute_result",
          "data": {
            "text/plain": [
              "income_level\n",
              "высокий доход     5066\n",
              "низкий доход      4463\n",
              "средний доход    11681\n",
              "Name: children, dtype: int64"
            ]
          },
          "metadata": {
            "tags": []
          },
          "execution_count": 528
        }
      ]
    },
    {
      "cell_type": "markdown",
      "metadata": {
        "id": "KgwlYmvQtfo_"
      },
      "source": [
        "Для оптимизации датасета выделим словари с категориями образования и семейного положения"
      ]
    },
    {
      "cell_type": "code",
      "metadata": {
        "id": "8FNZDz9btfpA"
      },
      "source": [
        "df_log = df[['days_employed', 'dob_years', 'education_id',\n",
        "       'family_status_id', 'gender', 'income_type', 'debt',\n",
        "       'purpose_type', 'children_status', 'income_level']]\n",
        "\n",
        "df_family_dict = df[['family_status', 'family_status_id']]\n",
        "df_family_dict = df_family_dict.drop_duplicates().reset_index(drop = True)\n",
        "\n",
        "df_education_dict = df[['education', 'education_id']]\n",
        "df_education_dict = df_education_dict.drop_duplicates().reset_index(drop = True)\n"
      ],
      "execution_count": null,
      "outputs": []
    },
    {
      "cell_type": "markdown",
      "metadata": {
        "id": "Wl9gF3m5tfpA"
      },
      "source": [
        "### Вывод"
      ]
    },
    {
      "cell_type": "markdown",
      "metadata": {
        "id": "04AbYa6dtfpA"
      },
      "source": [
        "Для классификации датасета по параметрам с числовыми значениями мы разделили значения столбца 'children' на четыре категории, а столбца 'total_income' на три.  \n",
        "Обращение по идентификаторам 'family_status_id' и 'education_id' упрощает работу с таблицей\n",
        "\n"
      ]
    },
    {
      "cell_type": "markdown",
      "metadata": {
        "id": "7r-24T2mtfpB"
      },
      "source": [
        "### Шаг 3. Ответьте на вопросы"
      ]
    },
    {
      "cell_type": "markdown",
      "metadata": {
        "id": "4pz8T0XltfpB"
      },
      "source": [
        "- Есть ли зависимость между наличием детей и возвратом кредита в срок?"
      ]
    },
    {
      "cell_type": "code",
      "metadata": {
        "id": "PDzEM7PhtfpB"
      },
      "source": [
        "def df_group(data, column):  # создает итоговую таблицу\n",
        "    data_grouped = data.groupby(column).agg({'debt': ['sum', 'count']})\n",
        "    data_grouped['percent'] = data_grouped['debt']['sum'] / data_grouped['debt']['count'] * 100\n",
        "    return data_grouped"
      ],
      "execution_count": null,
      "outputs": []
    },
    {
      "cell_type": "code",
      "metadata": {
        "scrolled": true,
        "id": "iozhN0uDtfpC",
        "outputId": "73a1d817-9958-48dd-fe3f-814b0db58938"
      },
      "source": [
        "df_children_grouped = df_group(df, 'children_status')\n",
        "df_children_grouped"
      ],
      "execution_count": null,
      "outputs": [
        {
          "output_type": "execute_result",
          "data": {
            "text/html": [
              "<div>\n",
              "<style scoped>\n",
              "    .dataframe tbody tr th:only-of-type {\n",
              "        vertical-align: middle;\n",
              "    }\n",
              "\n",
              "    .dataframe tbody tr th {\n",
              "        vertical-align: top;\n",
              "    }\n",
              "\n",
              "    .dataframe thead tr th {\n",
              "        text-align: left;\n",
              "    }\n",
              "\n",
              "    .dataframe thead tr:last-of-type th {\n",
              "        text-align: right;\n",
              "    }\n",
              "</style>\n",
              "<table border=\"1\" class=\"dataframe\">\n",
              "  <thead>\n",
              "    <tr>\n",
              "      <th></th>\n",
              "      <th colspan=\"2\" halign=\"left\">debt</th>\n",
              "      <th>percent</th>\n",
              "    </tr>\n",
              "    <tr>\n",
              "      <th></th>\n",
              "      <th>sum</th>\n",
              "      <th>count</th>\n",
              "      <th></th>\n",
              "    </tr>\n",
              "    <tr>\n",
              "      <th>children_status</th>\n",
              "      <th></th>\n",
              "      <th></th>\n",
              "      <th></th>\n",
              "    </tr>\n",
              "  </thead>\n",
              "  <tbody>\n",
              "    <tr>\n",
              "      <td>0</td>\n",
              "      <td>1063</td>\n",
              "      <td>13939</td>\n",
              "      <td>7.626085</td>\n",
              "    </tr>\n",
              "    <tr>\n",
              "      <td>1</td>\n",
              "      <td>444</td>\n",
              "      <td>4773</td>\n",
              "      <td>9.302326</td>\n",
              "    </tr>\n",
              "    <tr>\n",
              "      <td>2</td>\n",
              "      <td>194</td>\n",
              "      <td>2043</td>\n",
              "      <td>9.495839</td>\n",
              "    </tr>\n",
              "    <tr>\n",
              "      <td>3</td>\n",
              "      <td>39</td>\n",
              "      <td>455</td>\n",
              "      <td>8.571429</td>\n",
              "    </tr>\n",
              "  </tbody>\n",
              "</table>\n",
              "</div>"
            ],
            "text/plain": [
              "                 debt          percent\n",
              "                  sum  count          \n",
              "children_status                       \n",
              "0                1063  13939  7.626085\n",
              "1                 444   4773  9.302326\n",
              "2                 194   2043  9.495839\n",
              "3                  39    455  8.571429"
            ]
          },
          "metadata": {
            "tags": []
          },
          "execution_count": 542
        }
      ]
    },
    {
      "cell_type": "code",
      "metadata": {
        "id": "MR2TaxiKtfpC",
        "outputId": "f87d1bc3-4327-4b3c-a5ba-f9d3b89e2327"
      },
      "source": [
        "r = df_children_grouped[df_children_grouped.index != 0].sum()['debt']['sum'] / df_children_grouped[df_children_grouped.index != 0].sum()['debt']['count']\n",
        "print(f'Процент клиентов с детьми, имеющих задолженности : {r:.2%}')"
      ],
      "execution_count": null,
      "outputs": [
        {
          "output_type": "stream",
          "text": [
            "Процент клиентов с детьми, имеющих задолженности : 9.31%\n"
          ],
          "name": "stdout"
        }
      ]
    },
    {
      "cell_type": "markdown",
      "metadata": {
        "id": "kXHVAO3stfpD"
      },
      "source": [
        "### Вывод"
      ]
    },
    {
      "cell_type": "markdown",
      "metadata": {
        "id": "jWQGG6-wtfpD"
      },
      "source": [
        "Как мы видим, только у 7,62% людей без детей есть задолженности по кредитам, в то время, как у людей с детьми - в 9,31% случаев.\n",
        "Возможно, это связано с более тяжелым материальным положением людей с детьми.\n",
        "При этом какой-то зависимости в количестве должников между группами с одним, двумя и более детей не наблюдается."
      ]
    },
    {
      "cell_type": "markdown",
      "metadata": {
        "id": "ubuUcrFRtfpE"
      },
      "source": [
        "- Есть ли зависимость между семейным положением и возвратом кредита в срок?"
      ]
    },
    {
      "cell_type": "code",
      "metadata": {
        "id": "Hkd5vZQltfpE",
        "outputId": "7ba8b379-ee5e-4884-9b97-9b999ee9b118"
      },
      "source": [
        "df_family_grouped = df_group(df, 'family_status')\n",
        "df_family_grouped.sort_values(by = 'percent',ascending = False)"
      ],
      "execution_count": null,
      "outputs": [
        {
          "output_type": "execute_result",
          "data": {
            "text/html": [
              "<div>\n",
              "<style scoped>\n",
              "    .dataframe tbody tr th:only-of-type {\n",
              "        vertical-align: middle;\n",
              "    }\n",
              "\n",
              "    .dataframe tbody tr th {\n",
              "        vertical-align: top;\n",
              "    }\n",
              "\n",
              "    .dataframe thead tr th {\n",
              "        text-align: left;\n",
              "    }\n",
              "\n",
              "    .dataframe thead tr:last-of-type th {\n",
              "        text-align: right;\n",
              "    }\n",
              "</style>\n",
              "<table border=\"1\" class=\"dataframe\">\n",
              "  <thead>\n",
              "    <tr>\n",
              "      <th></th>\n",
              "      <th colspan=\"2\" halign=\"left\">debt</th>\n",
              "      <th>percent</th>\n",
              "    </tr>\n",
              "    <tr>\n",
              "      <th></th>\n",
              "      <th>sum</th>\n",
              "      <th>count</th>\n",
              "      <th></th>\n",
              "    </tr>\n",
              "    <tr>\n",
              "      <th>family_status</th>\n",
              "      <th></th>\n",
              "      <th></th>\n",
              "      <th></th>\n",
              "    </tr>\n",
              "  </thead>\n",
              "  <tbody>\n",
              "    <tr>\n",
              "      <td>не женат / не замужем</td>\n",
              "      <td>274</td>\n",
              "      <td>2792</td>\n",
              "      <td>9.813754</td>\n",
              "    </tr>\n",
              "    <tr>\n",
              "      <td>гражданский брак</td>\n",
              "      <td>388</td>\n",
              "      <td>4129</td>\n",
              "      <td>9.396948</td>\n",
              "    </tr>\n",
              "    <tr>\n",
              "      <td>женат / замужем</td>\n",
              "      <td>930</td>\n",
              "      <td>12148</td>\n",
              "      <td>7.655581</td>\n",
              "    </tr>\n",
              "    <tr>\n",
              "      <td>в разводе</td>\n",
              "      <td>85</td>\n",
              "      <td>1193</td>\n",
              "      <td>7.124895</td>\n",
              "    </tr>\n",
              "    <tr>\n",
              "      <td>вдовец / вдова</td>\n",
              "      <td>63</td>\n",
              "      <td>948</td>\n",
              "      <td>6.645570</td>\n",
              "    </tr>\n",
              "  </tbody>\n",
              "</table>\n",
              "</div>"
            ],
            "text/plain": [
              "                      debt          percent\n",
              "                       sum  count          \n",
              "family_status                              \n",
              "не женат / не замужем  274   2792  9.813754\n",
              "гражданский брак       388   4129  9.396948\n",
              "женат / замужем        930  12148  7.655581\n",
              "в разводе               85   1193  7.124895\n",
              "вдовец / вдова          63    948  6.645570"
            ]
          },
          "metadata": {
            "tags": []
          },
          "execution_count": 543
        }
      ]
    },
    {
      "cell_type": "code",
      "metadata": {
        "id": "hN4DFHlntfpF",
        "outputId": "26337c9f-a18d-40b1-8980-9fec4710ebc6"
      },
      "source": [
        "df_family_age_grouped = df.groupby('family_status')['dob_years'].mean().sort_values(ascending = True)\n",
        "print('Средний возраст по категориям ', df_family_age_grouped)"
      ],
      "execution_count": null,
      "outputs": [
        {
          "output_type": "stream",
          "text": [
            "Средний возраст по категориям  family_status\n",
            "не женат / не замужем    38.380014\n",
            "гражданский брак         42.024946\n",
            "женат / замужем          43.476457\n",
            "в разводе                45.503772\n",
            "вдовец / вдова           56.443038\n",
            "Name: dob_years, dtype: float64\n"
          ],
          "name": "stdout"
        }
      ]
    },
    {
      "cell_type": "markdown",
      "metadata": {
        "id": "GNx7ryzwtfpF"
      },
      "source": [
        "### Вывод"
      ]
    },
    {
      "cell_type": "markdown",
      "metadata": {
        "id": "7x_T2SfLtfpF"
      },
      "source": [
        "Наибольший процент должников у незамужних людей, что более характерно для молодых людей (38,4 года). Наиболее надежные клиенты в категории \"вдовец / вдова\" со средним возрастом 56,4 года. \n",
        "Остальные данные по возврату кредитов в срок также кореллируют со средним возрастом клиентов в категории 'family_status'.\n",
        "Стоит отметить значительную разницу в поведении клиентов, состоящих в официальном браке и гражданском. Это говорит о более ответственном отношении к финансам людей, оформивших брак официально."
      ]
    },
    {
      "cell_type": "markdown",
      "metadata": {
        "id": "iS-6fLA0tfpG"
      },
      "source": [
        "- Есть ли зависимость между уровнем дохода и возвратом кредита в срок?"
      ]
    },
    {
      "cell_type": "code",
      "metadata": {
        "id": "KfuD5QhFtfpG",
        "outputId": "bbffb6a6-51e5-417d-ecc9-bbcdc7a97f3e"
      },
      "source": [
        "df_income_grouped = df_group(df, 'income_level')\n",
        "\n",
        "df_income_grouped.sort_values(by = 'percent',ascending = False)"
      ],
      "execution_count": null,
      "outputs": [
        {
          "output_type": "execute_result",
          "data": {
            "text/html": [
              "<div>\n",
              "<style scoped>\n",
              "    .dataframe tbody tr th:only-of-type {\n",
              "        vertical-align: middle;\n",
              "    }\n",
              "\n",
              "    .dataframe tbody tr th {\n",
              "        vertical-align: top;\n",
              "    }\n",
              "\n",
              "    .dataframe thead tr th {\n",
              "        text-align: left;\n",
              "    }\n",
              "\n",
              "    .dataframe thead tr:last-of-type th {\n",
              "        text-align: right;\n",
              "    }\n",
              "</style>\n",
              "<table border=\"1\" class=\"dataframe\">\n",
              "  <thead>\n",
              "    <tr>\n",
              "      <th></th>\n",
              "      <th colspan=\"2\" halign=\"left\">debt</th>\n",
              "      <th>percent</th>\n",
              "    </tr>\n",
              "    <tr>\n",
              "      <th></th>\n",
              "      <th>sum</th>\n",
              "      <th>count</th>\n",
              "      <th></th>\n",
              "    </tr>\n",
              "    <tr>\n",
              "      <th>income_level</th>\n",
              "      <th></th>\n",
              "      <th></th>\n",
              "      <th></th>\n",
              "    </tr>\n",
              "  </thead>\n",
              "  <tbody>\n",
              "    <tr>\n",
              "      <td>средний доход</td>\n",
              "      <td>1028</td>\n",
              "      <td>11681</td>\n",
              "      <td>8.800616</td>\n",
              "    </tr>\n",
              "    <tr>\n",
              "      <td>низкий доход</td>\n",
              "      <td>354</td>\n",
              "      <td>4463</td>\n",
              "      <td>7.931884</td>\n",
              "    </tr>\n",
              "    <tr>\n",
              "      <td>высокий доход</td>\n",
              "      <td>358</td>\n",
              "      <td>5066</td>\n",
              "      <td>7.066719</td>\n",
              "    </tr>\n",
              "  </tbody>\n",
              "</table>\n",
              "</div>"
            ],
            "text/plain": [
              "               debt          percent\n",
              "                sum  count          \n",
              "income_level                        \n",
              "средний доход  1028  11681  8.800616\n",
              "низкий доход    354   4463  7.931884\n",
              "высокий доход   358   5066  7.066719"
            ]
          },
          "metadata": {
            "tags": []
          },
          "execution_count": 545
        }
      ]
    },
    {
      "cell_type": "markdown",
      "metadata": {
        "id": "3Q1o98kztfpG"
      },
      "source": [
        "### Вывод"
      ]
    },
    {
      "cell_type": "markdown",
      "metadata": {
        "id": "9gRFA6WItfpH"
      },
      "source": [
        "Никакой явной зависимости наличия просроченных платежей от уровня дохода нет. "
      ]
    },
    {
      "cell_type": "markdown",
      "metadata": {
        "id": "Zlfi5cqYtfpH"
      },
      "source": [
        "- Как разные цели кредита влияют на его возврат в срок?"
      ]
    },
    {
      "cell_type": "code",
      "metadata": {
        "id": "_KUGbu-MtfpH",
        "outputId": "b7c98629-b9aa-4841-8382-0c7f40aaae07"
      },
      "source": [
        "df_purpose_grouped = df_group(df, 'purpose_type')\n",
        "\n",
        "df_purpose_grouped.sort_values(by = 'percent',ascending = False)"
      ],
      "execution_count": null,
      "outputs": [
        {
          "output_type": "execute_result",
          "data": {
            "text/html": [
              "<div>\n",
              "<style scoped>\n",
              "    .dataframe tbody tr th:only-of-type {\n",
              "        vertical-align: middle;\n",
              "    }\n",
              "\n",
              "    .dataframe tbody tr th {\n",
              "        vertical-align: top;\n",
              "    }\n",
              "\n",
              "    .dataframe thead tr th {\n",
              "        text-align: left;\n",
              "    }\n",
              "\n",
              "    .dataframe thead tr:last-of-type th {\n",
              "        text-align: right;\n",
              "    }\n",
              "</style>\n",
              "<table border=\"1\" class=\"dataframe\">\n",
              "  <thead>\n",
              "    <tr>\n",
              "      <th></th>\n",
              "      <th colspan=\"2\" halign=\"left\">debt</th>\n",
              "      <th>percent</th>\n",
              "    </tr>\n",
              "    <tr>\n",
              "      <th></th>\n",
              "      <th>sum</th>\n",
              "      <th>count</th>\n",
              "      <th></th>\n",
              "    </tr>\n",
              "    <tr>\n",
              "      <th>purpose_type</th>\n",
              "      <th></th>\n",
              "      <th></th>\n",
              "      <th></th>\n",
              "    </tr>\n",
              "  </thead>\n",
              "  <tbody>\n",
              "    <tr>\n",
              "      <td>автомобиль</td>\n",
              "      <td>402</td>\n",
              "      <td>4272</td>\n",
              "      <td>9.410112</td>\n",
              "    </tr>\n",
              "    <tr>\n",
              "      <td>образование</td>\n",
              "      <td>370</td>\n",
              "      <td>3964</td>\n",
              "      <td>9.334006</td>\n",
              "    </tr>\n",
              "    <tr>\n",
              "      <td>свадьба</td>\n",
              "      <td>186</td>\n",
              "      <td>2306</td>\n",
              "      <td>8.065915</td>\n",
              "    </tr>\n",
              "    <tr>\n",
              "      <td>недвижимость</td>\n",
              "      <td>474</td>\n",
              "      <td>6260</td>\n",
              "      <td>7.571885</td>\n",
              "    </tr>\n",
              "    <tr>\n",
              "      <td>жилье</td>\n",
              "      <td>308</td>\n",
              "      <td>4408</td>\n",
              "      <td>6.987296</td>\n",
              "    </tr>\n",
              "  </tbody>\n",
              "</table>\n",
              "</div>"
            ],
            "text/plain": [
              "             debt         percent\n",
              "              sum count          \n",
              "purpose_type                     \n",
              "автомобиль    402  4272  9.410112\n",
              "образование   370  3964  9.334006\n",
              "свадьба       186  2306  8.065915\n",
              "недвижимость  474  6260  7.571885\n",
              "жилье         308  4408  6.987296"
            ]
          },
          "metadata": {
            "tags": []
          },
          "execution_count": 546
        }
      ]
    },
    {
      "cell_type": "markdown",
      "metadata": {
        "id": "Yv5DsAnutfpI"
      },
      "source": [
        "### Вывод"
      ]
    },
    {
      "cell_type": "markdown",
      "metadata": {
        "id": "0q-xbGrDtfpI"
      },
      "source": [
        "Клиенты чаще пропускают платежи по кредитам на автомобили или образование, чем на приобретение недвижимости. Это, долно быть, связано с осознанием важности цели кредита и более тчательной проверкой на платежеспособность со стороны банков. Отличие результатов по группам \"недвижимость\" и \"жилье\" заметное, но однозначно определить цель приобретения недвижимости (для проживания или коммерческого использования) по имеющимся данным невозможно.\n",
        "\n"
      ]
    },
    {
      "cell_type": "markdown",
      "metadata": {
        "id": "T9iIrjOTtfpJ"
      },
      "source": [
        "### Шаг 4. Общий вывод"
      ]
    },
    {
      "cell_type": "markdown",
      "metadata": {
        "id": "rHSadKHLtfpJ"
      },
      "source": [
        "Мы провели классификацию данных о клиентах банков и определили ряд закономерностей в поведении разных групп людей.\n",
        "\n",
        "* Клиенты с детьми чаще задерживают платежи по кредитам\n",
        "* Семейный статус клиента влияет на вероятность возврата им кредита в срок. \n",
        "* По указанной цели кредита можно определить риск невозврата.\n",
        "* Уровень дохода клиента не определяет его пунктуальность в платежах.\n",
        "\n",
        "Процент людей с просроченными платежами по различным группам варьируется от 6,64% до 9,81%, т.е. примерно на треть. Более тчательное изучение заявителей на получение кредита может значительно увеличить вероятность своевременного погашения долга.\n",
        "\n"
      ]
    }
  ]
}