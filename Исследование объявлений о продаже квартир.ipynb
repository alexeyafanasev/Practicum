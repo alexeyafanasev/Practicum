{
  "nbformat": 4,
  "nbformat_minor": 0,
  "metadata": {
    "kernelspec": {
      "display_name": "Python 3",
      "language": "python",
      "name": "python3"
    },
    "language_info": {
      "codemirror_mode": {
        "name": "ipython",
        "version": 3
      },
      "file_extension": ".py",
      "mimetype": "text/x-python",
      "name": "python",
      "nbconvert_exporter": "python",
      "pygments_lexer": "ipython3",
      "version": "3.7.8"
    },
    "toc": {
      "base_numbering": 1,
      "nav_menu": {},
      "number_sections": true,
      "sideBar": true,
      "skip_h1_title": true,
      "title_cell": "Table of Contents",
      "title_sidebar": "Contents",
      "toc_cell": false,
      "toc_position": {},
      "toc_section_display": true,
      "toc_window_display": false
    },
    "colab": {
      "name": "Project 2.ipynb",
      "provenance": []
    }
  },
  "cells": [
    {
      "cell_type": "markdown",
      "metadata": {
        "id": "l59Y-ceowS4S"
      },
      "source": [
        "# Исследование объявлений о продаже квартир\n",
        "\n",
        "В вашем распоряжении данные сервиса Яндекс.Недвижимость — архив объявлений о продаже квартир в Санкт-Петербурге и соседних населённых пунктов за несколько лет. Нужно научиться определять рыночную стоимость объектов недвижимости. Ваша задача — установить параметры. Это позволит построить автоматизированную систему: она отследит аномалии и мошенническую деятельность. \n",
        "\n",
        "По каждой квартире на продажу доступны два вида данных. Первые вписаны пользователем, вторые — получены автоматически на основе картографических данных. Например, расстояние до центра, аэропорта, ближайшего парка и водоёма. "
      ]
    },
    {
      "cell_type": "markdown",
      "metadata": {
        "id": "Aw2yE-wjwS4W"
      },
      "source": [
        "### Откроем файл с данными и изучим общую информацию. "
      ]
    },
    {
      "cell_type": "code",
      "metadata": {
        "id": "Fg7dwrRXwS4Y"
      },
      "source": [
        "import pandas as pd\n",
        "import numpy as np\n",
        "import statistics as st\n",
        "import matplotlib.pyplot as plt\n",
        "import seaborn as sns\n",
        "import warnings\n",
        "warnings.filterwarnings('ignore')"
      ],
      "execution_count": null,
      "outputs": []
    },
    {
      "cell_type": "code",
      "metadata": {
        "id": "NmOorgwHwS4a",
        "outputId": "e5ef5bd0-ce88-4201-8230-f65597f4ada2"
      },
      "source": [
        "df = pd.read_csv(\"/datasets/real_estate_data.csv\", sep = '\\t')\n",
        "df.head()"
      ],
      "execution_count": null,
      "outputs": [
        {
          "output_type": "execute_result",
          "data": {
            "text/html": [
              "<div>\n",
              "<style scoped>\n",
              "    .dataframe tbody tr th:only-of-type {\n",
              "        vertical-align: middle;\n",
              "    }\n",
              "\n",
              "    .dataframe tbody tr th {\n",
              "        vertical-align: top;\n",
              "    }\n",
              "\n",
              "    .dataframe thead th {\n",
              "        text-align: right;\n",
              "    }\n",
              "</style>\n",
              "<table border=\"1\" class=\"dataframe\">\n",
              "  <thead>\n",
              "    <tr style=\"text-align: right;\">\n",
              "      <th></th>\n",
              "      <th>total_images</th>\n",
              "      <th>last_price</th>\n",
              "      <th>total_area</th>\n",
              "      <th>first_day_exposition</th>\n",
              "      <th>rooms</th>\n",
              "      <th>ceiling_height</th>\n",
              "      <th>floors_total</th>\n",
              "      <th>living_area</th>\n",
              "      <th>floor</th>\n",
              "      <th>is_apartment</th>\n",
              "      <th>...</th>\n",
              "      <th>kitchen_area</th>\n",
              "      <th>balcony</th>\n",
              "      <th>locality_name</th>\n",
              "      <th>airports_nearest</th>\n",
              "      <th>cityCenters_nearest</th>\n",
              "      <th>parks_around3000</th>\n",
              "      <th>parks_nearest</th>\n",
              "      <th>ponds_around3000</th>\n",
              "      <th>ponds_nearest</th>\n",
              "      <th>days_exposition</th>\n",
              "    </tr>\n",
              "  </thead>\n",
              "  <tbody>\n",
              "    <tr>\n",
              "      <td>0</td>\n",
              "      <td>20</td>\n",
              "      <td>13000000.0</td>\n",
              "      <td>108.0</td>\n",
              "      <td>2019-03-07T00:00:00</td>\n",
              "      <td>3</td>\n",
              "      <td>2.70</td>\n",
              "      <td>16.0</td>\n",
              "      <td>51.0</td>\n",
              "      <td>8</td>\n",
              "      <td>NaN</td>\n",
              "      <td>...</td>\n",
              "      <td>25.0</td>\n",
              "      <td>NaN</td>\n",
              "      <td>Санкт-Петербург</td>\n",
              "      <td>18863.0</td>\n",
              "      <td>16028.0</td>\n",
              "      <td>1.0</td>\n",
              "      <td>482.0</td>\n",
              "      <td>2.0</td>\n",
              "      <td>755.0</td>\n",
              "      <td>NaN</td>\n",
              "    </tr>\n",
              "    <tr>\n",
              "      <td>1</td>\n",
              "      <td>7</td>\n",
              "      <td>3350000.0</td>\n",
              "      <td>40.4</td>\n",
              "      <td>2018-12-04T00:00:00</td>\n",
              "      <td>1</td>\n",
              "      <td>NaN</td>\n",
              "      <td>11.0</td>\n",
              "      <td>18.6</td>\n",
              "      <td>1</td>\n",
              "      <td>NaN</td>\n",
              "      <td>...</td>\n",
              "      <td>11.0</td>\n",
              "      <td>2.0</td>\n",
              "      <td>посёлок Шушары</td>\n",
              "      <td>12817.0</td>\n",
              "      <td>18603.0</td>\n",
              "      <td>0.0</td>\n",
              "      <td>NaN</td>\n",
              "      <td>0.0</td>\n",
              "      <td>NaN</td>\n",
              "      <td>81.0</td>\n",
              "    </tr>\n",
              "    <tr>\n",
              "      <td>2</td>\n",
              "      <td>10</td>\n",
              "      <td>5196000.0</td>\n",
              "      <td>56.0</td>\n",
              "      <td>2015-08-20T00:00:00</td>\n",
              "      <td>2</td>\n",
              "      <td>NaN</td>\n",
              "      <td>5.0</td>\n",
              "      <td>34.3</td>\n",
              "      <td>4</td>\n",
              "      <td>NaN</td>\n",
              "      <td>...</td>\n",
              "      <td>8.3</td>\n",
              "      <td>0.0</td>\n",
              "      <td>Санкт-Петербург</td>\n",
              "      <td>21741.0</td>\n",
              "      <td>13933.0</td>\n",
              "      <td>1.0</td>\n",
              "      <td>90.0</td>\n",
              "      <td>2.0</td>\n",
              "      <td>574.0</td>\n",
              "      <td>558.0</td>\n",
              "    </tr>\n",
              "    <tr>\n",
              "      <td>3</td>\n",
              "      <td>0</td>\n",
              "      <td>64900000.0</td>\n",
              "      <td>159.0</td>\n",
              "      <td>2015-07-24T00:00:00</td>\n",
              "      <td>3</td>\n",
              "      <td>NaN</td>\n",
              "      <td>14.0</td>\n",
              "      <td>NaN</td>\n",
              "      <td>9</td>\n",
              "      <td>NaN</td>\n",
              "      <td>...</td>\n",
              "      <td>NaN</td>\n",
              "      <td>0.0</td>\n",
              "      <td>Санкт-Петербург</td>\n",
              "      <td>28098.0</td>\n",
              "      <td>6800.0</td>\n",
              "      <td>2.0</td>\n",
              "      <td>84.0</td>\n",
              "      <td>3.0</td>\n",
              "      <td>234.0</td>\n",
              "      <td>424.0</td>\n",
              "    </tr>\n",
              "    <tr>\n",
              "      <td>4</td>\n",
              "      <td>2</td>\n",
              "      <td>10000000.0</td>\n",
              "      <td>100.0</td>\n",
              "      <td>2018-06-19T00:00:00</td>\n",
              "      <td>2</td>\n",
              "      <td>3.03</td>\n",
              "      <td>14.0</td>\n",
              "      <td>32.0</td>\n",
              "      <td>13</td>\n",
              "      <td>NaN</td>\n",
              "      <td>...</td>\n",
              "      <td>41.0</td>\n",
              "      <td>NaN</td>\n",
              "      <td>Санкт-Петербург</td>\n",
              "      <td>31856.0</td>\n",
              "      <td>8098.0</td>\n",
              "      <td>2.0</td>\n",
              "      <td>112.0</td>\n",
              "      <td>1.0</td>\n",
              "      <td>48.0</td>\n",
              "      <td>121.0</td>\n",
              "    </tr>\n",
              "  </tbody>\n",
              "</table>\n",
              "<p>5 rows × 22 columns</p>\n",
              "</div>"
            ],
            "text/plain": [
              "   total_images  last_price  total_area first_day_exposition  rooms  \\\n",
              "0            20  13000000.0       108.0  2019-03-07T00:00:00      3   \n",
              "1             7   3350000.0        40.4  2018-12-04T00:00:00      1   \n",
              "2            10   5196000.0        56.0  2015-08-20T00:00:00      2   \n",
              "3             0  64900000.0       159.0  2015-07-24T00:00:00      3   \n",
              "4             2  10000000.0       100.0  2018-06-19T00:00:00      2   \n",
              "\n",
              "   ceiling_height  floors_total  living_area  floor is_apartment  ...  \\\n",
              "0            2.70          16.0         51.0      8          NaN  ...   \n",
              "1             NaN          11.0         18.6      1          NaN  ...   \n",
              "2             NaN           5.0         34.3      4          NaN  ...   \n",
              "3             NaN          14.0          NaN      9          NaN  ...   \n",
              "4            3.03          14.0         32.0     13          NaN  ...   \n",
              "\n",
              "   kitchen_area  balcony    locality_name  airports_nearest  \\\n",
              "0          25.0      NaN  Санкт-Петербург           18863.0   \n",
              "1          11.0      2.0   посёлок Шушары           12817.0   \n",
              "2           8.3      0.0  Санкт-Петербург           21741.0   \n",
              "3           NaN      0.0  Санкт-Петербург           28098.0   \n",
              "4          41.0      NaN  Санкт-Петербург           31856.0   \n",
              "\n",
              "  cityCenters_nearest  parks_around3000  parks_nearest  ponds_around3000  \\\n",
              "0             16028.0               1.0          482.0               2.0   \n",
              "1             18603.0               0.0            NaN               0.0   \n",
              "2             13933.0               1.0           90.0               2.0   \n",
              "3              6800.0               2.0           84.0               3.0   \n",
              "4              8098.0               2.0          112.0               1.0   \n",
              "\n",
              "   ponds_nearest  days_exposition  \n",
              "0          755.0              NaN  \n",
              "1            NaN             81.0  \n",
              "2          574.0            558.0  \n",
              "3          234.0            424.0  \n",
              "4           48.0            121.0  \n",
              "\n",
              "[5 rows x 22 columns]"
            ]
          },
          "metadata": {
            "tags": []
          },
          "execution_count": 2
        }
      ]
    },
    {
      "cell_type": "code",
      "metadata": {
        "scrolled": true,
        "id": "PUORK41nwS4f",
        "outputId": "07833733-2c19-4496-9baf-57fd9ae64b13"
      },
      "source": [
        "df.info()"
      ],
      "execution_count": null,
      "outputs": [
        {
          "output_type": "stream",
          "text": [
            "<class 'pandas.core.frame.DataFrame'>\n",
            "RangeIndex: 23699 entries, 0 to 23698\n",
            "Data columns (total 22 columns):\n",
            "total_images            23699 non-null int64\n",
            "last_price              23699 non-null float64\n",
            "total_area              23699 non-null float64\n",
            "first_day_exposition    23699 non-null object\n",
            "rooms                   23699 non-null int64\n",
            "ceiling_height          14504 non-null float64\n",
            "floors_total            23613 non-null float64\n",
            "living_area             21796 non-null float64\n",
            "floor                   23699 non-null int64\n",
            "is_apartment            2775 non-null object\n",
            "studio                  23699 non-null bool\n",
            "open_plan               23699 non-null bool\n",
            "kitchen_area            21421 non-null float64\n",
            "balcony                 12180 non-null float64\n",
            "locality_name           23650 non-null object\n",
            "airports_nearest        18157 non-null float64\n",
            "cityCenters_nearest     18180 non-null float64\n",
            "parks_around3000        18181 non-null float64\n",
            "parks_nearest           8079 non-null float64\n",
            "ponds_around3000        18181 non-null float64\n",
            "ponds_nearest           9110 non-null float64\n",
            "days_exposition         20518 non-null float64\n",
            "dtypes: bool(2), float64(14), int64(3), object(3)\n",
            "memory usage: 3.7+ MB\n"
          ],
          "name": "stdout"
        }
      ]
    },
    {
      "cell_type": "code",
      "metadata": {
        "id": "AgjQ2JetwS4h",
        "outputId": "d219e6e8-0a36-421f-ec32-0662469e3ede"
      },
      "source": [
        "# Оценим объем пропущенных значений в данных\n",
        "\n",
        "(100. * df.loc[:, df.isna().any()].isna().sum()/df.shape[0]).round(1).astype(str) + '%'"
      ],
      "execution_count": null,
      "outputs": [
        {
          "output_type": "execute_result",
          "data": {
            "text/plain": [
              "ceiling_height         38.8%\n",
              "floors_total            0.4%\n",
              "living_area             8.0%\n",
              "is_apartment           88.3%\n",
              "kitchen_area            9.6%\n",
              "balcony                48.6%\n",
              "locality_name           0.2%\n",
              "airports_nearest       23.4%\n",
              "cityCenters_nearest    23.3%\n",
              "parks_around3000       23.3%\n",
              "parks_nearest          65.9%\n",
              "ponds_around3000       23.3%\n",
              "ponds_nearest          61.6%\n",
              "days_exposition        13.4%\n",
              "dtype: object"
            ]
          },
          "metadata": {
            "tags": []
          },
          "execution_count": 4
        }
      ]
    },
    {
      "cell_type": "code",
      "metadata": {
        "scrolled": false,
        "id": "emsaWwHTwS4j",
        "outputId": "452defb2-d549-4fc0-eec9-81062798ba1a"
      },
      "source": [
        "df.describe().T"
      ],
      "execution_count": null,
      "outputs": [
        {
          "output_type": "execute_result",
          "data": {
            "text/html": [
              "<div>\n",
              "<style scoped>\n",
              "    .dataframe tbody tr th:only-of-type {\n",
              "        vertical-align: middle;\n",
              "    }\n",
              "\n",
              "    .dataframe tbody tr th {\n",
              "        vertical-align: top;\n",
              "    }\n",
              "\n",
              "    .dataframe thead th {\n",
              "        text-align: right;\n",
              "    }\n",
              "</style>\n",
              "<table border=\"1\" class=\"dataframe\">\n",
              "  <thead>\n",
              "    <tr style=\"text-align: right;\">\n",
              "      <th></th>\n",
              "      <th>count</th>\n",
              "      <th>mean</th>\n",
              "      <th>std</th>\n",
              "      <th>min</th>\n",
              "      <th>25%</th>\n",
              "      <th>50%</th>\n",
              "      <th>75%</th>\n",
              "      <th>max</th>\n",
              "    </tr>\n",
              "  </thead>\n",
              "  <tbody>\n",
              "    <tr>\n",
              "      <td>total_images</td>\n",
              "      <td>23699.0</td>\n",
              "      <td>9.858475e+00</td>\n",
              "      <td>5.682529e+00</td>\n",
              "      <td>0.0</td>\n",
              "      <td>6.00</td>\n",
              "      <td>9.00</td>\n",
              "      <td>14.0</td>\n",
              "      <td>50.0</td>\n",
              "    </tr>\n",
              "    <tr>\n",
              "      <td>last_price</td>\n",
              "      <td>23699.0</td>\n",
              "      <td>6.541549e+06</td>\n",
              "      <td>1.088701e+07</td>\n",
              "      <td>12190.0</td>\n",
              "      <td>3400000.00</td>\n",
              "      <td>4650000.00</td>\n",
              "      <td>6800000.0</td>\n",
              "      <td>763000000.0</td>\n",
              "    </tr>\n",
              "    <tr>\n",
              "      <td>total_area</td>\n",
              "      <td>23699.0</td>\n",
              "      <td>6.034865e+01</td>\n",
              "      <td>3.565408e+01</td>\n",
              "      <td>12.0</td>\n",
              "      <td>40.00</td>\n",
              "      <td>52.00</td>\n",
              "      <td>69.9</td>\n",
              "      <td>900.0</td>\n",
              "    </tr>\n",
              "    <tr>\n",
              "      <td>rooms</td>\n",
              "      <td>23699.0</td>\n",
              "      <td>2.070636e+00</td>\n",
              "      <td>1.078405e+00</td>\n",
              "      <td>0.0</td>\n",
              "      <td>1.00</td>\n",
              "      <td>2.00</td>\n",
              "      <td>3.0</td>\n",
              "      <td>19.0</td>\n",
              "    </tr>\n",
              "    <tr>\n",
              "      <td>ceiling_height</td>\n",
              "      <td>14504.0</td>\n",
              "      <td>2.771499e+00</td>\n",
              "      <td>1.261056e+00</td>\n",
              "      <td>1.0</td>\n",
              "      <td>2.52</td>\n",
              "      <td>2.65</td>\n",
              "      <td>2.8</td>\n",
              "      <td>100.0</td>\n",
              "    </tr>\n",
              "    <tr>\n",
              "      <td>floors_total</td>\n",
              "      <td>23613.0</td>\n",
              "      <td>1.067382e+01</td>\n",
              "      <td>6.597173e+00</td>\n",
              "      <td>1.0</td>\n",
              "      <td>5.00</td>\n",
              "      <td>9.00</td>\n",
              "      <td>16.0</td>\n",
              "      <td>60.0</td>\n",
              "    </tr>\n",
              "    <tr>\n",
              "      <td>living_area</td>\n",
              "      <td>21796.0</td>\n",
              "      <td>3.445785e+01</td>\n",
              "      <td>2.203045e+01</td>\n",
              "      <td>2.0</td>\n",
              "      <td>18.60</td>\n",
              "      <td>30.00</td>\n",
              "      <td>42.3</td>\n",
              "      <td>409.7</td>\n",
              "    </tr>\n",
              "    <tr>\n",
              "      <td>floor</td>\n",
              "      <td>23699.0</td>\n",
              "      <td>5.892358e+00</td>\n",
              "      <td>4.885249e+00</td>\n",
              "      <td>1.0</td>\n",
              "      <td>2.00</td>\n",
              "      <td>4.00</td>\n",
              "      <td>8.0</td>\n",
              "      <td>33.0</td>\n",
              "    </tr>\n",
              "    <tr>\n",
              "      <td>kitchen_area</td>\n",
              "      <td>21421.0</td>\n",
              "      <td>1.056981e+01</td>\n",
              "      <td>5.905438e+00</td>\n",
              "      <td>1.3</td>\n",
              "      <td>7.00</td>\n",
              "      <td>9.10</td>\n",
              "      <td>12.0</td>\n",
              "      <td>112.0</td>\n",
              "    </tr>\n",
              "    <tr>\n",
              "      <td>balcony</td>\n",
              "      <td>12180.0</td>\n",
              "      <td>1.150082e+00</td>\n",
              "      <td>1.071300e+00</td>\n",
              "      <td>0.0</td>\n",
              "      <td>0.00</td>\n",
              "      <td>1.00</td>\n",
              "      <td>2.0</td>\n",
              "      <td>5.0</td>\n",
              "    </tr>\n",
              "    <tr>\n",
              "      <td>airports_nearest</td>\n",
              "      <td>18157.0</td>\n",
              "      <td>2.879367e+04</td>\n",
              "      <td>1.263088e+04</td>\n",
              "      <td>0.0</td>\n",
              "      <td>18585.00</td>\n",
              "      <td>26726.00</td>\n",
              "      <td>37273.0</td>\n",
              "      <td>84869.0</td>\n",
              "    </tr>\n",
              "    <tr>\n",
              "      <td>cityCenters_nearest</td>\n",
              "      <td>18180.0</td>\n",
              "      <td>1.419128e+04</td>\n",
              "      <td>8.608386e+03</td>\n",
              "      <td>181.0</td>\n",
              "      <td>9238.00</td>\n",
              "      <td>13098.50</td>\n",
              "      <td>16293.0</td>\n",
              "      <td>65968.0</td>\n",
              "    </tr>\n",
              "    <tr>\n",
              "      <td>parks_around3000</td>\n",
              "      <td>18181.0</td>\n",
              "      <td>6.114075e-01</td>\n",
              "      <td>8.020736e-01</td>\n",
              "      <td>0.0</td>\n",
              "      <td>0.00</td>\n",
              "      <td>0.00</td>\n",
              "      <td>1.0</td>\n",
              "      <td>3.0</td>\n",
              "    </tr>\n",
              "    <tr>\n",
              "      <td>parks_nearest</td>\n",
              "      <td>8079.0</td>\n",
              "      <td>4.908046e+02</td>\n",
              "      <td>3.423180e+02</td>\n",
              "      <td>1.0</td>\n",
              "      <td>288.00</td>\n",
              "      <td>455.00</td>\n",
              "      <td>612.0</td>\n",
              "      <td>3190.0</td>\n",
              "    </tr>\n",
              "    <tr>\n",
              "      <td>ponds_around3000</td>\n",
              "      <td>18181.0</td>\n",
              "      <td>7.702547e-01</td>\n",
              "      <td>9.383456e-01</td>\n",
              "      <td>0.0</td>\n",
              "      <td>0.00</td>\n",
              "      <td>1.00</td>\n",
              "      <td>1.0</td>\n",
              "      <td>3.0</td>\n",
              "    </tr>\n",
              "    <tr>\n",
              "      <td>ponds_nearest</td>\n",
              "      <td>9110.0</td>\n",
              "      <td>5.179809e+02</td>\n",
              "      <td>2.777206e+02</td>\n",
              "      <td>13.0</td>\n",
              "      <td>294.00</td>\n",
              "      <td>502.00</td>\n",
              "      <td>729.0</td>\n",
              "      <td>1344.0</td>\n",
              "    </tr>\n",
              "    <tr>\n",
              "      <td>days_exposition</td>\n",
              "      <td>20518.0</td>\n",
              "      <td>1.808886e+02</td>\n",
              "      <td>2.197280e+02</td>\n",
              "      <td>1.0</td>\n",
              "      <td>45.00</td>\n",
              "      <td>95.00</td>\n",
              "      <td>232.0</td>\n",
              "      <td>1580.0</td>\n",
              "    </tr>\n",
              "  </tbody>\n",
              "</table>\n",
              "</div>"
            ],
            "text/plain": [
              "                       count          mean           std      min         25%  \\\n",
              "total_images         23699.0  9.858475e+00  5.682529e+00      0.0        6.00   \n",
              "last_price           23699.0  6.541549e+06  1.088701e+07  12190.0  3400000.00   \n",
              "total_area           23699.0  6.034865e+01  3.565408e+01     12.0       40.00   \n",
              "rooms                23699.0  2.070636e+00  1.078405e+00      0.0        1.00   \n",
              "ceiling_height       14504.0  2.771499e+00  1.261056e+00      1.0        2.52   \n",
              "floors_total         23613.0  1.067382e+01  6.597173e+00      1.0        5.00   \n",
              "living_area          21796.0  3.445785e+01  2.203045e+01      2.0       18.60   \n",
              "floor                23699.0  5.892358e+00  4.885249e+00      1.0        2.00   \n",
              "kitchen_area         21421.0  1.056981e+01  5.905438e+00      1.3        7.00   \n",
              "balcony              12180.0  1.150082e+00  1.071300e+00      0.0        0.00   \n",
              "airports_nearest     18157.0  2.879367e+04  1.263088e+04      0.0    18585.00   \n",
              "cityCenters_nearest  18180.0  1.419128e+04  8.608386e+03    181.0     9238.00   \n",
              "parks_around3000     18181.0  6.114075e-01  8.020736e-01      0.0        0.00   \n",
              "parks_nearest         8079.0  4.908046e+02  3.423180e+02      1.0      288.00   \n",
              "ponds_around3000     18181.0  7.702547e-01  9.383456e-01      0.0        0.00   \n",
              "ponds_nearest         9110.0  5.179809e+02  2.777206e+02     13.0      294.00   \n",
              "days_exposition      20518.0  1.808886e+02  2.197280e+02      1.0       45.00   \n",
              "\n",
              "                            50%        75%          max  \n",
              "total_images               9.00       14.0         50.0  \n",
              "last_price           4650000.00  6800000.0  763000000.0  \n",
              "total_area                52.00       69.9        900.0  \n",
              "rooms                      2.00        3.0         19.0  \n",
              "ceiling_height             2.65        2.8        100.0  \n",
              "floors_total               9.00       16.0         60.0  \n",
              "living_area               30.00       42.3        409.7  \n",
              "floor                      4.00        8.0         33.0  \n",
              "kitchen_area               9.10       12.0        112.0  \n",
              "balcony                    1.00        2.0          5.0  \n",
              "airports_nearest       26726.00    37273.0      84869.0  \n",
              "cityCenters_nearest    13098.50    16293.0      65968.0  \n",
              "parks_around3000           0.00        1.0          3.0  \n",
              "parks_nearest            455.00      612.0       3190.0  \n",
              "ponds_around3000           1.00        1.0          3.0  \n",
              "ponds_nearest            502.00      729.0       1344.0  \n",
              "days_exposition           95.00      232.0       1580.0  "
            ]
          },
          "metadata": {
            "tags": []
          },
          "execution_count": 5
        }
      ]
    },
    {
      "cell_type": "code",
      "metadata": {
        "id": "8HB0fFupwS4s",
        "outputId": "157d9eb8-16c4-43cf-af91-5e7af612a310"
      },
      "source": [
        "#Проверим данные на дубликаты\n",
        "\n",
        "df.duplicated().sum()"
      ],
      "execution_count": null,
      "outputs": [
        {
          "output_type": "execute_result",
          "data": {
            "text/plain": [
              "0"
            ]
          },
          "metadata": {
            "tags": []
          },
          "execution_count": 6
        }
      ]
    },
    {
      "cell_type": "markdown",
      "metadata": {
        "id": "SZL7z5KbwS4t"
      },
      "source": [
        "### Вывод"
      ]
    },
    {
      "cell_type": "markdown",
      "metadata": {
        "id": "1hGzD1afwS4u"
      },
      "source": [
        "В датасете представлены данные о 23699 квартирах по 22 параметрам. В некоторых столбцах пропущено большое количество значений (до 88,3%) как предоставленных пользователями, так и сгенерированых автоматически. Полных дубликатов нет.\n",
        "Сразу можно отметить некоторые аномалии в данных:\n",
        "* Квартиры с нулевым количеством комнат\n",
        "* Высота потолков 1м и 100м\n",
        "* Жилая площадь 2м.кв.\n",
        "* Площадь кухни 112м.кв.\n",
        "* Расстояние до аэропорта 0м\n"
      ]
    },
    {
      "cell_type": "markdown",
      "metadata": {
        "id": "7O_v8RGCwS4v"
      },
      "source": [
        ""
      ]
    },
    {
      "cell_type": "markdown",
      "metadata": {
        "id": "hCJjC0kpwS4w"
      },
      "source": [
        "### Предобработка данных"
      ]
    },
    {
      "cell_type": "markdown",
      "metadata": {
        "id": "sLqfDOtEwS4w"
      },
      "source": [
        "Рассмотрим по каким причинам могли появиться пропущенные значения.\n",
        "Логично предположить, что NaN в столбце \"balcony\" означает отсутствие балкона в квартире, поэтому мы можем здесь заменить пропущенные значения на ноль."
      ]
    },
    {
      "cell_type": "code",
      "metadata": {
        "id": "50MLm0_6wS4z"
      },
      "source": [
        "df['balcony'] = df['balcony'].fillna(0)"
      ],
      "execution_count": null,
      "outputs": []
    },
    {
      "cell_type": "markdown",
      "metadata": {
        "id": "vZF4KgrtwS40"
      },
      "source": [
        "Пропущенные значения в колонке 'is_apartment' так же скорее всего связаны с тем, что люди не отмечали этот пункт в анкете, предполагая, что для жилых помещений (квартир) это значение не нужно. \n",
        "Заменим NaN на False, что одновременно изменит тип данных на bool."
      ]
    },
    {
      "cell_type": "code",
      "metadata": {
        "id": "fP4dzosEwS40",
        "outputId": "696f9206-ced3-4b41-8c40-a89ad9249be1"
      },
      "source": [
        "df['is_apartment'] = df['is_apartment'].fillna(False)\n",
        "df['is_apartment'].dtype"
      ],
      "execution_count": null,
      "outputs": [
        {
          "output_type": "execute_result",
          "data": {
            "text/plain": [
              "dtype('bool')"
            ]
          },
          "metadata": {
            "tags": []
          },
          "execution_count": 8
        }
      ]
    },
    {
      "cell_type": "markdown",
      "metadata": {
        "id": "mRsZSoC3wS41"
      },
      "source": [
        "Рассмотрим столбец 'ceiling_height', в котором пропущено почти 40%. "
      ]
    },
    {
      "cell_type": "code",
      "metadata": {
        "id": "_McGCmP7wS42",
        "outputId": "06e92609-d61c-4caf-a75a-7820c8de94bc"
      },
      "source": [
        "_, axs = plt.subplots(1, 2, figsize = (10,4))\n",
        "\n",
        "\n",
        "axs[0].set(xlim=(-10, 110), xlabel = 'Высота потолков, м')\n",
        "axs[0].hist(df['ceiling_height'], bins = 100)\n",
        "axs[1].set(xlim=(1, 5), xlabel = 'Высота потолков, м')\n",
        "axs[1].hist(df['ceiling_height'], bins = 700)\n",
        "#plt.tight_layout()\n",
        "plt.suptitle('Высота потолков')\n",
        "plt.show()"
      ],
      "execution_count": null,
      "outputs": [
        {
          "output_type": "display_data",
          "data": {
            "image/png": "[encoded data removed]",
            "text/plain": [
              "<Figure size 720x288 with 2 Axes>"
            ]
          },
          "metadata": {
            "tags": [],
            "needs_background": "light"
          }
        }
      ]
    },
    {
      "cell_type": "markdown",
      "metadata": {
        "id": "2nwPo94CwS47"
      },
      "source": [
        "Основная часть значений лежит в диапазоне 2,2 - 3,2 м, но есть и достаточно большие выбросы в районе 20м, и даже одна квартира с высотой потолков 100м (явная ошибка). Мы можем заменить NaN в этом столбце на медианное значение, которое не зависит от статистических выбросов, но стоит сохранить в отдельной колонке информацию о том, было ли это значение изменено нами или высота потолков в квартире изначально равнялась медианному значению. "
      ]
    },
    {
      "cell_type": "code",
      "metadata": {
        "id": "WELtPTwlwS49"
      },
      "source": [
        "ceiling_median = df['ceiling_height'].median()"
      ],
      "execution_count": null,
      "outputs": []
    },
    {
      "cell_type": "code",
      "metadata": {
        "id": "K27HLqkvwS4-",
        "outputId": "6090b065-fef9-4476-c036-92e58e4eed23"
      },
      "source": [
        "print('Количество квартир с высотой потолков, равной медианной :',df[df['ceiling_height'] == ceiling_median]['ceiling_height'].count())"
      ],
      "execution_count": null,
      "outputs": [
        {
          "output_type": "stream",
          "text": [
            "Количество квартир с высотой потолков, равной медианной : 676\n"
          ],
          "name": "stdout"
        }
      ]
    },
    {
      "cell_type": "code",
      "metadata": {
        "id": "fK0IXhcpwS5C",
        "outputId": "862fe892-4ed4-4c70-c18d-8539146dfe41"
      },
      "source": [
        "df['ceiling_to_median'] = df['ceiling_height'].isna()\n",
        "print('Количество квартир с измененной высотой потолков :',df['ceiling_to_median'].sum())"
      ],
      "execution_count": null,
      "outputs": [
        {
          "output_type": "stream",
          "text": [
            "Количество квартир с измененной высотой потолков : 9195\n"
          ],
          "name": "stdout"
        }
      ]
    },
    {
      "cell_type": "code",
      "metadata": {
        "id": "5aIT3Lq8wS5D"
      },
      "source": [
        "df['ceiling_height'] = df['ceiling_height'].fillna(ceiling_median)"
      ],
      "execution_count": null,
      "outputs": []
    },
    {
      "cell_type": "markdown",
      "metadata": {
        "id": "TVjJ5OsWwS5E"
      },
      "source": [
        "Изучим столбцы 'living_area' и 'kitchen_area'. В них пропущено соответственно 8% и 9,6% значений. "
      ]
    },
    {
      "cell_type": "code",
      "metadata": {
        "id": "rjRbk7QswS5F",
        "outputId": "6bc40c05-739e-40a0-c1e0-3c6b9c1375a1"
      },
      "source": [
        "_, axs = plt.subplots(1, 4, figsize = (18,4))\n",
        "\n",
        "axs[0].set(xlabel = 'Жилая лощадь, м.кв.')\n",
        "axs[0].hist(df['living_area'], bins = 100)\n",
        "axs[1].set(xlim=(-10, 110), xlabel  = 'Жилая лощадь, м.кв.')\n",
        "axs[1].hist(df['living_area'], bins = 100)\n",
        "axs[2].set(xlim=(-10, 110) , xlabel  = 'Площадь кухни, м.кв.')\n",
        "axs[2].hist(df['kitchen_area'], bins = 100)\n",
        "axs[3].set(xlim=(0, 30), xlabel  = 'Площадь кухни, м.кв.')\n",
        "axs[3].hist(df['kitchen_area'], bins = 100)\n",
        "plt.tight_layout()\n",
        "plt.show()"
      ],
      "execution_count": null,
      "outputs": [
        {
          "output_type": "display_data",
          "data": {
            "image/png": "[encoded data removed]",
            "text/plain": [
              "<Figure size 1296x288 with 4 Axes>"
            ]
          },
          "metadata": {
            "tags": [],
            "needs_background": "light"
          }
        }
      ]
    },
    {
      "cell_type": "code",
      "metadata": {
        "scrolled": true,
        "id": "ueWOEmaFwS5G",
        "outputId": "2ccc0e52-34c6-4899-bcf8-04a9b57b1b1d"
      },
      "source": [
        "print('Количество пропущенных значений \"kitchen_area\" :', df['kitchen_area'].isnull().sum())\n",
        "print('Количество пропущенных значений одновременно в \"kitchen_area\" и \"living_area\" :', df['living_area'][df['kitchen_area'].isnull()].isnull().sum())"
      ],
      "execution_count": null,
      "outputs": [
        {
          "output_type": "stream",
          "text": [
            "Количество пропущенных значений \"kitchen_area\" : 2278\n",
            "Количество пропущенных значений одновременно в \"kitchen_area\" и \"living_area\" : 1464\n"
          ],
          "name": "stdout"
        }
      ]
    },
    {
      "cell_type": "markdown",
      "metadata": {
        "id": "ekuCl1o7wS5G"
      },
      "source": [
        "Видим, что в обоих столбцах распределение далеко от нормального, имеются несколько мод на гистограмме и большие выбросы.\n",
        "Это не позволяет нам заменить NaN на характерные значения в этих столбцах. При этом в 1464 строках из 2278 пропуски содержатся в обоих столбцах. Для дальнейшего анализа мы можем найти медианные значения соотношения kitchen_area к total_area и  и заменить пропущенные значения на рассчитанные из известной total_area. \n",
        "Пропуски в этих строках появились скорее всего из-за неполного заполнения данных клиентами."
      ]
    },
    {
      "cell_type": "code",
      "metadata": {
        "id": "Idm-aF6NwS5I",
        "outputId": "f86add19-2053-4024-e39d-f7cfe33d175c"
      },
      "source": [
        "kitchen_ratio_median = (df[\"kitchen_area\"]/df[\"total_area\"]).median()\n",
        "living_ratio_median = (df[\"living_area\"]/df[\"total_area\"]).median()\n",
        "print('Медиана kitchen_area/total_area = {:.2f}'.format(kitchen_ratio_median))\n",
        "print('Медиана living_area/total_area = {:.2f}'.format(living_ratio_median))"
      ],
      "execution_count": null,
      "outputs": [
        {
          "output_type": "stream",
          "text": [
            "Медиана kitchen_area/total_area = 0.17\n",
            "Медиана living_area/total_area = 0.57\n"
          ],
          "name": "stdout"
        }
      ]
    },
    {
      "cell_type": "code",
      "metadata": {
        "id": "e_fcPIDJwS5K"
      },
      "source": [
        "# Заменяем NaN на расчетные значения. Для дальнейшего анализа создадим столбец с информацией где 'kitchen_area' рассчитана\n",
        "df['kitchen_to_median'] = df['kitchen_area'].isna()\n",
        "df['kitchen_area'] = df['kitchen_area'].fillna(df[\"total_area\"]*kitchen_ratio_median)\n",
        "df['living_area'] = df['living_area'].fillna(df[\"total_area\"]*living_ratio_median)"
      ],
      "execution_count": null,
      "outputs": []
    },
    {
      "cell_type": "markdown",
      "metadata": {
        "id": "43DlnjluwS5L"
      },
      "source": [
        "Рассмотрим столбцы со сгенерированными данными: \n",
        "\n",
        "    - airports_nearest        23.4%\n",
        "    - cityCenters_nearest     23.3%\n",
        "    - parks_around3000        23.3%\n",
        "    - parks_nearest           65.9%\n",
        "    - ponds_around3000        23.3%\n",
        "    - ponds_nearest           61.6%\n",
        "\n",
        "Пропущенные значения вероятно обусловлены особенностью работы алгоритма, расчитывающего эти значения. \n",
        "Возможно, для получения этих данных требовались координаты объекта, но они были пропущены или потеряны.\n",
        "Проверим взаимосвязь этих данных на примере столбцов \"cityCenters_nearest\", \"ponds_around3000\" и \"parks_around3000\"."
      ]
    },
    {
      "cell_type": "code",
      "metadata": {
        "id": "qNi4T8-hwS5M",
        "outputId": "1f652224-66a5-435a-8c64-7a0f0b3b47b1"
      },
      "source": [
        "print('Количество пропущенных значений \"ponds_around3000\" :', df['ponds_around3000'].isnull().sum())\n",
        "print('Количество пропущенных значений одновременно в \"cityCenters_nearest\" и \"ponds_around3000\" :', df['cityCenters_nearest'][df['ponds_around3000'].isnull()].isnull().sum())\n",
        "print('Количество пропущенных значений одновременно в \"parks_around3000\" и \"ponds_nearest\" :', df['parks_around3000'][df['ponds_nearest'].isnull()].isnull().sum())"
      ],
      "execution_count": null,
      "outputs": [
        {
          "output_type": "stream",
          "text": [
            "Количество пропущенных значений \"ponds_around3000\" : 5518\n",
            "Количество пропущенных значений одновременно в \"cityCenters_nearest\" и \"ponds_around3000\" : 5518\n",
            "Количество пропущенных значений одновременно в \"parks_around3000\" и \"ponds_nearest\" : 5518\n"
          ],
          "name": "stdout"
        }
      ]
    },
    {
      "cell_type": "markdown",
      "metadata": {
        "id": "Llg7lg6FwS5N"
      },
      "source": [
        "Как мы видим, пропуски в разных столбцах встречаются одновременно.\n",
        "При этом в столбцах \"parks_nearest\" и \"ponds_nearest\" значительно больше пропусков. Вероятно, это связано с тем, что помимо пропущенных значений координат есть некоторые предельные значения расстояний до парка или водоема, выше которых считается, что значения не имеют смысла."
      ]
    },
    {
      "cell_type": "code",
      "metadata": {
        "id": "zzbV0Lc6wS5R",
        "outputId": "d7cbe076-dc65-4b4e-d455-f7ded1cf3495"
      },
      "source": [
        "print('Максимальное значение \"parks_nearest\" :', df['parks_nearest'].max())\n",
        "print('Максимальное значение \"ponds_nearest\" :', df['ponds_nearest'].max())"
      ],
      "execution_count": null,
      "outputs": [
        {
          "output_type": "stream",
          "text": [
            "Максимальное значение \"parks_nearest\" : 3190.0\n",
            "Максимальное значение \"ponds_nearest\" : 1344.0\n"
          ],
          "name": "stdout"
        }
      ]
    },
    {
      "cell_type": "markdown",
      "metadata": {
        "id": "J4aFnjH0wS5S"
      },
      "source": [
        "В таком случае, можно заменить NaN, встречающиеся только в столбцах \"parks_nearest\" и \"ponds_nearest\" на условные значения, превышающие максимальные."
      ]
    },
    {
      "cell_type": "code",
      "metadata": {
        "id": "Mileiog2wS5S"
      },
      "source": [
        "df.loc[((~df['ponds_around3000'].isnull()) & (df['parks_nearest'].isnull())),['parks_nearest']] = 5000\n",
        "df.loc[((~df['ponds_around3000'].isnull()) & (df['ponds_nearest'].isnull())),['ponds_nearest']] = 2000"
      ],
      "execution_count": null,
      "outputs": []
    },
    {
      "cell_type": "markdown",
      "metadata": {
        "id": "5pHTrzEFwS5T"
      },
      "source": [
        "В столбце \"days_exposition\" пропущенные значения могут означать, что на момент выгрузки базы, объявление было еще актуально, т.е. квартиру еще не продали. \n",
        "Тогда мы можем найти объявление, опубликованное последним и принять эту дату за примерную дату выгрузки базы и из нее расчитать количество дней публикации объявлений. Для этого сначала значения столбца с датой размещения объявления преобразуем к типу DateTime."
      ]
    },
    {
      "cell_type": "code",
      "metadata": {
        "id": "yJmo_y9owS5U"
      },
      "source": [
        "df['first_day_exposition'] = pd.to_datetime(df['first_day_exposition'], format = '%Y-%m-%dT%H:%M:%S')"
      ],
      "execution_count": null,
      "outputs": []
    },
    {
      "cell_type": "code",
      "metadata": {
        "id": "6w16Ec6lwS5V",
        "outputId": "33be3708-fcd4-4db1-8fb9-9fb8df9ef74b"
      },
      "source": [
        "recent_ad = df['first_day_exposition'].max()\n",
        "print('Последняя дата размещения объявления :', recent_ad)"
      ],
      "execution_count": null,
      "outputs": [
        {
          "output_type": "stream",
          "text": [
            "Последняя дата размещения объявления : 2019-05-03 00:00:00\n"
          ],
          "name": "stdout"
        }
      ]
    },
    {
      "cell_type": "code",
      "metadata": {
        "id": "qLO3pIrJwS5W",
        "outputId": "ed36a437-b2a2-45df-d12c-9c520aa30fb8"
      },
      "source": [
        "# Заменяем NaN на рассчитаные значения \n",
        "\n",
        "df['days_calculated'] = df['days_exposition'].isna()\n",
        "df.loc[df['days_exposition'].isnull(),'days_exposition'] = (recent_ad - df['first_day_exposition']).dt.days\n",
        "df.head(10)"
      ],
      "execution_count": null,
      "outputs": [
        {
          "output_type": "execute_result",
          "data": {
            "text/html": [
              "<div>\n",
              "<style scoped>\n",
              "    .dataframe tbody tr th:only-of-type {\n",
              "        vertical-align: middle;\n",
              "    }\n",
              "\n",
              "    .dataframe tbody tr th {\n",
              "        vertical-align: top;\n",
              "    }\n",
              "\n",
              "    .dataframe thead th {\n",
              "        text-align: right;\n",
              "    }\n",
              "</style>\n",
              "<table border=\"1\" class=\"dataframe\">\n",
              "  <thead>\n",
              "    <tr style=\"text-align: right;\">\n",
              "      <th></th>\n",
              "      <th>total_images</th>\n",
              "      <th>last_price</th>\n",
              "      <th>total_area</th>\n",
              "      <th>first_day_exposition</th>\n",
              "      <th>rooms</th>\n",
              "      <th>ceiling_height</th>\n",
              "      <th>floors_total</th>\n",
              "      <th>living_area</th>\n",
              "      <th>floor</th>\n",
              "      <th>is_apartment</th>\n",
              "      <th>...</th>\n",
              "      <th>airports_nearest</th>\n",
              "      <th>cityCenters_nearest</th>\n",
              "      <th>parks_around3000</th>\n",
              "      <th>parks_nearest</th>\n",
              "      <th>ponds_around3000</th>\n",
              "      <th>ponds_nearest</th>\n",
              "      <th>days_exposition</th>\n",
              "      <th>ceiling_to_median</th>\n",
              "      <th>kitchen_to_median</th>\n",
              "      <th>days_calculated</th>\n",
              "    </tr>\n",
              "  </thead>\n",
              "  <tbody>\n",
              "    <tr>\n",
              "      <td>0</td>\n",
              "      <td>20</td>\n",
              "      <td>13000000.0</td>\n",
              "      <td>108.00</td>\n",
              "      <td>2019-03-07</td>\n",
              "      <td>3</td>\n",
              "      <td>2.70</td>\n",
              "      <td>16.0</td>\n",
              "      <td>51.000000</td>\n",
              "      <td>8</td>\n",
              "      <td>False</td>\n",
              "      <td>...</td>\n",
              "      <td>18863.0</td>\n",
              "      <td>16028.0</td>\n",
              "      <td>1.0</td>\n",
              "      <td>482.0</td>\n",
              "      <td>2.0</td>\n",
              "      <td>755.0</td>\n",
              "      <td>57.0</td>\n",
              "      <td>False</td>\n",
              "      <td>False</td>\n",
              "      <td>True</td>\n",
              "    </tr>\n",
              "    <tr>\n",
              "      <td>1</td>\n",
              "      <td>7</td>\n",
              "      <td>3350000.0</td>\n",
              "      <td>40.40</td>\n",
              "      <td>2018-12-04</td>\n",
              "      <td>1</td>\n",
              "      <td>2.65</td>\n",
              "      <td>11.0</td>\n",
              "      <td>18.600000</td>\n",
              "      <td>1</td>\n",
              "      <td>False</td>\n",
              "      <td>...</td>\n",
              "      <td>12817.0</td>\n",
              "      <td>18603.0</td>\n",
              "      <td>0.0</td>\n",
              "      <td>5000.0</td>\n",
              "      <td>0.0</td>\n",
              "      <td>2000.0</td>\n",
              "      <td>81.0</td>\n",
              "      <td>True</td>\n",
              "      <td>False</td>\n",
              "      <td>False</td>\n",
              "    </tr>\n",
              "    <tr>\n",
              "      <td>2</td>\n",
              "      <td>10</td>\n",
              "      <td>5196000.0</td>\n",
              "      <td>56.00</td>\n",
              "      <td>2015-08-20</td>\n",
              "      <td>2</td>\n",
              "      <td>2.65</td>\n",
              "      <td>5.0</td>\n",
              "      <td>34.300000</td>\n",
              "      <td>4</td>\n",
              "      <td>False</td>\n",
              "      <td>...</td>\n",
              "      <td>21741.0</td>\n",
              "      <td>13933.0</td>\n",
              "      <td>1.0</td>\n",
              "      <td>90.0</td>\n",
              "      <td>2.0</td>\n",
              "      <td>574.0</td>\n",
              "      <td>558.0</td>\n",
              "      <td>True</td>\n",
              "      <td>False</td>\n",
              "      <td>False</td>\n",
              "    </tr>\n",
              "    <tr>\n",
              "      <td>3</td>\n",
              "      <td>0</td>\n",
              "      <td>64900000.0</td>\n",
              "      <td>159.00</td>\n",
              "      <td>2015-07-24</td>\n",
              "      <td>3</td>\n",
              "      <td>2.65</td>\n",
              "      <td>14.0</td>\n",
              "      <td>90.289724</td>\n",
              "      <td>9</td>\n",
              "      <td>False</td>\n",
              "      <td>...</td>\n",
              "      <td>28098.0</td>\n",
              "      <td>6800.0</td>\n",
              "      <td>2.0</td>\n",
              "      <td>84.0</td>\n",
              "      <td>3.0</td>\n",
              "      <td>234.0</td>\n",
              "      <td>424.0</td>\n",
              "      <td>True</td>\n",
              "      <td>True</td>\n",
              "      <td>False</td>\n",
              "    </tr>\n",
              "    <tr>\n",
              "      <td>4</td>\n",
              "      <td>2</td>\n",
              "      <td>10000000.0</td>\n",
              "      <td>100.00</td>\n",
              "      <td>2018-06-19</td>\n",
              "      <td>2</td>\n",
              "      <td>3.03</td>\n",
              "      <td>14.0</td>\n",
              "      <td>32.000000</td>\n",
              "      <td>13</td>\n",
              "      <td>False</td>\n",
              "      <td>...</td>\n",
              "      <td>31856.0</td>\n",
              "      <td>8098.0</td>\n",
              "      <td>2.0</td>\n",
              "      <td>112.0</td>\n",
              "      <td>1.0</td>\n",
              "      <td>48.0</td>\n",
              "      <td>121.0</td>\n",
              "      <td>False</td>\n",
              "      <td>False</td>\n",
              "      <td>False</td>\n",
              "    </tr>\n",
              "    <tr>\n",
              "      <td>5</td>\n",
              "      <td>10</td>\n",
              "      <td>2890000.0</td>\n",
              "      <td>30.40</td>\n",
              "      <td>2018-09-10</td>\n",
              "      <td>1</td>\n",
              "      <td>2.65</td>\n",
              "      <td>12.0</td>\n",
              "      <td>14.400000</td>\n",
              "      <td>5</td>\n",
              "      <td>False</td>\n",
              "      <td>...</td>\n",
              "      <td>NaN</td>\n",
              "      <td>NaN</td>\n",
              "      <td>NaN</td>\n",
              "      <td>NaN</td>\n",
              "      <td>NaN</td>\n",
              "      <td>NaN</td>\n",
              "      <td>55.0</td>\n",
              "      <td>True</td>\n",
              "      <td>False</td>\n",
              "      <td>False</td>\n",
              "    </tr>\n",
              "    <tr>\n",
              "      <td>6</td>\n",
              "      <td>6</td>\n",
              "      <td>3700000.0</td>\n",
              "      <td>37.30</td>\n",
              "      <td>2017-11-02</td>\n",
              "      <td>1</td>\n",
              "      <td>2.65</td>\n",
              "      <td>26.0</td>\n",
              "      <td>10.600000</td>\n",
              "      <td>6</td>\n",
              "      <td>False</td>\n",
              "      <td>...</td>\n",
              "      <td>52996.0</td>\n",
              "      <td>19143.0</td>\n",
              "      <td>0.0</td>\n",
              "      <td>5000.0</td>\n",
              "      <td>0.0</td>\n",
              "      <td>2000.0</td>\n",
              "      <td>155.0</td>\n",
              "      <td>True</td>\n",
              "      <td>False</td>\n",
              "      <td>False</td>\n",
              "    </tr>\n",
              "    <tr>\n",
              "      <td>7</td>\n",
              "      <td>5</td>\n",
              "      <td>7915000.0</td>\n",
              "      <td>71.60</td>\n",
              "      <td>2019-04-18</td>\n",
              "      <td>2</td>\n",
              "      <td>2.65</td>\n",
              "      <td>24.0</td>\n",
              "      <td>40.658769</td>\n",
              "      <td>22</td>\n",
              "      <td>False</td>\n",
              "      <td>...</td>\n",
              "      <td>23982.0</td>\n",
              "      <td>11634.0</td>\n",
              "      <td>0.0</td>\n",
              "      <td>5000.0</td>\n",
              "      <td>0.0</td>\n",
              "      <td>2000.0</td>\n",
              "      <td>15.0</td>\n",
              "      <td>True</td>\n",
              "      <td>False</td>\n",
              "      <td>True</td>\n",
              "    </tr>\n",
              "    <tr>\n",
              "      <td>8</td>\n",
              "      <td>20</td>\n",
              "      <td>2900000.0</td>\n",
              "      <td>33.16</td>\n",
              "      <td>2018-05-23</td>\n",
              "      <td>1</td>\n",
              "      <td>2.65</td>\n",
              "      <td>27.0</td>\n",
              "      <td>15.430000</td>\n",
              "      <td>26</td>\n",
              "      <td>False</td>\n",
              "      <td>...</td>\n",
              "      <td>NaN</td>\n",
              "      <td>NaN</td>\n",
              "      <td>NaN</td>\n",
              "      <td>NaN</td>\n",
              "      <td>NaN</td>\n",
              "      <td>NaN</td>\n",
              "      <td>189.0</td>\n",
              "      <td>True</td>\n",
              "      <td>False</td>\n",
              "      <td>False</td>\n",
              "    </tr>\n",
              "    <tr>\n",
              "      <td>9</td>\n",
              "      <td>18</td>\n",
              "      <td>5400000.0</td>\n",
              "      <td>61.00</td>\n",
              "      <td>2017-02-26</td>\n",
              "      <td>3</td>\n",
              "      <td>2.50</td>\n",
              "      <td>9.0</td>\n",
              "      <td>43.600000</td>\n",
              "      <td>7</td>\n",
              "      <td>False</td>\n",
              "      <td>...</td>\n",
              "      <td>50898.0</td>\n",
              "      <td>15008.0</td>\n",
              "      <td>0.0</td>\n",
              "      <td>5000.0</td>\n",
              "      <td>0.0</td>\n",
              "      <td>2000.0</td>\n",
              "      <td>289.0</td>\n",
              "      <td>False</td>\n",
              "      <td>False</td>\n",
              "      <td>False</td>\n",
              "    </tr>\n",
              "  </tbody>\n",
              "</table>\n",
              "<p>10 rows × 25 columns</p>\n",
              "</div>"
            ],
            "text/plain": [
              "   total_images  last_price  total_area first_day_exposition  rooms  \\\n",
              "0            20  13000000.0      108.00           2019-03-07      3   \n",
              "1             7   3350000.0       40.40           2018-12-04      1   \n",
              "2            10   5196000.0       56.00           2015-08-20      2   \n",
              "3             0  64900000.0      159.00           2015-07-24      3   \n",
              "4             2  10000000.0      100.00           2018-06-19      2   \n",
              "5            10   2890000.0       30.40           2018-09-10      1   \n",
              "6             6   3700000.0       37.30           2017-11-02      1   \n",
              "7             5   7915000.0       71.60           2019-04-18      2   \n",
              "8            20   2900000.0       33.16           2018-05-23      1   \n",
              "9            18   5400000.0       61.00           2017-02-26      3   \n",
              "\n",
              "   ceiling_height  floors_total  living_area  floor  is_apartment  ...  \\\n",
              "0            2.70          16.0    51.000000      8         False  ...   \n",
              "1            2.65          11.0    18.600000      1         False  ...   \n",
              "2            2.65           5.0    34.300000      4         False  ...   \n",
              "3            2.65          14.0    90.289724      9         False  ...   \n",
              "4            3.03          14.0    32.000000     13         False  ...   \n",
              "5            2.65          12.0    14.400000      5         False  ...   \n",
              "6            2.65          26.0    10.600000      6         False  ...   \n",
              "7            2.65          24.0    40.658769     22         False  ...   \n",
              "8            2.65          27.0    15.430000     26         False  ...   \n",
              "9            2.50           9.0    43.600000      7         False  ...   \n",
              "\n",
              "   airports_nearest  cityCenters_nearest  parks_around3000  parks_nearest  \\\n",
              "0           18863.0              16028.0               1.0          482.0   \n",
              "1           12817.0              18603.0               0.0         5000.0   \n",
              "2           21741.0              13933.0               1.0           90.0   \n",
              "3           28098.0               6800.0               2.0           84.0   \n",
              "4           31856.0               8098.0               2.0          112.0   \n",
              "5               NaN                  NaN               NaN            NaN   \n",
              "6           52996.0              19143.0               0.0         5000.0   \n",
              "7           23982.0              11634.0               0.0         5000.0   \n",
              "8               NaN                  NaN               NaN            NaN   \n",
              "9           50898.0              15008.0               0.0         5000.0   \n",
              "\n",
              "  ponds_around3000  ponds_nearest  days_exposition  ceiling_to_median  \\\n",
              "0              2.0          755.0             57.0              False   \n",
              "1              0.0         2000.0             81.0               True   \n",
              "2              2.0          574.0            558.0               True   \n",
              "3              3.0          234.0            424.0               True   \n",
              "4              1.0           48.0            121.0              False   \n",
              "5              NaN            NaN             55.0               True   \n",
              "6              0.0         2000.0            155.0               True   \n",
              "7              0.0         2000.0             15.0               True   \n",
              "8              NaN            NaN            189.0               True   \n",
              "9              0.0         2000.0            289.0              False   \n",
              "\n",
              "   kitchen_to_median  days_calculated  \n",
              "0              False             True  \n",
              "1              False            False  \n",
              "2              False            False  \n",
              "3               True            False  \n",
              "4              False            False  \n",
              "5              False            False  \n",
              "6              False            False  \n",
              "7              False             True  \n",
              "8              False            False  \n",
              "9              False            False  \n",
              "\n",
              "[10 rows x 25 columns]"
            ]
          },
          "metadata": {
            "tags": []
          },
          "execution_count": 23
        }
      ]
    },
    {
      "cell_type": "markdown",
      "metadata": {
        "id": "nv0fzuWNwS5X"
      },
      "source": [
        "Строки с пропущенными значениями в столбцах \"floors_total\", \"locality_name\" можем удалить, потмоу что их меньше 1%"
      ]
    },
    {
      "cell_type": "code",
      "metadata": {
        "id": "r12TbisrwS5X",
        "outputId": "e42daa2c-3590-495f-b0af-dc20aa6c8685"
      },
      "source": [
        "df = df.dropna(subset = [\"floors_total\", \"locality_name\"], axis = 0).reset_index(drop = True)\n",
        "df.info()"
      ],
      "execution_count": null,
      "outputs": [
        {
          "output_type": "stream",
          "text": [
            "<class 'pandas.core.frame.DataFrame'>\n",
            "RangeIndex: 23565 entries, 0 to 23564\n",
            "Data columns (total 25 columns):\n",
            "total_images            23565 non-null int64\n",
            "last_price              23565 non-null float64\n",
            "total_area              23565 non-null float64\n",
            "first_day_exposition    23565 non-null datetime64[ns]\n",
            "rooms                   23565 non-null int64\n",
            "ceiling_height          23565 non-null float64\n",
            "floors_total            23565 non-null float64\n",
            "living_area             23565 non-null float64\n",
            "floor                   23565 non-null int64\n",
            "is_apartment            23565 non-null bool\n",
            "studio                  23565 non-null bool\n",
            "open_plan               23565 non-null bool\n",
            "kitchen_area            23565 non-null float64\n",
            "balcony                 23565 non-null float64\n",
            "locality_name           23565 non-null object\n",
            "airports_nearest        18041 non-null float64\n",
            "cityCenters_nearest     18064 non-null float64\n",
            "parks_around3000        18065 non-null float64\n",
            "parks_nearest           18065 non-null float64\n",
            "ponds_around3000        18065 non-null float64\n",
            "ponds_nearest           18065 non-null float64\n",
            "days_exposition         23565 non-null float64\n",
            "ceiling_to_median       23565 non-null bool\n",
            "kitchen_to_median       23565 non-null bool\n",
            "days_calculated         23565 non-null bool\n",
            "dtypes: bool(6), datetime64[ns](1), float64(14), int64(3), object(1)\n",
            "memory usage: 3.6+ MB\n"
          ],
          "name": "stdout"
        }
      ]
    },
    {
      "cell_type": "markdown",
      "metadata": {
        "id": "kQVlSYE2wS5a"
      },
      "source": [
        "Изучим возможность оптимизации пипов данных\n"
      ]
    },
    {
      "cell_type": "code",
      "metadata": {
        "id": "A3IqAEpAwS5a",
        "outputId": "91587ac0-d23e-494a-fe4a-1d7be81a7cff"
      },
      "source": [
        "for dtype in ['float','int','object']:\n",
        "    selected_dtype = df.select_dtypes(include=[dtype])\n",
        "    mean_usage_b = selected_dtype.memory_usage(deep=True).mean()\n",
        "    mean_usage_mb = mean_usage_b / 1024 ** 2\n",
        "    print(\"Средний объем использованной памяти для {} столбцов: {:03.2f} MB\".format(dtype,mean_usage_mb))"
      ],
      "execution_count": null,
      "outputs": [
        {
          "output_type": "stream",
          "text": [
            "Средний объем использованной памяти для float столбцов: 0.17 MB\n",
            "Средний объем использованной памяти для int столбцов: 0.13 MB\n",
            "Средний объем использованной памяти для object столбцов: 1.24 MB\n"
          ],
          "name": "stdout"
        }
      ]
    },
    {
      "cell_type": "markdown",
      "metadata": {
        "id": "CBHNWj6PwS5c"
      },
      "source": [
        "Приведем данные в следующих столбцах\n",
        "\n",
        "     - floors_total            float64\n",
        "     - balcony                 float64\n",
        "     - airports_nearest        float64\n",
        "     - cityCenters_nearest     float64\n",
        "     - parks_around3000        float64\n",
        "     - parks_nearest           float64\n",
        "     - ponds_around3000        float64\n",
        "     - ponds_nearest           float64\n",
        "     - days_exposition         float64\n",
        "\n",
        "к типу данных int, т.к. в них должны содержаться целочисленные значения\n"
      ]
    },
    {
      "cell_type": "code",
      "metadata": {
        "scrolled": true,
        "id": "UOJ-3fldwS5d",
        "outputId": "d93ddb54-4569-404c-cddc-5785defd38e7"
      },
      "source": [
        "columns_list = ['first_day_exposition', 'floors_total', 'balcony', 'airports_nearest', 'cityCenters_nearest', 'parks_around3000', 'parks_nearest', 'ponds_around3000', 'ponds_nearest', 'days_exposition']\n",
        "for column in columns_list:\n",
        "    if df[column].dtype == 'float64':\n",
        "        try:\n",
        "            df[column] = df[column].fillna(-1) \n",
        "            df[column] = df[column].astype('int64')\n",
        "        except:\n",
        "            print('Ошибка формата1')\n",
        "    elif df[column].dtype == 'object':\n",
        "        try:\n",
        "            df[column] = pd.to_datetime(df[column], format = '%Y-%m-%dT%H:%M:%S')\n",
        "        except:\n",
        "            print('Ошибка формата2')\n",
        "    else: pass\n",
        "df[columns_list].info()"
      ],
      "execution_count": null,
      "outputs": [
        {
          "output_type": "stream",
          "text": [
            "<class 'pandas.core.frame.DataFrame'>\n",
            "RangeIndex: 23565 entries, 0 to 23564\n",
            "Data columns (total 10 columns):\n",
            "first_day_exposition    23565 non-null datetime64[ns]\n",
            "floors_total            23565 non-null int64\n",
            "balcony                 23565 non-null int64\n",
            "airports_nearest        23565 non-null int64\n",
            "cityCenters_nearest     23565 non-null int64\n",
            "parks_around3000        23565 non-null int64\n",
            "parks_nearest           23565 non-null int64\n",
            "ponds_around3000        23565 non-null int64\n",
            "ponds_nearest           23565 non-null int64\n",
            "days_exposition         23565 non-null int64\n",
            "dtypes: datetime64[ns](1), int64(9)\n",
            "memory usage: 1.8 MB\n"
          ],
          "name": "stdout"
        }
      ]
    },
    {
      "cell_type": "markdown",
      "metadata": {
        "id": "jIPaBzUHwS5d"
      },
      "source": [
        "<div class=\"alert alert-block alert-info\">\n",
        "Оптимизируем ипользование памяти путем изменения подтипа целочисленных данных\n",
        "</div>"
      ]
    },
    {
      "cell_type": "code",
      "metadata": {
        "id": "c55dDvS3wS5e",
        "outputId": "834ced7a-8c17-4946-be45-40984f1738bf"
      },
      "source": [
        "#Функция расчета используемой памяти\n",
        "\n",
        "def mem_usage(data):\n",
        "    usage_b = data.memory_usage(deep=True).sum()\n",
        "    usage_mb = usage_b / 1024 ** 2 \n",
        "    return usage_mb.round(2)\n",
        "\n",
        "\n",
        "df_int = df.select_dtypes(include=['int'])\n",
        "converted_int = df_int.apply(pd.to_numeric,downcast='unsigned')\n",
        "\n",
        "df_float = df.select_dtypes(include=['float'])\n",
        "converted_float = df_float.apply(pd.to_numeric,downcast='float')\n",
        "\n",
        "df.loc[:, df_int.columns] = converted_int\n",
        "df.loc[:, df_float.columns] = converted_float\n",
        "\n",
        "tot_mem_before = mem_usage(df_int) + mem_usage(df_float)\n",
        "tot_mem_after = mem_usage(converted_int) + mem_usage(converted_float)\n",
        "reduced_int = (100*(1-mem_usage(converted_int)/ mem_usage(df_int))).round(2)\n",
        "reduced_float = (100*(1-mem_usage(converted_float)/ mem_usage(df_float))).round(2)\n",
        "reduced_total = (100*(1-tot_mem_after/tot_mem_before)).round(2)\n",
        "\n",
        "\n",
        "# print(\"Использовано памяти до оптимизации int данных:\", mem_usage(df_int))\n",
        "# print(\"Использовано памяти после оптимизации int данных:\", mem_usage(converted_int))\n",
        "# print()\n",
        "# print(\"Использовано памяти до оптимизации float данных:\", mem_usage(df_float))\n",
        "# print(\"Использовано памяти после оптимизации float данных:\", mem_usage(converted_float))\n",
        "\n",
        "mem_optimized = pd.DataFrame({'dtype' : ['int', 'float', 'total'], \n",
        "                             'before, MB' : [mem_usage(df_int), mem_usage(df_float), tot_mem_before], \n",
        "                             'after, MB' : [mem_usage(converted_int), mem_usage(converted_float), tot_mem_after],\n",
        "                             'reduced, %' : [reduced_int, reduced_float, reduced_total]})\n",
        "mem_optimized"
      ],
      "execution_count": null,
      "outputs": [
        {
          "output_type": "execute_result",
          "data": {
            "text/html": [
              "<div>\n",
              "<style scoped>\n",
              "    .dataframe tbody tr th:only-of-type {\n",
              "        vertical-align: middle;\n",
              "    }\n",
              "\n",
              "    .dataframe tbody tr th {\n",
              "        vertical-align: top;\n",
              "    }\n",
              "\n",
              "    .dataframe thead th {\n",
              "        text-align: right;\n",
              "    }\n",
              "</style>\n",
              "<table border=\"1\" class=\"dataframe\">\n",
              "  <thead>\n",
              "    <tr style=\"text-align: right;\">\n",
              "      <th></th>\n",
              "      <th>dtype</th>\n",
              "      <th>before, MB</th>\n",
              "      <th>after, MB</th>\n",
              "      <th>reduced, %</th>\n",
              "    </tr>\n",
              "  </thead>\n",
              "  <tbody>\n",
              "    <tr>\n",
              "      <td>0</td>\n",
              "      <td>int</td>\n",
              "      <td>2.16</td>\n",
              "      <td>1.24</td>\n",
              "      <td>42.59</td>\n",
              "    </tr>\n",
              "    <tr>\n",
              "      <td>1</td>\n",
              "      <td>float</td>\n",
              "      <td>0.90</td>\n",
              "      <td>0.45</td>\n",
              "      <td>50.00</td>\n",
              "    </tr>\n",
              "    <tr>\n",
              "      <td>2</td>\n",
              "      <td>total</td>\n",
              "      <td>3.06</td>\n",
              "      <td>1.69</td>\n",
              "      <td>44.77</td>\n",
              "    </tr>\n",
              "  </tbody>\n",
              "</table>\n",
              "</div>"
            ],
            "text/plain": [
              "   dtype  before, MB  after, MB  reduced, %\n",
              "0    int        2.16       1.24       42.59\n",
              "1  float        0.90       0.45       50.00\n",
              "2  total        3.06       1.69       44.77"
            ]
          },
          "metadata": {
            "tags": []
          },
          "execution_count": 27
        }
      ]
    },
    {
      "cell_type": "markdown",
      "metadata": {
        "id": "Hnzx740hwS5f"
      },
      "source": [
        "<div class=\"alert alert-block alert-info\">\n",
        "В результате оптимизации подтипов данных удалось снизить использование памяти на 45%\n",
        "</div>"
      ]
    },
    {
      "cell_type": "code",
      "metadata": {
        "scrolled": true,
        "id": "7AAUewLWwS5g",
        "outputId": "f2bc3629-82e9-47e7-d82b-ce53eb9b6f1c"
      },
      "source": [
        "df.info()"
      ],
      "execution_count": null,
      "outputs": [
        {
          "output_type": "stream",
          "text": [
            "<class 'pandas.core.frame.DataFrame'>\n",
            "RangeIndex: 23565 entries, 0 to 23564\n",
            "Data columns (total 25 columns):\n",
            "total_images            23565 non-null uint8\n",
            "last_price              23565 non-null float32\n",
            "total_area              23565 non-null float32\n",
            "first_day_exposition    23565 non-null datetime64[ns]\n",
            "rooms                   23565 non-null uint8\n",
            "ceiling_height          23565 non-null float32\n",
            "floors_total            23565 non-null uint8\n",
            "living_area             23565 non-null float32\n",
            "floor                   23565 non-null uint8\n",
            "is_apartment            23565 non-null bool\n",
            "studio                  23565 non-null bool\n",
            "open_plan               23565 non-null bool\n",
            "kitchen_area            23565 non-null float32\n",
            "balcony                 23565 non-null uint8\n",
            "locality_name           23565 non-null object\n",
            "airports_nearest        23565 non-null int64\n",
            "cityCenters_nearest     23565 non-null int64\n",
            "parks_around3000        23565 non-null int64\n",
            "parks_nearest           23565 non-null int64\n",
            "ponds_around3000        23565 non-null int64\n",
            "ponds_nearest           23565 non-null int64\n",
            "days_exposition         23565 non-null uint16\n",
            "ceiling_to_median       23565 non-null bool\n",
            "kitchen_to_median       23565 non-null bool\n",
            "days_calculated         23565 non-null bool\n",
            "dtypes: bool(6), datetime64[ns](1), float32(5), int64(6), object(1), uint16(1), uint8(5)\n",
            "memory usage: 2.2+ MB\n"
          ],
          "name": "stdout"
        }
      ]
    },
    {
      "cell_type": "markdown",
      "metadata": {
        "id": "Vsjg5J7uwS5j"
      },
      "source": [
        "### Расчет дополнительных параметров"
      ]
    },
    {
      "cell_type": "code",
      "metadata": {
        "id": "i8mBeJDNwS5j"
      },
      "source": [
        "#Рассчитаем цену квадратного метра квартиры\n",
        "\n",
        "df['meter_price'] = (df['last_price']/df['total_area']).round(2)"
      ],
      "execution_count": null,
      "outputs": []
    },
    {
      "cell_type": "code",
      "metadata": {
        "id": "5wFjGeQbwS5k"
      },
      "source": [
        "#Создадим отдельные столбцы с годом, месяцем и днем недели публикации объявления\n",
        "\n",
        "df['year'] = df['first_day_exposition'].dt.year\n",
        "df['month'] = df['first_day_exposition'].dt.month\n",
        "df['weekday'] = df['first_day_exposition'].dt.weekday"
      ],
      "execution_count": null,
      "outputs": []
    },
    {
      "cell_type": "code",
      "metadata": {
        "id": "xvyVVXAbwS5k"
      },
      "source": [
        "#Проведем категоризацию данных по номеру этажа (1-первый, 2-последний, 3-другой)\n",
        "\n",
        "def floor_group(floor, floors_total):\n",
        "    if floor == 1:\n",
        "        return 1\n",
        "    elif floor == floors_total:\n",
        "        return 2\n",
        "    return 3\n",
        "df['floor_group'] = df.apply(lambda x: floor_group(x['floor'], x['floors_total']), axis=1)"
      ],
      "execution_count": null,
      "outputs": []
    },
    {
      "cell_type": "code",
      "metadata": {
        "id": "kjHB2jNywS5l"
      },
      "source": [
        "#Посчитаем и добавим в датасет отношение жилой к общей площади, а также отношение площади кухни к общей\n",
        "\n",
        "df['living_total_ratio'] = df['living_area']/df['total_area']\n",
        "df['kitchen_total_ratio'] = df['kitchen_area']/df['total_area']"
      ],
      "execution_count": null,
      "outputs": []
    },
    {
      "cell_type": "markdown",
      "metadata": {
        "id": "w-cy4l2LwS5l"
      },
      "source": [
        "### Исследовательский анализ данных"
      ]
    },
    {
      "cell_type": "markdown",
      "metadata": {
        "id": "Uf5FeyLawS5m"
      },
      "source": [
        "Изучим данные по параметрам: площадь, цена, число комнат, высота потолков, жилая площадь, срок публикации, этаж."
      ]
    },
    {
      "cell_type": "code",
      "metadata": {
        "id": "erEghqWqwS5m"
      },
      "source": [
        "# Напишем функцию для автоматизации анализа\n",
        "\n",
        "def analyze_param(parameter, bins1 = 600, bins2 = 500):\n",
        "    \n",
        "    mean = np.round(np.mean(df[parameter]), 2)\n",
        "    median = np.round(np.median(df[parameter]), 2)\n",
        "    mode = np.array(df[parameter].value_counts().iloc[:3].index)\n",
        "    min_value = np.round(df[parameter].min(), 2)\n",
        "    max_value = np.round(df[parameter].max(), 2)\n",
        "    Q0_01 = np.round(df[parameter].quantile(0.01), 2)\n",
        "    Q1 = np.round(df[parameter].quantile(0.25), 2)\n",
        "    Q3 = np.round(df[parameter].quantile(0.75), 2)\n",
        "    Q0_99 = np.round(df[parameter].quantile(0.99), 2)\n",
        "    iqr = np.round(Q3 - Q1, 2) # Interquartile range\n",
        "    \n",
        "    _, axs = plt.subplots(1, 4, figsize = (18,6))\n",
        "    axs[0].set(ylabel = parameter)\n",
        "    axs[0].boxplot(df[parameter])\n",
        "    axs[1].set(ylim=(Q1-2*iqr, Q3+3*iqr),ylabel = parameter)\n",
        "    axs[1].boxplot(df[parameter])\n",
        "    axs[2].hist(df[parameter], bins = bins1)\n",
        "    axs[3].set(xlim=(Q1-2*iqr, Q3+3*iqr))\n",
        "    axs[3].hist(df[parameter], bins = bins2)\n",
        "    plt.tight_layout(pad=4, w_pad=2, h_pad=1.0)\n",
        "    plt.suptitle(parameter)\n",
        "    plt.show()\n",
        "    \n",
        "    print('Min: {:.2f}'.format(min_value))\n",
        "    print('Mean: {:.2f}'.format(mean))\n",
        "    print('Max: {:.2f}'.format(max_value))\n",
        "    print('Mode: {}'.format(mode))\n",
        "    print('1st percentile: {:.2f}'.format(Q0_01)) \n",
        "    print('25th percentile: {:.2f}'.format(Q1))\n",
        "    print('Median: {:.2f}'.format(median))\n",
        "    print('75th percentile: {:.2f}'.format(Q3))\n",
        "    print('99th percentile: {:.2f}'.format(Q0_99))\n",
        "    print('Interquartile range (IQR): {:.2f}'.format(iqr))"
      ],
      "execution_count": null,
      "outputs": []
    },
    {
      "cell_type": "code",
      "metadata": {
        "id": "JLNo1I2VwS5n",
        "outputId": "6a055a60-50e0-4ec5-865e-2380a71d6042"
      },
      "source": [
        "# Анализ 'total_area'\n",
        "\n",
        "analyze_param('total_area')"
      ],
      "execution_count": null,
      "outputs": [
        {
          "output_type": "display_data",
          "data": {
            "image/png": "[encoded data removed]",
            "text/plain": [
              "<Figure size 1296x432 with 4 Axes>"
            ]
          },
          "metadata": {
            "tags": [],
            "needs_background": "light"
          }
        },
        {
          "output_type": "stream",
          "text": [
            "Min: 12.00\n",
            "Mean: 60.32\n",
            "Max: 900.00\n",
            "Mode: [45. 42. 60.]\n",
            "1st percentile: 25.32\n",
            "25th percentile: 40.00\n",
            "Median: 52.00\n",
            "75th percentile: 69.70\n",
            "99th percentile: 197.45\n",
            "Interquartile range (IQR): 29.70\n"
          ],
          "name": "stdout"
        }
      ]
    },
    {
      "cell_type": "markdown",
      "metadata": {
        "id": "D944HpZzwS5p"
      },
      "source": [
        "Значения общей площади распределены преимущественно в диапазоне 25 - 197 м.кв. со средним значением 60,32м.кв. и медианным 52м.кв.. Распределение сдвинуто влево. Есть выбросы с очень большими значениями (около 600м.кв. и 900м.кв.) и очень маленьким (12 м.кв.) удалим их."
      ]
    },
    {
      "cell_type": "code",
      "metadata": {
        "id": "CBC8DttSwS5r"
      },
      "source": [
        "df = df.drop(df[df['total_area'] >= 500].index).reset_index(drop = True)\n",
        "df = df.drop(df[df['total_area'] <= 20].index).reset_index(drop = True)"
      ],
      "execution_count": null,
      "outputs": []
    },
    {
      "cell_type": "code",
      "metadata": {
        "id": "LtODRwLzwS5w",
        "outputId": "91bb1a8a-fde9-41dd-fe2e-81c85c88f3d3"
      },
      "source": [
        "# Анализ 'living_area'\n",
        "\n",
        "analyze_param('living_area')"
      ],
      "execution_count": null,
      "outputs": [
        {
          "output_type": "display_data",
          "data": {
            "image/png": "[encoded data removed]",
            "text/plain": [
              "<Figure size 1296x432 with 4 Axes>"
            ]
          },
          "metadata": {
            "tags": [],
            "needs_background": "light"
          }
        },
        {
          "output_type": "stream",
          "text": [
            "Min: 2.00\n",
            "Mean: 34.50\n",
            "Max: 347.50\n",
            "Mode: [18. 17. 30.]\n",
            "1st percentile: 13.10\n",
            "25th percentile: 19.00\n",
            "Median: 30.00\n",
            "75th percentile: 42.10\n",
            "99th percentile: 119.98\n",
            "Interquartile range (IQR): 23.10\n"
          ],
          "name": "stdout"
        }
      ]
    },
    {
      "cell_type": "markdown",
      "metadata": {
        "id": "Qzkorp4IwS5z"
      },
      "source": [
        "Значения жилой площади распределены преимущественно в диапазоне 13 - 120 м.кв. со средним значением 34,5м.кв. и медианным 30м.кв.. Распределение сдвинуто влево и имеет выраженные моды (примерно 18м.кв и 30м.кв). Есть выбросы с очень большими значениями (около 300м.кв.) и очень маленьким (2м.кв). Удалим их"
      ]
    },
    {
      "cell_type": "code",
      "metadata": {
        "id": "kfbSV7oLwS50"
      },
      "source": [
        "df = df.drop(df[df['living_area'] >= 300].index).reset_index(drop = True)\n",
        "df = df.drop(df[df['living_area'] <= 10].index).reset_index(drop = True)"
      ],
      "execution_count": null,
      "outputs": []
    },
    {
      "cell_type": "code",
      "metadata": {
        "id": "8jas0-UfwS51",
        "outputId": "e3dd66b0-154d-4718-9e89-e7210a02ed94"
      },
      "source": [
        "# Анализ 'last_price'\n",
        "\n",
        "analyze_param('last_price')"
      ],
      "execution_count": null,
      "outputs": [
        {
          "output_type": "display_data",
          "data": {
            "image/png": "[encoded data removed]",
            "text/plain": [
              "<Figure size 1296x432 with 4 Axes>"
            ]
          },
          "metadata": {
            "tags": [],
            "needs_background": "light"
          }
        },
        {
          "output_type": "stream",
          "text": [
            "Min: 12190.00\n",
            "Mean: 6477248.50\n",
            "Max: 763000000.00\n",
            "Mode: [4500000. 3500000. 4300000.]\n",
            "1st percentile: 1000000.00\n",
            "25th percentile: 3430000.00\n",
            "Median: 4650000.00\n",
            "75th percentile: 6800000.00\n",
            "99th percentile: 35000000.00\n",
            "Interquartile range (IQR): 3370000.00\n"
          ],
          "name": "stdout"
        }
      ]
    },
    {
      "cell_type": "markdown",
      "metadata": {
        "id": "_GO6dSiywS51"
      },
      "source": [
        "Значения цены распределены преимущественно в диапазоне 1млн - 35млн. со средним значением 6,5млн. и медианным 4,6млн. Распределение сдвинуто влево и имеет выраженные моды (3,5млн., 4млн. и 4,5млн.). Есть выбросы с очень большими значениями (около 300 - 400млн. и 763млн), а так же очень маленьким (0,012млн.). Удалим их."
      ]
    },
    {
      "cell_type": "code",
      "metadata": {
        "id": "tHbkfN6GwS52"
      },
      "source": [
        "df = df.drop(df[df['last_price'] >= 5e8].index).reset_index(drop = True)\n",
        "df = df.drop(df[df['last_price'] <= 1e5].index).reset_index(drop = True)"
      ],
      "execution_count": null,
      "outputs": []
    },
    {
      "cell_type": "code",
      "metadata": {
        "id": "u8IgUsI9wS53",
        "outputId": "ee093cf7-ffdf-494a-a558-fe6ab5193f73"
      },
      "source": [
        "# Анализ 'rooms'\n",
        "\n",
        "analyze_param('rooms', bins1 = 200, bins2 = 200)"
      ],
      "execution_count": null,
      "outputs": [
        {
          "output_type": "display_data",
          "data": {
            "image/png": "[encoded data removed]",
            "text/plain": [
              "<Figure size 1296x432 with 4 Axes>"
            ]
          },
          "metadata": {
            "tags": [],
            "needs_background": "light"
          }
        },
        {
          "output_type": "stream",
          "text": [
            "Min: 0.00\n",
            "Mean: 2.07\n",
            "Max: 19.00\n",
            "Mode: [1 2 3]\n",
            "1st percentile: 1.00\n",
            "25th percentile: 1.00\n",
            "Median: 2.00\n",
            "75th percentile: 3.00\n",
            "99th percentile: 5.00\n",
            "Interquartile range (IQR): 2.00\n"
          ],
          "name": "stdout"
        }
      ]
    },
    {
      "cell_type": "markdown",
      "metadata": {
        "id": "H-G6BnsZwS53"
      },
      "source": [
        "Значения количества комнат распределены преимущественно в диапазоне 1 - 5 со средним значением 2,07 и медианным 2. Есть выбросы с очень большими значениями (около 15, 19) и непонятным нулевым значением. Скорее всего, это квартиры-студии где нет отдельных комнат. Проверим эту гипотезу, изучив другие параметры квартир с 0 комнат."
      ]
    },
    {
      "cell_type": "code",
      "metadata": {
        "id": "r8L8sX05wS54",
        "outputId": "a1461b55-e43d-4b29-bd0e-47421ad804c6"
      },
      "source": [
        "df.query(\"rooms == 0\")[['total_area', 'kitchen_area', 'studio', 'open_plan', 'kitchen_to_median']]"
      ],
      "execution_count": null,
      "outputs": [
        {
          "output_type": "execute_result",
          "data": {
            "text/html": [
              "<div>\n",
              "<style scoped>\n",
              "    .dataframe tbody tr th:only-of-type {\n",
              "        vertical-align: middle;\n",
              "    }\n",
              "\n",
              "    .dataframe tbody tr th {\n",
              "        vertical-align: top;\n",
              "    }\n",
              "\n",
              "    .dataframe thead th {\n",
              "        text-align: right;\n",
              "    }\n",
              "</style>\n",
              "<table border=\"1\" class=\"dataframe\">\n",
              "  <thead>\n",
              "    <tr style=\"text-align: right;\">\n",
              "      <th></th>\n",
              "      <th>total_area</th>\n",
              "      <th>kitchen_area</th>\n",
              "      <th>studio</th>\n",
              "      <th>open_plan</th>\n",
              "      <th>kitchen_to_median</th>\n",
              "    </tr>\n",
              "  </thead>\n",
              "  <tbody>\n",
              "    <tr>\n",
              "      <td>143</td>\n",
              "      <td>27.000000</td>\n",
              "      <td>4.655172</td>\n",
              "      <td>True</td>\n",
              "      <td>False</td>\n",
              "      <td>True</td>\n",
              "    </tr>\n",
              "    <tr>\n",
              "      <td>345</td>\n",
              "      <td>25.000000</td>\n",
              "      <td>4.310345</td>\n",
              "      <td>False</td>\n",
              "      <td>True</td>\n",
              "      <td>True</td>\n",
              "    </tr>\n",
              "    <tr>\n",
              "      <td>436</td>\n",
              "      <td>27.110001</td>\n",
              "      <td>4.674138</td>\n",
              "      <td>True</td>\n",
              "      <td>False</td>\n",
              "      <td>True</td>\n",
              "    </tr>\n",
              "    <tr>\n",
              "      <td>503</td>\n",
              "      <td>34.400002</td>\n",
              "      <td>5.931035</td>\n",
              "      <td>False</td>\n",
              "      <td>True</td>\n",
              "      <td>True</td>\n",
              "    </tr>\n",
              "    <tr>\n",
              "      <td>603</td>\n",
              "      <td>25.000000</td>\n",
              "      <td>4.310345</td>\n",
              "      <td>True</td>\n",
              "      <td>False</td>\n",
              "      <td>True</td>\n",
              "    </tr>\n",
              "    <tr>\n",
              "      <td>...</td>\n",
              "      <td>...</td>\n",
              "      <td>...</td>\n",
              "      <td>...</td>\n",
              "      <td>...</td>\n",
              "      <td>...</td>\n",
              "    </tr>\n",
              "    <tr>\n",
              "      <td>22981</td>\n",
              "      <td>26.000000</td>\n",
              "      <td>4.482759</td>\n",
              "      <td>True</td>\n",
              "      <td>False</td>\n",
              "      <td>True</td>\n",
              "    </tr>\n",
              "    <tr>\n",
              "      <td>23211</td>\n",
              "      <td>27.700001</td>\n",
              "      <td>4.775862</td>\n",
              "      <td>False</td>\n",
              "      <td>True</td>\n",
              "      <td>True</td>\n",
              "    </tr>\n",
              "    <tr>\n",
              "      <td>23323</td>\n",
              "      <td>26.000000</td>\n",
              "      <td>4.482759</td>\n",
              "      <td>True</td>\n",
              "      <td>False</td>\n",
              "      <td>True</td>\n",
              "    </tr>\n",
              "    <tr>\n",
              "      <td>23359</td>\n",
              "      <td>29.000000</td>\n",
              "      <td>5.000000</td>\n",
              "      <td>False</td>\n",
              "      <td>True</td>\n",
              "      <td>True</td>\n",
              "    </tr>\n",
              "    <tr>\n",
              "      <td>23404</td>\n",
              "      <td>26.000000</td>\n",
              "      <td>4.482759</td>\n",
              "      <td>True</td>\n",
              "      <td>False</td>\n",
              "      <td>True</td>\n",
              "    </tr>\n",
              "  </tbody>\n",
              "</table>\n",
              "<p>182 rows × 5 columns</p>\n",
              "</div>"
            ],
            "text/plain": [
              "       total_area  kitchen_area  studio  open_plan  kitchen_to_median\n",
              "143     27.000000      4.655172    True      False               True\n",
              "345     25.000000      4.310345   False       True               True\n",
              "436     27.110001      4.674138    True      False               True\n",
              "503     34.400002      5.931035   False       True               True\n",
              "603     25.000000      4.310345    True      False               True\n",
              "...           ...           ...     ...        ...                ...\n",
              "22981   26.000000      4.482759    True      False               True\n",
              "23211   27.700001      4.775862   False       True               True\n",
              "23323   26.000000      4.482759    True      False               True\n",
              "23359   29.000000      5.000000   False       True               True\n",
              "23404   26.000000      4.482759    True      False               True\n",
              "\n",
              "[182 rows x 5 columns]"
            ]
          },
          "metadata": {
            "tags": []
          },
          "execution_count": 41
        }
      ]
    },
    {
      "cell_type": "code",
      "metadata": {
        "id": "zbHmUAuCwS55",
        "outputId": "60945d2e-22bb-44a5-b4b5-c278e4ff31c5"
      },
      "source": [
        "# Проверим есть ли среди них квартиры с отдельной кухней\n",
        "\n",
        "df.query(\"rooms == 0 & (studio == True | open_plan == True)\")['last_price'].count()"
      ],
      "execution_count": null,
      "outputs": [
        {
          "output_type": "execute_result",
          "data": {
            "text/plain": [
              "182"
            ]
          },
          "metadata": {
            "tags": []
          },
          "execution_count": 42
        }
      ]
    },
    {
      "cell_type": "markdown",
      "metadata": {
        "id": "Hed-7QGEwS57"
      },
      "source": [
        "Всё это квартиры-студии или квартиры со свободной планировкой, у которых площадь кухни расчитана нами ранее из общей площади. Учтем это в дальнейшем анализе. "
      ]
    },
    {
      "cell_type": "code",
      "metadata": {
        "id": "1_CDBSIqwS57"
      },
      "source": [
        "# Удалим выбросы по количеству комнат\n",
        "\n",
        "df = df.drop(df[df['rooms'] >= 12].index).reset_index(drop = True)"
      ],
      "execution_count": null,
      "outputs": []
    },
    {
      "cell_type": "code",
      "metadata": {
        "id": "SbrHCjH5wS57",
        "outputId": "6ac63e20-2c57-4cf0-bac3-24a00462591f"
      },
      "source": [
        "# Анализ 'ceiling_height'\n",
        "\n",
        "analyze_param('ceiling_height', bins1 = 200, bins2 = 1000)"
      ],
      "execution_count": null,
      "outputs": [
        {
          "output_type": "display_data",
          "data": {
            "image/png": "[encoded data removed]",
            "text/plain": [
              "<Figure size 1296x432 with 4 Axes>"
            ]
          },
          "metadata": {
            "tags": [],
            "needs_background": "light"
          }
        },
        {
          "output_type": "stream",
          "text": [
            "Min: 1.00\n",
            "Mean: 2.72\n",
            "Max: 100.00\n",
            "Mode: [2.6500001 2.5       2.5999999]\n",
            "1st percentile: 2.50\n",
            "25th percentile: 2.60\n",
            "Median: 2.65\n",
            "75th percentile: 2.70\n",
            "99th percentile: 3.60\n",
            "Interquartile range (IQR): 0.10\n"
          ],
          "name": "stdout"
        }
      ]
    },
    {
      "cell_type": "markdown",
      "metadata": {
        "id": "LcOma2lHwS59"
      },
      "source": [
        "Значения высоты потолков распределены преимущественно в диапазоне 2,5м. - 3,6м.. со средним значением 2,72м. и медианным 2,65м. Есть выбросы с очень большими значениями (около 30м. и 100м.), а так же с очень маленьким (1м.). Значения высоты потолка в районе 30м возможно связаны с ошибками ввода данных, когда вместо 2,7м. ввели 27м. Выбросы 1м. и 100м. нужно удалить."
      ]
    },
    {
      "cell_type": "code",
      "metadata": {
        "id": "Y2OetaepwS5-",
        "outputId": "656573e5-e211-45f4-e738-31cd2dfcb31a"
      },
      "source": [
        "df.query('20 < ceiling_height < 40')[['ceiling_height', 'total_area', 'floors_total', 'floor']]"
      ],
      "execution_count": null,
      "outputs": [
        {
          "output_type": "execute_result",
          "data": {
            "text/html": [
              "<div>\n",
              "<style scoped>\n",
              "    .dataframe tbody tr th:only-of-type {\n",
              "        vertical-align: middle;\n",
              "    }\n",
              "\n",
              "    .dataframe tbody tr th {\n",
              "        vertical-align: top;\n",
              "    }\n",
              "\n",
              "    .dataframe thead th {\n",
              "        text-align: right;\n",
              "    }\n",
              "</style>\n",
              "<table border=\"1\" class=\"dataframe\">\n",
              "  <thead>\n",
              "    <tr style=\"text-align: right;\">\n",
              "      <th></th>\n",
              "      <th>ceiling_height</th>\n",
              "      <th>total_area</th>\n",
              "      <th>floors_total</th>\n",
              "      <th>floor</th>\n",
              "    </tr>\n",
              "  </thead>\n",
              "  <tbody>\n",
              "    <tr>\n",
              "      <td>351</td>\n",
              "      <td>25.0</td>\n",
              "      <td>55.200001</td>\n",
              "      <td>5</td>\n",
              "      <td>2</td>\n",
              "    </tr>\n",
              "    <tr>\n",
              "      <td>3120</td>\n",
              "      <td>32.0</td>\n",
              "      <td>75.000000</td>\n",
              "      <td>3</td>\n",
              "      <td>2</td>\n",
              "    </tr>\n",
              "    <tr>\n",
              "      <td>4602</td>\n",
              "      <td>25.0</td>\n",
              "      <td>45.000000</td>\n",
              "      <td>9</td>\n",
              "      <td>2</td>\n",
              "    </tr>\n",
              "    <tr>\n",
              "      <td>4832</td>\n",
              "      <td>27.0</td>\n",
              "      <td>25.000000</td>\n",
              "      <td>25</td>\n",
              "      <td>17</td>\n",
              "    </tr>\n",
              "    <tr>\n",
              "      <td>5030</td>\n",
              "      <td>24.0</td>\n",
              "      <td>30.500000</td>\n",
              "      <td>5</td>\n",
              "      <td>1</td>\n",
              "    </tr>\n",
              "    <tr>\n",
              "      <td>5198</td>\n",
              "      <td>27.0</td>\n",
              "      <td>54.000000</td>\n",
              "      <td>5</td>\n",
              "      <td>3</td>\n",
              "    </tr>\n",
              "    <tr>\n",
              "      <td>5617</td>\n",
              "      <td>26.0</td>\n",
              "      <td>50.000000</td>\n",
              "      <td>9</td>\n",
              "      <td>3</td>\n",
              "    </tr>\n",
              "    <tr>\n",
              "      <td>5753</td>\n",
              "      <td>27.0</td>\n",
              "      <td>80.000000</td>\n",
              "      <td>36</td>\n",
              "      <td>13</td>\n",
              "    </tr>\n",
              "    <tr>\n",
              "      <td>6186</td>\n",
              "      <td>25.0</td>\n",
              "      <td>44.400002</td>\n",
              "      <td>5</td>\n",
              "      <td>5</td>\n",
              "    </tr>\n",
              "    <tr>\n",
              "      <td>9293</td>\n",
              "      <td>25.0</td>\n",
              "      <td>42.000000</td>\n",
              "      <td>5</td>\n",
              "      <td>2</td>\n",
              "    </tr>\n",
              "    <tr>\n",
              "      <td>10666</td>\n",
              "      <td>27.0</td>\n",
              "      <td>58.000000</td>\n",
              "      <td>10</td>\n",
              "      <td>3</td>\n",
              "    </tr>\n",
              "    <tr>\n",
              "      <td>11173</td>\n",
              "      <td>25.0</td>\n",
              "      <td>37.000000</td>\n",
              "      <td>5</td>\n",
              "      <td>4</td>\n",
              "    </tr>\n",
              "    <tr>\n",
              "      <td>14239</td>\n",
              "      <td>25.0</td>\n",
              "      <td>35.000000</td>\n",
              "      <td>5</td>\n",
              "      <td>2</td>\n",
              "    </tr>\n",
              "    <tr>\n",
              "      <td>17687</td>\n",
              "      <td>27.0</td>\n",
              "      <td>56.000000</td>\n",
              "      <td>5</td>\n",
              "      <td>4</td>\n",
              "    </tr>\n",
              "    <tr>\n",
              "      <td>18370</td>\n",
              "      <td>25.0</td>\n",
              "      <td>43.000000</td>\n",
              "      <td>5</td>\n",
              "      <td>3</td>\n",
              "    </tr>\n",
              "    <tr>\n",
              "      <td>20279</td>\n",
              "      <td>27.0</td>\n",
              "      <td>45.000000</td>\n",
              "      <td>4</td>\n",
              "      <td>2</td>\n",
              "    </tr>\n",
              "    <tr>\n",
              "      <td>20308</td>\n",
              "      <td>22.6</td>\n",
              "      <td>60.000000</td>\n",
              "      <td>14</td>\n",
              "      <td>11</td>\n",
              "    </tr>\n",
              "    <tr>\n",
              "      <td>21167</td>\n",
              "      <td>27.5</td>\n",
              "      <td>42.000000</td>\n",
              "      <td>24</td>\n",
              "      <td>19</td>\n",
              "    </tr>\n",
              "    <tr>\n",
              "      <td>21606</td>\n",
              "      <td>27.0</td>\n",
              "      <td>44.000000</td>\n",
              "      <td>2</td>\n",
              "      <td>2</td>\n",
              "    </tr>\n",
              "    <tr>\n",
              "      <td>22113</td>\n",
              "      <td>32.0</td>\n",
              "      <td>92.400002</td>\n",
              "      <td>6</td>\n",
              "      <td>5</td>\n",
              "    </tr>\n",
              "    <tr>\n",
              "      <td>22707</td>\n",
              "      <td>27.0</td>\n",
              "      <td>98.000000</td>\n",
              "      <td>2</td>\n",
              "      <td>2</td>\n",
              "    </tr>\n",
              "  </tbody>\n",
              "</table>\n",
              "</div>"
            ],
            "text/plain": [
              "       ceiling_height  total_area  floors_total  floor\n",
              "351              25.0   55.200001             5      2\n",
              "3120             32.0   75.000000             3      2\n",
              "4602             25.0   45.000000             9      2\n",
              "4832             27.0   25.000000            25     17\n",
              "5030             24.0   30.500000             5      1\n",
              "5198             27.0   54.000000             5      3\n",
              "5617             26.0   50.000000             9      3\n",
              "5753             27.0   80.000000            36     13\n",
              "6186             25.0   44.400002             5      5\n",
              "9293             25.0   42.000000             5      2\n",
              "10666            27.0   58.000000            10      3\n",
              "11173            25.0   37.000000             5      4\n",
              "14239            25.0   35.000000             5      2\n",
              "17687            27.0   56.000000             5      4\n",
              "18370            25.0   43.000000             5      3\n",
              "20279            27.0   45.000000             4      2\n",
              "20308            22.6   60.000000            14     11\n",
              "21167            27.5   42.000000            24     19\n",
              "21606            27.0   44.000000             2      2\n",
              "22113            32.0   92.400002             6      5\n",
              "22707            27.0   98.000000             2      2"
            ]
          },
          "metadata": {
            "tags": []
          },
          "execution_count": 45
        }
      ]
    },
    {
      "cell_type": "markdown",
      "metadata": {
        "id": "qpWkzQ6YwS5_"
      },
      "source": [
        "Как видно, это обычные квартиры в многоэтажных домах. Все цифры очень похожи на высоту потолка, но на порядок выше.\n",
        "Единственное подозрительное значение 22,6 - скорее всего результат опечатки. Заменим его на медианное. "
      ]
    },
    {
      "cell_type": "code",
      "metadata": {
        "id": "AndsvjhcwS5_"
      },
      "source": [
        "df['ceiling_height'] = df['ceiling_height'].where(df['ceiling_height'] != 22.6, ceiling_median)\n",
        "df['ceiling_height'] = df.apply(lambda row: row['ceiling_height']/10 if 20 < row['ceiling_height'] < 40 else row['ceiling_height'], axis = 1)          \n",
        "df = df.drop(df[df['ceiling_height'] == 100].index).reset_index(drop = True)\n",
        "df = df.drop(df[df['ceiling_height'] <= 2].index).reset_index(drop = True)\n",
        "df = df.drop(df[df['ceiling_height'] > 10].index).reset_index(drop = True)"
      ],
      "execution_count": null,
      "outputs": []
    },
    {
      "cell_type": "code",
      "metadata": {
        "id": "Yx9Md_xawS6A",
        "outputId": "9d1f8db0-b911-4631-aa03-46eb4279bc02"
      },
      "source": [
        "df.query('ceiling_height >5')"
      ],
      "execution_count": null,
      "outputs": [
        {
          "output_type": "execute_result",
          "data": {
            "text/html": [
              "<div>\n",
              "<style scoped>\n",
              "    .dataframe tbody tr th:only-of-type {\n",
              "        vertical-align: middle;\n",
              "    }\n",
              "\n",
              "    .dataframe tbody tr th {\n",
              "        vertical-align: top;\n",
              "    }\n",
              "\n",
              "    .dataframe thead th {\n",
              "        text-align: right;\n",
              "    }\n",
              "</style>\n",
              "<table border=\"1\" class=\"dataframe\">\n",
              "  <thead>\n",
              "    <tr style=\"text-align: right;\">\n",
              "      <th></th>\n",
              "      <th>total_images</th>\n",
              "      <th>last_price</th>\n",
              "      <th>total_area</th>\n",
              "      <th>first_day_exposition</th>\n",
              "      <th>rooms</th>\n",
              "      <th>ceiling_height</th>\n",
              "      <th>floors_total</th>\n",
              "      <th>living_area</th>\n",
              "      <th>floor</th>\n",
              "      <th>is_apartment</th>\n",
              "      <th>...</th>\n",
              "      <th>ceiling_to_median</th>\n",
              "      <th>kitchen_to_median</th>\n",
              "      <th>days_calculated</th>\n",
              "      <th>meter_price</th>\n",
              "      <th>year</th>\n",
              "      <th>month</th>\n",
              "      <th>weekday</th>\n",
              "      <th>floor_group</th>\n",
              "      <th>living_total_ratio</th>\n",
              "      <th>kitchen_total_ratio</th>\n",
              "    </tr>\n",
              "  </thead>\n",
              "  <tbody>\n",
              "    <tr>\n",
              "      <td>459</td>\n",
              "      <td>15</td>\n",
              "      <td>66571000.0</td>\n",
              "      <td>280.299988</td>\n",
              "      <td>2015-06-11</td>\n",
              "      <td>6</td>\n",
              "      <td>5.2</td>\n",
              "      <td>8</td>\n",
              "      <td>159.500000</td>\n",
              "      <td>7</td>\n",
              "      <td>False</td>\n",
              "      <td>...</td>\n",
              "      <td>False</td>\n",
              "      <td>False</td>\n",
              "      <td>False</td>\n",
              "      <td>237499.125000</td>\n",
              "      <td>2015</td>\n",
              "      <td>6</td>\n",
              "      <td>3</td>\n",
              "      <td>3</td>\n",
              "      <td>0.569033</td>\n",
              "      <td>0.075276</td>\n",
              "    </tr>\n",
              "    <tr>\n",
              "      <td>1014</td>\n",
              "      <td>20</td>\n",
              "      <td>155000000.0</td>\n",
              "      <td>310.000000</td>\n",
              "      <td>2018-10-12</td>\n",
              "      <td>5</td>\n",
              "      <td>5.3</td>\n",
              "      <td>3</td>\n",
              "      <td>190.000000</td>\n",
              "      <td>3</td>\n",
              "      <td>False</td>\n",
              "      <td>...</td>\n",
              "      <td>False</td>\n",
              "      <td>False</td>\n",
              "      <td>True</td>\n",
              "      <td>500000.000000</td>\n",
              "      <td>2018</td>\n",
              "      <td>10</td>\n",
              "      <td>4</td>\n",
              "      <td>2</td>\n",
              "      <td>0.612903</td>\n",
              "      <td>0.203226</td>\n",
              "    </tr>\n",
              "    <tr>\n",
              "      <td>1374</td>\n",
              "      <td>20</td>\n",
              "      <td>59800000.0</td>\n",
              "      <td>399.000000</td>\n",
              "      <td>2015-01-21</td>\n",
              "      <td>5</td>\n",
              "      <td>5.6</td>\n",
              "      <td>6</td>\n",
              "      <td>226.576096</td>\n",
              "      <td>6</td>\n",
              "      <td>False</td>\n",
              "      <td>...</td>\n",
              "      <td>False</td>\n",
              "      <td>True</td>\n",
              "      <td>False</td>\n",
              "      <td>149874.687500</td>\n",
              "      <td>2015</td>\n",
              "      <td>1</td>\n",
              "      <td>2</td>\n",
              "      <td>2</td>\n",
              "      <td>0.567860</td>\n",
              "      <td>0.172414</td>\n",
              "    </tr>\n",
              "    <tr>\n",
              "      <td>3442</td>\n",
              "      <td>3</td>\n",
              "      <td>1400000.0</td>\n",
              "      <td>30.000000</td>\n",
              "      <td>2018-03-16</td>\n",
              "      <td>1</td>\n",
              "      <td>8.0</td>\n",
              "      <td>5</td>\n",
              "      <td>15.300000</td>\n",
              "      <td>2</td>\n",
              "      <td>False</td>\n",
              "      <td>...</td>\n",
              "      <td>False</td>\n",
              "      <td>False</td>\n",
              "      <td>False</td>\n",
              "      <td>46666.671875</td>\n",
              "      <td>2018</td>\n",
              "      <td>3</td>\n",
              "      <td>4</td>\n",
              "      <td>3</td>\n",
              "      <td>0.510000</td>\n",
              "      <td>0.243333</td>\n",
              "    </tr>\n",
              "    <tr>\n",
              "      <td>5803</td>\n",
              "      <td>20</td>\n",
              "      <td>5650000.0</td>\n",
              "      <td>45.000000</td>\n",
              "      <td>2018-08-15</td>\n",
              "      <td>1</td>\n",
              "      <td>8.3</td>\n",
              "      <td>16</td>\n",
              "      <td>19.299999</td>\n",
              "      <td>14</td>\n",
              "      <td>False</td>\n",
              "      <td>...</td>\n",
              "      <td>False</td>\n",
              "      <td>False</td>\n",
              "      <td>False</td>\n",
              "      <td>125555.546875</td>\n",
              "      <td>2018</td>\n",
              "      <td>8</td>\n",
              "      <td>2</td>\n",
              "      <td>3</td>\n",
              "      <td>0.428889</td>\n",
              "      <td>0.184444</td>\n",
              "    </tr>\n",
              "    <tr>\n",
              "      <td>7506</td>\n",
              "      <td>17</td>\n",
              "      <td>38000000.0</td>\n",
              "      <td>143.000000</td>\n",
              "      <td>2017-11-02</td>\n",
              "      <td>3</td>\n",
              "      <td>5.5</td>\n",
              "      <td>5</td>\n",
              "      <td>83.000000</td>\n",
              "      <td>5</td>\n",
              "      <td>False</td>\n",
              "      <td>...</td>\n",
              "      <td>False</td>\n",
              "      <td>False</td>\n",
              "      <td>True</td>\n",
              "      <td>265734.281250</td>\n",
              "      <td>2017</td>\n",
              "      <td>11</td>\n",
              "      <td>3</td>\n",
              "      <td>2</td>\n",
              "      <td>0.580420</td>\n",
              "      <td>0.202797</td>\n",
              "    </tr>\n",
              "    <tr>\n",
              "      <td>12499</td>\n",
              "      <td>14</td>\n",
              "      <td>3900000.0</td>\n",
              "      <td>50.000000</td>\n",
              "      <td>2018-03-29</td>\n",
              "      <td>1</td>\n",
              "      <td>5.3</td>\n",
              "      <td>5</td>\n",
              "      <td>28.392996</td>\n",
              "      <td>5</td>\n",
              "      <td>False</td>\n",
              "      <td>...</td>\n",
              "      <td>False</td>\n",
              "      <td>True</td>\n",
              "      <td>False</td>\n",
              "      <td>78000.000000</td>\n",
              "      <td>2018</td>\n",
              "      <td>3</td>\n",
              "      <td>3</td>\n",
              "      <td>2</td>\n",
              "      <td>0.567860</td>\n",
              "      <td>0.172414</td>\n",
              "    </tr>\n",
              "    <tr>\n",
              "      <td>15586</td>\n",
              "      <td>14</td>\n",
              "      <td>5600000.0</td>\n",
              "      <td>67.000000</td>\n",
              "      <td>2016-11-11</td>\n",
              "      <td>3</td>\n",
              "      <td>8.0</td>\n",
              "      <td>16</td>\n",
              "      <td>41.000000</td>\n",
              "      <td>1</td>\n",
              "      <td>False</td>\n",
              "      <td>...</td>\n",
              "      <td>False</td>\n",
              "      <td>False</td>\n",
              "      <td>False</td>\n",
              "      <td>83582.078125</td>\n",
              "      <td>2016</td>\n",
              "      <td>11</td>\n",
              "      <td>4</td>\n",
              "      <td>1</td>\n",
              "      <td>0.611940</td>\n",
              "      <td>0.119403</td>\n",
              "    </tr>\n",
              "    <tr>\n",
              "      <td>17267</td>\n",
              "      <td>0</td>\n",
              "      <td>5350000.0</td>\n",
              "      <td>54.000000</td>\n",
              "      <td>2015-06-16</td>\n",
              "      <td>2</td>\n",
              "      <td>8.0</td>\n",
              "      <td>5</td>\n",
              "      <td>29.000000</td>\n",
              "      <td>2</td>\n",
              "      <td>False</td>\n",
              "      <td>...</td>\n",
              "      <td>False</td>\n",
              "      <td>True</td>\n",
              "      <td>False</td>\n",
              "      <td>99074.070312</td>\n",
              "      <td>2015</td>\n",
              "      <td>6</td>\n",
              "      <td>1</td>\n",
              "      <td>3</td>\n",
              "      <td>0.537037</td>\n",
              "      <td>0.172414</td>\n",
              "    </tr>\n",
              "    <tr>\n",
              "      <td>20053</td>\n",
              "      <td>17</td>\n",
              "      <td>119000000.0</td>\n",
              "      <td>187.600006</td>\n",
              "      <td>2017-07-10</td>\n",
              "      <td>4</td>\n",
              "      <td>6.0</td>\n",
              "      <td>7</td>\n",
              "      <td>147.000000</td>\n",
              "      <td>7</td>\n",
              "      <td>False</td>\n",
              "      <td>...</td>\n",
              "      <td>False</td>\n",
              "      <td>False</td>\n",
              "      <td>False</td>\n",
              "      <td>634328.312500</td>\n",
              "      <td>2017</td>\n",
              "      <td>7</td>\n",
              "      <td>0</td>\n",
              "      <td>2</td>\n",
              "      <td>0.783582</td>\n",
              "      <td>0.083156</td>\n",
              "    </tr>\n",
              "    <tr>\n",
              "      <td>21007</td>\n",
              "      <td>0</td>\n",
              "      <td>8200000.0</td>\n",
              "      <td>71.000000</td>\n",
              "      <td>2017-07-21</td>\n",
              "      <td>0</td>\n",
              "      <td>5.8</td>\n",
              "      <td>5</td>\n",
              "      <td>68.000000</td>\n",
              "      <td>5</td>\n",
              "      <td>False</td>\n",
              "      <td>...</td>\n",
              "      <td>False</td>\n",
              "      <td>True</td>\n",
              "      <td>False</td>\n",
              "      <td>115492.960938</td>\n",
              "      <td>2017</td>\n",
              "      <td>7</td>\n",
              "      <td>4</td>\n",
              "      <td>2</td>\n",
              "      <td>0.957747</td>\n",
              "      <td>0.172414</td>\n",
              "    </tr>\n",
              "  </tbody>\n",
              "</table>\n",
              "<p>11 rows × 32 columns</p>\n",
              "</div>"
            ],
            "text/plain": [
              "       total_images   last_price  total_area first_day_exposition  rooms  \\\n",
              "459              15   66571000.0  280.299988           2015-06-11      6   \n",
              "1014             20  155000000.0  310.000000           2018-10-12      5   \n",
              "1374             20   59800000.0  399.000000           2015-01-21      5   \n",
              "3442              3    1400000.0   30.000000           2018-03-16      1   \n",
              "5803             20    5650000.0   45.000000           2018-08-15      1   \n",
              "7506             17   38000000.0  143.000000           2017-11-02      3   \n",
              "12499            14    3900000.0   50.000000           2018-03-29      1   \n",
              "15586            14    5600000.0   67.000000           2016-11-11      3   \n",
              "17267             0    5350000.0   54.000000           2015-06-16      2   \n",
              "20053            17  119000000.0  187.600006           2017-07-10      4   \n",
              "21007             0    8200000.0   71.000000           2017-07-21      0   \n",
              "\n",
              "       ceiling_height  floors_total  living_area  floor  is_apartment  ...  \\\n",
              "459               5.2             8   159.500000      7         False  ...   \n",
              "1014              5.3             3   190.000000      3         False  ...   \n",
              "1374              5.6             6   226.576096      6         False  ...   \n",
              "3442              8.0             5    15.300000      2         False  ...   \n",
              "5803              8.3            16    19.299999     14         False  ...   \n",
              "7506              5.5             5    83.000000      5         False  ...   \n",
              "12499             5.3             5    28.392996      5         False  ...   \n",
              "15586             8.0            16    41.000000      1         False  ...   \n",
              "17267             8.0             5    29.000000      2         False  ...   \n",
              "20053             6.0             7   147.000000      7         False  ...   \n",
              "21007             5.8             5    68.000000      5         False  ...   \n",
              "\n",
              "       ceiling_to_median  kitchen_to_median  days_calculated    meter_price  \\\n",
              "459                False              False            False  237499.125000   \n",
              "1014               False              False             True  500000.000000   \n",
              "1374               False               True            False  149874.687500   \n",
              "3442               False              False            False   46666.671875   \n",
              "5803               False              False            False  125555.546875   \n",
              "7506               False              False             True  265734.281250   \n",
              "12499              False               True            False   78000.000000   \n",
              "15586              False              False            False   83582.078125   \n",
              "17267              False               True            False   99074.070312   \n",
              "20053              False              False            False  634328.312500   \n",
              "21007              False               True            False  115492.960938   \n",
              "\n",
              "       year  month  weekday  floor_group  living_total_ratio  \\\n",
              "459    2015      6        3            3            0.569033   \n",
              "1014   2018     10        4            2            0.612903   \n",
              "1374   2015      1        2            2            0.567860   \n",
              "3442   2018      3        4            3            0.510000   \n",
              "5803   2018      8        2            3            0.428889   \n",
              "7506   2017     11        3            2            0.580420   \n",
              "12499  2018      3        3            2            0.567860   \n",
              "15586  2016     11        4            1            0.611940   \n",
              "17267  2015      6        1            3            0.537037   \n",
              "20053  2017      7        0            2            0.783582   \n",
              "21007  2017      7        4            2            0.957747   \n",
              "\n",
              "       kitchen_total_ratio  \n",
              "459               0.075276  \n",
              "1014              0.203226  \n",
              "1374              0.172414  \n",
              "3442              0.243333  \n",
              "5803              0.184444  \n",
              "7506              0.202797  \n",
              "12499             0.172414  \n",
              "15586             0.119403  \n",
              "17267             0.172414  \n",
              "20053             0.083156  \n",
              "21007             0.172414  \n",
              "\n",
              "[11 rows x 32 columns]"
            ]
          },
          "metadata": {
            "tags": []
          },
          "execution_count": 47
        }
      ]
    },
    {
      "cell_type": "code",
      "metadata": {
        "id": "lKrhPz8iwS6B",
        "outputId": "70410b2c-d3d3-44b3-915b-b525f81a7464"
      },
      "source": [
        "# Анализ 'days_exposition'\n",
        "\n",
        "analyze_param('days_exposition', bins1 = 200, bins2 = 200)"
      ],
      "execution_count": null,
      "outputs": [
        {
          "output_type": "display_data",
          "data": {
            "image/png": "[encoded data removed]",
            "text/plain": [
              "<Figure size 1296x432 with 4 Axes>"
            ]
          },
          "metadata": {
            "tags": [],
            "needs_background": "light"
          }
        },
        {
          "output_type": "stream",
          "text": [
            "Min: 0.00\n",
            "Mean: 185.93\n",
            "Max: 1618.00\n",
            "Mode: [45 60  7]\n",
            "1st percentile: 3.00\n",
            "25th percentile: 43.00\n",
            "Median: 94.00\n",
            "75th percentile: 237.00\n",
            "99th percentile: 1134.58\n",
            "Interquartile range (IQR): 194.00\n"
          ],
          "name": "stdout"
        }
      ]
    },
    {
      "cell_type": "markdown",
      "metadata": {
        "id": "ly0R4z35wS6D"
      },
      "source": [
        "Значения времени публикации распределены преимущественно в диапазоне 3 - 1134 дней со средним значением 186 дней и медианным 94 дня. Распределение достаточно равномерное с наиболее часто встречающимися значениями 45, 60 и 7 дней. Можно сказать, что квартиры проданные быстрее, чем за 43 дня (1й квартиль) - область достаточно быстрых продаж. При этом мода 7 дней означает, что многие квартиры продаются быстрее и очень быстрыми можно признать продажи в течении трех дней (1-й персентиль). Срок размещения объявления больше 237 дней (последний квартиль) говорит о долгой продаже, а значения больше 1134 дней - экстремально большие. Помотрим, с чем связано нулевые значения days_exposition."
      ]
    },
    {
      "cell_type": "code",
      "metadata": {
        "id": "UucaH9gTwS6D",
        "outputId": "e620c8ec-4ce7-4fc2-f64c-fbd2e2f44233"
      },
      "source": [
        "df.query('days_exposition == 0')[['days_exposition', 'first_day_exposition']]"
      ],
      "execution_count": null,
      "outputs": [
        {
          "output_type": "execute_result",
          "data": {
            "text/html": [
              "<div>\n",
              "<style scoped>\n",
              "    .dataframe tbody tr th:only-of-type {\n",
              "        vertical-align: middle;\n",
              "    }\n",
              "\n",
              "    .dataframe tbody tr th {\n",
              "        vertical-align: top;\n",
              "    }\n",
              "\n",
              "    .dataframe thead th {\n",
              "        text-align: right;\n",
              "    }\n",
              "</style>\n",
              "<table border=\"1\" class=\"dataframe\">\n",
              "  <thead>\n",
              "    <tr style=\"text-align: right;\">\n",
              "      <th></th>\n",
              "      <th>days_exposition</th>\n",
              "      <th>first_day_exposition</th>\n",
              "    </tr>\n",
              "  </thead>\n",
              "  <tbody>\n",
              "    <tr>\n",
              "      <td>2159</td>\n",
              "      <td>0</td>\n",
              "      <td>2019-05-03</td>\n",
              "    </tr>\n",
              "    <tr>\n",
              "      <td>3223</td>\n",
              "      <td>0</td>\n",
              "      <td>2019-05-03</td>\n",
              "    </tr>\n",
              "    <tr>\n",
              "      <td>4408</td>\n",
              "      <td>0</td>\n",
              "      <td>2019-05-03</td>\n",
              "    </tr>\n",
              "    <tr>\n",
              "      <td>5924</td>\n",
              "      <td>0</td>\n",
              "      <td>2019-05-03</td>\n",
              "    </tr>\n",
              "    <tr>\n",
              "      <td>8091</td>\n",
              "      <td>0</td>\n",
              "      <td>2019-05-03</td>\n",
              "    </tr>\n",
              "    <tr>\n",
              "      <td>9126</td>\n",
              "      <td>0</td>\n",
              "      <td>2019-05-03</td>\n",
              "    </tr>\n",
              "    <tr>\n",
              "      <td>10804</td>\n",
              "      <td>0</td>\n",
              "      <td>2019-05-03</td>\n",
              "    </tr>\n",
              "    <tr>\n",
              "      <td>11881</td>\n",
              "      <td>0</td>\n",
              "      <td>2019-05-03</td>\n",
              "    </tr>\n",
              "    <tr>\n",
              "      <td>12083</td>\n",
              "      <td>0</td>\n",
              "      <td>2019-05-03</td>\n",
              "    </tr>\n",
              "    <tr>\n",
              "      <td>12218</td>\n",
              "      <td>0</td>\n",
              "      <td>2019-05-03</td>\n",
              "    </tr>\n",
              "    <tr>\n",
              "      <td>12254</td>\n",
              "      <td>0</td>\n",
              "      <td>2019-05-03</td>\n",
              "    </tr>\n",
              "    <tr>\n",
              "      <td>13606</td>\n",
              "      <td>0</td>\n",
              "      <td>2019-05-03</td>\n",
              "    </tr>\n",
              "    <tr>\n",
              "      <td>13851</td>\n",
              "      <td>0</td>\n",
              "      <td>2019-05-03</td>\n",
              "    </tr>\n",
              "    <tr>\n",
              "      <td>14100</td>\n",
              "      <td>0</td>\n",
              "      <td>2019-05-03</td>\n",
              "    </tr>\n",
              "    <tr>\n",
              "      <td>14275</td>\n",
              "      <td>0</td>\n",
              "      <td>2019-05-03</td>\n",
              "    </tr>\n",
              "    <tr>\n",
              "      <td>14918</td>\n",
              "      <td>0</td>\n",
              "      <td>2019-05-03</td>\n",
              "    </tr>\n",
              "    <tr>\n",
              "      <td>15722</td>\n",
              "      <td>0</td>\n",
              "      <td>2019-05-03</td>\n",
              "    </tr>\n",
              "    <tr>\n",
              "      <td>17373</td>\n",
              "      <td>0</td>\n",
              "      <td>2019-05-03</td>\n",
              "    </tr>\n",
              "    <tr>\n",
              "      <td>17690</td>\n",
              "      <td>0</td>\n",
              "      <td>2019-05-03</td>\n",
              "    </tr>\n",
              "    <tr>\n",
              "      <td>21655</td>\n",
              "      <td>0</td>\n",
              "      <td>2019-05-03</td>\n",
              "    </tr>\n",
              "  </tbody>\n",
              "</table>\n",
              "</div>"
            ],
            "text/plain": [
              "       days_exposition first_day_exposition\n",
              "2159                 0           2019-05-03\n",
              "3223                 0           2019-05-03\n",
              "4408                 0           2019-05-03\n",
              "5924                 0           2019-05-03\n",
              "8091                 0           2019-05-03\n",
              "9126                 0           2019-05-03\n",
              "10804                0           2019-05-03\n",
              "11881                0           2019-05-03\n",
              "12083                0           2019-05-03\n",
              "12218                0           2019-05-03\n",
              "12254                0           2019-05-03\n",
              "13606                0           2019-05-03\n",
              "13851                0           2019-05-03\n",
              "14100                0           2019-05-03\n",
              "14275                0           2019-05-03\n",
              "14918                0           2019-05-03\n",
              "15722                0           2019-05-03\n",
              "17373                0           2019-05-03\n",
              "17690                0           2019-05-03\n",
              "21655                0           2019-05-03"
            ]
          },
          "metadata": {
            "tags": []
          },
          "execution_count": 49
        }
      ]
    },
    {
      "cell_type": "markdown",
      "metadata": {
        "id": "90NembjjwS6F"
      },
      "source": [
        "Нулевое значение времени публикации объявления соответствует последней дате публикации, которую мы определили ранее. Посмотрим, насколько количество публикаций в последний день соответствует данным за другие дни."
      ]
    },
    {
      "cell_type": "code",
      "metadata": {
        "id": "kRDYbpW0wS6F",
        "outputId": "4afb72b4-a3c7-4cda-f6c5-2c247ea2c5e2"
      },
      "source": [
        "df.groupby(by = 'first_day_exposition')['last_price'].count().tail(10)"
      ],
      "execution_count": null,
      "outputs": [
        {
          "output_type": "execute_result",
          "data": {
            "text/plain": [
              "first_day_exposition\n",
              "2019-04-24    33\n",
              "2019-04-25    28\n",
              "2019-04-26    37\n",
              "2019-04-27    14\n",
              "2019-04-28    18\n",
              "2019-04-29    37\n",
              "2019-04-30    27\n",
              "2019-05-01    30\n",
              "2019-05-02    11\n",
              "2019-05-03    20\n",
              "Name: last_price, dtype: int64"
            ]
          },
          "metadata": {
            "tags": []
          },
          "execution_count": 50
        }
      ]
    },
    {
      "cell_type": "markdown",
      "metadata": {
        "id": "3OtxC84CwS6H"
      },
      "source": [
        "Данные выглядят вполне правдоподобными. Однако, стоит иметь ввиду, что это не означает продажу квартиры за день. Для анализа зависимости цены от срока размещения объявления стоит оценить с какого количества дней можно считать разумным срок продажи квартиры. Для этого посмотрим первые несколько значений."
      ]
    },
    {
      "cell_type": "code",
      "metadata": {
        "id": "bVVqOlDzwS6I",
        "outputId": "c9a74ed1-f9e8-4f23-9933-8e8a6a4db84f"
      },
      "source": [
        "days_group = pd.pivot_table(df, values = 'last_price', index = 'days_exposition', aggfunc = ['count','sum'])\n",
        "days_group.head(10)"
      ],
      "execution_count": null,
      "outputs": [
        {
          "output_type": "execute_result",
          "data": {
            "text/html": [
              "<div>\n",
              "<style scoped>\n",
              "    .dataframe tbody tr th:only-of-type {\n",
              "        vertical-align: middle;\n",
              "    }\n",
              "\n",
              "    .dataframe tbody tr th {\n",
              "        vertical-align: top;\n",
              "    }\n",
              "\n",
              "    .dataframe thead tr th {\n",
              "        text-align: left;\n",
              "    }\n",
              "\n",
              "    .dataframe thead tr:last-of-type th {\n",
              "        text-align: right;\n",
              "    }\n",
              "</style>\n",
              "<table border=\"1\" class=\"dataframe\">\n",
              "  <thead>\n",
              "    <tr>\n",
              "      <th></th>\n",
              "      <th>count</th>\n",
              "      <th>sum</th>\n",
              "    </tr>\n",
              "    <tr>\n",
              "      <th></th>\n",
              "      <th>last_price</th>\n",
              "      <th>last_price</th>\n",
              "    </tr>\n",
              "    <tr>\n",
              "      <th>days_exposition</th>\n",
              "      <th></th>\n",
              "      <th></th>\n",
              "    </tr>\n",
              "  </thead>\n",
              "  <tbody>\n",
              "    <tr>\n",
              "      <td>0</td>\n",
              "      <td>20</td>\n",
              "      <td>1.054600e+08</td>\n",
              "    </tr>\n",
              "    <tr>\n",
              "      <td>1</td>\n",
              "      <td>12</td>\n",
              "      <td>1.165441e+08</td>\n",
              "    </tr>\n",
              "    <tr>\n",
              "      <td>2</td>\n",
              "      <td>32</td>\n",
              "      <td>2.733339e+08</td>\n",
              "    </tr>\n",
              "    <tr>\n",
              "      <td>3</td>\n",
              "      <td>179</td>\n",
              "      <td>9.677624e+08</td>\n",
              "    </tr>\n",
              "    <tr>\n",
              "      <td>4</td>\n",
              "      <td>209</td>\n",
              "      <td>1.181421e+09</td>\n",
              "    </tr>\n",
              "    <tr>\n",
              "      <td>5</td>\n",
              "      <td>170</td>\n",
              "      <td>1.098206e+09</td>\n",
              "    </tr>\n",
              "    <tr>\n",
              "      <td>6</td>\n",
              "      <td>137</td>\n",
              "      <td>6.327891e+08</td>\n",
              "    </tr>\n",
              "    <tr>\n",
              "      <td>7</td>\n",
              "      <td>267</td>\n",
              "      <td>1.431487e+09</td>\n",
              "    </tr>\n",
              "    <tr>\n",
              "      <td>8</td>\n",
              "      <td>163</td>\n",
              "      <td>8.648771e+08</td>\n",
              "    </tr>\n",
              "    <tr>\n",
              "      <td>9</td>\n",
              "      <td>172</td>\n",
              "      <td>1.025671e+09</td>\n",
              "    </tr>\n",
              "  </tbody>\n",
              "</table>\n",
              "</div>"
            ],
            "text/plain": [
              "                     count           sum\n",
              "                last_price    last_price\n",
              "days_exposition                         \n",
              "0                       20  1.054600e+08\n",
              "1                       12  1.165441e+08\n",
              "2                       32  2.733339e+08\n",
              "3                      179  9.677624e+08\n",
              "4                      209  1.181421e+09\n",
              "5                      170  1.098206e+09\n",
              "6                      137  6.327891e+08\n",
              "7                      267  1.431487e+09\n",
              "8                      163  8.648771e+08\n",
              "9                      172  1.025671e+09"
            ]
          },
          "metadata": {
            "tags": []
          },
          "execution_count": 51
        }
      ]
    },
    {
      "cell_type": "markdown",
      "metadata": {
        "id": "GGWDAjWnwS6J"
      },
      "source": [
        "Начиная с четвертого дня размещения количество и цена проданных квартир становится достаточно стабильным. Записи за последние 4 дня с числом days_exposition меньше 4 можно удалить"
      ]
    },
    {
      "cell_type": "code",
      "metadata": {
        "id": "adx7zDGvwS6N",
        "outputId": "5ce46357-9c3f-4ad7-a5df-f0f442e4cfdf"
      },
      "source": [
        "print('Количество записей до удаления :',df.shape[0])"
      ],
      "execution_count": null,
      "outputs": [
        {
          "output_type": "stream",
          "text": [
            "Количество записей до удаления : 23443\n"
          ],
          "name": "stdout"
        }
      ]
    },
    {
      "cell_type": "code",
      "metadata": {
        "id": "5D47_GcgwS6P",
        "outputId": "a6020a11-7724-4c4c-e90f-2bc44fd66f8e"
      },
      "source": [
        "df = df.drop(df[(df['first_day_exposition'] >= '2019-04-30') & (df['days_exposition'] <= 4)].index).reset_index(drop = True)\n",
        "print('Количество записей после удаления :',df.shape[0])"
      ],
      "execution_count": null,
      "outputs": [
        {
          "output_type": "stream",
          "text": [
            "Количество записей после удаления : 23355\n"
          ],
          "name": "stdout"
        }
      ]
    },
    {
      "cell_type": "code",
      "metadata": {
        "id": "k0AaAcCDwS6P",
        "outputId": "05e4dab3-754c-4435-ca4a-88714749d328"
      },
      "source": [
        "# Анализ 'floor'\n",
        "\n",
        "analyze_param('floor', bins1 = 200, bins2 = 200)"
      ],
      "execution_count": null,
      "outputs": [
        {
          "output_type": "display_data",
          "data": {
            "image/png": "[encoded data removed]",
            "text/plain": [
              "<Figure size 1296x432 with 4 Axes>"
            ]
          },
          "metadata": {
            "tags": [],
            "needs_background": "light"
          }
        },
        {
          "output_type": "stream",
          "text": [
            "Min: 1.00\n",
            "Mean: 5.88\n",
            "Max: 33.00\n",
            "Mode: [2 3 1]\n",
            "1st percentile: 1.00\n",
            "25th percentile: 2.00\n",
            "Median: 4.00\n",
            "75th percentile: 8.00\n",
            "99th percentile: 23.00\n",
            "Interquartile range (IQR): 6.00\n"
          ],
          "name": "stdout"
        }
      ]
    },
    {
      "cell_type": "markdown",
      "metadata": {
        "id": "adnMvFAbwS6Q"
      },
      "source": [
        "Значения номера этажа распределены преимущественно в диапазоне 1 - 23 со средним значением 5,88 и медианным 4. Распределение логично сдвинуто влево и не имеет выбросов.\n",
        "\n",
        "\n",
        "По результатам анализа интересующих нас параметров мы сократили датасет за счет удаления выбросов и аномалий с 23565 до 23358 строк, что составляет менее 1% данных."
      ]
    },
    {
      "cell_type": "code",
      "metadata": {
        "id": "9WiuggxvwS6R",
        "outputId": "0cb2fd0f-2674-4135-a21f-ea560adb96b1"
      },
      "source": [
        "# Исследуем от чего зависит цена квартиры\n",
        "\n",
        "columns_hm = ['last_price', 'total_images', 'total_area', 'rooms', 'ceiling_height', 'floors_total', 'living_area', 'floor',\n",
        "       'kitchen_area', 'balcony', 'airports_nearest', 'cityCenters_nearest', 'studio', 'open_plan', 'floor_group',\n",
        "       'parks_around3000', 'parks_nearest', 'ponds_around3000',\n",
        "       'ponds_nearest', 'days_exposition', 'year', 'month',\n",
        "       'weekday']\n",
        "df_hm = df[columns_hm]\n",
        "_, ax = plt.subplots(figsize=(12, 8))\n",
        "sns.heatmap(df_hm.corr(), fmt=\"d\", linewidths=.1, ax=ax)\n",
        "plt.show()\n"
      ],
      "execution_count": null,
      "outputs": [
        {
          "output_type": "display_data",
          "data": {
            "image/png": "[encoded data removed]",
            "text/plain": [
              "<Figure size 864x576 with 2 Axes>"
            ]
          },
          "metadata": {
            "tags": [],
            "needs_background": "light"
          }
        }
      ]
    },
    {
      "cell_type": "code",
      "metadata": {
        "id": "526KbuJywS6T",
        "outputId": "60d6cb7a-34ee-440e-9edb-5b867e5f05f4"
      },
      "source": [
        "df_hm.corr()['last_price']"
      ],
      "execution_count": null,
      "outputs": [
        {
          "output_type": "execute_result",
          "data": {
            "text/plain": [
              "last_price             1.000000\n",
              "total_images           0.119443\n",
              "total_area             0.678839\n",
              "rooms                  0.388997\n",
              "ceiling_height         0.329066\n",
              "floors_total          -0.007686\n",
              "living_area            0.609969\n",
              "floor                  0.022845\n",
              "kitchen_area           0.534618\n",
              "balcony                0.007437\n",
              "airports_nearest       0.129835\n",
              "cityCenters_nearest   -0.055524\n",
              "studio                -0.028327\n",
              "open_plan             -0.009645\n",
              "floor_group            0.057572\n",
              "parks_around3000       0.272988\n",
              "parks_nearest          0.000651\n",
              "ponds_around3000       0.266237\n",
              "ponds_nearest          0.025943\n",
              "days_exposition        0.121015\n",
              "year                  -0.050376\n",
              "month                 -0.002545\n",
              "weekday                0.000249\n",
              "Name: last_price, dtype: float64"
            ]
          },
          "metadata": {
            "tags": []
          },
          "execution_count": 56
        }
      ]
    },
    {
      "cell_type": "markdown",
      "metadata": {
        "id": "OwW-GjKOwS6U"
      },
      "source": [
        "Из heatmap и расчитанных коэффициентов корелляции видно, что цена квартиры достаточно сильно зависит от параметров площади помещения (\"total_area\", \"living_area\", \"kitchen_area\"). Меньше на цену влияют количество комнат, высота потолков, расстояние до центра города и количество парков и водоемов поблизости. Остальные критерии влияют на стоимость квартир незначительно.\n",
        "\n",
        "Изучим влияние этажа на стоимость квартиры"
      ]
    },
    {
      "cell_type": "code",
      "metadata": {
        "id": "XxeoFygVwS6U",
        "outputId": "41dc8439-742d-4755-e1b1-ce5745b297c1"
      },
      "source": [
        "df['last_price'].corr(df['floor_group'])"
      ],
      "execution_count": null,
      "outputs": [
        {
          "output_type": "execute_result",
          "data": {
            "text/plain": [
              "0.057572459401763657"
            ]
          },
          "metadata": {
            "tags": []
          },
          "execution_count": 57
        }
      ]
    },
    {
      "cell_type": "markdown",
      "metadata": {
        "id": "1fvsRmojwS6V"
      },
      "source": [
        "Зависимость цены квартиры от этажа выглядит незначительной, с коэффициентом корелляции менее 0,06.\n",
        "\n",
        "\n",
        "Посмотрим, как зависит цена от даты размещения объявления"
      ]
    },
    {
      "cell_type": "code",
      "metadata": {
        "id": "eyhyeGH4wS6W",
        "outputId": "8e7d44f9-29ac-4b5a-d351-5ab586aa5faf"
      },
      "source": [
        "df_weekday_group = df.groupby('weekday')['last_price'].mean().sort_values(ascending = True)\n",
        "print('Средняя цена по дням недели', df_weekday_group)"
      ],
      "execution_count": null,
      "outputs": [
        {
          "output_type": "stream",
          "text": [
            "Средняя цена по дням недели weekday\n",
            "6    6266920.0\n",
            "1    6339142.0\n",
            "4    6371820.5\n",
            "2    6417569.5\n",
            "0    6425934.5\n",
            "5    6485134.0\n",
            "3    6674585.5\n",
            "Name: last_price, dtype: float32\n"
          ],
          "name": "stdout"
        }
      ]
    },
    {
      "cell_type": "code",
      "metadata": {
        "id": "F3VCQcwgwS6X",
        "outputId": "b6c6a09e-a922-44fa-820e-bfc8ebb263b4"
      },
      "source": [
        "df_month_group = df.groupby('month')['last_price'].mean().sort_values(ascending = True)\n",
        "print('Средняя цена по месяцам', df_month_group)"
      ],
      "execution_count": null,
      "outputs": [
        {
          "output_type": "stream",
          "text": [
            "Средняя цена по месяцам month\n",
            "10    6213253.0\n",
            "6     6267845.0\n",
            "3     6304971.0\n",
            "5     6349246.5\n",
            "8     6367003.0\n",
            "11    6433163.5\n",
            "2     6434675.0\n",
            "9     6463673.5\n",
            "12    6536697.5\n",
            "1     6586895.5\n",
            "7     6647217.5\n",
            "4     6692478.5\n",
            "Name: last_price, dtype: float32\n"
          ],
          "name": "stdout"
        }
      ]
    },
    {
      "cell_type": "code",
      "metadata": {
        "id": "uygMfmadwS6Y",
        "outputId": "108e0b6c-55b2-4544-d8d2-f3fcbd8902d7"
      },
      "source": [
        "df_year_group = df.groupby('year')['last_price'].mean().sort_values(ascending = True)\n",
        "print('Средняя цена по годам', df_year_group)"
      ],
      "execution_count": null,
      "outputs": [
        {
          "output_type": "stream",
          "text": [
            "Средняя цена по годам year\n",
            "2018     5965129.0\n",
            "2017     6358768.5\n",
            "2019     6649627.5\n",
            "2016     6776120.0\n",
            "2015     8490267.0\n",
            "2014    12046600.0\n",
            "Name: last_price, dtype: float32\n"
          ],
          "name": "stdout"
        }
      ]
    },
    {
      "cell_type": "code",
      "metadata": {
        "id": "7X4eKl-nwS6Z",
        "outputId": "5e70165d-7299-4620-fa59-a6bb77e76df2"
      },
      "source": [
        "df_date_group = df[['last_price', 'year', 'month', 'weekday']]\n",
        "\n",
        "_, ax = plt.subplots(figsize=(8, 5))\n",
        "sns.heatmap(df_date_group.corr(), fmt=\"d\", linewidths=.1, ax=ax)\n",
        "plt.show()"
      ],
      "execution_count": null,
      "outputs": [
        {
          "output_type": "display_data",
          "data": {
            "image/png": "[encoded data removed]",
            "text/plain": [
              "<Figure size 576x360 with 2 Axes>"
            ]
          },
          "metadata": {
            "tags": [],
            "needs_background": "light"
          }
        }
      ]
    },
    {
      "cell_type": "markdown",
      "metadata": {
        "id": "1nNFJJxYwS6b"
      },
      "source": [
        "Никакой явной зависимости цены квартиры от дня, месяца или года публикации нет.\n",
        "\n",
        "\n",
        "Изучим, как распределены объявления по населенным пунктам"
      ]
    },
    {
      "cell_type": "code",
      "metadata": {
        "id": "bjtFFWnzwS6c",
        "outputId": "52c2b7e5-9819-4456-aa59-c845f1352e99"
      },
      "source": [
        "df_location_amount_group = df.groupby('locality_name')['last_price'].count().sort_values(ascending = False).head(10)\n",
        "loc_amount_stat = df_location_amount_group.index\n",
        "print('Наибольшее число объявлений по населенным пунктам :', df_location_amount_group)"
      ],
      "execution_count": null,
      "outputs": [
        {
          "output_type": "stream",
          "text": [
            "Наибольшее число объявлений по населенным пунктам : locality_name\n",
            "Санкт-Петербург      15505\n",
            "посёлок Мурино         515\n",
            "посёлок Шушары         437\n",
            "Всеволожск             395\n",
            "Пушкин                 365\n",
            "Колпино                337\n",
            "посёлок Парголово      327\n",
            "Гатчина                305\n",
            "деревня Кудрово        297\n",
            "Выборг                 234\n",
            "Name: last_price, dtype: int64\n"
          ],
          "name": "stdout"
        }
      ]
    },
    {
      "cell_type": "code",
      "metadata": {
        "id": "VO_4qCdZwS6d",
        "outputId": "ecffdf2f-0eea-4e1a-aa0e-660c023f758b"
      },
      "source": [
        "df_location_price_group = df[df['locality_name'].isin(loc_amount_stat)].groupby('locality_name')['meter_price'].mean().sort_values(ascending = False)\n",
        "print('Средняя цена квадратного метра жилья по населенным пунктам :', df_location_price_group.round(2))"
      ],
      "execution_count": null,
      "outputs": [
        {
          "output_type": "stream",
          "text": [
            "Средняя цена квадратного метра жилья по населенным пунктам : locality_name\n",
            "Санкт-Петербург      114445.320312\n",
            "Пушкин               102946.789062\n",
            "деревня Кудрово       92472.203125\n",
            "посёлок Парголово     90175.906250\n",
            "посёлок Мурино        85503.117188\n",
            "посёлок Шушары        78554.921875\n",
            "Колпино               75420.656250\n",
            "Всеволожск            68816.343750\n",
            "Гатчина               68811.937500\n",
            "Выборг                58191.160156\n",
            "Name: meter_price, dtype: float32\n"
          ],
          "name": "stdout"
        }
      ]
    },
    {
      "cell_type": "code",
      "metadata": {
        "id": "WBGN5ZAWwS6d",
        "outputId": "69c6ec66-4153-4a0b-e4df-41207bb2c657"
      },
      "source": [
        "df_location_group_result = pd.concat([df_location_amount_group, df_location_price_group], axis = 1)\n",
        "df_location_group_result.columns = ['number_of_ads', 'meter_price']\n",
        "df_location_group_result.sort_values('number_of_ads', ascending = False)"
      ],
      "execution_count": null,
      "outputs": [
        {
          "output_type": "execute_result",
          "data": {
            "text/html": [
              "<div>\n",
              "<style scoped>\n",
              "    .dataframe tbody tr th:only-of-type {\n",
              "        vertical-align: middle;\n",
              "    }\n",
              "\n",
              "    .dataframe tbody tr th {\n",
              "        vertical-align: top;\n",
              "    }\n",
              "\n",
              "    .dataframe thead th {\n",
              "        text-align: right;\n",
              "    }\n",
              "</style>\n",
              "<table border=\"1\" class=\"dataframe\">\n",
              "  <thead>\n",
              "    <tr style=\"text-align: right;\">\n",
              "      <th></th>\n",
              "      <th>number_of_ads</th>\n",
              "      <th>meter_price</th>\n",
              "    </tr>\n",
              "  </thead>\n",
              "  <tbody>\n",
              "    <tr>\n",
              "      <td>Санкт-Петербург</td>\n",
              "      <td>15505</td>\n",
              "      <td>114445.320312</td>\n",
              "    </tr>\n",
              "    <tr>\n",
              "      <td>посёлок Мурино</td>\n",
              "      <td>515</td>\n",
              "      <td>85503.125000</td>\n",
              "    </tr>\n",
              "    <tr>\n",
              "      <td>посёлок Шушары</td>\n",
              "      <td>437</td>\n",
              "      <td>78554.914062</td>\n",
              "    </tr>\n",
              "    <tr>\n",
              "      <td>Всеволожск</td>\n",
              "      <td>395</td>\n",
              "      <td>68816.343750</td>\n",
              "    </tr>\n",
              "    <tr>\n",
              "      <td>Пушкин</td>\n",
              "      <td>365</td>\n",
              "      <td>102946.789062</td>\n",
              "    </tr>\n",
              "    <tr>\n",
              "      <td>Колпино</td>\n",
              "      <td>337</td>\n",
              "      <td>75420.664062</td>\n",
              "    </tr>\n",
              "    <tr>\n",
              "      <td>посёлок Парголово</td>\n",
              "      <td>327</td>\n",
              "      <td>90175.914062</td>\n",
              "    </tr>\n",
              "    <tr>\n",
              "      <td>Гатчина</td>\n",
              "      <td>305</td>\n",
              "      <td>68811.937500</td>\n",
              "    </tr>\n",
              "    <tr>\n",
              "      <td>деревня Кудрово</td>\n",
              "      <td>297</td>\n",
              "      <td>92472.195312</td>\n",
              "    </tr>\n",
              "    <tr>\n",
              "      <td>Выборг</td>\n",
              "      <td>234</td>\n",
              "      <td>58191.164062</td>\n",
              "    </tr>\n",
              "  </tbody>\n",
              "</table>\n",
              "</div>"
            ],
            "text/plain": [
              "                   number_of_ads    meter_price\n",
              "Санкт-Петербург            15505  114445.320312\n",
              "посёлок Мурино               515   85503.125000\n",
              "посёлок Шушары               437   78554.914062\n",
              "Всеволожск                   395   68816.343750\n",
              "Пушкин                       365  102946.789062\n",
              "Колпино                      337   75420.664062\n",
              "посёлок Парголово            327   90175.914062\n",
              "Гатчина                      305   68811.937500\n",
              "деревня Кудрово              297   92472.195312\n",
              "Выборг                       234   58191.164062"
            ]
          },
          "metadata": {
            "tags": []
          },
          "execution_count": 64
        }
      ]
    },
    {
      "cell_type": "markdown",
      "metadata": {
        "id": "PTs9CRLGwS6g"
      },
      "source": [
        "Cамая высокая средняя стоимость квадратного метра (около 115 тысяч) предсказуемо выявлена в Санкт-Петербурге. \n",
        "Самая низкая, почти в два раза ниже - в Выборге."
      ]
    },
    {
      "cell_type": "markdown",
      "metadata": {
        "id": "5xe5p8xMwS6h"
      },
      "source": [
        "Рассмотрим подробнее рынок недвижимости Санкт-Петербурга. Определим как влияет на цену расстояние до центра города."
      ]
    },
    {
      "cell_type": "code",
      "metadata": {
        "id": "PmBGXAUDwS6h",
        "outputId": "ce9fd367-0a87-42d2-fb39-c6954339ae5b"
      },
      "source": [
        "df_spb = df.query('locality_name == \"Санкт-Петербург\"')\n",
        "df_spb['cityCenter_km'] = round(df_spb['cityCenters_nearest']/1000)\n",
        "df_spb_stat = df_spb.pivot_table(index = 'cityCenter_km', values = 'meter_price', aggfunc = ['mean'])\n",
        "\n",
        "# Отобразим на графике изменение средней цены квадратного метра недвижимости при удалении от центра Санкт-Петербурга\n",
        "\n",
        "fig, ax = plt.subplots(figsize = (12,7))\n",
        "ax.plot(df_spb_stat, '-b', label='цена м.кв.')\n",
        "ax.plot([3, 3], [0, 270000], color='r', linestyle='--', linewidth=1 , label = '3км')\n",
        "ax.plot([7, 7], [0, 270000], color='g', linestyle='--', linewidth=1 , label = '7км')\n",
        "ax.set_title('Цена квадратного метра жилья в Санкт-Петербурге', pad = 20)\n",
        "ax.set_xlabel('Расстояние от центра', labelpad = 20)\n",
        "ax.set_ylabel('Средняя цена квадратного метра', labelpad = 10)\n",
        "ax.grid(True)\n",
        "ax.set(xlim = (-1.5, 30), ylim= (0,270000))\n",
        "leg = ax.legend();\n",
        "plt.show()"
      ],
      "execution_count": null,
      "outputs": [
        {
          "output_type": "display_data",
          "data": {
            "image/png": "[encoded data removed]",
            "text/plain": [
              "<Figure size 864x504 with 1 Axes>"
            ]
          },
          "metadata": {
            "tags": [],
            "needs_background": "light"
          }
        }
      ]
    },
    {
      "cell_type": "markdown",
      "metadata": {
        "id": "BdF4CvmTwS6i"
      },
      "source": [
        "Из графика видно, что средняя цена квадратного метра изменяется неравномерно при удалении от центра города. Сначала цена резко падает примерно до 125000, но потом на расстоянии с 3 до 7 км она поднимается до 150000. Поле этого график плавно идет вниз. Такое поведение цены можно объяснить географическими особенностями Санкт-Петербурга. Первая область в радиусе 3 км - исторический центр города с самой дорогой недвижимостью. Ее с трех сторон окружает Нева и обводной канал. Рост цен в области 3 -7 км от центра связана с тем, что там находятся некоторые популярные районы города, например Васильевский остров и Петроградский район. Однако, это скорее исключения, пэтому центр города стоит ограницить областью 3км.\n",
        "\n",
        "\n",
        "Изучим подробнее данные о квартирах в ценральной части Санкт-Петербурга.\n"
      ]
    },
    {
      "cell_type": "code",
      "metadata": {
        "id": "Eo7f-1thwS6k",
        "outputId": "1bfad0a4-f5ad-48c8-90ad-d5004ff3df8b"
      },
      "source": [
        "df_spb_center = df_spb.query('cityCenter_km <= 3')\n",
        "df_spb_center.head()"
      ],
      "execution_count": null,
      "outputs": [
        {
          "output_type": "execute_result",
          "data": {
            "text/html": [
              "<div>\n",
              "<style scoped>\n",
              "    .dataframe tbody tr th:only-of-type {\n",
              "        vertical-align: middle;\n",
              "    }\n",
              "\n",
              "    .dataframe tbody tr th {\n",
              "        vertical-align: top;\n",
              "    }\n",
              "\n",
              "    .dataframe thead th {\n",
              "        text-align: right;\n",
              "    }\n",
              "</style>\n",
              "<table border=\"1\" class=\"dataframe\">\n",
              "  <thead>\n",
              "    <tr style=\"text-align: right;\">\n",
              "      <th></th>\n",
              "      <th>total_images</th>\n",
              "      <th>last_price</th>\n",
              "      <th>total_area</th>\n",
              "      <th>first_day_exposition</th>\n",
              "      <th>rooms</th>\n",
              "      <th>ceiling_height</th>\n",
              "      <th>floors_total</th>\n",
              "      <th>living_area</th>\n",
              "      <th>floor</th>\n",
              "      <th>is_apartment</th>\n",
              "      <th>...</th>\n",
              "      <th>kitchen_to_median</th>\n",
              "      <th>days_calculated</th>\n",
              "      <th>meter_price</th>\n",
              "      <th>year</th>\n",
              "      <th>month</th>\n",
              "      <th>weekday</th>\n",
              "      <th>floor_group</th>\n",
              "      <th>living_total_ratio</th>\n",
              "      <th>kitchen_total_ratio</th>\n",
              "      <th>cityCenter_km</th>\n",
              "    </tr>\n",
              "  </thead>\n",
              "  <tbody>\n",
              "    <tr>\n",
              "      <td>24</td>\n",
              "      <td>8</td>\n",
              "      <td>6500000.0</td>\n",
              "      <td>97.199997</td>\n",
              "      <td>2015-10-31</td>\n",
              "      <td>2</td>\n",
              "      <td>2.65</td>\n",
              "      <td>3</td>\n",
              "      <td>46.500000</td>\n",
              "      <td>1</td>\n",
              "      <td>False</td>\n",
              "      <td>...</td>\n",
              "      <td>False</td>\n",
              "      <td>False</td>\n",
              "      <td>66872.429688</td>\n",
              "      <td>2015</td>\n",
              "      <td>10</td>\n",
              "      <td>5</td>\n",
              "      <td>1</td>\n",
              "      <td>0.478395</td>\n",
              "      <td>0.201646</td>\n",
              "      <td>2.0</td>\n",
              "    </tr>\n",
              "    <tr>\n",
              "      <td>81</td>\n",
              "      <td>9</td>\n",
              "      <td>10949000.0</td>\n",
              "      <td>68.000000</td>\n",
              "      <td>2018-12-27</td>\n",
              "      <td>1</td>\n",
              "      <td>2.65</td>\n",
              "      <td>10</td>\n",
              "      <td>38.614471</td>\n",
              "      <td>6</td>\n",
              "      <td>False</td>\n",
              "      <td>...</td>\n",
              "      <td>True</td>\n",
              "      <td>True</td>\n",
              "      <td>161014.703125</td>\n",
              "      <td>2018</td>\n",
              "      <td>12</td>\n",
              "      <td>3</td>\n",
              "      <td>3</td>\n",
              "      <td>0.567860</td>\n",
              "      <td>0.172414</td>\n",
              "      <td>-0.0</td>\n",
              "    </tr>\n",
              "    <tr>\n",
              "      <td>99</td>\n",
              "      <td>32</td>\n",
              "      <td>9600000.0</td>\n",
              "      <td>90.000000</td>\n",
              "      <td>2017-09-26</td>\n",
              "      <td>4</td>\n",
              "      <td>2.65</td>\n",
              "      <td>5</td>\n",
              "      <td>67.000000</td>\n",
              "      <td>2</td>\n",
              "      <td>False</td>\n",
              "      <td>...</td>\n",
              "      <td>False</td>\n",
              "      <td>False</td>\n",
              "      <td>106666.656250</td>\n",
              "      <td>2017</td>\n",
              "      <td>9</td>\n",
              "      <td>1</td>\n",
              "      <td>3</td>\n",
              "      <td>0.744444</td>\n",
              "      <td>0.088889</td>\n",
              "      <td>3.0</td>\n",
              "    </tr>\n",
              "    <tr>\n",
              "      <td>137</td>\n",
              "      <td>8</td>\n",
              "      <td>4800000.0</td>\n",
              "      <td>40.000000</td>\n",
              "      <td>2017-11-18</td>\n",
              "      <td>2</td>\n",
              "      <td>2.65</td>\n",
              "      <td>3</td>\n",
              "      <td>29.000000</td>\n",
              "      <td>2</td>\n",
              "      <td>False</td>\n",
              "      <td>...</td>\n",
              "      <td>False</td>\n",
              "      <td>False</td>\n",
              "      <td>120000.000000</td>\n",
              "      <td>2017</td>\n",
              "      <td>11</td>\n",
              "      <td>5</td>\n",
              "      <td>3</td>\n",
              "      <td>0.725000</td>\n",
              "      <td>0.150000</td>\n",
              "      <td>3.0</td>\n",
              "    </tr>\n",
              "    <tr>\n",
              "      <td>153</td>\n",
              "      <td>1</td>\n",
              "      <td>8200000.0</td>\n",
              "      <td>80.000000</td>\n",
              "      <td>2018-11-06</td>\n",
              "      <td>3</td>\n",
              "      <td>4.15</td>\n",
              "      <td>3</td>\n",
              "      <td>44.200001</td>\n",
              "      <td>2</td>\n",
              "      <td>False</td>\n",
              "      <td>...</td>\n",
              "      <td>False</td>\n",
              "      <td>False</td>\n",
              "      <td>102500.000000</td>\n",
              "      <td>2018</td>\n",
              "      <td>11</td>\n",
              "      <td>1</td>\n",
              "      <td>3</td>\n",
              "      <td>0.552500</td>\n",
              "      <td>0.152500</td>\n",
              "      <td>3.0</td>\n",
              "    </tr>\n",
              "  </tbody>\n",
              "</table>\n",
              "<p>5 rows × 33 columns</p>\n",
              "</div>"
            ],
            "text/plain": [
              "     total_images  last_price  total_area first_day_exposition  rooms  \\\n",
              "24              8   6500000.0   97.199997           2015-10-31      2   \n",
              "81              9  10949000.0   68.000000           2018-12-27      1   \n",
              "99             32   9600000.0   90.000000           2017-09-26      4   \n",
              "137             8   4800000.0   40.000000           2017-11-18      2   \n",
              "153             1   8200000.0   80.000000           2018-11-06      3   \n",
              "\n",
              "     ceiling_height  floors_total  living_area  floor  is_apartment  ...  \\\n",
              "24             2.65             3    46.500000      1         False  ...   \n",
              "81             2.65            10    38.614471      6         False  ...   \n",
              "99             2.65             5    67.000000      2         False  ...   \n",
              "137            2.65             3    29.000000      2         False  ...   \n",
              "153            4.15             3    44.200001      2         False  ...   \n",
              "\n",
              "     kitchen_to_median  days_calculated    meter_price  year month  weekday  \\\n",
              "24               False            False   66872.429688  2015    10        5   \n",
              "81                True             True  161014.703125  2018    12        3   \n",
              "99               False            False  106666.656250  2017     9        1   \n",
              "137              False            False  120000.000000  2017    11        5   \n",
              "153              False            False  102500.000000  2018    11        1   \n",
              "\n",
              "     floor_group  living_total_ratio  kitchen_total_ratio  cityCenter_km  \n",
              "24             1            0.478395             0.201646            2.0  \n",
              "81             3            0.567860             0.172414           -0.0  \n",
              "99             3            0.744444             0.088889            3.0  \n",
              "137            3            0.725000             0.150000            3.0  \n",
              "153            3            0.552500             0.152500            3.0  \n",
              "\n",
              "[5 rows x 33 columns]"
            ]
          },
          "metadata": {
            "tags": []
          },
          "execution_count": 66
        }
      ]
    },
    {
      "cell_type": "code",
      "metadata": {
        "id": "-sOcM-f-wS6l",
        "outputId": "2185a774-03a2-49d6-8b25-2d21f73475c8"
      },
      "source": [
        "columns_to_analyze = ['total_area', 'meter_price', 'rooms', 'ceiling_height']\n",
        "df_spb_not_center = df_spb.query('cityCenter_km > 3')\n",
        "\n",
        "\n",
        "fig, axs = plt.subplots(2, 2, figsize = (12,12))\n",
        "axs = axs.ravel()\n",
        "for i, column in enumerate(columns_to_analyze):\n",
        "\n",
        "    axs[i].hist(df_spb_center[column], bins = 100, density=True, alpha = 0.5, label='Центр')\n",
        "    axs[i].hist(df_spb_not_center[column], bins = 100, density=True, alpha = 0.5, label='Не центр')\n",
        "    axs[i].set_xlabel(column)\n",
        "    axs[i].legend() \n",
        "plt.tight_layout(pad=5, w_pad=2, h_pad=2)\n",
        "plt.suptitle('Распределение значений в центре Санкт-Перербурга и вне центра')\n",
        "plt.show()\n",
        "\n",
        "print('\\t\\t\\tЦентр СПб : \\n\\n', df_spb_center[columns_to_analyze].describe())\n",
        "print('\\n\\t\\t\\tЗа пределами центра СПб : \\n\\n', df_spb_not_center[columns_to_analyze].describe())"
      ],
      "execution_count": null,
      "outputs": [
        {
          "output_type": "display_data",
          "data": {
            "image/png": "[encoded data removed]",
            "text/plain": [
              "<Figure size 864x864 with 4 Axes>"
            ]
          },
          "metadata": {
            "tags": [],
            "needs_background": "light"
          }
        },
        {
          "output_type": "stream",
          "text": [
            "\t\t\tЦентр СПб : \n",
            "\n",
            "        total_area   meter_price       rooms  ceiling_height\n",
            "count  924.000000  9.240000e+02  924.000000      924.000000\n",
            "mean    97.360237  1.499969e+05    3.054113        3.031115\n",
            "std     53.617996  1.215359e+05    1.430701        0.406709\n",
            "min     22.700001  2.891963e+04    0.000000        2.500000\n",
            "25%     63.000000  9.680074e+04    2.000000        2.650000\n",
            "50%     83.649998  1.175484e+05    3.000000        3.000000\n",
            "75%    115.475002  1.527941e+05    4.000000        3.300000\n",
            "max    431.000000  1.736842e+06   11.000000        5.800000\n",
            "\n",
            "\t\t\tЗа пределами центра СПб : \n",
            "\n",
            "          total_area    meter_price         rooms  ceiling_height\n",
            "count  14581.000000   14581.000000  14581.000000    14581.000000\n",
            "mean      62.314545  112192.406250      2.112407        2.704383\n",
            "std       35.199543   40327.875000      1.065443        0.228077\n",
            "min       20.100000   15345.269531      0.000000        2.300000\n",
            "25%       41.299999   90643.273438      1.000000        2.600000\n",
            "50%       54.000000  104029.062500      2.000000        2.650000\n",
            "75%       72.000000  122883.296875      3.000000        2.700000\n",
            "max      494.100006  857542.812500     10.000000        8.300000\n"
          ],
          "name": "stdout"
        }
      ]
    },
    {
      "cell_type": "markdown",
      "metadata": {
        "id": "fOK5IIluwS6m"
      },
      "source": [
        "Из гистограмм плотности распределения значений площади, цены, количества комнат и высоты потолков мы отчетливо видим различие квартир в центре города и за его пределами.\n",
        "\n",
        " - Квартиры в центре больше по площади (почти 100м.кв в среднем) по сравнению с 62м.кв. у квартир на окраине\n",
        " - Средняя цена квадратного метра в центре города также выше (150 тысяч против 112 тысяч)\n",
        " - Распределение количества комнат в квартирах в центральной части Санкт-Петербурга смещено в сторону больших значений по сравнению с квартирами в других районах. Средние значения 3.1 и 2.1 соответственно.\n",
        " - Средняя высота потолков в центральной части города больше, чем за ее пределами. Медианное значение в обоих случаях 2,65м.\n",
        " \n",
        " Кроме того, разброс значений у квартир в центре как правило меньше, чем в остальном городе, что говорит о его достаточной гомогенности."
      ]
    },
    {
      "cell_type": "markdown",
      "metadata": {
        "id": "Za142_rRwS6n"
      },
      "source": [
        "### Общий вывод"
      ]
    },
    {
      "cell_type": "markdown",
      "metadata": {
        "id": "fqc2W9ifwS6n"
      },
      "source": [
        "Удалось определить ключевые параметры для автоматической системы контроля релевантности данных. Рассмотренные факторы по-разному влияют на цену квартиры. Наиболее важные параметры связаны с площадью помещения, а также с высотой потолков и количеством комнат. Этаж квартиры, наоборот, практически не влияет на стоимость жилья. Какой-либо сезонности или зависимости от дня публикации объявления не обнаружено.\n",
        "\n",
        "Коэффициенты корелляции цен на квартиры и других параметров в порядке убывания:  \n",
        "\n",
        "|Параметр|Коэффициент корелляции|\n",
        "|:----|:----|\n",
        "|Общая площадь|0.678839|\n",
        "|Жилая площадь|0.609969|\n",
        "|Площадь кухни|0.534618|\n",
        "|Количетво комнат|0.388997| \n",
        "|Высота потолков|0.329066|\n",
        "\n",
        "Проведен анализ цен на квартиры в разных населенных пунктах. Cамая высокая средняя стоимость квадратного метра (около 115 тысяч) - в Санкт-Петербурге. Самая низкая (58 тысяч) - в Выборге.\n",
        "\n",
        "Также был проведен анализ центральной части Санкт-Петербурга. Из графика изменения цены от расстояния до центра города мы определили, что центральная область, существенно отличающаяся по цене от остальных районов города находится в радиусе 3 км от центра. Сравнение гистограмм плотности распределений значений площади, цены, количества комнат и высоты потолков квартир в центре города и за его пределами показало значительное превышение этих параметров в центре.\n",
        "\n",
        "В ходе анализа было обнаружено больше 23% пропущенных значений в автоматически генерируемых данных о расположении объекта недвижимости, предположительно из-за отсутствия координат. Стоит восполнять эти пропуски из других баз по адресу квартиры.\n",
        "\n",
        "Необходимо ограничить диапазон допустимых значений при вводе высоты потолков так, чтобы ошибки ввода не портили данные. Для квартир-ситудий можно ограничить возможность ввода нулевого количества комнат.\n",
        "\n",
        "В целом, качество датасета хорошее. После обработки пропущенных данных, анализа распределения значений по ключевым параметрам и очистки данных от выбросов, датасет оскратился меньше чем на 1,5%. Дубликатов в данных нет."
      ]
    }
  ]
}
