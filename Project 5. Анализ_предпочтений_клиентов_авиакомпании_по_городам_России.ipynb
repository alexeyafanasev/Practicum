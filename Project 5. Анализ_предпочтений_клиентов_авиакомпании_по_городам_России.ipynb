{
  "nbformat": 4,
  "nbformat_minor": 0,
  "metadata": {
    "kernelspec": {
      "display_name": "Python 3",
      "language": "python",
      "name": "python3"
    },
    "language_info": {
      "codemirror_mode": {
        "name": "ipython",
        "version": 3
      },
      "file_extension": ".py",
      "mimetype": "text/x-python",
      "name": "python",
      "nbconvert_exporter": "python",
      "pygments_lexer": "ipython3",
      "version": "3.7.8"
    },
    "toc": {
      "base_numbering": 1,
      "nav_menu": {},
      "number_sections": true,
      "sideBar": true,
      "skip_h1_title": true,
      "title_cell": "Table of Contents",
      "title_sidebar": "Contents",
      "toc_cell": false,
      "toc_position": {},
      "toc_section_display": true,
      "toc_window_display": false
    },
    "colab": {
      "name": "Анализ предпочтений клиентов авиакомпании по городам России.ipynb",
      "provenance": [],
      "collapsed_sections": []
    }
  },
  "cells": [
    {
      "cell_type": "markdown",
      "metadata": {
        "id": "PVNZ7ncXe-Ab"
      },
      "source": [
        "# Анализ предпочтений клиентов авиакомпании по городам России\n",
        "\n",
        "Изначально данные находились в щести таблицах airports, aircrafts, tickets, flights, ticket_flights, festivals.\n",
        "\n",
        "\n",
        "Мы сгруппировали необходимую информацию об авиаперелетах в две таблицы с аггрегированными данными:\n",
        "     - Количество рейсов различных моделей самолетов в сентябре 2018г.\n",
        "     - Среднее количество рейсов, прибывающих за день в различные города России в августе 2018г.\n",
        "     \n",
        "Цель исследования - проанализировать спрос пассажиров на рейсы в города, где проходят крупнейшие фестивали чтобы понять предпочтения пользователей, покупающих билеты на те или иные направления.\n",
        "\n",
        "План работы:\n",
        "\n",
        "<br>1 - Загрузка и обзор данных \n",
        "<br>2 - Предобработка данных\n",
        "<br>3 - Исследовательский анализ\n",
        "<br>4 - Вывод"
      ]
    },
    {
      "cell_type": "markdown",
      "metadata": {
        "id": "vncMmsX5e-Ac"
      },
      "source": [
        "### Загрузка данных"
      ]
    },
    {
      "cell_type": "code",
      "metadata": {
        "id": "D8fNRNbme-Ad"
      },
      "source": [
        "import pandas as pd\n",
        "import numpy as np\n",
        "import seaborn as sns\n",
        "import matplotlib.pyplot as plt\n",
        "import plotly.express as px\n",
        "import plotly.graph_objects as go\n",
        "import plotly \n",
        "import warnings\n",
        "import orca\n",
        "warnings.filterwarnings('ignore')\n",
        "import requests\n",
        "from bs4 import BeautifulSoup"
      ],
      "execution_count": 48,
      "outputs": []
    },
    {
      "cell_type": "markdown",
      "metadata": {
        "id": "UEVKnYG3e-Ad"
      },
      "source": [
        "<div class=\"alert alert-block alert-info\"> Для отображения некоторых графиков потребуется библиотека Plotly версии не ниже 4.5\n",
        "\n",
        "Установите библиотеку при необходимости\n",
        "</div>"
      ]
    },
    {
      "cell_type": "code",
      "metadata": {
        "id": "X9RhmYE7e-Af"
      },
      "source": [
        "raw_models = pd.read_csv(\"/query_1.csv\")\n",
        "raw_cities = pd.read_csv(\"/query_3.csv\")"
      ],
      "execution_count": 49,
      "outputs": []
    },
    {
      "cell_type": "markdown",
      "metadata": {
        "id": "0cgnvbC7e-Af"
      },
      "source": [
        "Проведем первичный обзор каждой таблицы"
      ]
    },
    {
      "cell_type": "code",
      "metadata": {
        "id": "NREdMma4e-Af"
      },
      "source": [
        "def table_info(table_name):\n",
        "    print()\n",
        "    print('Первые 5 строк:')\n",
        "    display(table_name.head())\n",
        "    print()\n",
        "    print('Информация о содержащихся данных:')\n",
        "    print()\n",
        "    display(table_name.info())\n",
        "    print('Обзор числовых данных:')\n",
        "    display(table_name.describe())\n",
        "    print('Число дубликатов:')\n",
        "    display(table_name.duplicated().sum())\n",
        "    "
      ],
      "execution_count": 50,
      "outputs": []
    },
    {
      "cell_type": "code",
      "metadata": {
        "id": "kdRnNzQbe-Ag",
        "colab": {
          "base_uri": "https://localhost:8080/",
          "height": 807
        },
        "outputId": "a95a3e02-6e13-4a7a-b82f-5947bab5e59c"
      },
      "source": [
        "print('Обзор таблицы models')\n",
        "table_info(raw_models)"
      ],
      "execution_count": 51,
      "outputs": [
        {
          "output_type": "stream",
          "text": [
            "Обзор таблицы models\n",
            "\n",
            "Первые 5 строк:\n"
          ],
          "name": "stdout"
        },
        {
          "output_type": "display_data",
          "data": {
            "text/html": [
              "<div>\n",
              "<style scoped>\n",
              "    .dataframe tbody tr th:only-of-type {\n",
              "        vertical-align: middle;\n",
              "    }\n",
              "\n",
              "    .dataframe tbody tr th {\n",
              "        vertical-align: top;\n",
              "    }\n",
              "\n",
              "    .dataframe thead th {\n",
              "        text-align: right;\n",
              "    }\n",
              "</style>\n",
              "<table border=\"1\" class=\"dataframe\">\n",
              "  <thead>\n",
              "    <tr style=\"text-align: right;\">\n",
              "      <th></th>\n",
              "      <th>model</th>\n",
              "      <th>flights_amount</th>\n",
              "    </tr>\n",
              "  </thead>\n",
              "  <tbody>\n",
              "    <tr>\n",
              "      <th>0</th>\n",
              "      <td>Airbus A319-100</td>\n",
              "      <td>607</td>\n",
              "    </tr>\n",
              "    <tr>\n",
              "      <th>1</th>\n",
              "      <td>Airbus A321-200</td>\n",
              "      <td>960</td>\n",
              "    </tr>\n",
              "    <tr>\n",
              "      <th>2</th>\n",
              "      <td>Boeing 737-300</td>\n",
              "      <td>630</td>\n",
              "    </tr>\n",
              "    <tr>\n",
              "      <th>3</th>\n",
              "      <td>Boeing 767-300</td>\n",
              "      <td>600</td>\n",
              "    </tr>\n",
              "    <tr>\n",
              "      <th>4</th>\n",
              "      <td>Boeing 777-300</td>\n",
              "      <td>300</td>\n",
              "    </tr>\n",
              "  </tbody>\n",
              "</table>\n",
              "</div>"
            ],
            "text/plain": [
              "             model  flights_amount\n",
              "0  Airbus A319-100             607\n",
              "1  Airbus A321-200             960\n",
              "2   Boeing 737-300             630\n",
              "3   Boeing 767-300             600\n",
              "4   Boeing 777-300             300"
            ]
          },
          "metadata": {
            "tags": []
          }
        },
        {
          "output_type": "stream",
          "text": [
            "\n",
            "Информация о содержащихся данных:\n",
            "\n",
            "<class 'pandas.core.frame.DataFrame'>\n",
            "RangeIndex: 8 entries, 0 to 7\n",
            "Data columns (total 2 columns):\n",
            " #   Column          Non-Null Count  Dtype \n",
            "---  ------          --------------  ----- \n",
            " 0   model           8 non-null      object\n",
            " 1   flights_amount  8 non-null      int64 \n",
            "dtypes: int64(1), object(1)\n",
            "memory usage: 256.0+ bytes\n"
          ],
          "name": "stdout"
        },
        {
          "output_type": "display_data",
          "data": {
            "text/plain": [
              "None"
            ]
          },
          "metadata": {
            "tags": []
          }
        },
        {
          "output_type": "stream",
          "text": [
            "Обзор числовых данных:\n"
          ],
          "name": "stdout"
        },
        {
          "output_type": "display_data",
          "data": {
            "text/html": [
              "<div>\n",
              "<style scoped>\n",
              "    .dataframe tbody tr th:only-of-type {\n",
              "        vertical-align: middle;\n",
              "    }\n",
              "\n",
              "    .dataframe tbody tr th {\n",
              "        vertical-align: top;\n",
              "    }\n",
              "\n",
              "    .dataframe thead th {\n",
              "        text-align: right;\n",
              "    }\n",
              "</style>\n",
              "<table border=\"1\" class=\"dataframe\">\n",
              "  <thead>\n",
              "    <tr style=\"text-align: right;\">\n",
              "      <th></th>\n",
              "      <th>flights_amount</th>\n",
              "    </tr>\n",
              "  </thead>\n",
              "  <tbody>\n",
              "    <tr>\n",
              "      <th>count</th>\n",
              "      <td>8.000000</td>\n",
              "    </tr>\n",
              "    <tr>\n",
              "      <th>mean</th>\n",
              "      <td>2035.625000</td>\n",
              "    </tr>\n",
              "    <tr>\n",
              "      <th>std</th>\n",
              "      <td>1965.203947</td>\n",
              "    </tr>\n",
              "    <tr>\n",
              "      <th>min</th>\n",
              "      <td>300.000000</td>\n",
              "    </tr>\n",
              "    <tr>\n",
              "      <th>25%</th>\n",
              "      <td>605.250000</td>\n",
              "    </tr>\n",
              "    <tr>\n",
              "      <th>50%</th>\n",
              "      <td>795.000000</td>\n",
              "    </tr>\n",
              "    <tr>\n",
              "      <th>75%</th>\n",
              "      <td>4250.250000</td>\n",
              "    </tr>\n",
              "    <tr>\n",
              "      <th>max</th>\n",
              "      <td>4557.000000</td>\n",
              "    </tr>\n",
              "  </tbody>\n",
              "</table>\n",
              "</div>"
            ],
            "text/plain": [
              "       flights_amount\n",
              "count        8.000000\n",
              "mean      2035.625000\n",
              "std       1965.203947\n",
              "min        300.000000\n",
              "25%        605.250000\n",
              "50%        795.000000\n",
              "75%       4250.250000\n",
              "max       4557.000000"
            ]
          },
          "metadata": {
            "tags": []
          }
        },
        {
          "output_type": "stream",
          "text": [
            "Число дубликатов:\n"
          ],
          "name": "stdout"
        },
        {
          "output_type": "display_data",
          "data": {
            "text/plain": [
              "0"
            ]
          },
          "metadata": {
            "tags": []
          }
        }
      ]
    },
    {
      "cell_type": "markdown",
      "metadata": {
        "id": "eev27BBHe-Ag"
      },
      "source": [
        "В таблице всего 8 строк. Нет пропущенных значений и дубликатов. Данные о количестве рейсов варьируются от 300 до 4557."
      ]
    },
    {
      "cell_type": "code",
      "metadata": {
        "id": "hudVo4Efe-Ag",
        "colab": {
          "base_uri": "https://localhost:8080/",
          "height": 807
        },
        "outputId": "99381ebc-f720-40db-f223-6989f763b694"
      },
      "source": [
        "print('Обзор таблицы cities')\n",
        "table_info(raw_cities)"
      ],
      "execution_count": 52,
      "outputs": [
        {
          "output_type": "stream",
          "text": [
            "Обзор таблицы cities\n",
            "\n",
            "Первые 5 строк:\n"
          ],
          "name": "stdout"
        },
        {
          "output_type": "display_data",
          "data": {
            "text/html": [
              "<div>\n",
              "<style scoped>\n",
              "    .dataframe tbody tr th:only-of-type {\n",
              "        vertical-align: middle;\n",
              "    }\n",
              "\n",
              "    .dataframe tbody tr th {\n",
              "        vertical-align: top;\n",
              "    }\n",
              "\n",
              "    .dataframe thead th {\n",
              "        text-align: right;\n",
              "    }\n",
              "</style>\n",
              "<table border=\"1\" class=\"dataframe\">\n",
              "  <thead>\n",
              "    <tr style=\"text-align: right;\">\n",
              "      <th></th>\n",
              "      <th>city</th>\n",
              "      <th>average_flights</th>\n",
              "    </tr>\n",
              "  </thead>\n",
              "  <tbody>\n",
              "    <tr>\n",
              "      <th>0</th>\n",
              "      <td>Абакан</td>\n",
              "      <td>3.870968</td>\n",
              "    </tr>\n",
              "    <tr>\n",
              "      <th>1</th>\n",
              "      <td>Анадырь</td>\n",
              "      <td>1.000000</td>\n",
              "    </tr>\n",
              "    <tr>\n",
              "      <th>2</th>\n",
              "      <td>Анапа</td>\n",
              "      <td>2.161290</td>\n",
              "    </tr>\n",
              "    <tr>\n",
              "      <th>3</th>\n",
              "      <td>Архангельск</td>\n",
              "      <td>5.354839</td>\n",
              "    </tr>\n",
              "    <tr>\n",
              "      <th>4</th>\n",
              "      <td>Астрахань</td>\n",
              "      <td>2.451613</td>\n",
              "    </tr>\n",
              "  </tbody>\n",
              "</table>\n",
              "</div>"
            ],
            "text/plain": [
              "          city  average_flights\n",
              "0       Абакан         3.870968\n",
              "1      Анадырь         1.000000\n",
              "2        Анапа         2.161290\n",
              "3  Архангельск         5.354839\n",
              "4    Астрахань         2.451613"
            ]
          },
          "metadata": {
            "tags": []
          }
        },
        {
          "output_type": "stream",
          "text": [
            "\n",
            "Информация о содержащихся данных:\n",
            "\n",
            "<class 'pandas.core.frame.DataFrame'>\n",
            "RangeIndex: 101 entries, 0 to 100\n",
            "Data columns (total 2 columns):\n",
            " #   Column           Non-Null Count  Dtype  \n",
            "---  ------           --------------  -----  \n",
            " 0   city             101 non-null    object \n",
            " 1   average_flights  101 non-null    float64\n",
            "dtypes: float64(1), object(1)\n",
            "memory usage: 1.7+ KB\n"
          ],
          "name": "stdout"
        },
        {
          "output_type": "display_data",
          "data": {
            "text/plain": [
              "None"
            ]
          },
          "metadata": {
            "tags": []
          }
        },
        {
          "output_type": "stream",
          "text": [
            "Обзор числовых данных:\n"
          ],
          "name": "stdout"
        },
        {
          "output_type": "display_data",
          "data": {
            "text/html": [
              "<div>\n",
              "<style scoped>\n",
              "    .dataframe tbody tr th:only-of-type {\n",
              "        vertical-align: middle;\n",
              "    }\n",
              "\n",
              "    .dataframe tbody tr th {\n",
              "        vertical-align: top;\n",
              "    }\n",
              "\n",
              "    .dataframe thead th {\n",
              "        text-align: right;\n",
              "    }\n",
              "</style>\n",
              "<table border=\"1\" class=\"dataframe\">\n",
              "  <thead>\n",
              "    <tr style=\"text-align: right;\">\n",
              "      <th></th>\n",
              "      <th>average_flights</th>\n",
              "    </tr>\n",
              "  </thead>\n",
              "  <tbody>\n",
              "    <tr>\n",
              "      <th>count</th>\n",
              "      <td>101.000000</td>\n",
              "    </tr>\n",
              "    <tr>\n",
              "      <th>mean</th>\n",
              "      <td>5.494189</td>\n",
              "    </tr>\n",
              "    <tr>\n",
              "      <th>std</th>\n",
              "      <td>13.119790</td>\n",
              "    </tr>\n",
              "    <tr>\n",
              "      <th>min</th>\n",
              "      <td>1.000000</td>\n",
              "    </tr>\n",
              "    <tr>\n",
              "      <th>25%</th>\n",
              "      <td>2.000000</td>\n",
              "    </tr>\n",
              "    <tr>\n",
              "      <th>50%</th>\n",
              "      <td>3.000000</td>\n",
              "    </tr>\n",
              "    <tr>\n",
              "      <th>75%</th>\n",
              "      <td>5.870968</td>\n",
              "    </tr>\n",
              "    <tr>\n",
              "      <th>max</th>\n",
              "      <td>129.774194</td>\n",
              "    </tr>\n",
              "  </tbody>\n",
              "</table>\n",
              "</div>"
            ],
            "text/plain": [
              "       average_flights\n",
              "count       101.000000\n",
              "mean          5.494189\n",
              "std          13.119790\n",
              "min           1.000000\n",
              "25%           2.000000\n",
              "50%           3.000000\n",
              "75%           5.870968\n",
              "max         129.774194"
            ]
          },
          "metadata": {
            "tags": []
          }
        },
        {
          "output_type": "stream",
          "text": [
            "Число дубликатов:\n"
          ],
          "name": "stdout"
        },
        {
          "output_type": "display_data",
          "data": {
            "text/plain": [
              "0"
            ]
          },
          "metadata": {
            "tags": []
          }
        }
      ]
    },
    {
      "cell_type": "markdown",
      "metadata": {
        "id": "Q-wsY947e-Ag"
      },
      "source": [
        "В таблице 101 строка. Нет пропущенных значений и дубликатов. Данные о среднесуточном количестве прилетов варьируются от 1 до 129."
      ]
    },
    {
      "cell_type": "code",
      "metadata": {
        "id": "50VHRfjSe-Ah"
      },
      "source": [
        "df_models = raw_models.copy()\n",
        "df_cities = raw_cities.copy()"
      ],
      "execution_count": 53,
      "outputs": []
    },
    {
      "cell_type": "markdown",
      "metadata": {
        "id": "P2O1HKjhe-Ah"
      },
      "source": [
        "#### Вывод\n",
        "\n",
        "Таблицы содержат информацию о количестве рейсов восьми различных моделей самолетов между ста городами России \n",
        "в августе и сентябре 2018 года. В представленных данных нет пропущенных значений, дубликатов или аномальных значений.\n",
        "В числовых столбцах нужно изменить тип данных."
      ]
    },
    {
      "cell_type": "markdown",
      "metadata": {
        "id": "av4NaZ7he-Ah"
      },
      "source": [
        "### Предобработка данных\n",
        "\n",
        "\n",
        "Изменим форматы числовых данных в таблицах"
      ]
    },
    {
      "cell_type": "code",
      "metadata": {
        "id": "f4MDyl9Ue-Ah"
      },
      "source": [
        "# Функция подсчета памяти, используемой для хнанения данных\n",
        "\n",
        "def mem_usage(data):\n",
        "    usage_b = data.memory_usage(deep=True).sum()\n",
        "    return usage_b.round(3)"
      ],
      "execution_count": 54,
      "outputs": []
    },
    {
      "cell_type": "code",
      "metadata": {
        "id": "fAvCIIghe-Ai",
        "colab": {
          "base_uri": "https://localhost:8080/"
        },
        "outputId": "fe2e9016-0d80-440c-ab54-c464db60df58"
      },
      "source": [
        "print('Использование памяти до оптимизации формата :', mem_usage(df_models), 'байт')\n",
        "df_models['flights_amount'] = pd.to_numeric(df_models['flights_amount'], downcast='integer')\n",
        "print('Использование памяти после оптимизации формата :', mem_usage(df_models), 'байт')\n",
        "print('Новый формат данных :',df_models['flights_amount'].dtype)"
      ],
      "execution_count": 55,
      "outputs": [
        {
          "output_type": "stream",
          "text": [
            "Использование памяти до оптимизации формата : 775 байт\n",
            "Использование памяти после оптимизации формата : 727 байт\n",
            "Новый формат данных : int16\n"
          ],
          "name": "stdout"
        }
      ]
    },
    {
      "cell_type": "code",
      "metadata": {
        "id": "nMrYSU66e-Ai",
        "colab": {
          "base_uri": "https://localhost:8080/"
        },
        "outputId": "9aa67c8c-b949-4a88-db01-fef860fa052c"
      },
      "source": [
        "print('Использование памяти до оптимизации формата :', mem_usage(df_cities), 'байт')\n",
        "df_cities['average_flights'] = pd.to_numeric(df_cities['average_flights'], downcast='float')\n",
        "print('Использование памяти после оптимизации формата :', mem_usage(df_cities), 'байт')\n",
        "print('Новый формат данных :',df_cities['average_flights'].dtype)"
      ],
      "execution_count": 56,
      "outputs": [
        {
          "output_type": "stream",
          "text": [
            "Использование памяти до оптимизации формата : 12710 байт\n",
            "Использование памяти после оптимизации формата : 12306 байт\n",
            "Новый формат данных : float32\n"
          ],
          "name": "stdout"
        }
      ]
    },
    {
      "cell_type": "markdown",
      "metadata": {
        "id": "tZKOLVYYe-Ai"
      },
      "source": [
        "#### Вывод\n",
        "\n",
        "Форматы числовых данных в обеих таблицах оптимизированы. Названия моделей самолетов и городов имеют верный формат"
      ]
    },
    {
      "cell_type": "markdown",
      "metadata": {
        "id": "Sd4w7oPne-Aj"
      },
      "source": [
        "### Исследовательский анализ\n",
        "\n",
        "Изучим полученные данные"
      ]
    },
    {
      "cell_type": "markdown",
      "metadata": {
        "id": "GcN7Ayzbe-Aj"
      },
      "source": [
        "#### Выберем топ-10 городов по количеству рейсов"
      ]
    },
    {
      "cell_type": "code",
      "metadata": {
        "id": "S-OIK267e-Aj",
        "colab": {
          "base_uri": "https://localhost:8080/",
          "height": 359
        },
        "outputId": "4ad2c0a0-0430-40fe-aae9-e00fc1508da0"
      },
      "source": [
        "df_cities_top = df_cities.sort_values('average_flights', ascending=False, inplace=False).head(10)\n",
        "df_cities_top"
      ],
      "execution_count": 57,
      "outputs": [
        {
          "output_type": "execute_result",
          "data": {
            "text/html": [
              "<div>\n",
              "<style scoped>\n",
              "    .dataframe tbody tr th:only-of-type {\n",
              "        vertical-align: middle;\n",
              "    }\n",
              "\n",
              "    .dataframe tbody tr th {\n",
              "        vertical-align: top;\n",
              "    }\n",
              "\n",
              "    .dataframe thead th {\n",
              "        text-align: right;\n",
              "    }\n",
              "</style>\n",
              "<table border=\"1\" class=\"dataframe\">\n",
              "  <thead>\n",
              "    <tr style=\"text-align: right;\">\n",
              "      <th></th>\n",
              "      <th>city</th>\n",
              "      <th>average_flights</th>\n",
              "    </tr>\n",
              "  </thead>\n",
              "  <tbody>\n",
              "    <tr>\n",
              "      <th>43</th>\n",
              "      <td>Москва</td>\n",
              "      <td>129.774200</td>\n",
              "    </tr>\n",
              "    <tr>\n",
              "      <th>70</th>\n",
              "      <td>Санкт-Петербург</td>\n",
              "      <td>31.161291</td>\n",
              "    </tr>\n",
              "    <tr>\n",
              "      <th>54</th>\n",
              "      <td>Новосибирск</td>\n",
              "      <td>17.322580</td>\n",
              "    </tr>\n",
              "    <tr>\n",
              "      <th>33</th>\n",
              "      <td>Красноярск</td>\n",
              "      <td>11.580646</td>\n",
              "    </tr>\n",
              "    <tr>\n",
              "      <th>20</th>\n",
              "      <td>Екатеринбург</td>\n",
              "      <td>11.322580</td>\n",
              "    </tr>\n",
              "    <tr>\n",
              "      <th>67</th>\n",
              "      <td>Ростов-на-Дону</td>\n",
              "      <td>10.193548</td>\n",
              "    </tr>\n",
              "    <tr>\n",
              "      <th>63</th>\n",
              "      <td>Пермь</td>\n",
              "      <td>10.129032</td>\n",
              "    </tr>\n",
              "    <tr>\n",
              "      <th>10</th>\n",
              "      <td>Брянск</td>\n",
              "      <td>10.000000</td>\n",
              "    </tr>\n",
              "    <tr>\n",
              "      <th>74</th>\n",
              "      <td>Сочи</td>\n",
              "      <td>9.612904</td>\n",
              "    </tr>\n",
              "    <tr>\n",
              "      <th>84</th>\n",
              "      <td>Ульяновск</td>\n",
              "      <td>9.580646</td>\n",
              "    </tr>\n",
              "  </tbody>\n",
              "</table>\n",
              "</div>"
            ],
            "text/plain": [
              "               city  average_flights\n",
              "43           Москва       129.774200\n",
              "70  Санкт-Петербург        31.161291\n",
              "54      Новосибирск        17.322580\n",
              "33       Красноярск        11.580646\n",
              "20     Екатеринбург        11.322580\n",
              "67   Ростов-на-Дону        10.193548\n",
              "63            Пермь        10.129032\n",
              "10           Брянск        10.000000\n",
              "74             Сочи         9.612904\n",
              "84        Ульяновск         9.580646"
            ]
          },
          "metadata": {
            "tags": []
          },
          "execution_count": 57
        }
      ]
    },
    {
      "cell_type": "markdown",
      "metadata": {
        "id": "tLdZioele-Ak"
      },
      "source": [
        "#### Отобразим количество рейсов для каждой модели самолета в сентябре 2018 года на графике"
      ]
    },
    {
      "cell_type": "code",
      "metadata": {
        "scrolled": false,
        "id": "MEL0PZgue-Ak",
        "colab": {
          "base_uri": "https://localhost:8080/",
          "height": 471
        },
        "outputId": "742267cb-ee8c-4de4-cabd-3491a50b8b40"
      },
      "source": [
        "fig = px.bar(df_models.sort_values('flights_amount', ascending = False),  x = 'model', y = 'flights_amount', \n",
        "             labels={\n",
        "                     \"model\": \"Модель самолета\",\n",
        "                     \"flights_amount\": \"Количество рейсов\",\n",
        "                     \"species\": \"Species of Iris\"\n",
        "                 },\n",
        "             title=\"Количество рейсов различных моделей самолетов в сентябре 2018 года\")\n",
        "fig.show(\"svg\")"
      ],
      "execution_count": 61,
      "outputs": [
        {
          "output_type": "display_data",
          "data": {
            "image/svg+xml": "<svg class=\"main-svg\" xmlns=\"http://www.w3.org/2000/svg\" xmlns:xlink=\"http://www.w3.org/1999/xlink\" width=\"700\" height=\"450\" viewBox=\"0 0 700 450\"><rect x=\"0\" y=\"0\" width=\"700\" height=\"450\" style=\"fill: rgb(255, 255, 255); fill-opacity: 1;\"/><defs id=\"defs-40b33a\"><g class=\"clips\"><clipPath id=\"clip40b33axyplot\" class=\"plotclip\"><rect width=\"540\" height=\"242\"/></clipPath><clipPath class=\"axesclip\" id=\"clip40b33ax\"><rect x=\"80\" y=\"0\" width=\"540\" height=\"450\"/></clipPath><clipPath class=\"axesclip\" id=\"clip40b33ay\"><rect x=\"0\" y=\"100\" width=\"700\" height=\"242\"/></clipPath><clipPath class=\"axesclip\" id=\"clip40b33axy\"><rect x=\"80\" y=\"100\" width=\"540\" height=\"242\"/></clipPath></g><g class=\"gradients\"/></defs><g class=\"bglayer\"><rect class=\"bg\" x=\"80\" y=\"100\" width=\"540\" height=\"242\" style=\"fill: rgb(229, 236, 246); fill-opacity: 1; stroke-width: 0;\"/></g><g class=\"layer-below\"><g class=\"imagelayer\"/><g class=\"shapelayer\"/></g><g class=\"cartesianlayer\"><g class=\"subplot xy\"><g class=\"layer-subplot\"><g class=\"shapelayer\"/><g class=\"imagelayer\"/></g><g class=\"gridlayer\"><g class=\"x\"/><g class=\"y\"><path class=\"ygrid crisp\" transform=\"translate(0,291.55)\" d=\"M80,0h540\" style=\"stroke: rgb(255, 255, 255); stroke-opacity: 1; stroke-width: 1px;\"/><path class=\"ygrid crisp\" transform=\"translate(0,241.1)\" d=\"M80,0h540\" style=\"stroke: rgb(255, 255, 255); stroke-opacity: 1; stroke-width: 1px;\"/><path class=\"ygrid crisp\" transform=\"translate(0,190.65)\" d=\"M80,0h540\" style=\"stroke: rgb(255, 255, 255); stroke-opacity: 1; stroke-width: 1px;\"/><path class=\"ygrid crisp\" transform=\"translate(0,140.2)\" d=\"M80,0h540\" style=\"stroke: rgb(255, 255, 255); stroke-opacity: 1; stroke-width: 1px;\"/></g></g><g class=\"zerolinelayer\"><path class=\"yzl zl crisp\" transform=\"translate(0,342)\" d=\"M80,0h540\" style=\"stroke: rgb(255, 255, 255); stroke-opacity: 1; stroke-width: 2px;\"/></g><path class=\"xlines-below\"/><path class=\"ylines-below\"/><g class=\"overlines-below\"/><g class=\"xaxislayer-below\"/><g class=\"yaxislayer-below\"/><g class=\"overaxes-below\"/><g class=\"plot\" transform=\"translate(80, 100)\" clip-path=\"url('#clip40b33axyplot')\"><g class=\"barlayer mlayer\"><g class=\"trace bars\" style=\"opacity: 1;\"><g class=\"points\"><g class=\"point\"><path d=\"M6.75,242V12.1H60.75V242Z\" style=\"vector-effect: non-scaling-stroke; opacity: 1; stroke-width: 0.5px; fill: rgb(99, 110, 250); fill-opacity: 1; stroke: rgb(229, 236, 246); stroke-opacity: 1;\"/></g><g class=\"point\"><path d=\"M74.25,242V17.7H128.25V242Z\" style=\"vector-effect: non-scaling-stroke; opacity: 1; stroke-width: 0.5px; fill: rgb(99, 110, 250); fill-opacity: 1; stroke: rgb(229, 236, 246); stroke-opacity: 1;\"/></g><g class=\"point\"><path d=\"M141.75,242V30.87H195.75V242Z\" style=\"vector-effect: non-scaling-stroke; opacity: 1; stroke-width: 0.5px; fill: rgb(99, 110, 250); fill-opacity: 1; stroke: rgb(229, 236, 246); stroke-opacity: 1;\"/></g><g class=\"point\"><path d=\"M209.25,242V193.57H263.25V242Z\" style=\"vector-effect: non-scaling-stroke; opacity: 1; stroke-width: 0.5px; fill: rgb(99, 110, 250); fill-opacity: 1; stroke: rgb(229, 236, 246); stroke-opacity: 1;\"/></g><g class=\"point\"><path d=\"M276.75,242V210.22H330.75V242Z\" style=\"vector-effect: non-scaling-stroke; opacity: 1; stroke-width: 0.5px; fill: rgb(99, 110, 250); fill-opacity: 1; stroke: rgb(229, 236, 246); stroke-opacity: 1;\"/></g><g class=\"point\"><path d=\"M344.25,242V211.38H398.25V242Z\" style=\"vector-effect: non-scaling-stroke; opacity: 1; stroke-width: 0.5px; fill: rgb(99, 110, 250); fill-opacity: 1; stroke: rgb(229, 236, 246); stroke-opacity: 1;\"/></g><g class=\"point\"><path d=\"M411.75,242V211.73H465.75V242Z\" style=\"vector-effect: non-scaling-stroke; opacity: 1; stroke-width: 0.5px; fill: rgb(99, 110, 250); fill-opacity: 1; stroke: rgb(229, 236, 246); stroke-opacity: 1;\"/></g><g class=\"point\"><path d=\"M479.25,242V226.87H533.25V242Z\" style=\"vector-effect: non-scaling-stroke; opacity: 1; stroke-width: 0.5px; fill: rgb(99, 110, 250); fill-opacity: 1; stroke: rgb(229, 236, 246); stroke-opacity: 1;\"/></g></g></g></g></g><g class=\"overplot\"/><path class=\"xlines-above crisp\" d=\"M0,0\" style=\"fill: none;\"/><path class=\"ylines-above crisp\" d=\"M0,0\" style=\"fill: none;\"/><g class=\"overlines-above\"/><g class=\"xaxislayer-above\"><g class=\"xtick\"><text text-anchor=\"start\" x=\"0\" y=\"355\" transform=\"translate(113.75,0) rotate(30,0,349)\" style=\"font-family: 'Open Sans', verdana, arial, sans-serif; font-size: 12px; fill: rgb(42, 63, 95); fill-opacity: 1; white-space: pre;\">Cessna 208 Caravan</text></g><g class=\"xtick\"><text text-anchor=\"start\" x=\"0\" y=\"355\" transform=\"translate(181.25,0) rotate(30,0,349)\" style=\"font-family: 'Open Sans', verdana, arial, sans-serif; font-size: 12px; fill: rgb(42, 63, 95); fill-opacity: 1; white-space: pre;\">Bombardier CRJ-200</text></g><g class=\"xtick\"><text text-anchor=\"start\" x=\"0\" y=\"355\" transform=\"translate(248.75,0) rotate(30,0,349)\" style=\"font-family: 'Open Sans', verdana, arial, sans-serif; font-size: 12px; fill: rgb(42, 63, 95); fill-opacity: 1; white-space: pre;\">Sukhoi SuperJet-100</text></g><g class=\"xtick\"><text text-anchor=\"start\" x=\"0\" y=\"355\" transform=\"translate(316.25,0) rotate(30,0,349)\" style=\"font-family: 'Open Sans', verdana, arial, sans-serif; font-size: 12px; fill: rgb(42, 63, 95); fill-opacity: 1; white-space: pre;\">Airbus A321-200</text></g><g class=\"xtick\"><text text-anchor=\"start\" x=\"0\" y=\"355\" transform=\"translate(383.75,0) rotate(30,0,349)\" style=\"font-family: 'Open Sans', verdana, arial, sans-serif; font-size: 12px; fill: rgb(42, 63, 95); fill-opacity: 1; white-space: pre;\">Boeing 737-300</text></g><g class=\"xtick\"><text text-anchor=\"start\" x=\"0\" y=\"355\" transform=\"translate(451.25,0) rotate(30,0,349)\" style=\"font-family: 'Open Sans', verdana, arial, sans-serif; font-size: 12px; fill: rgb(42, 63, 95); fill-opacity: 1; white-space: pre;\">Airbus A319-100</text></g><g class=\"xtick\"><text text-anchor=\"start\" x=\"0\" y=\"355\" transform=\"translate(518.75,0) rotate(30,0,349)\" style=\"font-family: 'Open Sans', verdana, arial, sans-serif; font-size: 12px; fill: rgb(42, 63, 95); fill-opacity: 1; white-space: pre;\">Boeing 767-300</text></g><g class=\"xtick\"><text text-anchor=\"start\" x=\"0\" y=\"355\" transform=\"translate(586.25,0) rotate(30,0,349)\" style=\"font-family: 'Open Sans', verdana, arial, sans-serif; font-size: 12px; fill: rgb(42, 63, 95); fill-opacity: 1; white-space: pre;\">Boeing 777-300</text></g></g><g class=\"yaxislayer-above\"><g class=\"ytick\"><text text-anchor=\"end\" x=\"79\" y=\"4.199999999999999\" transform=\"translate(0,342)\" style=\"font-family: 'Open Sans', verdana, arial, sans-serif; font-size: 12px; fill: rgb(42, 63, 95); fill-opacity: 1; white-space: pre;\">0</text></g><g class=\"ytick\"><text text-anchor=\"end\" x=\"79\" y=\"4.199999999999999\" transform=\"translate(0,291.55)\" style=\"font-family: 'Open Sans', verdana, arial, sans-serif; font-size: 12px; fill: rgb(42, 63, 95); fill-opacity: 1; white-space: pre;\">1000</text></g><g class=\"ytick\"><text text-anchor=\"end\" x=\"79\" y=\"4.199999999999999\" transform=\"translate(0,241.1)\" style=\"font-family: 'Open Sans', verdana, arial, sans-serif; font-size: 12px; fill: rgb(42, 63, 95); fill-opacity: 1; white-space: pre;\">2000</text></g><g class=\"ytick\"><text text-anchor=\"end\" x=\"79\" y=\"4.199999999999999\" transform=\"translate(0,190.65)\" style=\"font-family: 'Open Sans', verdana, arial, sans-serif; font-size: 12px; fill: rgb(42, 63, 95); fill-opacity: 1; white-space: pre;\">3000</text></g><g class=\"ytick\"><text text-anchor=\"end\" x=\"79\" y=\"4.199999999999999\" transform=\"translate(0,140.2)\" style=\"font-family: 'Open Sans', verdana, arial, sans-serif; font-size: 12px; fill: rgb(42, 63, 95); fill-opacity: 1; white-space: pre;\">4000</text></g></g><g class=\"overaxes-above\"/></g></g><g class=\"polarlayer\"/><g class=\"ternarylayer\"/><g class=\"geolayer\"/><g class=\"funnelarealayer\"/><g class=\"pielayer\"/><g class=\"treemaplayer\"/><g class=\"sunburstlayer\"/><g class=\"glimages\"/><defs id=\"topdefs-40b33a\"><g class=\"clips\"/></defs><g class=\"layer-above\"><g class=\"imagelayer\"/><g class=\"shapelayer\"/></g><g class=\"infolayer\"><g class=\"g-gtitle\"><text class=\"gtitle\" x=\"35\" y=\"50\" text-anchor=\"start\" dy=\"0em\" style=\"font-family: 'Open Sans', verdana, arial, sans-serif; font-size: 17px; fill: rgb(42, 63, 95); opacity: 1; font-weight: normal; white-space: pre;\">Количество рейсов различных моделей самолетов в сентябре 2018 года</text></g><g class=\"g-xtitle\"><text class=\"xtitle\" x=\"350\" y=\"438.1095703125\" text-anchor=\"middle\" style=\"font-family: 'Open Sans', verdana, arial, sans-serif; font-size: 14px; fill: rgb(42, 63, 95); opacity: 1; font-weight: normal; white-space: pre;\">Модель самолета</text></g><g class=\"g-ytitle\"><text class=\"ytitle\" transform=\"rotate(-90,27.496875000000003,221)\" x=\"27.496875000000003\" y=\"221\" text-anchor=\"middle\" style=\"font-family: 'Open Sans', verdana, arial, sans-serif; font-size: 14px; fill: rgb(42, 63, 95); opacity: 1; font-weight: normal; white-space: pre;\">Количество рейсов</text></g></g></svg>"
          },
          "metadata": {
            "tags": []
          }
        }
      ]
    },
    {
      "cell_type": "markdown",
      "metadata": {
        "id": "qaHgGxJve-Ao"
      },
      "source": [
        "На графике видно, что из восьми типов самолетов три модели совершили более 4000 рейсов, в то время как остальные пять - от 300 до 900 рейсов. Такое разделение, возможно, обусловлено разностью в размере самолетов. Основная часть внутренних перелетов приходится на региональные рейсы, т.е. малый и средний размер воздушного судна как у лидеров списка. Остальные модели самолетов больше по размеру и чаще используются на международных рейсах, которые в нашем исследовании не представлены."
      ]
    },
    {
      "cell_type": "markdown",
      "metadata": {
        "id": "iV5ZZd9ne-Ao"
      },
      "source": [
        "#### Построим график зависимости среднесуточного количества рейсов от города прилета в августе 2018 года.\n",
        "\n",
        "\n",
        "Так как количество значений довольно большое, для информативного отображения информации по всем городам построим TreeMap из библиотеки Plotly. Для этого нам нужно разбить все города по категориям. Наиболее логичным будет использовать данные о принадлежности города к региону и федеральному округу России. Обогатим наши даннные информацией из Википедии о городах России."
      ]
    },
    {
      "cell_type": "code",
      "metadata": {
        "id": "fdiCZOwUe-Ao",
        "colab": {
          "base_uri": "https://localhost:8080/",
          "height": 374
        },
        "outputId": "e10b7bfa-48e6-4930-ac48-c039bb4b313e"
      },
      "source": [
        "russia_cities_wiki = requests.get( \"https://ru.wikipedia.org/wiki/%D0%A1%D0%BF%D0%B8%D1%81%D0%BE%D0%BA_%D0%B3%D0%BE%D1%80%D0%BE%D0%B4%D0%BE%D0%B2_%D0%A0%D0%BE%D1%81%D1%81%D0%B8%D0%B8\")\n",
        "soup = BeautifulSoup(russia_cities_wiki.text, \"lxml\")\n",
        "\n",
        "column_names = []\n",
        "content = []\n",
        "element = []\n",
        "for n, tag_content in enumerate(soup.find_all(\"th\")):\n",
        "    if n in [3,4,5]:\n",
        "        column_names.append(tag_content.text)\n",
        "\n",
        "for tag_content in soup.find_all(\"tr\"):\n",
        "    if not tag_content.find_all('th'):\n",
        "            desc = [element.text for element in tag_content.find_all('td')]\n",
        "            content.append(desc[2:5])\n",
        "\n",
        "# Предобработка новых данных\n",
        "\n",
        "russia_cities = pd.DataFrame(content, columns = column_names)\n",
        "russia_cities.columns = ['city', 'region', 'federal_unit']\n",
        "russia_cities = russia_cities[~russia_cities['city'].isnull()]\n",
        "russia_cities['city'] = russia_cities.apply(lambda row : row[0].strip(), axis = 1)\n",
        "russia_cities['region'] = russia_cities.apply(lambda row : row[1].strip(), axis = 1)\n",
        "russia_cities['federal_unit'] = russia_cities.apply(lambda row : row[2].strip(), axis = 1)\n",
        "russia_cities = russia_cities[russia_cities['city'].isin(list(df_cities['city'].unique()))]\n",
        "russia_cities.reset_index(drop = True, inplace = True)\n",
        "display(russia_cities.head())\n",
        "russia_cities.info()"
      ],
      "execution_count": 62,
      "outputs": [
        {
          "output_type": "display_data",
          "data": {
            "text/html": [
              "<div>\n",
              "<style scoped>\n",
              "    .dataframe tbody tr th:only-of-type {\n",
              "        vertical-align: middle;\n",
              "    }\n",
              "\n",
              "    .dataframe tbody tr th {\n",
              "        vertical-align: top;\n",
              "    }\n",
              "\n",
              "    .dataframe thead th {\n",
              "        text-align: right;\n",
              "    }\n",
              "</style>\n",
              "<table border=\"1\" class=\"dataframe\">\n",
              "  <thead>\n",
              "    <tr style=\"text-align: right;\">\n",
              "      <th></th>\n",
              "      <th>city</th>\n",
              "      <th>region</th>\n",
              "      <th>federal_unit</th>\n",
              "    </tr>\n",
              "  </thead>\n",
              "  <tbody>\n",
              "    <tr>\n",
              "      <th>0</th>\n",
              "      <td>Абакан</td>\n",
              "      <td>Хакасия</td>\n",
              "      <td>Сибирский</td>\n",
              "    </tr>\n",
              "    <tr>\n",
              "      <th>1</th>\n",
              "      <td>Анадырь</td>\n",
              "      <td>Чукотский АО</td>\n",
              "      <td>Дальневосточный</td>\n",
              "    </tr>\n",
              "    <tr>\n",
              "      <th>2</th>\n",
              "      <td>Анапа</td>\n",
              "      <td>Краснодарский край</td>\n",
              "      <td>Южный</td>\n",
              "    </tr>\n",
              "    <tr>\n",
              "      <th>3</th>\n",
              "      <td>Архангельск</td>\n",
              "      <td>Архангельская область</td>\n",
              "      <td>Северо-Западный</td>\n",
              "    </tr>\n",
              "    <tr>\n",
              "      <th>4</th>\n",
              "      <td>Астрахань</td>\n",
              "      <td>Астраханская область</td>\n",
              "      <td>Южный</td>\n",
              "    </tr>\n",
              "  </tbody>\n",
              "</table>\n",
              "</div>"
            ],
            "text/plain": [
              "          city                 region     federal_unit\n",
              "0       Абакан                Хакасия        Сибирский\n",
              "1      Анадырь           Чукотский АО  Дальневосточный\n",
              "2        Анапа     Краснодарский край            Южный\n",
              "3  Архангельск  Архангельская область  Северо-Западный\n",
              "4    Астрахань   Астраханская область            Южный"
            ]
          },
          "metadata": {
            "tags": []
          }
        },
        {
          "output_type": "stream",
          "text": [
            "<class 'pandas.core.frame.DataFrame'>\n",
            "RangeIndex: 104 entries, 0 to 103\n",
            "Data columns (total 3 columns):\n",
            " #   Column        Non-Null Count  Dtype \n",
            "---  ------        --------------  ----- \n",
            " 0   city          104 non-null    object\n",
            " 1   region        104 non-null    object\n",
            " 2   federal_unit  104 non-null    object\n",
            "dtypes: object(3)\n",
            "memory usage: 2.6+ KB\n"
          ],
          "name": "stdout"
        }
      ]
    },
    {
      "cell_type": "markdown",
      "metadata": {
        "id": "gujcIX3we-Ap"
      },
      "source": [
        "В полученной таблице 104 города, а не 101 как в исходной таблице. Рассмотрим уникальные названия городов"
      ]
    },
    {
      "cell_type": "code",
      "metadata": {
        "id": "xNeHd8jVe-Ap",
        "colab": {
          "base_uri": "https://localhost:8080/"
        },
        "outputId": "adc4ca21-709c-410c-e257-8b39136f88b1"
      },
      "source": [
        "russia_cities['city'].value_counts()"
      ],
      "execution_count": 63,
      "outputs": [
        {
          "output_type": "execute_result",
          "data": {
            "text/plain": [
              "Киров           2\n",
              "Мирный          2\n",
              "Благовещенск    2\n",
              "Салехард        1\n",
              "Кемерово        1\n",
              "               ..\n",
              "Ижевск          1\n",
              "Воронеж         1\n",
              "Липецк          1\n",
              "Тюмень          1\n",
              "Бугульма        1\n",
              "Name: city, Length: 101, dtype: int64"
            ]
          },
          "metadata": {
            "tags": []
          },
          "execution_count": 63
        }
      ]
    },
    {
      "cell_type": "markdown",
      "metadata": {
        "id": "uBFkVo1je-Aq"
      },
      "source": [
        "Дублирование происходит, потому что некоторые города в разных регионах имеют одинаковое название.\n",
        "\n",
        "Удалим дуликаты. "
      ]
    },
    {
      "cell_type": "code",
      "metadata": {
        "id": "8YLEGCnUe-Aq",
        "colab": {
          "base_uri": "https://localhost:8080/",
          "height": 419
        },
        "outputId": "884c1aa1-5889-4761-b981-23030e4dddca"
      },
      "source": [
        "russia_cities['city'] = russia_cities['city'].drop_duplicates()\n",
        "russia_cities.dropna()"
      ],
      "execution_count": 64,
      "outputs": [
        {
          "output_type": "execute_result",
          "data": {
            "text/html": [
              "<div>\n",
              "<style scoped>\n",
              "    .dataframe tbody tr th:only-of-type {\n",
              "        vertical-align: middle;\n",
              "    }\n",
              "\n",
              "    .dataframe tbody tr th {\n",
              "        vertical-align: top;\n",
              "    }\n",
              "\n",
              "    .dataframe thead th {\n",
              "        text-align: right;\n",
              "    }\n",
              "</style>\n",
              "<table border=\"1\" class=\"dataframe\">\n",
              "  <thead>\n",
              "    <tr style=\"text-align: right;\">\n",
              "      <th></th>\n",
              "      <th>city</th>\n",
              "      <th>region</th>\n",
              "      <th>federal_unit</th>\n",
              "    </tr>\n",
              "  </thead>\n",
              "  <tbody>\n",
              "    <tr>\n",
              "      <th>0</th>\n",
              "      <td>Абакан</td>\n",
              "      <td>Хакасия</td>\n",
              "      <td>Сибирский</td>\n",
              "    </tr>\n",
              "    <tr>\n",
              "      <th>1</th>\n",
              "      <td>Анадырь</td>\n",
              "      <td>Чукотский АО</td>\n",
              "      <td>Дальневосточный</td>\n",
              "    </tr>\n",
              "    <tr>\n",
              "      <th>2</th>\n",
              "      <td>Анапа</td>\n",
              "      <td>Краснодарский край</td>\n",
              "      <td>Южный</td>\n",
              "    </tr>\n",
              "    <tr>\n",
              "      <th>3</th>\n",
              "      <td>Архангельск</td>\n",
              "      <td>Архангельская область</td>\n",
              "      <td>Северо-Западный</td>\n",
              "    </tr>\n",
              "    <tr>\n",
              "      <th>4</th>\n",
              "      <td>Астрахань</td>\n",
              "      <td>Астраханская область</td>\n",
              "      <td>Южный</td>\n",
              "    </tr>\n",
              "    <tr>\n",
              "      <th>...</th>\n",
              "      <td>...</td>\n",
              "      <td>...</td>\n",
              "      <td>...</td>\n",
              "    </tr>\n",
              "    <tr>\n",
              "      <th>99</th>\n",
              "      <td>Чита</td>\n",
              "      <td>Забайкальский край</td>\n",
              "      <td>Сибирский</td>\n",
              "    </tr>\n",
              "    <tr>\n",
              "      <th>100</th>\n",
              "      <td>Элиста</td>\n",
              "      <td>Калмыкия</td>\n",
              "      <td>Южный</td>\n",
              "    </tr>\n",
              "    <tr>\n",
              "      <th>101</th>\n",
              "      <td>Южно-Сахалинск</td>\n",
              "      <td>Сахалинская область</td>\n",
              "      <td>Дальневосточный</td>\n",
              "    </tr>\n",
              "    <tr>\n",
              "      <th>102</th>\n",
              "      <td>Якутск</td>\n",
              "      <td>Якутия</td>\n",
              "      <td>Дальневосточный</td>\n",
              "    </tr>\n",
              "    <tr>\n",
              "      <th>103</th>\n",
              "      <td>Ярославль</td>\n",
              "      <td>Ярославская область</td>\n",
              "      <td>Центральный</td>\n",
              "    </tr>\n",
              "  </tbody>\n",
              "</table>\n",
              "<p>101 rows × 3 columns</p>\n",
              "</div>"
            ],
            "text/plain": [
              "               city                 region     federal_unit\n",
              "0            Абакан                Хакасия        Сибирский\n",
              "1           Анадырь           Чукотский АО  Дальневосточный\n",
              "2             Анапа     Краснодарский край            Южный\n",
              "3       Архангельск  Архангельская область  Северо-Западный\n",
              "4         Астрахань   Астраханская область            Южный\n",
              "..              ...                    ...              ...\n",
              "99             Чита     Забайкальский край        Сибирский\n",
              "100          Элиста               Калмыкия            Южный\n",
              "101  Южно-Сахалинск    Сахалинская область  Дальневосточный\n",
              "102          Якутск                 Якутия  Дальневосточный\n",
              "103       Ярославль    Ярославская область      Центральный\n",
              "\n",
              "[101 rows x 3 columns]"
            ]
          },
          "metadata": {
            "tags": []
          },
          "execution_count": 64
        }
      ]
    },
    {
      "cell_type": "code",
      "metadata": {
        "id": "QX9bfNKle-Aq",
        "colab": {
          "base_uri": "https://localhost:8080/",
          "height": 204
        },
        "outputId": "ac8c8375-47ae-464c-efd0-0f024a0a0592"
      },
      "source": [
        "# Объединим таблицы по городам\n",
        "\n",
        "df_cities_reg = df_cities.copy()\n",
        "df_cities_reg = df_cities_reg.merge(russia_cities)\n",
        "df_cities_reg.head()"
      ],
      "execution_count": 65,
      "outputs": [
        {
          "output_type": "execute_result",
          "data": {
            "text/html": [
              "<div>\n",
              "<style scoped>\n",
              "    .dataframe tbody tr th:only-of-type {\n",
              "        vertical-align: middle;\n",
              "    }\n",
              "\n",
              "    .dataframe tbody tr th {\n",
              "        vertical-align: top;\n",
              "    }\n",
              "\n",
              "    .dataframe thead th {\n",
              "        text-align: right;\n",
              "    }\n",
              "</style>\n",
              "<table border=\"1\" class=\"dataframe\">\n",
              "  <thead>\n",
              "    <tr style=\"text-align: right;\">\n",
              "      <th></th>\n",
              "      <th>city</th>\n",
              "      <th>average_flights</th>\n",
              "      <th>region</th>\n",
              "      <th>federal_unit</th>\n",
              "    </tr>\n",
              "  </thead>\n",
              "  <tbody>\n",
              "    <tr>\n",
              "      <th>0</th>\n",
              "      <td>Абакан</td>\n",
              "      <td>3.870968</td>\n",
              "      <td>Хакасия</td>\n",
              "      <td>Сибирский</td>\n",
              "    </tr>\n",
              "    <tr>\n",
              "      <th>1</th>\n",
              "      <td>Анадырь</td>\n",
              "      <td>1.000000</td>\n",
              "      <td>Чукотский АО</td>\n",
              "      <td>Дальневосточный</td>\n",
              "    </tr>\n",
              "    <tr>\n",
              "      <th>2</th>\n",
              "      <td>Анапа</td>\n",
              "      <td>2.161290</td>\n",
              "      <td>Краснодарский край</td>\n",
              "      <td>Южный</td>\n",
              "    </tr>\n",
              "    <tr>\n",
              "      <th>3</th>\n",
              "      <td>Архангельск</td>\n",
              "      <td>5.354839</td>\n",
              "      <td>Архангельская область</td>\n",
              "      <td>Северо-Западный</td>\n",
              "    </tr>\n",
              "    <tr>\n",
              "      <th>4</th>\n",
              "      <td>Астрахань</td>\n",
              "      <td>2.451613</td>\n",
              "      <td>Астраханская область</td>\n",
              "      <td>Южный</td>\n",
              "    </tr>\n",
              "  </tbody>\n",
              "</table>\n",
              "</div>"
            ],
            "text/plain": [
              "          city  average_flights                 region     federal_unit\n",
              "0       Абакан         3.870968                Хакасия        Сибирский\n",
              "1      Анадырь         1.000000           Чукотский АО  Дальневосточный\n",
              "2        Анапа         2.161290     Краснодарский край            Южный\n",
              "3  Архангельск         5.354839  Архангельская область  Северо-Западный\n",
              "4    Астрахань         2.451613   Астраханская область            Южный"
            ]
          },
          "metadata": {
            "tags": []
          },
          "execution_count": 65
        }
      ]
    },
    {
      "cell_type": "markdown",
      "metadata": {
        "id": "_RJvwfDSe-Aq"
      },
      "source": [
        "Построим распределение городов по среднесуточному количеству рейсов. Площадь блока отображает среднее значение числа рейсов в день в соответствующем городе, регионе или федеральном округе. Цвет блока соответствует принадлежность к тому или иному федеральному округу.\n",
        "\n",
        "Благодаря интерактивному интерфейсу библиотеки plotly мы можем выбирать интересующий нас блок для более подробного изучения по регионам и по отдельным городам."
      ]
    },
    {
      "cell_type": "code",
      "metadata": {
        "scrolled": false,
        "id": "oKx4inFie-Aq",
        "colab": {
          "base_uri": "https://localhost:8080/",
          "height": 471
        },
        "outputId": "4a5d5140-59b7-43e4-83b0-f229bc1d52d6"
      },
      "source": [
        "df_cities_reg[\"cities\"] = \"federal_unit\" # in order to have a single root node\n",
        "fig = px.treemap(df_cities_reg, path=['federal_unit', 'region', 'city'], values='average_flights',\n",
        "                  color='federal_unit',\n",
        "                  color_continuous_scale='RdBu',\n",
        "                 title='fff'\n",
        "                )\n",
        "fig.update_layout(    #autosize=False,\n",
        "    width=1000,\n",
        "    height=600,\n",
        "    margin=dict(l=0, r=0, t=0, b=0)\n",
        ")\n",
        "fig.show(\"svg\")"
      ],
      "execution_count": 66,
      "outputs": [
        {
          "output_type": "display_data",
          "data": {
            "image/svg+xml": "<svg class=\"main-svg\" xmlns=\"http://www.w3.org/2000/svg\" xmlns:xlink=\"http://www.w3.org/1999/xlink\" width=\"700\" height=\"450\" viewBox=\"0 0 700 450\"><rect x=\"0\" y=\"0\" width=\"700\" height=\"450\" style=\"fill: rgb(255, 255, 255); fill-opacity: 1;\"/><defs id=\"defs-e77df3\"><g class=\"clips\"/><g class=\"gradients\"/></defs><g class=\"bglayer\"/><g class=\"layer-below\"><g class=\"imagelayer\"/><g class=\"shapelayer\"/></g><g class=\"cartesianlayer\"/><g class=\"polarlayer\"/><g class=\"ternarylayer\"/><g class=\"geolayer\"/><g class=\"funnelarealayer\"/><g class=\"pielayer\"/><g class=\"treemaplayer\"><g class=\"trace treemap\" style=\"opacity: 1;\"><g class=\"slice cursor-pointer\"><path class=\"surface\" d=\"M0,0L700,0L700,450L0,450Z\" style=\"pointer-events: all; stroke-width: 0; fill: rgb(0, 0, 0); fill-opacity: 0; stroke: rgb(0, 0, 0); stroke-opacity: 0; opacity: 0;\"/><g class=\"slicetext\"><text data-notex=\"1\" class=\"slicetext\" text-anchor=\"start\" x=\"0\" y=\"0\" style=\"font-family: 'Open Sans', verdana, arial, sans-serif; font-size: 12px; fill: rgb(42, 63, 95); fill-opacity: 1; white-space: pre;\" transform=\"translate(6,14)\"> </text></g></g><g class=\"slice cursor-pointer\"><path class=\"surface\" d=\"M6,24L209.35305858200024,24L209.35305858200024,444L6,444Z\" style=\"pointer-events: all; stroke-width: 1; fill: rgb(255, 102, 146); fill-opacity: 1; stroke: rgb(255, 255, 255); stroke-opacity: 1; opacity: 1;\"/><g class=\"slicetext\"><text data-notex=\"1\" class=\"slicetext\" text-anchor=\"start\" x=\"0\" y=\"0\" style=\"font-family: 'Open Sans', verdana, arial, sans-serif; font-size: 12px; fill: rgb(68, 68, 68); fill-opacity: 1; white-space: pre;\" transform=\"translate(12,38)\">Центральный</text></g></g><g class=\"slice cursor-pointer\"><path class=\"surface\" d=\"M212.35305858200024,24L413.18350674806595,24L413.18350674806595,244.40735838461305L212.35305858200024,244.40735838461305Z\" style=\"pointer-events: all; stroke-width: 1; fill: rgb(25, 211, 243); fill-opacity: 1; stroke: rgb(255, 255, 255); stroke-opacity: 1; opacity: 1;\"/><g class=\"slicetext\"><text data-notex=\"1\" class=\"slicetext\" text-anchor=\"start\" x=\"0\" y=\"0\" style=\"font-family: 'Open Sans', verdana, arial, sans-serif; font-size: 12px; fill: rgb(68, 68, 68); fill-opacity: 1; white-space: pre;\" transform=\"translate(218.35305858200024,38)\">Уральский</text></g></g><g class=\"slice cursor-pointer\"><path class=\"surface\" d=\"M212.35305858200024,247.40735838461305L413.18350674806595,247.40735838461305L413.18350674806595,444L212.35305858200024,444Z\" style=\"pointer-events: all; stroke-width: 1; fill: rgb(239, 85, 59); fill-opacity: 1; stroke: rgb(255, 255, 255); stroke-opacity: 1; opacity: 1;\"/><g class=\"slicetext\"><text data-notex=\"1\" class=\"slicetext\" text-anchor=\"start\" x=\"0\" y=\"0\" style=\"font-family: 'Open Sans', verdana, arial, sans-serif; font-size: 12px; fill: rgb(68, 68, 68); fill-opacity: 1; white-space: pre;\" transform=\"translate(218.35305858200024,261.4073583846131)\">Приволжский</text></g></g><g class=\"slice cursor-pointer\"><path class=\"surface\" d=\"M416.18350674806595,24L558.6677273296835,24L558.6677273296835,277.88336739067154L416.18350674806595,277.88336739067154Z\" style=\"pointer-events: all; stroke-width: 1; fill: rgb(255, 161, 90); fill-opacity: 1; stroke: rgb(255, 255, 255); stroke-opacity: 1; opacity: 1;\"/><g class=\"slicetext\"><text data-notex=\"1\" class=\"slicetext\" text-anchor=\"start\" x=\"0\" y=\"0\" style=\"font-family: 'Open Sans', verdana, arial, sans-serif; font-size: 12px; fill: rgb(68, 68, 68); fill-opacity: 1; white-space: pre;\" transform=\"translate(422.18350674806595,38)\">Сибирский</text></g></g><g class=\"slice cursor-pointer\"><path class=\"surface\" d=\"M561.6677273296835,24L694,24L694,277.88336739067154L561.6677273296835,277.88336739067154Z\" style=\"pointer-events: all; stroke-width: 1; fill: rgb(0, 204, 150); fill-opacity: 1; stroke: rgb(255, 255, 255); stroke-opacity: 1; opacity: 1;\"/><g class=\"slicetext\"><text data-notex=\"1\" class=\"slicetext\" text-anchor=\"start\" x=\"0\" y=\"0\" style=\"font-family: 'Open Sans', verdana, arial, sans-serif; font-size: 12px; fill: rgb(68, 68, 68); fill-opacity: 1; white-space: pre;\" transform=\"translate(567.6677273296835,38)\">Северо-Западный</text></g></g><g class=\"slice cursor-pointer\"><path class=\"surface\" d=\"M416.18350674806595,280.88336739067154L542.915424093717,280.88336739067154L542.915424093717,444L416.18350674806595,444Z\" style=\"pointer-events: all; stroke-width: 1; fill: rgb(182, 232, 128); fill-opacity: 1; stroke: rgb(255, 255, 255); stroke-opacity: 1; opacity: 1;\"/><g class=\"slicetext\"><text data-notex=\"1\" class=\"slicetext\" text-anchor=\"start\" x=\"0\" y=\"0\" style=\"font-family: 'Open Sans', verdana, arial, sans-serif; font-size: 12px; fill: rgb(68, 68, 68); fill-opacity: 1; white-space: pre;\" transform=\"translate(422.18350674806595,294.88336739067154)\">Южный</text></g></g><g class=\"slice cursor-pointer\"><path class=\"surface\" d=\"M545.915424093717,280.88336739067154L694,280.88336739067154L694,392.26678871075546L545.915424093717,392.26678871075546Z\" style=\"pointer-events: all; stroke-width: 1; fill: rgb(99, 110, 250); fill-opacity: 1; stroke: rgb(255, 255, 255); stroke-opacity: 1; opacity: 1;\"/><g class=\"slicetext\"><text data-notex=\"1\" class=\"slicetext\" text-anchor=\"start\" x=\"0\" y=\"0\" style=\"font-family: 'Open Sans', verdana, arial, sans-serif; font-size: 12px; fill: rgb(255, 255, 255); fill-opacity: 1; white-space: pre;\" transform=\"translate(551.915424093717,294.88336739067154)\">Дальневосточный</text></g></g><g class=\"slice cursor-pointer\"><path class=\"surface\" d=\"M545.915424093717,395.26678871075546L694,395.26678871075546L694,444L545.915424093717,444Z\" style=\"pointer-events: all; stroke-width: 1; fill: rgb(171, 99, 250); fill-opacity: 1; stroke: rgb(255, 255, 255); stroke-opacity: 1; opacity: 1;\"/><g class=\"slicetext\"><text data-notex=\"1\" class=\"slicetext\" text-anchor=\"start\" x=\"0\" y=\"0\" style=\"font-family: 'Open Sans', verdana, arial, sans-serif; font-size: 12px; fill: rgb(68, 68, 68); fill-opacity: 1; white-space: pre;\" transform=\"translate(551.915424093717,409.26678871075546)\">Северо-Кавказский</text></g></g><g class=\"slice cursor-pointer\"><path class=\"surface\" d=\"M12,48L203.35305858200024,48L203.35305858200024,352.7677145695028L12,352.7677145695028Z\" style=\"pointer-events: all; stroke-width: 1; fill: rgb(255, 102, 146); fill-opacity: 1; stroke: rgb(255, 255, 255); stroke-opacity: 1; opacity: 1;\"/><g class=\"slicetext\"><text data-notex=\"1\" class=\"slicetext\" text-anchor=\"start\" x=\"0\" y=\"0\" style=\"font-family: 'Open Sans', verdana, arial, sans-serif; font-size: 12px; fill: rgb(68, 68, 68); fill-opacity: 1; white-space: pre;\" transform=\"translate(18,62)\">Москва</text></g></g><g class=\"slice cursor-pointer\"><path class=\"surface\" d=\"M12,355.7677145695028L63.07816462595042,355.7677145695028L63.07816462595042,438L12,438Z\" style=\"pointer-events: all; stroke-width: 1; fill: rgb(255, 102, 146); fill-opacity: 1; stroke: rgb(255, 255, 255); stroke-opacity: 1; opacity: 1;\"/><g class=\"slicetext\"><text data-notex=\"1\" class=\"slicetext\" text-anchor=\"start\" x=\"0\" y=\"0\" style=\"font-family: 'Open Sans', verdana, arial, sans-serif; font-size: 12px; fill: rgb(68, 68, 68); fill-opacity: 1; white-space: pre;\" transform=\"translate(18,363.0669844392745)scale(0.39084271543379073)\">Брянская область</text></g></g><g class=\"slice cursor-pointer\"><path class=\"surface\" d=\"M66.07816462595042,355.7677145695028L106.51514185268816,355.7677145695028L106.51514185268816,438L66.07816462595042,438Z\" style=\"pointer-events: all; stroke-width: 1; fill: rgb(255, 102, 146); fill-opacity: 1; stroke: rgb(255, 255, 255); stroke-opacity: 1; opacity: 1;\"/><g class=\"slicetext\"><text data-notex=\"1\" class=\"slicetext\" text-anchor=\"start\" x=\"0\" y=\"0\" style=\"font-family: 'Open Sans', verdana, arial, sans-serif; font-size: 12px; fill: rgb(68, 68, 68); fill-opacity: 1; white-space: pre;\" transform=\"translate(72.07816462595042,361.6839027658063)scale(0.2651080178457706)\">Калужская область</text></g></g><g class=\"slice cursor-pointer\"><path class=\"surface\" d=\"M109.51514185268816,355.7677145695028L160.5933064786386,355.7677145695028L160.5933064786386,403.9070858278011L109.51514185268816,403.9070858278011Z\" style=\"pointer-events: all; stroke-width: 1; fill: rgb(255, 102, 146); fill-opacity: 1; stroke: rgb(255, 255, 255); stroke-opacity: 1; opacity: 1;\"/><g class=\"slicetext\"><text data-notex=\"1\" class=\"slicetext\" text-anchor=\"start\" x=\"0\" y=\"0\" style=\"font-family: 'Open Sans', verdana, arial, sans-serif; font-size: 12px; fill: rgb(68, 68, 68); fill-opacity: 1; white-space: pre;\" transform=\"translate(115.51514185268816,362.2212706700136)scale(0.31395964550098265)\">Белгородская область</text></g></g><g class=\"slice cursor-pointer\"><path class=\"surface\" d=\"M109.51514185268816,406.9070858278011L160.5933064786386,406.9070858278011L160.5933064786386,438L109.51514185268816,438Z\" style=\"pointer-events: all; stroke-width: 1; fill: rgb(255, 102, 146); fill-opacity: 1; stroke: rgb(255, 255, 255); stroke-opacity: 1; opacity: 1;\"/><g class=\"slicetext\"><text data-notex=\"1\" class=\"slicetext\" text-anchor=\"start\" x=\"0\" y=\"0\" style=\"font-family: 'Open Sans', verdana, arial, sans-serif; font-size: 12px; fill: rgb(68, 68, 68); fill-opacity: 1; white-space: pre;\" transform=\"translate(115.51514185268816,413.683997949804)scale(0.3433556474548089)\">Тамбовская область</text></g></g><g class=\"slice cursor-pointer\"><path class=\"surface\" d=\"M163.5933064786386,355.7677145695028L203.35305858200024,355.7677145695028L203.35305858200024,377.45580765505474L163.5933064786386,377.45580765505474Z\" style=\"pointer-events: all; stroke-width: 1; fill: rgb(255, 102, 146); fill-opacity: 1; stroke: rgb(255, 255, 255); stroke-opacity: 1; opacity: 1;\"/><g class=\"slicetext\"><text data-notex=\"1\" class=\"slicetext\" text-anchor=\"start\" x=\"0\" y=\"0\" style=\"font-family: 'Open Sans', verdana, arial, sans-serif; font-size: 12px; fill: rgb(68, 68, 68); fill-opacity: 1; white-space: pre;\" transform=\"translate(169.5933064786386,362.08794315950735)scale(0.30183896272768357)\">Курская область</text></g></g><g class=\"slice cursor-pointer\"><path class=\"surface\" d=\"M163.5933064786386,380.45580765505474L203.35305858200024,380.45580765505474L203.35305858200024,399.0144245142674L163.5933064786386,399.0144245142674Z\" style=\"pointer-events: all; stroke-width: 1; fill: rgb(255, 102, 146); fill-opacity: 1; stroke: rgb(255, 255, 255); stroke-opacity: 1; opacity: 1;\"/><g class=\"slicetext\"><text data-notex=\"1\" class=\"slicetext\" text-anchor=\"start\" x=\"0\" y=\"0\" style=\"font-family: 'Open Sans', verdana, arial, sans-serif; font-size: 12px; fill: rgb(68, 68, 68); fill-opacity: 1; white-space: pre;\" transform=\"translate(169.5933064786386,385.9658083589806)scale(0.22818188217507648)\">Воронежская область</text></g></g><g class=\"slice cursor-pointer\"><path class=\"surface\" d=\"M163.5933064786386,402.0144245142674L191.53013529071873,402.0144245142674L191.53013529071873,418.71924408250413L163.5933064786386,418.71924408250413Z\" style=\"pointer-events: all; stroke-width: 1; fill: rgb(255, 102, 146); fill-opacity: 1; stroke: rgb(255, 255, 255); stroke-opacity: 1; opacity: 1;\"/><g class=\"slicetext\"><text data-notex=\"1\" class=\"slicetext\" text-anchor=\"start\" x=\"0\" y=\"0\" style=\"font-family: 'Open Sans', verdana, arial, sans-serif; font-size: 12px; fill: rgb(68, 68, 68); fill-opacity: 1; white-space: pre;\" transform=\"translate(169.5933064786386,406.47074947321136)scale(0.1323931780858163)\">Ярославская область</text></g></g><g class=\"slice cursor-pointer\"><path class=\"surface\" d=\"M163.5933064786386,421.71924408250413L191.53013529071873,421.71924408250413L191.53013529071873,438L163.5933064786386,438Z\" style=\"pointer-events: all; stroke-width: 1; fill: rgb(255, 102, 146); fill-opacity: 1; stroke: rgb(255, 255, 255); stroke-opacity: 1; opacity: 1;\"/><g class=\"slicetext\"><text data-notex=\"1\" class=\"slicetext\" text-anchor=\"start\" x=\"0\" y=\"0\" style=\"font-family: 'Open Sans', verdana, arial, sans-serif; font-size: 12px; fill: rgb(68, 68, 68); fill-opacity: 1; white-space: pre;\" transform=\"translate(169.5933064786386,426.4538649055877)scale(0.15769280209850475)\">Липецкая область</text></g></g><g class=\"slice cursor-pointer\"><path class=\"surface\" d=\"M194.53013529071873,402.0144245142674L203.35305858200024,402.0144245142674L203.35305858200024,437.99975368709016L194.53013529071873,437.99975368709016Z\" style=\"pointer-events: all; stroke-width: 1; fill: rgb(255, 102, 146); fill-opacity: 1; stroke: rgb(255, 255, 255); stroke-opacity: 1; opacity: 1;\"/><g class=\"slicetext\"><text data-notex=\"1\" class=\"slicetext\" text-anchor=\"start\" x=\"0\" y=\"0\" style=\"font-family: 'Open Sans', verdana, arial, sans-serif; font-size: 12px; fill: rgb(68, 68, 68); fill-opacity: 1; white-space: pre;\" transform=\"translate(200.53013529071873,402.2879364874386)scale(0.024864724833748523)\">Ивановская область</text></g></g><g class=\"slice cursor-pointer\"><path class=\"surface\" d=\"M218.35305858200024,48L351.8676252026201,48L351.8676252026201,165.87959899038316L218.35305858200024,165.87959899038316Z\" style=\"pointer-events: all; stroke-width: 1; fill: rgb(25, 211, 243); fill-opacity: 1; stroke: rgb(255, 255, 255); stroke-opacity: 1; opacity: 1;\"/><g class=\"slicetext\"><text data-notex=\"1\" class=\"slicetext\" text-anchor=\"start\" x=\"0\" y=\"0\" style=\"font-family: 'Open Sans', verdana, arial, sans-serif; font-size: 12px; fill: rgb(68, 68, 68); fill-opacity: 1; white-space: pre;\" transform=\"translate(224.35305858200024,58.58792397560018)scale(0.6898112705091068)\">Ханты-Мансийский АО — Югра</text></g></g><g class=\"slice cursor-pointer\"><path class=\"surface\" d=\"M354.8676252026201,48L407.18350674806595,48L407.18350674806595,165.87959899038316L354.8676252026201,165.87959899038316Z\" style=\"pointer-events: all; stroke-width: 1; fill: rgb(25, 211, 243); fill-opacity: 1; stroke: rgb(255, 255, 255); stroke-opacity: 1; opacity: 1;\"/><g class=\"slicetext\"><text data-notex=\"1\" class=\"slicetext\" text-anchor=\"start\" x=\"0\" y=\"0\" style=\"font-family: 'Open Sans', verdana, arial, sans-serif; font-size: 12px; fill: rgb(68, 68, 68); fill-opacity: 1; white-space: pre;\" transform=\"translate(360.8676252026201,54.82408792885932)scale(0.34764435716902914)\">Ямало-Ненецкий АО</text></g></g><g class=\"slice cursor-pointer\"><path class=\"surface\" d=\"M218.35305858200024,168.87959899038316L282.3505554245506,168.87959899038316L282.3505554245506,238.40735838461305L218.35305858200024,238.40735838461305Z\" style=\"pointer-events: all; stroke-width: 1; fill: rgb(25, 211, 243); fill-opacity: 1; stroke: rgb(255, 255, 255); stroke-opacity: 1; opacity: 1;\"/><g class=\"slicetext\"><text data-notex=\"1\" class=\"slicetext\" text-anchor=\"start\" x=\"0\" y=\"0\" style=\"font-family: 'Open Sans', verdana, arial, sans-serif; font-size: 12px; fill: rgb(68, 68, 68); fill-opacity: 1; white-space: pre;\" transform=\"translate(224.35305858200024,176.36675733521713)scale(0.40792348589399624)\">Свердловская область</text></g></g><g class=\"slice cursor-pointer\"><path class=\"surface\" d=\"M285.3505554245506,168.87959899038316L345.7214048559318,168.87959899038316L345.7214048559318,238.40735838461305L285.3505554245506,238.40735838461305Z\" style=\"pointer-events: all; stroke-width: 1; fill: rgb(25, 211, 243); fill-opacity: 1; stroke: rgb(255, 255, 255); stroke-opacity: 1; opacity: 1;\"/><g class=\"slicetext\"><text data-notex=\"1\" class=\"slicetext\" text-anchor=\"start\" x=\"0\" y=\"0\" style=\"font-family: 'Open Sans', verdana, arial, sans-serif; font-size: 12px; fill: rgb(68, 68, 68); fill-opacity: 1; white-space: pre;\" transform=\"translate(291.3505554245506,176.29805987006299)scale(0.40167826178907445)\">Челябинская область</text></g></g><g class=\"slice cursor-pointer\"><path class=\"surface\" d=\"M348.7214048559318,168.87959899038316L407.18350674806595,168.87959899038316L407.18350674806595,214.53175358170614L348.7214048559318,214.53175358170614Z\" style=\"pointer-events: all; stroke-width: 1; fill: rgb(25, 211, 243); fill-opacity: 1; stroke: rgb(255, 255, 255); stroke-opacity: 1; opacity: 1;\"/><g class=\"slicetext\"><text data-notex=\"1\" class=\"slicetext\" text-anchor=\"start\" x=\"0\" y=\"0\" style=\"font-family: 'Open Sans', verdana, arial, sans-serif; font-size: 12px; fill: rgb(68, 68, 68); fill-opacity: 1; white-space: pre;\" transform=\"translate(354.7214048559318,176.54037410181982)scale(0.42370682831242334)\">Тюменская область</text></g></g><g class=\"slice cursor-pointer\"><path class=\"surface\" d=\"M348.7214048559318,217.53175358170614L407.1834810349688,217.53175358170614L407.1834810349688,238.40735838461305L348.7214048559318,238.40735838461305Z\" style=\"pointer-events: all; stroke-width: 1; fill: rgb(25, 211, 243); fill-opacity: 1; stroke: rgb(255, 255, 255); stroke-opacity: 1; opacity: 1;\"/><g class=\"slicetext\"><text data-notex=\"1\" class=\"slicetext\" text-anchor=\"start\" x=\"0\" y=\"0\" style=\"font-family: 'Open Sans', verdana, arial, sans-serif; font-size: 12px; fill: rgb(68, 68, 68); fill-opacity: 1; white-space: pre;\" transform=\"translate(354.7214048559318,225.20384351600725)scale(0.424735448572828)\">Курганская область</text></g></g><g class=\"slice cursor-pointer\"><path class=\"surface\" d=\"M218.35305858200024,271.4073583846131L276.4838776702009,271.4073583846131L276.4838776702009,368.206959259602L218.35305858200024,368.206959259602Z\" style=\"pointer-events: all; stroke-width: 1; fill: rgb(239, 85, 59); fill-opacity: 1; stroke: rgb(255, 255, 255); stroke-opacity: 1; opacity: 1;\"/><g class=\"slicetext\"><text data-notex=\"1\" class=\"slicetext\" text-anchor=\"start\" x=\"0\" y=\"0\" style=\"font-family: 'Open Sans', verdana, arial, sans-serif; font-size: 12px; fill: rgb(68, 68, 68); fill-opacity: 1; white-space: pre;\" transform=\"translate(224.35305858200024,283.378655798451)scale(0.8155724921670836)\">Татарстан</text></g></g><g class=\"slice cursor-pointer\"><path class=\"surface\" d=\"M218.35305858200024,371.206959259602L276.4838776702009,371.206959259602L276.4838776702009,438L218.35305858200024,438Z\" style=\"pointer-events: all; stroke-width: 1; fill: rgb(239, 85, 59); fill-opacity: 1; stroke: rgb(255, 255, 255); stroke-opacity: 1; opacity: 1;\"/><g class=\"slicetext\"><text data-notex=\"1\" class=\"slicetext\" text-anchor=\"start\" x=\"0\" y=\"0\" style=\"font-family: 'Open Sans', verdana, arial, sans-serif; font-size: 12px; fill: rgb(68, 68, 68); fill-opacity: 1; white-space: pre;\" transform=\"translate(224.35305858200024,380.28407315146075)scale(0.5524648992598882)\">Пермский край</text></g></g><g class=\"slice cursor-pointer\"><path class=\"surface\" d=\"M279.4838776702009,271.4073583846131L350.7052736094745,271.4073583846131L350.7052736094745,322.7786990051515L279.4838776702009,322.7786990051515Z\" style=\"pointer-events: all; stroke-width: 1; fill: rgb(239, 85, 59); fill-opacity: 1; stroke: rgb(255, 255, 255); stroke-opacity: 1; opacity: 1;\"/><g class=\"slicetext\"><text data-notex=\"1\" class=\"slicetext\" text-anchor=\"start\" x=\"0\" y=\"0\" style=\"font-family: 'Open Sans', verdana, arial, sans-serif; font-size: 12px; fill: rgb(68, 68, 68); fill-opacity: 1; white-space: pre;\" transform=\"translate(285.4838776702009,279.90180524033906)scale(0.49949516870236016)\">Ульяновская область</text></g></g><g class=\"slice cursor-pointer\"><path class=\"surface\" d=\"M353.7052736094745,271.4073583846131L407.18350674806595,271.4073583846131L407.18350674806595,322.7786990051515L353.7052736094745,322.7786990051515Z\" style=\"pointer-events: all; stroke-width: 1; fill: rgb(239, 85, 59); fill-opacity: 1; stroke: rgb(255, 255, 255); stroke-opacity: 1; opacity: 1;\"/><g class=\"slicetext\"><text data-notex=\"1\" class=\"slicetext\" text-anchor=\"start\" x=\"0\" y=\"0\" style=\"font-family: 'Open Sans', verdana, arial, sans-serif; font-size: 12px; fill: rgb(68, 68, 68); fill-opacity: 1; white-space: pre;\" transform=\"translate(359.7052736094745,280.158919568298)scale(0.5228691985168118)\">Башкортостан</text></g></g><g class=\"slice cursor-pointer\"><path class=\"surface\" d=\"M279.4838776702009,325.7786990051515L322.0408724080163,325.7786990051515L322.0408724080163,383.71760236414065L279.4838776702009,383.71760236414065Z\" style=\"pointer-events: all; stroke-width: 1; fill: rgb(239, 85, 59); fill-opacity: 1; stroke: rgb(255, 255, 255); stroke-opacity: 1; opacity: 1;\"/><g class=\"slicetext\"><text data-notex=\"1\" class=\"slicetext\" text-anchor=\"start\" x=\"0\" y=\"0\" style=\"font-family: 'Open Sans', verdana, arial, sans-serif; font-size: 12px; fill: rgb(68, 68, 68); fill-opacity: 1; white-space: pre;\" transform=\"translate(285.4838776702009,331.4673784571478)scale(0.24442540472693222)\">Оренбургская область</text></g></g><g class=\"slice cursor-pointer\"><path class=\"surface\" d=\"M279.4838776702009,386.71760236414065L322.0408724080163,386.71760236414065L322.0408724080163,438L279.4838776702009,438Z\" style=\"pointer-events: all; stroke-width: 1; fill: rgb(239, 85, 59); fill-opacity: 1; stroke: rgb(255, 255, 255); stroke-opacity: 1; opacity: 1;\"/><g class=\"slicetext\"><text data-notex=\"1\" class=\"slicetext\" text-anchor=\"start\" x=\"0\" y=\"0\" style=\"font-family: 'Open Sans', verdana, arial, sans-serif; font-size: 12px; fill: rgb(68, 68, 68); fill-opacity: 1; white-space: pre;\" transform=\"translate(285.4838776702009,392.2374716736665)scale(0.22907902813871206)\">Нижегородская область</text></g></g><g class=\"slice cursor-pointer\"><path class=\"surface\" d=\"M325.0408724080163,325.7786990051515L367.86416420889987,325.7786990051515L367.86416420889987,368.7395547301077L325.0408724080163,368.7395547301077Z\" style=\"pointer-events: all; stroke-width: 1; fill: rgb(239, 85, 59); fill-opacity: 1; stroke: rgb(255, 255, 255); stroke-opacity: 1; opacity: 1;\"/><g class=\"slicetext\"><text data-notex=\"1\" class=\"slicetext\" text-anchor=\"start\" x=\"0\" y=\"0\" style=\"font-family: 'Open Sans', verdana, arial, sans-serif; font-size: 12px; fill: rgb(68, 68, 68); fill-opacity: 1; white-space: pre;\" transform=\"translate(331.0408724080163,335.5960403271188)scale(0.6197583019970305)\">Чувашия</text></g></g><g class=\"slice cursor-pointer\"><path class=\"surface\" d=\"M370.86416420889987,325.7786990051515L407.18350674806595,325.7786990051515L407.18350674806595,368.7395547301077L370.86416420889987,368.7395547301077Z\" style=\"pointer-events: all; stroke-width: 1; fill: rgb(239, 85, 59); fill-opacity: 1; stroke: rgb(255, 255, 255); stroke-opacity: 1; opacity: 1;\"/><g class=\"slicetext\"><text data-notex=\"1\" class=\"slicetext\" text-anchor=\"start\" x=\"0\" y=\"0\" style=\"font-family: 'Open Sans', verdana, arial, sans-serif; font-size: 12px; fill: rgb(68, 68, 68); fill-opacity: 1; white-space: pre;\" transform=\"translate(376.86416420889987,333.60418298135585)scale(0.43868036147311995)\">Марий Эл</text></g></g><g class=\"slice cursor-pointer\"><path class=\"surface\" d=\"M325.0408724080163,371.7395547301077L370.6938129450532,371.7395547301077L370.6938129450532,403.3697773650539L325.0408724080163,403.3697773650539Z\" style=\"pointer-events: all; stroke-width: 1; fill: rgb(239, 85, 59); fill-opacity: 1; stroke: rgb(255, 255, 255); stroke-opacity: 1; opacity: 1;\"/><g class=\"slicetext\"><text data-notex=\"1\" class=\"slicetext\" text-anchor=\"start\" x=\"0\" y=\"0\" style=\"font-family: 'Open Sans', verdana, arial, sans-serif; font-size: 12px; fill: rgb(68, 68, 68); fill-opacity: 1; white-space: pre;\" transform=\"translate(331.0408724080163,378.0145989847489)scale(0.2977312958764669)\">Пензенская область</text></g></g><g class=\"slice cursor-pointer\"><path class=\"surface\" d=\"M325.0408724080163,406.3697773650539L370.6938129450532,406.3697773650539L370.6938129450532,438L325.0408724080163,438Z\" style=\"pointer-events: all; stroke-width: 1; fill: rgb(239, 85, 59); fill-opacity: 1; stroke: rgb(255, 255, 255); stroke-opacity: 1; opacity: 1;\"/><g class=\"slicetext\"><text data-notex=\"1\" class=\"slicetext\" text-anchor=\"start\" x=\"0\" y=\"0\" style=\"font-family: 'Open Sans', verdana, arial, sans-serif; font-size: 12px; fill: rgb(68, 68, 68); fill-opacity: 1; white-space: pre;\" transform=\"translate(331.0408724080163,412.4732185673167)scale(0.2821310183875244)\">Саратовская область</text></g></g><g class=\"slice cursor-pointer\"><path class=\"surface\" d=\"M373.6938129450532,371.7395547301077L407.18350674806595,371.7395547301077L407.18350674806595,403.3697883737087L373.6938129450532,403.3697883737087Z\" style=\"pointer-events: all; stroke-width: 1; fill: rgb(239, 85, 59); fill-opacity: 1; stroke: rgb(255, 255, 255); stroke-opacity: 1; opacity: 1;\"/><g class=\"slicetext\"><text data-notex=\"1\" class=\"slicetext\" text-anchor=\"start\" x=\"0\" y=\"0\" style=\"font-family: 'Open Sans', verdana, arial, sans-serif; font-size: 12px; fill: rgb(68, 68, 68); fill-opacity: 1; white-space: pre;\" transform=\"translate(379.6938129450532,376.89802875455075)scale(0.1962249113129999)\">Самарская область</text></g></g><g class=\"slice cursor-pointer\"><path class=\"surface\" d=\"M373.6938129450532,406.3697883737087L395.0202909467532,406.3697883737087L395.0202909467532,438L373.6938129450532,438Z\" style=\"pointer-events: all; stroke-width: 1; fill: rgb(239, 85, 59); fill-opacity: 1; stroke: rgb(255, 255, 255); stroke-opacity: 1; opacity: 1;\"/><g class=\"slicetext\"><text data-notex=\"1\" class=\"slicetext\" text-anchor=\"start\" x=\"0\" y=\"0\" style=\"font-family: 'Open Sans', verdana, arial, sans-serif; font-size: 12px; fill: rgb(68, 68, 68); fill-opacity: 1; white-space: pre;\" transform=\"translate(379.6938129450532,411.1870705528387)scale(0.1652074708300032)\">Мордовия</text></g></g><g class=\"slice cursor-pointer\"><path class=\"surface\" d=\"M398.0202909467532,406.3697883737087L407.18350674806595,406.3697883737087L407.18350674806595,438.0000660520128L398.0202909467532,438.0000660520128Z\" style=\"pointer-events: all; stroke-width: 1; fill: rgb(239, 85, 59); fill-opacity: 1; stroke: rgb(255, 255, 255); stroke-opacity: 1; opacity: 1;\"/><g class=\"slicetext\"><text data-notex=\"1\" class=\"slicetext\" text-anchor=\"start\" x=\"0\" y=\"0\" style=\"font-family: 'Open Sans', verdana, arial, sans-serif; font-size: 12px; fill: rgb(68, 68, 68); fill-opacity: 1; white-space: pre;\" transform=\"translate(404.0202909467532,407.0259179918949)scale(0.05964814710784171)\">Удмуртия</text></g></g><g class=\"slice cursor-pointer\"><path class=\"surface\" d=\"M422.18350674806595,48L493.3107307433951,48L493.3107307433951,144.7490997629195L422.18350674806595,144.7490997629195Z\" style=\"pointer-events: all; stroke-width: 1; fill: rgb(255, 161, 90); fill-opacity: 1; stroke: rgb(255, 255, 255); stroke-opacity: 1; opacity: 1;\"/><g class=\"slicetext\"><text data-notex=\"1\" class=\"slicetext\" text-anchor=\"start\" x=\"0\" y=\"0\" style=\"font-family: 'Open Sans', verdana, arial, sans-serif; font-size: 12px; fill: rgb(68, 68, 68); fill-opacity: 1; white-space: pre;\" transform=\"translate(428.18350674806595,55.8662106257554)scale(0.442382784159582)\">Новосибирская область</text></g></g><g class=\"slice cursor-pointer\"><path class=\"surface\" d=\"M496.3107307433951,48L552.6677273296835,48L552.6677273296835,144.7490997629195L496.3107307433951,144.7490997629195Z\" style=\"pointer-events: all; stroke-width: 1; fill: rgb(255, 161, 90); fill-opacity: 1; stroke: rgb(255, 255, 255); stroke-opacity: 1; opacity: 1;\"/><g class=\"slicetext\"><text data-notex=\"1\" class=\"slicetext\" text-anchor=\"start\" x=\"0\" y=\"0\" style=\"font-family: 'Open Sans', verdana, arial, sans-serif; font-size: 12px; fill: rgb(68, 68, 68); fill-opacity: 1; white-space: pre;\" transform=\"translate(502.3107307433951,55.599017024557746)scale(0.41809245677797663)\">Красноярский край</text></g></g><g class=\"slice cursor-pointer\"><path class=\"surface\" d=\"M422.18350674806595,147.7490997629195L482.75873387578457,147.7490997629195L482.75873387578457,217.95418099339076L422.18350674806595,217.95418099339076Z\" style=\"pointer-events: all; stroke-width: 1; fill: rgb(255, 161, 90); fill-opacity: 1; stroke: rgb(255, 255, 255); stroke-opacity: 1; opacity: 1;\"/><g class=\"slicetext\"><text data-notex=\"1\" class=\"slicetext\" text-anchor=\"start\" x=\"0\" y=\"0\" style=\"font-family: 'Open Sans', verdana, arial, sans-serif; font-size: 12px; fill: rgb(68, 68, 68); fill-opacity: 1; white-space: pre;\" transform=\"translate(428.18350674806595,155.86304621094013)scale(0.4649042225473294)\">Иркутская область</text></g></g><g class=\"slice cursor-pointer\"><path class=\"surface\" d=\"M422.18350674806595,220.95418099339076L482.75873387578457,220.95418099339076L482.75873387578457,271.88336739067154L422.18350674806595,271.88336739067154Z\" style=\"pointer-events: all; stroke-width: 1; fill: rgb(255, 161, 90); fill-opacity: 1; stroke: rgb(255, 255, 255); stroke-opacity: 1; opacity: 1;\"/><g class=\"slicetext\"><text data-notex=\"1\" class=\"slicetext\" text-anchor=\"start\" x=\"0\" y=\"0\" style=\"font-family: 'Open Sans', verdana, arial, sans-serif; font-size: 12px; fill: rgb(68, 68, 68); fill-opacity: 1; white-space: pre;\" transform=\"translate(428.18350674806595,228.38383901125525)scale(0.4026961834422269)\">Кемеровская область</text></g></g><g class=\"slice cursor-pointer\"><path class=\"surface\" d=\"M485.75873387578457,147.7490997629195L522.813352802817,147.7490997629195L522.813352802817,200.0950310583689L485.75873387578457,200.0950310583689Z\" style=\"pointer-events: all; stroke-width: 1; fill: rgb(255, 161, 90); fill-opacity: 1; stroke: rgb(255, 255, 255); stroke-opacity: 1; opacity: 1;\"/><g class=\"slicetext\"><text data-notex=\"1\" class=\"slicetext\" text-anchor=\"start\" x=\"0\" y=\"0\" style=\"font-family: 'Open Sans', verdana, arial, sans-serif; font-size: 12px; fill: rgb(68, 68, 68); fill-opacity: 1; white-space: pre;\" transform=\"translate(491.75873387578457,153.68835184167818)scale(0.2672047344326072)\">Томская область</text></g></g><g class=\"slice cursor-pointer\"><path class=\"surface\" d=\"M525.813352802817,147.7490997629195L552.6677273296835,147.7490997629195L552.6677273296835,200.0950310583689L525.813352802817,200.0950310583689Z\" style=\"pointer-events: all; stroke-width: 1; fill: rgb(255, 161, 90); fill-opacity: 1; stroke: rgb(255, 255, 255); stroke-opacity: 1; opacity: 1;\"/><g class=\"slicetext\"><text data-notex=\"1\" class=\"slicetext\" text-anchor=\"start\" x=\"0\" y=\"0\" style=\"font-family: 'Open Sans', verdana, arial, sans-serif; font-size: 12px; fill: rgb(68, 68, 68); fill-opacity: 1; white-space: pre;\" transform=\"translate(531.813352802817,154.29641308276823)scale(0.3224830290771568)\">Хакасия</text></g></g><g class=\"slice cursor-pointer\"><path class=\"surface\" d=\"M485.75873387578457,203.0950310583689L521.7244028674367,203.0950310583689L521.7244028674367,236.13882291423954L485.75873387578457,236.13882291423954Z\" style=\"pointer-events: all; stroke-width: 1; fill: rgb(255, 161, 90); fill-opacity: 1; stroke: rgb(255, 255, 255); stroke-opacity: 1; opacity: 1;\"/><g class=\"slicetext\"><text data-notex=\"1\" class=\"slicetext\" text-anchor=\"start\" x=\"0\" y=\"0\" style=\"font-family: 'Open Sans', verdana, arial, sans-serif; font-size: 12px; fill: rgb(68, 68, 68); fill-opacity: 1; white-space: pre;\" transform=\"translate(491.75873387578457,209.02315167102475)scale(0.2661927829687145)\">Омская область</text></g></g><g class=\"slice cursor-pointer\"><path class=\"surface\" d=\"M524.7244028674367,203.0950310583689L552.6677273296835,203.0950310583689L552.6677273296835,236.13882291423954L524.7244028674367,236.13882291423954Z\" style=\"pointer-events: all; stroke-width: 1; fill: rgb(255, 161, 90); fill-opacity: 1; stroke: rgb(255, 255, 255); stroke-opacity: 1; opacity: 1;\"/><g class=\"slicetext\"><text data-notex=\"1\" class=\"slicetext\" text-anchor=\"start\" x=\"0\" y=\"0\" style=\"font-family: 'Open Sans', verdana, arial, sans-serif; font-size: 12px; fill: rgb(68, 68, 68); fill-opacity: 1; white-space: pre;\" transform=\"translate(530.7244028674367,208.1101298772956)scale(0.1831908017206106)\">Алтайский край</text></g></g><g class=\"slice cursor-pointer\"><path class=\"surface\" d=\"M485.75873387578457,239.13882291423954L501.9692154207555,239.13882291423954L501.9692154207555,271.88336739067154L485.75873387578457,271.88336739067154Z\" style=\"pointer-events: all; stroke-width: 1; fill: rgb(255, 161, 90); fill-opacity: 1; stroke: rgb(255, 255, 255); stroke-opacity: 1; opacity: 1;\"/><g class=\"slicetext\"><text data-notex=\"1\" class=\"slicetext\" text-anchor=\"start\" x=\"0\" y=\"0\" style=\"font-family: 'Open Sans', verdana, arial, sans-serif; font-size: 12px; fill: rgb(68, 68, 68); fill-opacity: 1; white-space: pre;\" transform=\"translate(491.75873387578457,243.1634267883009)scale(0.0931458067328519)\">Бурятия</text></g></g><g class=\"slice cursor-pointer\"><path class=\"surface\" d=\"M504.9692154207555,239.13882291423954L520.8447286111135,239.13882291423954L520.8447286111135,271.88336739067154L504.9692154207555,271.88336739067154Z\" style=\"pointer-events: all; stroke-width: 1; fill: rgb(255, 161, 90); fill-opacity: 1; stroke: rgb(255, 255, 255); stroke-opacity: 1; opacity: 1;\"/><g class=\"slicetext\"><text data-notex=\"1\" class=\"slicetext\" text-anchor=\"start\" x=\"0\" y=\"0\" style=\"font-family: 'Open Sans', verdana, arial, sans-serif; font-size: 12px; fill: rgb(68, 68, 68); fill-opacity: 1; white-space: pre;\" transform=\"translate(510.9692154207555,242.51734140563966)scale(0.03441077194546497)\">Забайкальский край</text></g></g><g class=\"slice cursor-pointer\"><path class=\"surface\" d=\"M523.8447286111135,239.13882291423954L552.6677273296835,239.13882291423954L552.6677273296835,254.74425643955095L523.8447286111135,254.74425643955095Z\" style=\"pointer-events: all; stroke-width: 1; fill: rgb(255, 161, 90); fill-opacity: 1; stroke: rgb(255, 255, 255); stroke-opacity: 1; opacity: 1;\"/><g class=\"slicetext\"><text data-notex=\"1\" class=\"slicetext\" text-anchor=\"start\" x=\"0\" y=\"0\" style=\"font-family: 'Open Sans', verdana, arial, sans-serif; font-size: 12px; fill: rgb(68, 68, 68); fill-opacity: 1; white-space: pre;\" transform=\"translate(529.8447286111135,247.62441397393073)scale(0.49869009633556377)\">Алтай</text></g></g><g class=\"slice cursor-pointer\"><path class=\"surface\" d=\"M523.8447286111135,257.74425643955095L552.6677332674888,257.74425643955095L552.6677332674888,271.88336739067154L523.8447286111135,271.88336739067154Z\" style=\"pointer-events: all; stroke-width: 1; fill: rgb(255, 161, 90); fill-opacity: 1; stroke: rgb(255, 255, 255); stroke-opacity: 1; opacity: 1;\"/><g class=\"slicetext\"><text data-notex=\"1\" class=\"slicetext\" text-anchor=\"start\" x=\"0\" y=\"0\" style=\"font-family: 'Open Sans', verdana, arial, sans-serif; font-size: 12px; fill: rgb(68, 68, 68); fill-opacity: 1; white-space: pre;\" transform=\"translate(529.8447286111135,267.13927218686)scale(0.5813650679371847)\">Тыва</text></g></g><g class=\"slice cursor-pointer\"><path class=\"surface\" d=\"M567.6677273296835,48L688,48L688,152.12088881968845L567.6677273296835,152.12088881968845Z\" style=\"pointer-events: all; stroke-width: 1; fill: rgb(0, 204, 150); fill-opacity: 1; stroke: rgb(255, 255, 255); stroke-opacity: 1; opacity: 1;\"/><g class=\"slicetext\"><text data-notex=\"1\" class=\"slicetext\" text-anchor=\"start\" x=\"0\" y=\"0\" style=\"font-family: 'Open Sans', verdana, arial, sans-serif; font-size: 12px; fill: rgb(68, 68, 68); fill-opacity: 1; white-space: pre;\" transform=\"translate(573.6677273296835,62)\">Санкт-Петербург</text></g></g><g class=\"slice cursor-pointer\"><path class=\"surface\" d=\"M567.6677273296835,155.12088881968845L630.4449389703728,155.12088881968845L630.4449389703728,234.04174897683308L567.6677273296835,234.04174897683308Z\" style=\"pointer-events: all; stroke-width: 1; fill: rgb(0, 204, 150); fill-opacity: 1; stroke: rgb(255, 255, 255); stroke-opacity: 1; opacity: 1;\"/><g class=\"slicetext\"><text data-notex=\"1\" class=\"slicetext\" text-anchor=\"start\" x=\"0\" y=\"0\" style=\"font-family: 'Open Sans', verdana, arial, sans-serif; font-size: 12px; fill: rgb(68, 68, 68); fill-opacity: 1; white-space: pre;\" transform=\"translate(573.6677273296835,169.12088881968845)\">Коми</text></g></g><g class=\"slice cursor-pointer\"><path class=\"surface\" d=\"M567.6677273296835,237.04174897683308L630.4449389703728,237.04174897683308L630.4449389703728,271.88336739067154L567.6677273296835,271.88336739067154Z\" style=\"pointer-events: all; stroke-width: 1; fill: rgb(0, 204, 150); fill-opacity: 1; stroke: rgb(255, 255, 255); stroke-opacity: 1; opacity: 1;\"/><g class=\"slicetext\"><text data-notex=\"1\" class=\"slicetext\" text-anchor=\"start\" x=\"0\" y=\"0\" style=\"font-family: 'Open Sans', verdana, arial, sans-serif; font-size: 12px; fill: rgb(68, 68, 68); fill-opacity: 1; white-space: pre;\" transform=\"translate(573.6677273296835,251.04174897683308)\">Карелия</text></g></g><g class=\"slice cursor-pointer\"><path class=\"surface\" d=\"M633.4449389703728,155.12088881968845L688,155.12088881968845L688,191.56646869606521L633.4449389703728,191.56646869606521Z\" style=\"pointer-events: all; stroke-width: 1; fill: rgb(0, 204, 150); fill-opacity: 1; stroke: rgb(255, 255, 255); stroke-opacity: 1; opacity: 1;\"/><g class=\"slicetext\"><text data-notex=\"1\" class=\"slicetext\" text-anchor=\"start\" x=\"0\" y=\"0\" style=\"font-family: 'Open Sans', verdana, arial, sans-serif; font-size: 12px; fill: rgb(68, 68, 68); fill-opacity: 1; white-space: pre;\" transform=\"translate(639.4449389703728,161.72733675093409)scale(0.32785890284051256)\">Архангельская область</text></g></g><g class=\"slice cursor-pointer\"><path class=\"surface\" d=\"M633.4449389703728,194.56646869606521L659.4012117466348,194.56646869606521L659.4012117466348,229.8239263478968L633.4449389703728,229.8239263478968Z\" style=\"pointer-events: all; stroke-width: 1; fill: rgb(0, 204, 150); fill-opacity: 1; stroke: rgb(255, 255, 255); stroke-opacity: 1; opacity: 1;\"/><g class=\"slicetext\"><text data-notex=\"1\" class=\"slicetext\" text-anchor=\"start\" x=\"0\" y=\"0\" style=\"font-family: 'Open Sans', verdana, arial, sans-serif; font-size: 12px; fill: rgb(68, 68, 68); fill-opacity: 1; white-space: pre;\" transform=\"translate(639.4449389703728,199.62496776048766)scale(0.1871362785838599)\">Ненецкий АО</text></g></g><g class=\"slice cursor-pointer\"><path class=\"surface\" d=\"M662.4012117466348,194.56646869606521L688,194.56646869606521L688,229.8239263478968L662.4012117466348,229.8239263478968Z\" style=\"pointer-events: all; stroke-width: 1; fill: rgb(0, 204, 150); fill-opacity: 1; stroke: rgb(255, 255, 255); stroke-opacity: 1; opacity: 1;\"/><g class=\"slicetext\"><text data-notex=\"1\" class=\"slicetext\" text-anchor=\"start\" x=\"0\" y=\"0\" style=\"font-family: 'Open Sans', verdana, arial, sans-serif; font-size: 12px; fill: rgb(68, 68, 68); fill-opacity: 1; white-space: pre;\" transform=\"translate(668.4012117466348,198.60167057002383)scale(0.09410926126896352)\">Калининградская область</text></g></g><g class=\"slice cursor-pointer\"><path class=\"surface\" d=\"M633.4449389703728,232.8239263478968L652.2313196199797,232.8239263478968L652.2313196199797,271.88336739067154L633.4449389703728,271.88336739067154Z\" style=\"pointer-events: all; stroke-width: 1; fill: rgb(0, 204, 150); fill-opacity: 1; stroke: rgb(255, 255, 255); stroke-opacity: 1; opacity: 1;\"/><g class=\"slicetext\"><text data-notex=\"1\" class=\"slicetext\" text-anchor=\"start\" x=\"0\" y=\"0\" style=\"font-family: 'Open Sans', verdana, arial, sans-serif; font-size: 12px; fill: rgb(68, 68, 68); fill-opacity: 1; white-space: pre;\" transform=\"translate(639.4449389703728,236.45555141100138)scale(0.0574204602822365)\">Вологодская область</text></g></g><g class=\"slice cursor-pointer\"><path class=\"surface\" d=\"M655.2313196199797,232.8239263478968L688,232.8239263478968L688,253.53015865495374L655.2313196199797,253.53015865495374Z\" style=\"pointer-events: all; stroke-width: 1; fill: rgb(0, 204, 150); fill-opacity: 1; stroke: rgb(255, 255, 255); stroke-opacity: 1; opacity: 1;\"/><g class=\"slicetext\"><text data-notex=\"1\" class=\"slicetext\" text-anchor=\"start\" x=\"0\" y=\"0\" style=\"font-family: 'Open Sans', verdana, arial, sans-serif; font-size: 12px; fill: rgb(68, 68, 68); fill-opacity: 1; white-space: pre;\" transform=\"translate(661.2313196199797,237.7820287970108)scale(0.17800931355581906)\">Мурманская область</text></g></g><g class=\"slice cursor-pointer\"><path class=\"surface\" d=\"M655.2313196199797,256.53015865495377L688.0000055076147,256.53015865495377L688.0000055076147,271.88336739067154L655.2313196199797,271.88336739067154Z\" style=\"pointer-events: all; stroke-width: 1; fill: rgb(0, 204, 150); fill-opacity: 1; stroke: rgb(255, 255, 255); stroke-opacity: 1; opacity: 1;\"/><g class=\"slicetext\"><text data-notex=\"1\" class=\"slicetext\" text-anchor=\"start\" x=\"0\" y=\"0\" style=\"font-family: 'Open Sans', verdana, arial, sans-serif; font-size: 12px; fill: rgb(68, 68, 68); fill-opacity: 1; white-space: pre;\" transform=\"translate(661.2313196199797,261.6981828045527)scale(0.1970931045089917)\">Псковская область</text></g></g><g class=\"slice cursor-pointer\"><path class=\"surface\" d=\"M422.18350674806595,304.88336739067154L536.915424093717,304.88336739067154L536.915424093717,362.66096161122124L422.18350674806595,362.66096161122124Z\" style=\"pointer-events: all; stroke-width: 1; fill: rgb(182, 232, 128); fill-opacity: 1; stroke: rgb(255, 255, 255); stroke-opacity: 1; opacity: 1;\"/><g class=\"slicetext\"><text data-notex=\"1\" class=\"slicetext\" text-anchor=\"start\" x=\"0\" y=\"0\" style=\"font-family: 'Open Sans', verdana, arial, sans-serif; font-size: 12px; fill: rgb(68, 68, 68); fill-opacity: 1; white-space: pre;\" transform=\"translate(428.18350674806595,317.8824369069633)scale(0.9090063196628876)\">Краснодарский край</text></g></g><g class=\"slice cursor-pointer\"><path class=\"surface\" d=\"M422.18350674806595,365.66096161122124L472.1796409622815,365.66096161122124L472.1796409622815,438L422.18350674806595,438Z\" style=\"pointer-events: all; stroke-width: 1; fill: rgb(182, 232, 128); fill-opacity: 1; stroke: rgb(255, 255, 255); stroke-opacity: 1; opacity: 1;\"/><g class=\"slicetext\"><text data-notex=\"1\" class=\"slicetext\" text-anchor=\"start\" x=\"0\" y=\"0\" style=\"font-family: 'Open Sans', verdana, arial, sans-serif; font-size: 12px; fill: rgb(68, 68, 68); fill-opacity: 1; white-space: pre;\" transform=\"translate(428.18350674806595,372.4305893573892)scale(0.34269343146981324)\">Ростовская область</text></g></g><g class=\"slice cursor-pointer\"><path class=\"surface\" d=\"M475.1796409622815,365.66096161122124L505.3828321588971,365.66096161122124L505.3828321588971,423.1664090421961L475.1796409622815,423.1664090421961Z\" style=\"pointer-events: all; stroke-width: 1; fill: rgb(182, 232, 128); fill-opacity: 1; stroke: rgb(255, 255, 255); stroke-opacity: 1; opacity: 1;\"/><g class=\"slicetext\"><text data-notex=\"1\" class=\"slicetext\" text-anchor=\"start\" x=\"0\" y=\"0\" style=\"font-family: 'Open Sans', verdana, arial, sans-serif; font-size: 12px; fill: rgb(68, 68, 68); fill-opacity: 1; white-space: pre;\" transform=\"translate(481.1796409622815,370.20867255354216)scale(0.140700994756449)\">Волгоградская область</text></g></g><g class=\"slice cursor-pointer\"><path class=\"surface\" d=\"M508.3828321588971,365.66096161122124L536.915424093717,365.66096161122124L536.915424093717,423.1664090421961L508.3828321588971,423.1664090421961Z\" style=\"pointer-events: all; stroke-width: 1; fill: rgb(182, 232, 128); fill-opacity: 1; stroke: rgb(255, 255, 255); stroke-opacity: 1; opacity: 1;\"/><g class=\"slicetext\"><text data-notex=\"1\" class=\"slicetext\" text-anchor=\"start\" x=\"0\" y=\"0\" style=\"font-family: 'Open Sans', verdana, arial, sans-serif; font-size: 12px; fill: rgb(68, 68, 68); fill-opacity: 1; white-space: pre;\" transform=\"translate(514.3828321588971,371.9093413829525)scale(0.2953072519755716)\">Калмыкия</text></g></g><g class=\"slice cursor-pointer\"><path class=\"surface\" d=\"M475.1796409622815,426.1664090421961L536.915436684788,426.1664090421961L536.915436684788,438L475.1796409622815,438Z\" style=\"pointer-events: all; stroke-width: 1; fill: rgb(182, 232, 128); fill-opacity: 1; stroke: rgb(255, 255, 255); stroke-opacity: 1; opacity: 1;\"/><g class=\"slicetext\"><text data-notex=\"1\" class=\"slicetext\" text-anchor=\"start\" x=\"0\" y=\"0\" style=\"font-family: 'Open Sans', verdana, arial, sans-serif; font-size: 12px; fill: rgb(68, 68, 68); fill-opacity: 1; white-space: pre;\" transform=\"translate(481.1796409622815,433.56239148898135)scale(0.3996347678895689)\">Астраханская область</text></g></g><g class=\"slice cursor-pointer\"><path class=\"surface\" d=\"M551.915424093717,304.88336739067154L610.8631976964728,304.88336739067154L610.8631976964728,386.26678871075546L551.915424093717,386.26678871075546Z\" style=\"pointer-events: all; stroke-width: 1; fill: rgb(99, 110, 250); fill-opacity: 1; stroke: rgb(255, 255, 255); stroke-opacity: 1; opacity: 1;\"/><g class=\"slicetext\"><text data-notex=\"1\" class=\"slicetext\" text-anchor=\"start\" x=\"0\" y=\"0\" style=\"font-family: 'Open Sans', verdana, arial, sans-serif; font-size: 12px; fill: rgb(255, 255, 255); fill-opacity: 1; white-space: pre;\" transform=\"translate(557.915424093717,318.88336739067154)\">Якутия</text></g></g><g class=\"slice cursor-pointer\"><path class=\"surface\" d=\"M613.8631976964728,304.88336739067154L660.0457900511306,304.88336739067154L660.0457900511306,356.78548021858387L613.8631976964728,356.78548021858387Z\" style=\"pointer-events: all; stroke-width: 1; fill: rgb(99, 110, 250); fill-opacity: 1; stroke: rgb(255, 255, 255); stroke-opacity: 1; opacity: 1;\"/><g class=\"slicetext\"><text data-notex=\"1\" class=\"slicetext\" text-anchor=\"start\" x=\"0\" y=\"0\" style=\"font-family: 'Open Sans', verdana, arial, sans-serif; font-size: 12px; fill: rgb(255, 255, 255); fill-opacity: 1; white-space: pre;\" transform=\"translate(619.8631976964728,311.6125700898315)scale(0.33901842719635816)\">Хабаровский край</text></g></g><g class=\"slice cursor-pointer\"><path class=\"surface\" d=\"M663.0457900511306,304.88336739067154L688,304.88336739067154L688,356.78548021858387L663.0457900511306,356.78548021858387Z\" style=\"pointer-events: all; stroke-width: 1; fill: rgb(99, 110, 250); fill-opacity: 1; stroke: rgb(255, 255, 255); stroke-opacity: 1; opacity: 1;\"/><g class=\"slicetext\"><text data-notex=\"1\" class=\"slicetext\" text-anchor=\"start\" x=\"0\" y=\"0\" style=\"font-family: 'Open Sans', verdana, arial, sans-serif; font-size: 12px; fill: rgb(255, 255, 255); fill-opacity: 1; white-space: pre;\" transform=\"translate(669.0457900511306,309.0630031174862)scale(0.10723961152860492)\">Сахалинская область</text></g></g><g class=\"slice cursor-pointer\"><path class=\"surface\" d=\"M613.8631976964728,359.78548021858387L647.2648261572771,359.78548021858387L647.2648261572771,386.26678871075546L613.8631976964728,386.26678871075546Z\" style=\"pointer-events: all; stroke-width: 1; fill: rgb(99, 110, 250); fill-opacity: 1; stroke: rgb(255, 255, 255); stroke-opacity: 1; opacity: 1;\"/><g class=\"slicetext\"><text data-notex=\"1\" class=\"slicetext\" text-anchor=\"start\" x=\"0\" y=\"0\" style=\"font-family: 'Open Sans', verdana, arial, sans-serif; font-size: 12px; fill: rgb(255, 255, 255); fill-opacity: 1; white-space: pre;\" transform=\"translate(619.8631976964728,365.2152087198589)scale(0.22088440920681768)\">Приморский край</text></g></g><g class=\"slice cursor-pointer\"><path class=\"surface\" d=\"M650.2648261572771,359.78548021858387L663.7322288886772,359.78548021858387L663.7322288886772,386.26678871075546L650.2648261572771,386.26678871075546Z\" style=\"pointer-events: all; stroke-width: 1; fill: rgb(99, 110, 250); fill-opacity: 1; stroke: rgb(255, 255, 255); stroke-opacity: 1; opacity: 1;\"/><g class=\"slicetext\"><text data-notex=\"1\" class=\"slicetext\" text-anchor=\"start\" x=\"0\" y=\"0\" style=\"font-family: 'Open Sans', verdana, arial, sans-serif; font-size: 12px; fill: rgb(255, 255, 255); fill-opacity: 1; white-space: pre;\" transform=\"translate(656.2648261572771,362.9196079156633)scale(0.012193427007220321)\">Магаданская область</text></g></g><g class=\"slice cursor-pointer\"><path class=\"surface\" d=\"M666.7322288886772,359.78548021858387L688,359.78548021858387L688,371.5261230427295L666.7322288886772,371.5261230427295Z\" style=\"pointer-events: all; stroke-width: 1; fill: rgb(99, 110, 250); fill-opacity: 1; stroke: rgb(255, 255, 255); stroke-opacity: 1; opacity: 1;\"/><g class=\"slicetext\"><text data-notex=\"1\" class=\"slicetext\" text-anchor=\"start\" x=\"0\" y=\"0\" style=\"font-family: 'Open Sans', verdana, arial, sans-serif; font-size: 12px; fill: rgb(255, 255, 255); fill-opacity: 1; white-space: pre;\" transform=\"translate(672.7322288886772,363.8790958508955)scale(0.09941960293742148)\">Камчатский край</text></g></g><g class=\"slice cursor-pointer\"><path class=\"surface\" d=\"M666.7322288886772,374.5261230427295L687.9999623917895,374.5261230427295L687.9999623917895,386.26678871075546L666.7322288886772,386.26678871075546Z\" style=\"pointer-events: all; stroke-width: 1; fill: rgb(99, 110, 250); fill-opacity: 1; stroke: rgb(255, 255, 255); stroke-opacity: 1; opacity: 1;\"/><g class=\"slicetext\"><text data-notex=\"1\" class=\"slicetext\" text-anchor=\"start\" x=\"0\" y=\"0\" style=\"font-family: 'Open Sans', verdana, arial, sans-serif; font-size: 12px; fill: rgb(255, 255, 255); fill-opacity: 1; white-space: pre;\" transform=\"translate(672.7322288886772,378.8636557172254)scale(0.12159387949962777)\">Чукотский АО</text></g></g><g class=\"slice cursor-pointer\"><path class=\"surface\" d=\"M551.915424093717,419.26678871075546L599.7115302712047,419.26678871075546L599.7115302712047,438L551.915424093717,438Z\" style=\"pointer-events: all; stroke-width: 1; fill: rgb(171, 99, 250); fill-opacity: 1; stroke: rgb(255, 255, 255); stroke-opacity: 1; opacity: 1;\"/><g class=\"slicetext\"><text data-notex=\"1\" class=\"slicetext\" text-anchor=\"start\" x=\"0\" y=\"0\" style=\"font-family: 'Open Sans', verdana, arial, sans-serif; font-size: 12px; fill: rgb(68, 68, 68); fill-opacity: 1; white-space: pre;\" transform=\"translate(557.915424093717,425.55152003882523)scale(0.2986119389154342)\">Ставропольский край</text></g></g><g class=\"slice cursor-pointer\"><path class=\"surface\" d=\"M602.7115302712047,419.26678871075546L630.5520225094225,419.26678871075546L630.5520225094225,438L602.7115302712047,438Z\" style=\"pointer-events: all; stroke-width: 1; fill: rgb(171, 99, 250); fill-opacity: 1; stroke: rgb(255, 255, 255); stroke-opacity: 1; opacity: 1;\"/><g class=\"slicetext\"><text data-notex=\"1\" class=\"slicetext\" text-anchor=\"start\" x=\"0\" y=\"0\" style=\"font-family: 'Open Sans', verdana, arial, sans-serif; font-size: 12px; fill: rgb(68, 68, 68); fill-opacity: 1; white-space: pre;\" transform=\"translate(608.7115302712047,425.73435915096235)scale(0.31523367638244476)\">Дагестан</text></g></g><g class=\"slice cursor-pointer\"><path class=\"surface\" d=\"M633.5520225094225,419.26678871075546L658.6712951729033,419.26678871075546L658.6712951729033,438L633.5520225094225,438Z\" style=\"pointer-events: all; stroke-width: 1; fill: rgb(171, 99, 250); fill-opacity: 1; stroke: rgb(255, 255, 255); stroke-opacity: 1; opacity: 1;\"/><g class=\"slicetext\"><text data-notex=\"1\" class=\"slicetext\" text-anchor=\"start\" x=\"0\" y=\"0\" style=\"font-family: 'Open Sans', verdana, arial, sans-serif; font-size: 12px; fill: rgb(68, 68, 68); fill-opacity: 1; white-space: pre;\" transform=\"translate(639.5520225094225,423.49041986537793)scale(0.11123919587477132)\">Кабардино-Балкария</text></g></g><g class=\"slice cursor-pointer\"><path class=\"surface\" d=\"M661.6712951729033,419.26678871075546L677.4174769485571,419.26678871075546L677.4174769485571,438L661.6712951729033,438Z\" style=\"pointer-events: all; stroke-width: 1; fill: rgb(171, 99, 250); fill-opacity: 1; stroke: rgb(255, 255, 255); stroke-opacity: 1; opacity: 1;\"/><g class=\"slicetext\"><text data-notex=\"1\" class=\"slicetext\" text-anchor=\"start\" x=\"0\" y=\"0\" style=\"font-family: 'Open Sans', verdana, arial, sans-serif; font-size: 12px; fill: rgb(68, 68, 68); fill-opacity: 1; white-space: pre;\" transform=\"translate(667.6712951729033,422.52672484027056)scale(0.02363055722864597)\">Северная Осетия — Алания</text></g></g><g class=\"slice cursor-pointer\"><path class=\"surface\" d=\"M680.4174769485571,419.26678871075546L688,419.26678871075546L688,437.99999770529104L680.4174769485571,437.99999770529104Z\" style=\"pointer-events: all; stroke-width: 1; fill: rgb(171, 99, 250); fill-opacity: 1; stroke: rgb(255, 255, 255); stroke-opacity: 1; opacity: 1;\"/><g class=\"slicetext\"><text data-notex=\"1\" class=\"slicetext\" text-anchor=\"start\" x=\"0\" y=\"0\" style=\"font-family: 'Open Sans', verdana, arial, sans-serif; font-size: 12px; fill: rgb(68, 68, 68); fill-opacity: 1; white-space: pre;\" transform=\"translate(686.4174769485571,419.78425096259747)scale(0.04704202289472555)\">Чечня</text></g></g><g class=\"slice cursor-pointer\"><path class=\"surface\" d=\"M18,72L197.35305858200024,72L197.35305858200024,346.7677145695028L18,346.7677145695028Z\" style=\"pointer-events: all; stroke-width: 1; fill: rgb(255, 102, 146); fill-opacity: 1; stroke: rgb(255, 255, 255); stroke-opacity: 1; opacity: 1;\"/><g class=\"slicetext\"><text data-notex=\"1\" class=\"slicetext\" text-anchor=\"start\" x=\"0\" y=\"0\" style=\"font-family: 'Open Sans', verdana, arial, sans-serif; font-size: 12px; fill: rgb(68, 68, 68); fill-opacity: 1; white-space: pre;\" transform=\"translate(21,86)\">Москва</text></g></g><g class=\"slice cursor-pointer\"><path class=\"surface\" d=\"M18,379.7677145695028L57.07816462595042,379.7677145695028L57.07816462595042,432L18,432Z\" style=\"pointer-events: all; stroke-width: 1; fill: rgb(255, 102, 146); fill-opacity: 1; stroke: rgb(255, 255, 255); stroke-opacity: 1; opacity: 1;\"/><g class=\"slicetext\"><text data-notex=\"1\" class=\"slicetext\" text-anchor=\"start\" x=\"0\" y=\"0\" style=\"font-family: 'Open Sans', verdana, arial, sans-serif; font-size: 12px; fill: rgb(68, 68, 68); fill-opacity: 1; white-space: pre;\" transform=\"translate(21,391.97207342194116)scale(0.8367598956762162)\">Брянск</text></g></g><g class=\"slice cursor-pointer\"><path class=\"surface\" d=\"M72.07816462595042,379.7677145695028L100.51514185268816,379.7677145695028L100.51514185268816,418.0255664948804L72.07816462595042,418.0255664948804Z\" style=\"pointer-events: all; stroke-width: 1; fill: rgb(255, 102, 146); fill-opacity: 1; stroke: rgb(255, 255, 255); stroke-opacity: 1; opacity: 1;\"/><g class=\"slicetext\"><text data-notex=\"1\" class=\"slicetext\" text-anchor=\"start\" x=\"0\" y=\"0\" style=\"font-family: 'Open Sans', verdana, arial, sans-serif; font-size: 12px; fill: rgb(68, 68, 68); fill-opacity: 1; white-space: pre;\" transform=\"translate(75.07816462595042,390.15575571432197)scale(0.6716401040744693)\">Киров</text></g></g><g class=\"slice cursor-pointer\"><path class=\"surface\" d=\"M72.07816462595042,421.0255664948804L100.51514185268816,421.0255664948804L100.51514185268816,432L72.07816462595042,432Z\" style=\"pointer-events: all; stroke-width: 1; fill: rgb(255, 102, 146); fill-opacity: 1; stroke: rgb(255, 255, 255); stroke-opacity: 1; opacity: 1;\"/><g class=\"slicetext\"><text data-notex=\"1\" class=\"slicetext\" text-anchor=\"start\" x=\"0\" y=\"0\" style=\"font-family: 'Open Sans', verdana, arial, sans-serif; font-size: 12px; fill: rgb(68, 68, 68); fill-opacity: 1; white-space: pre;\" transform=\"translate(75.07816462595042,427.93404996318867)scale(0.35531667893711266)\">Калуга</text></g></g><g class=\"slice cursor-pointer\"><path class=\"surface\" d=\"M115.51514185268816,379.7677145695028L154.5933064786386,379.7677145695028L154.5933064786386,397.9070858278011L115.51514185268816,397.9070858278011Z\" style=\"pointer-events: all; stroke-width: 1; fill: rgb(255, 102, 146); fill-opacity: 1; stroke: rgb(255, 255, 255); stroke-opacity: 1; opacity: 1;\"/><g class=\"slicetext\"><text data-notex=\"1\" class=\"slicetext\" text-anchor=\"start\" x=\"0\" y=\"0\" style=\"font-family: 'Open Sans', verdana, arial, sans-serif; font-size: 12px; fill: rgb(68, 68, 68); fill-opacity: 1; white-space: pre;\" transform=\"translate(118.51514185268816,389.76291670127483)scale(0.6359274665247305)\">Белгород</text></g></g><g class=\"slice cursor-pointer\"><path class=\"surface\" d=\"M115.51514185268816,430.9070858278011L154.5933064786386,430.9070858278011L154.5933064786386,432L115.51514185268816,432Z\" style=\"pointer-events: all; stroke-width: 1; fill: rgb(255, 102, 146); fill-opacity: 1; stroke: rgb(255, 255, 255); stroke-opacity: 1; opacity: 1;\"/><g class=\"slicetext\"><text data-notex=\"1\" class=\"slicetext\" text-anchor=\"start\" x=\"0\" y=\"0\" style=\"font-family: 'Open Sans', verdana, arial, sans-serif; font-size: 12px; fill: rgb(68, 68, 68); fill-opacity: 1; white-space: pre;\" transform=\"translate(118.51514185268816,431.7658041059574)scale(0.07806529801420733)\">Тамбов</text></g></g><g class=\"slice cursor-pointer\"><path class=\"surface\" d=\"\" style=\"pointer-events: all; stroke-width: 1; fill: rgb(255, 102, 146); fill-opacity: 1; stroke: rgb(255, 255, 255); stroke-opacity: 1; opacity: 1;\"/><g class=\"slicetext\"><text data-notex=\"1\" class=\"slicetext\" text-anchor=\"start\" x=\"0\" y=\"0\" style=\"font-family: 'Open Sans', verdana, arial, sans-serif; font-size: 12px; fill: rgb(68, 68, 68); fill-opacity: 1; white-space: pre;\" transform=\"translate(172.5933064786386,375.61176111227877)scale(0)\"> </text></g></g><g class=\"slice cursor-pointer\"><path class=\"surface\" d=\"\" style=\"pointer-events: all; stroke-width: 1; fill: rgb(255, 102, 146); fill-opacity: 1; stroke: rgb(255, 255, 255); stroke-opacity: 1; opacity: 1;\"/><g class=\"slicetext\"><text data-notex=\"1\" class=\"slicetext\" text-anchor=\"start\" x=\"0\" y=\"0\" style=\"font-family: 'Open Sans', verdana, arial, sans-serif; font-size: 12px; fill: rgb(68, 68, 68); fill-opacity: 1; white-space: pre;\" transform=\"translate(172.5933064786386,398.73511608466106)scale(0)\"> </text></g></g><g class=\"slice cursor-pointer\"><path class=\"surface\" d=\"\" style=\"pointer-events: all; stroke-width: 1; fill: rgb(255, 102, 146); fill-opacity: 1; stroke: rgb(255, 255, 255); stroke-opacity: 1; opacity: 1;\"/><g class=\"slicetext\"><text data-notex=\"1\" class=\"slicetext\" text-anchor=\"start\" x=\"0\" y=\"0\" style=\"font-family: 'Open Sans', verdana, arial, sans-serif; font-size: 12px; fill: rgb(68, 68, 68); fill-opacity: 1; white-space: pre;\" transform=\"translate(172.5933064786386,419.36683429838575)scale(0)\"> </text></g></g><g class=\"slice cursor-pointer\"><path class=\"surface\" d=\"\" style=\"pointer-events: all; stroke-width: 1; fill: rgb(255, 102, 146); fill-opacity: 1; stroke: rgb(255, 255, 255); stroke-opacity: 1; opacity: 1;\"/><g class=\"slicetext\"><text data-notex=\"1\" class=\"slicetext\" text-anchor=\"start\" x=\"0\" y=\"0\" style=\"font-family: 'Open Sans', verdana, arial, sans-serif; font-size: 12px; fill: rgb(68, 68, 68); fill-opacity: 1; white-space: pre;\" transform=\"translate(172.5933064786386,438.85962204125207)scale(0)\"> </text></g></g><g class=\"slice cursor-pointer\"><path class=\"surface\" d=\"\" style=\"pointer-events: all; stroke-width: 1; fill: rgb(255, 102, 146); fill-opacity: 1; stroke: rgb(255, 255, 255); stroke-opacity: 1; opacity: 1;\"/><g class=\"slicetext\"><text data-notex=\"1\" class=\"slicetext\" text-anchor=\"start\" x=\"0\" y=\"0\" style=\"font-family: 'Open Sans', verdana, arial, sans-serif; font-size: 12px; fill: rgb(68, 68, 68); fill-opacity: 1; white-space: pre;\" transform=\"translate(201.94159693635947,426.0144245142674)scale(0)\"> </text></g></g><g class=\"slice cursor-pointer\"><path class=\"surface\" d=\"M224.35305858200024,72L278.80524814689886,72L278.80524814689886,115.1007413938112L224.35305858200024,115.1007413938112Z\" style=\"pointer-events: all; stroke-width: 1; fill: rgb(25, 211, 243); fill-opacity: 1; stroke: rgb(255, 255, 255); stroke-opacity: 1; opacity: 1;\"/><g class=\"slicetext\"><text data-notex=\"1\" class=\"slicetext\" text-anchor=\"start\" x=\"0\" y=\"0\" style=\"font-family: 'Open Sans', verdana, arial, sans-serif; font-size: 12px; fill: rgb(68, 68, 68); fill-opacity: 1; white-space: pre;\" transform=\"translate(227.35305858200024,84.21154238554918)scale(0.8374129441408349)\">Советский</text></g></g><g class=\"slice cursor-pointer\"><path class=\"surface\" d=\"M224.35305858200024,118.1007413938112L278.80524814689886,118.1007413938112L278.80524814689886,159.87959899038316L224.35305858200024,159.87959899038316Z\" style=\"pointer-events: all; stroke-width: 1; fill: rgb(25, 211, 243); fill-opacity: 1; stroke: rgb(255, 255, 255); stroke-opacity: 1; opacity: 1;\"/><g class=\"slicetext\"><text data-notex=\"1\" class=\"slicetext\" text-anchor=\"start\" x=\"0\" y=\"0\" style=\"font-family: 'Open Sans', verdana, arial, sans-serif; font-size: 12px; fill: rgb(68, 68, 68); fill-opacity: 1; white-space: pre;\" transform=\"translate(227.35305858200024,132.1007413938112)\">Сургут</text></g></g><g class=\"slice cursor-pointer\"><path class=\"surface\" d=\"M281.80524814689886,72L345.8676252026201,72L345.8676252026201,105.94637507849475L281.80524814689886,105.94637507849475Z\" style=\"pointer-events: all; stroke-width: 1; fill: rgb(25, 211, 243); fill-opacity: 1; stroke: rgb(255, 255, 255); stroke-opacity: 1; opacity: 1;\"/><g class=\"slicetext\"><text data-notex=\"1\" class=\"slicetext\" text-anchor=\"start\" x=\"0\" y=\"0\" style=\"font-family: 'Open Sans', verdana, arial, sans-serif; font-size: 12px; fill: rgb(68, 68, 68); fill-opacity: 1; white-space: pre;\" transform=\"translate(284.80524814689886,81.7765108500046)scale(0.6160464409095092)\">Ханты-Мансийск</text></g></g><g class=\"slice cursor-pointer\"><path class=\"surface\" d=\"M281.80524814689886,108.94637507849475L313.12850853198347,108.94637507849475L313.12850853198347,133.0512772158817L281.80524814689886,133.0512772158817Z\" style=\"pointer-events: all; stroke-width: 1; fill: rgb(25, 211, 243); fill-opacity: 1; stroke: rgb(255, 255, 255); stroke-opacity: 1; opacity: 1;\"/><g class=\"slicetext\"><text data-notex=\"1\" class=\"slicetext\" text-anchor=\"start\" x=\"0\" y=\"0\" style=\"font-family: 'Open Sans', verdana, arial, sans-serif; font-size: 12px; fill: rgb(68, 68, 68); fill-opacity: 1; white-space: pre;\" transform=\"translate(284.80524814689886,117.71022095987192)scale(0.5239859892161057)\">Когалым</text></g></g><g class=\"slice cursor-pointer\"><path class=\"surface\" d=\"M281.80524814689886,136.0512772158817L313.12850853198347,136.0512772158817L313.12850853198347,159.87959899038316L281.80524814689886,159.87959899038316Z\" style=\"pointer-events: all; stroke-width: 1; fill: rgb(25, 211, 243); fill-opacity: 1; stroke: rgb(255, 255, 255); stroke-opacity: 1; opacity: 1;\"/><g class=\"slicetext\"><text data-notex=\"1\" class=\"slicetext\" text-anchor=\"start\" x=\"0\" y=\"0\" style=\"font-family: 'Open Sans', verdana, arial, sans-serif; font-size: 12px; fill: rgb(68, 68, 68); fill-opacity: 1; white-space: pre;\" transform=\"translate(284.80524814689886,142.27915614238896)scale(0.29344353877338675)\">Нижневартовск</text></g></g><g class=\"slice cursor-pointer\"><path class=\"surface\" d=\"M316.12850853198347,108.94637507849475L345.8676252026201,108.94637507849475L345.8676252026201,123.92411209623104L316.12850853198347,123.92411209623104Z\" style=\"pointer-events: all; stroke-width: 1; fill: rgb(25, 211, 243); fill-opacity: 1; stroke: rgb(255, 255, 255); stroke-opacity: 1; opacity: 1;\"/><g class=\"slicetext\"><text data-notex=\"1\" class=\"slicetext\" text-anchor=\"start\" x=\"0\" y=\"0\" style=\"font-family: 'Open Sans', verdana, arial, sans-serif; font-size: 12px; fill: rgb(68, 68, 68); fill-opacity: 1; white-space: pre;\" transform=\"translate(319.12850853198347,115.91605159538982)scale(0.3608796833540961)\">Белоярский</text></g></g><g class=\"slice cursor-pointer\"><path class=\"surface\" d=\"M316.12850853198347,126.92411209623104L345.8676252026201,126.92411209623104L345.8676252026201,141.90184911396733L316.12850853198347,141.90184911396733Z\" style=\"pointer-events: all; stroke-width: 1; fill: rgb(25, 211, 243); fill-opacity: 1; stroke: rgb(255, 255, 255); stroke-opacity: 1; opacity: 1;\"/><g class=\"slicetext\"><text data-notex=\"1\" class=\"slicetext\" text-anchor=\"start\" x=\"0\" y=\"0\" style=\"font-family: 'Open Sans', verdana, arial, sans-serif; font-size: 12px; fill: rgb(68, 68, 68); fill-opacity: 1; white-space: pre;\" transform=\"translate(319.12850853198347,136.97804832445243)scale(0.6412669298383064)\">Урай</text></g></g><g class=\"slice cursor-pointer\"><path class=\"surface\" d=\"M316.12850853198347,144.90184911396733L329.49805515888966,144.90184911396733L329.49805515888966,159.87959899038316L316.12850853198347,159.87959899038316Z\" style=\"pointer-events: all; stroke-width: 1; fill: rgb(25, 211, 243); fill-opacity: 1; stroke: rgb(255, 255, 255); stroke-opacity: 1; opacity: 1;\"/><g class=\"slicetext\"><text data-notex=\"1\" class=\"slicetext\" text-anchor=\"start\" x=\"0\" y=\"0\" style=\"font-family: 'Open Sans', verdana, arial, sans-serif; font-size: 12px; fill: rgb(68, 68, 68); fill-opacity: 1; white-space: pre;\" transform=\"translate(319.12850853198347,148.97711560626618)scale(0.09775149929989552)\">Нефтеюганск</text></g></g><g class=\"slice cursor-pointer\"><path class=\"surface\" d=\"M332.49805515888966,144.90184911396733L345.8676252026201,144.90184911396733L345.8676252026201,159.87957327304247L332.49805515888966,159.87957327304247Z\" style=\"pointer-events: all; stroke-width: 1; fill: rgb(25, 211, 243); fill-opacity: 1; stroke: rgb(255, 255, 255); stroke-opacity: 1; opacity: 1;\"/><g class=\"slicetext\"><text data-notex=\"1\" class=\"slicetext\" text-anchor=\"start\" x=\"0\" y=\"0\" style=\"font-family: 'Open Sans', verdana, arial, sans-serif; font-size: 12px; fill: rgb(68, 68, 68); fill-opacity: 1; white-space: pre;\" transform=\"translate(335.49805515888966,149.9896468245453)scale(0.18979979187072382)\">Нягань</text></g></g><g class=\"slice cursor-pointer\"><path class=\"surface\" d=\"M360.8676252026201,72L401.18350674806595,72L401.18350674806595,117.35622565340009L360.8676252026201,117.35622565340009Z\" style=\"pointer-events: all; stroke-width: 1; fill: rgb(25, 211, 243); fill-opacity: 1; stroke: rgb(255, 255, 255); stroke-opacity: 1; opacity: 1;\"/><g class=\"slicetext\"><text data-notex=\"1\" class=\"slicetext\" text-anchor=\"start\" x=\"0\" y=\"0\" style=\"font-family: 'Open Sans', verdana, arial, sans-serif; font-size: 12px; fill: rgb(68, 68, 68); fill-opacity: 1; white-space: pre;\" transform=\"translate(363.8676252026201,79.44496423330155)scale(0.4040876575728674)\">Новый Уренгой</text></g></g><g class=\"slice cursor-pointer\"><path class=\"surface\" d=\"M360.8676252026201,120.35622565340009L389.30038976724904,120.35622565340009L389.30038976724904,141.4700899770915L360.8676252026201,141.4700899770915Z\" style=\"pointer-events: all; stroke-width: 1; fill: rgb(25, 211, 243); fill-opacity: 1; stroke: rgb(255, 255, 255); stroke-opacity: 1; opacity: 1;\"/><g class=\"slicetext\"><text data-notex=\"1\" class=\"slicetext\" text-anchor=\"start\" x=\"0\" y=\"0\" style=\"font-family: 'Open Sans', verdana, arial, sans-serif; font-size: 12px; fill: rgb(68, 68, 68); fill-opacity: 1; white-space: pre;\" transform=\"translate(363.8676252026201,127.95781838460603)scale(0.4183266119278124)\">Ноябрьск</text></g></g><g class=\"slice cursor-pointer\"><path class=\"surface\" d=\"M360.8676252026201,144.4700899770915L389.30038976724904,144.4700899770915L389.30038976724904,159.87959899038316L360.8676252026201,159.87959899038316Z\" style=\"pointer-events: all; stroke-width: 1; fill: rgb(25, 211, 243); fill-opacity: 1; stroke: rgb(255, 255, 255); stroke-opacity: 1; opacity: 1;\"/><g class=\"slicetext\"><text data-notex=\"1\" class=\"slicetext\" text-anchor=\"start\" x=\"0\" y=\"0\" style=\"font-family: 'Open Sans', verdana, arial, sans-serif; font-size: 12px; fill: rgb(68, 68, 68); fill-opacity: 1; white-space: pre;\" transform=\"translate(363.8676252026201,153.764496614596)scale(0.5722187852276812)\">Надым</text></g></g><g class=\"slice cursor-pointer\"><path class=\"surface\" d=\"M392.30038976724904,120.35622565340009L401.18350674806595,120.35622565340009L401.18350674806595,159.87960405956488L392.30038976724904,159.87960405956488Z\" style=\"pointer-events: all; stroke-width: 1; fill: rgb(25, 211, 243); fill-opacity: 1; stroke: rgb(255, 255, 255); stroke-opacity: 1; opacity: 1;\"/><g class=\"slicetext\"><text data-notex=\"1\" class=\"slicetext\" text-anchor=\"start\" x=\"0\" y=\"0\" style=\"font-family: 'Open Sans', verdana, arial, sans-serif; font-size: 12px; fill: rgb(68, 68, 68); fill-opacity: 1; white-space: pre;\" transform=\"translate(395.30038976724904,123.93482153552526)scale(0.052599625647742905)\">Салехард</text></g></g><g class=\"slice cursor-pointer\"><path class=\"surface\" d=\"M224.35305858200024,192.87959899038316L276.3505554245506,192.87959899038316L276.3505554245506,232.40735838461305L224.35305858200024,232.40735838461305Z\" style=\"pointer-events: all; stroke-width: 1; fill: rgb(25, 211, 243); fill-opacity: 1; stroke: rgb(255, 255, 255); stroke-opacity: 1; opacity: 1;\"/><g class=\"slicetext\"><text data-notex=\"1\" class=\"slicetext\" text-anchor=\"start\" x=\"0\" y=\"0\" style=\"font-family: 'Open Sans', verdana, arial, sans-serif; font-size: 12px; fill: rgb(68, 68, 68); fill-opacity: 1; white-space: pre;\" transform=\"translate(227.35305858200024,202.5275640442028)scale(0.6043604594381485)\">Екатеринбург</text></g></g><g class=\"slice cursor-pointer\"><path class=\"surface\" d=\"M291.3505554245506,192.87959899038316L320.5347031309834,192.87959899038316L320.5347031309834,232.40735838461305L291.3505554245506,232.40735838461305Z\" style=\"pointer-events: all; stroke-width: 1; fill: rgb(25, 211, 243); fill-opacity: 1; stroke: rgb(255, 255, 255); stroke-opacity: 1; opacity: 1;\"/><g class=\"slicetext\"><text data-notex=\"1\" class=\"slicetext\" text-anchor=\"start\" x=\"0\" y=\"0\" style=\"font-family: 'Open Sans', verdana, arial, sans-serif; font-size: 12px; fill: rgb(68, 68, 68); fill-opacity: 1; white-space: pre;\" transform=\"translate(294.3505554245506,200.13224098760273)scale(0.386603817929052)\">Челябинск</text></g></g><g class=\"slice cursor-pointer\"><path class=\"surface\" d=\"M323.5347031309834,192.87959899038316L339.7214048559318,192.87959899038316L339.7214048559318,232.40736345431765L323.5347031309834,232.40736345431765Z\" style=\"pointer-events: all; stroke-width: 1; fill: rgb(25, 211, 243); fill-opacity: 1; stroke: rgb(255, 255, 255); stroke-opacity: 1; opacity: 1;\"/><g class=\"slicetext\"><text data-notex=\"1\" class=\"slicetext\" text-anchor=\"start\" x=\"0\" y=\"0\" style=\"font-family: 'Open Sans', verdana, arial, sans-serif; font-size: 12px; fill: rgb(68, 68, 68); fill-opacity: 1; white-space: pre;\" transform=\"translate(326.5347031309834,197.35399002952042)scale(0.13403554901247847)\">Магнитогорск</text></g></g><g class=\"slice cursor-pointer\"><path class=\"surface\" d=\"M354.7214048559318,192.87959899038316L401.18350674806595,192.87959899038316L401.18350674806595,208.53175358170614L354.7214048559318,208.53175358170614Z\" style=\"pointer-events: all; stroke-width: 1; fill: rgb(25, 211, 243); fill-opacity: 1; stroke: rgb(255, 255, 255); stroke-opacity: 1; opacity: 1;\"/><g class=\"slicetext\"><text data-notex=\"1\" class=\"slicetext\" text-anchor=\"start\" x=\"0\" y=\"0\" style=\"font-family: 'Open Sans', verdana, arial, sans-serif; font-size: 12px; fill: rgb(68, 68, 68); fill-opacity: 1; white-space: pre;\" transform=\"translate(357.7214048559318,203.46343474070835)scale(0.6894396136659273)\">Тюмень</text></g></g><g class=\"slice cursor-pointer\"><path class=\"surface\" d=\"\" style=\"pointer-events: all; stroke-width: 1; fill: rgb(25, 211, 243); fill-opacity: 1; stroke: rgb(255, 255, 255); stroke-opacity: 1; opacity: 1;\"/><g class=\"slicetext\"><text data-notex=\"1\" class=\"slicetext\" text-anchor=\"start\" x=\"0\" y=\"0\" style=\"font-family: 'Open Sans', verdana, arial, sans-serif; font-size: 12px; fill: rgb(68, 68, 68); fill-opacity: 1; white-space: pre;\" transform=\"translate(357.7214048559318,236.96955598315958)scale(0)\"> </text></g></g><g class=\"slice cursor-pointer\"><path class=\"surface\" d=\"M224.35305858200024,295.4073583846131L270.4838776702009,295.4073583846131L270.4838776702009,329.71672195803495L224.35305858200024,329.71672195803495Z\" style=\"pointer-events: all; stroke-width: 1; fill: rgb(239, 85, 59); fill-opacity: 1; stroke: rgb(255, 255, 255); stroke-opacity: 1; opacity: 1;\"/><g class=\"slicetext\"><text data-notex=\"1\" class=\"slicetext\" text-anchor=\"start\" x=\"0\" y=\"0\" style=\"font-family: 'Open Sans', verdana, arial, sans-serif; font-size: 12px; fill: rgb(68, 68, 68); fill-opacity: 1; white-space: pre;\" transform=\"translate(227.35305858200024,309.4073583846131)\">Казань</text></g></g><g class=\"slice cursor-pointer\"><path class=\"surface\" d=\"M224.35305858200024,332.71672195803495L248.62183954365813,332.71672195803495L248.62183954365813,362.206959259602L224.35305858200024,362.206959259602Z\" style=\"pointer-events: all; stroke-width: 1; fill: rgb(239, 85, 59); fill-opacity: 1; stroke: rgb(255, 255, 255); stroke-opacity: 1; opacity: 1;\"/><g class=\"slicetext\"><text data-notex=\"1\" class=\"slicetext\" text-anchor=\"start\" x=\"0\" y=\"0\" style=\"font-family: 'Open Sans', verdana, arial, sans-serif; font-size: 12px; fill: rgb(68, 68, 68); fill-opacity: 1; white-space: pre;\" transform=\"translate(227.35305858200024,338.62386974216855)scale(0.2642861621939657)\">Нижнекамск</text></g></g><g class=\"slice cursor-pointer\"><path class=\"surface\" d=\"M251.62183954365813,332.71672195803495L270.4838776702009,332.71672195803495L270.4838776702009,362.2069618416943L251.62183954365813,362.2069618416943Z\" style=\"pointer-events: all; stroke-width: 1; fill: rgb(239, 85, 59); fill-opacity: 1; stroke: rgb(255, 255, 255); stroke-opacity: 1; opacity: 1;\"/><g class=\"slicetext\"><text data-notex=\"1\" class=\"slicetext\" text-anchor=\"start\" x=\"0\" y=\"0\" style=\"font-family: 'Open Sans', verdana, arial, sans-serif; font-size: 12px; fill: rgb(68, 68, 68); fill-opacity: 1; white-space: pre;\" transform=\"translate(254.62183954365813,338.42613992365017)scale(0.2463107241468397)\">Бугульма</text></g></g><g class=\"slice cursor-pointer\"><path class=\"surface\" d=\"M224.35305858200024,395.206959259602L270.4838776702009,395.206959259602L270.4838776702009,432L224.35305858200024,432Z\" style=\"pointer-events: all; stroke-width: 1; fill: rgb(239, 85, 59); fill-opacity: 1; stroke: rgb(255, 255, 255); stroke-opacity: 1; opacity: 1;\"/><g class=\"slicetext\"><text data-notex=\"1\" class=\"slicetext\" text-anchor=\"start\" x=\"0\" y=\"0\" style=\"font-family: 'Open Sans', verdana, arial, sans-serif; font-size: 12px; fill: rgb(68, 68, 68); fill-opacity: 1; white-space: pre;\" transform=\"translate(227.35305858200024,409.206959259602)\">Пермь</text></g></g><g class=\"slice cursor-pointer\"><path class=\"surface\" d=\"M285.4838776702009,295.4073583846131L344.7052736094745,295.4073583846131L344.7052736094745,316.7786990051515L285.4838776702009,316.7786990051515Z\" style=\"pointer-events: all; stroke-width: 1; fill: rgb(239, 85, 59); fill-opacity: 1; stroke: rgb(255, 255, 255); stroke-opacity: 1; opacity: 1;\"/><g class=\"slicetext\"><text data-notex=\"1\" class=\"slicetext\" text-anchor=\"start\" x=\"0\" y=\"0\" style=\"font-family: 'Open Sans', verdana, arial, sans-serif; font-size: 12px; fill: rgb(68, 68, 68); fill-opacity: 1; white-space: pre;\" transform=\"translate(288.4838776702009,308.48207275440296)scale(0.9158831245263536)\">Ульяновск</text></g></g><g class=\"slice cursor-pointer\"><path class=\"surface\" d=\"M359.7052736094745,295.4073583846131L395.08251033445106,295.4073583846131L395.08251033445106,316.7786990051515L359.7052736094745,316.7786990051515Z\" style=\"pointer-events: all; stroke-width: 1; fill: rgb(239, 85, 59); fill-opacity: 1; stroke: rgb(255, 255, 255); stroke-opacity: 1; opacity: 1;\"/><g class=\"slicetext\"><text data-notex=\"1\" class=\"slicetext\" text-anchor=\"start\" x=\"0\" y=\"0\" style=\"font-family: 'Open Sans', verdana, arial, sans-serif; font-size: 12px; fill: rgb(68, 68, 68); fill-opacity: 1; white-space: pre;\" transform=\"translate(362.7052736094745,309.4073583846131)\">Уфа</text></g></g><g class=\"slice cursor-pointer\"><path class=\"surface\" d=\"M398.08251033445106,295.4073583846131L401.18350674806595,295.4073583846131L401.18350674806595,316.7786990051515L398.08251033445106,316.7786990051515Z\" style=\"pointer-events: all; stroke-width: 1; fill: rgb(239, 85, 59); fill-opacity: 1; stroke: rgb(255, 255, 255); stroke-opacity: 1; opacity: 1;\"/><g class=\"slicetext\"><text data-notex=\"1\" class=\"slicetext\" text-anchor=\"start\" x=\"0\" y=\"0\" style=\"font-family: 'Open Sans', verdana, arial, sans-serif; font-size: 12px; fill: rgb(68, 68, 68); fill-opacity: 1; white-space: pre;\" transform=\"translate(401.08251033445106,295.832914227729)scale(0.03868689482872382)\">Благовещенск</text></g></g><g class=\"slice cursor-pointer\"><path class=\"surface\" d=\"M285.4838776702009,349.7786990051515L307.94090849582244,349.7786990051515L307.94090849582244,377.71760236414065L285.4838776702009,377.71760236414065Z\" style=\"pointer-events: all; stroke-width: 1; fill: rgb(239, 85, 59); fill-opacity: 1; stroke: rgb(255, 255, 255); stroke-opacity: 1; opacity: 1;\"/><g class=\"slicetext\"><text data-notex=\"1\" class=\"slicetext\" text-anchor=\"start\" x=\"0\" y=\"0\" style=\"font-family: 'Open Sans', verdana, arial, sans-serif; font-size: 12px; fill: rgb(68, 68, 68); fill-opacity: 1; white-space: pre;\" transform=\"translate(288.4838776702009,356.16535486637264)scale(0.30787780556555916)\">Оренбург</text></g></g><g class=\"slice cursor-pointer\"><path class=\"surface\" d=\"M310.94090849582244,349.7786990051515L316.0408724080163,349.7786990051515L316.0408724080163,377.7176046824409L310.94090849582244,377.7176046824409Z\" style=\"pointer-events: all; stroke-width: 1; fill: rgb(239, 85, 59); fill-opacity: 1; stroke: rgb(255, 255, 255); stroke-opacity: 1; opacity: 1;\"/><g class=\"slicetext\"><text data-notex=\"1\" class=\"slicetext\" text-anchor=\"start\" x=\"0\" y=\"0\" style=\"font-family: 'Open Sans', verdana, arial, sans-serif; font-size: 12px; fill: rgb(68, 68, 68); fill-opacity: 1; white-space: pre;\" transform=\"translate(313.94090849582244,351.78225625637054)scale(0.18214156829263775)\">Орск</text></g></g><g class=\"slice cursor-pointer\"><path class=\"surface\" d=\"M285.4838776702009,410.71760236414065L316.0408724080163,410.71760236414065L316.0408724080163,432L285.4838776702009,432Z\" style=\"pointer-events: all; stroke-width: 1; fill: rgb(239, 85, 59); fill-opacity: 1; stroke: rgb(255, 255, 255); stroke-opacity: 1; opacity: 1;\"/><g class=\"slicetext\"><text data-notex=\"1\" class=\"slicetext\" text-anchor=\"start\" x=\"0\" y=\"0\" style=\"font-family: 'Open Sans', verdana, arial, sans-serif; font-size: 12px; fill: rgb(68, 68, 68); fill-opacity: 1; white-space: pre;\" transform=\"translate(288.4838776702009,416.4367159683278)scale(0.24719214583519736)\">Нижний Новгород</text></g></g><g class=\"slice cursor-pointer\"><path class=\"surface\" d=\"M331.0408724080163,349.7786990051515L361.86416420889987,349.7786990051515L361.86416420889987,362.7395547301077L331.0408724080163,362.7395547301077Z\" style=\"pointer-events: all; stroke-width: 1; fill: rgb(239, 85, 59); fill-opacity: 1; stroke: rgb(255, 255, 255); stroke-opacity: 1; opacity: 1;\"/><g class=\"slicetext\"><text data-notex=\"1\" class=\"slicetext\" text-anchor=\"start\" x=\"0\" y=\"0\" style=\"font-family: 'Open Sans', verdana, arial, sans-serif; font-size: 12px; fill: rgb(68, 68, 68); fill-opacity: 1; white-space: pre;\" transform=\"translate(334.0408724080163,357.2231540986973)scale(0.404041372140526)\">Чебоксары</text></g></g><g class=\"slice cursor-pointer\"><path class=\"surface\" d=\"M376.86416420889987,349.7786990051515L401.18350674806595,349.7786990051515L401.18350674806595,362.7395547301077L376.86416420889987,362.7395547301077Z\" style=\"pointer-events: all; stroke-width: 1; fill: rgb(239, 85, 59); fill-opacity: 1; stroke: rgb(255, 255, 255); stroke-opacity: 1; opacity: 1;\"/><g class=\"slicetext\"><text data-notex=\"1\" class=\"slicetext\" text-anchor=\"start\" x=\"0\" y=\"0\" style=\"font-family: 'Open Sans', verdana, arial, sans-serif; font-size: 12px; fill: rgb(68, 68, 68); fill-opacity: 1; white-space: pre;\" transform=\"translate(379.86416420889987,355.87560745112984)scale(0.2580757038315275)\">Йошкар-Ола</text></g></g><g class=\"slice cursor-pointer\"><path class=\"surface\" d=\"M331.0408724080163,395.7395547301077L364.6938129450532,395.7395547301077L364.6938129450532,397.3697773650539L331.0408724080163,397.3697773650539Z\" style=\"pointer-events: all; stroke-width: 1; fill: rgb(239, 85, 59); fill-opacity: 1; stroke: rgb(255, 255, 255); stroke-opacity: 1; opacity: 1;\"/><g class=\"slicetext\"><text data-notex=\"1\" class=\"slicetext\" text-anchor=\"start\" x=\"0\" y=\"0\" style=\"font-family: 'Open Sans', verdana, arial, sans-serif; font-size: 12px; fill: rgb(68, 68, 68); fill-opacity: 1; white-space: pre;\" transform=\"translate(334.0408724080163,397.0204439432797)scale(0.11644447392472605)\">Пенза</text></g></g><g class=\"slice cursor-pointer\"><path class=\"surface\" d=\"M331.0408724080163,430.3697773650539L364.6938129450532,430.3697773650539L364.6938129450532,432L331.0408724080163,432Z\" style=\"pointer-events: all; stroke-width: 1; fill: rgb(239, 85, 59); fill-opacity: 1; stroke: rgb(255, 255, 255); stroke-opacity: 1; opacity: 1;\"/><g class=\"slicetext\"><text data-notex=\"1\" class=\"slicetext\" text-anchor=\"start\" x=\"0\" y=\"0\" style=\"font-family: 'Open Sans', verdana, arial, sans-serif; font-size: 12px; fill: rgb(68, 68, 68); fill-opacity: 1; white-space: pre;\" transform=\"translate(334.0408724080163,431.6506665782258)scale(0.116444473924722)\">Саратов</text></g></g><g class=\"slice cursor-pointer\"><path class=\"surface\" d=\"M379.6938129450532,395.7395547301077L401.18350674806595,395.7395547301077L401.18350674806595,397.3697883737087L379.6938129450532,397.3697883737087Z\" style=\"pointer-events: all; stroke-width: 1; fill: rgb(239, 85, 59); fill-opacity: 1; stroke: rgb(255, 255, 255); stroke-opacity: 1; opacity: 1;\"/><g class=\"slicetext\"><text data-notex=\"1\" class=\"slicetext\" text-anchor=\"start\" x=\"0\" y=\"0\" style=\"font-family: 'Open Sans', verdana, arial, sans-serif; font-size: 12px; fill: rgb(68, 68, 68); fill-opacity: 1; white-space: pre;\" transform=\"translate(382.6938129450532,397.02045259293703)scale(0.11644526025721039)\">Самара</text></g></g><g class=\"slice cursor-pointer\"><path class=\"surface\" d=\"M379.6938129450532,430.3697883737087L389.0202909467532,430.3697883737087L389.0202909467532,432L379.6938129450532,432Z\" style=\"pointer-events: all; stroke-width: 1; fill: rgb(239, 85, 59); fill-opacity: 1; stroke: rgb(255, 255, 255); stroke-opacity: 1; opacity: 1;\"/><g class=\"slicetext\"><text data-notex=\"1\" class=\"slicetext\" text-anchor=\"start\" x=\"0\" y=\"0\" style=\"font-family: 'Open Sans', verdana, arial, sans-serif; font-size: 12px; fill: rgb(68, 68, 68); fill-opacity: 1; white-space: pre;\" transform=\"translate(382.6938129450532,431.65066893722326)scale(0.11644368759223767)\">Саранск</text></g></g><g class=\"slice cursor-pointer\"><path class=\"surface\" d=\"\" style=\"pointer-events: all; stroke-width: 1; fill: rgb(239, 85, 59); fill-opacity: 1; stroke: rgb(255, 255, 255); stroke-opacity: 1; opacity: 1;\"/><g class=\"slicetext\"><text data-notex=\"1\" class=\"slicetext\" text-anchor=\"start\" x=\"0\" y=\"0\" style=\"font-family: 'Open Sans', verdana, arial, sans-serif; font-size: 12px; fill: rgb(68, 68, 68); fill-opacity: 1; white-space: pre;\" transform=\"translate(405.6018988474096,430.3697883737087)scale(0)\"> </text></g></g><g class=\"slice cursor-pointer\"><path class=\"surface\" d=\"M428.18350674806595,72L487.3107307433951,72L487.3107307433951,138.7490997629195L428.18350674806595,138.7490997629195Z\" style=\"pointer-events: all; stroke-width: 1; fill: rgb(255, 161, 90); fill-opacity: 1; stroke: rgb(255, 255, 255); stroke-opacity: 1; opacity: 1;\"/><g class=\"slicetext\"><text data-notex=\"1\" class=\"slicetext\" text-anchor=\"start\" x=\"0\" y=\"0\" style=\"font-family: 'Open Sans', verdana, arial, sans-serif; font-size: 12px; fill: rgb(68, 68, 68); fill-opacity: 1; white-space: pre;\" transform=\"translate(431.18350674806595,82.98325841893526)scale(0.7257507653577512)\">Новосибирск</text></g></g><g class=\"slice cursor-pointer\"><path class=\"surface\" d=\"M502.3107307433951,72L546.6677273296835,72L546.6677273296835,127.23238943600512L502.3107307433951,127.23238943600512Z\" style=\"pointer-events: all; stroke-width: 1; fill: rgb(255, 161, 90); fill-opacity: 1; stroke: rgb(255, 255, 255); stroke-opacity: 1; opacity: 1;\"/><g class=\"slicetext\"><text data-notex=\"1\" class=\"slicetext\" text-anchor=\"start\" x=\"0\" y=\"0\" style=\"font-family: 'Open Sans', verdana, arial, sans-serif; font-size: 12px; fill: rgb(68, 68, 68); fill-opacity: 1; white-space: pre;\" transform=\"translate(505.3107307433951,81.51153257698266)scale(0.5919575069984233)\">Красноярск</text></g></g><g class=\"slice cursor-pointer\"><path class=\"surface\" d=\"M502.3107307433951,130.23238943600512L546.6677322594647,130.23238943600512L546.6677322594647,138.7490997629195L502.3107307433951,138.7490997629195Z\" style=\"pointer-events: all; stroke-width: 1; fill: rgb(255, 161, 90); fill-opacity: 1; stroke: rgb(255, 255, 255); stroke-opacity: 1; opacity: 1;\"/><g class=\"slicetext\"><text data-notex=\"1\" class=\"slicetext\" text-anchor=\"start\" x=\"0\" y=\"0\" style=\"font-family: 'Open Sans', verdana, arial, sans-serif; font-size: 12px; fill: rgb(68, 68, 68); fill-opacity: 1; white-space: pre;\" transform=\"translate(505.3107307433951,135.20980469286644)scale(0.179765023351028)\">Норильск</text></g></g><g class=\"slice cursor-pointer\"><path class=\"surface\" d=\"M428.18350674806595,171.7490997629195L453.7177296535699,171.7490997629195L453.7177296535699,211.95418099339076L428.18350674806595,211.95418099339076Z\" style=\"pointer-events: all; stroke-width: 1; fill: rgb(255, 161, 90); fill-opacity: 1; stroke: rgb(255, 255, 255); stroke-opacity: 1; opacity: 1;\"/><g class=\"slicetext\"><text data-notex=\"1\" class=\"slicetext\" text-anchor=\"start\" x=\"0\" y=\"0\" style=\"font-family: 'Open Sans', verdana, arial, sans-serif; font-size: 12px; fill: rgb(68, 68, 68); fill-opacity: 1; white-space: pre;\" transform=\"translate(431.18350674806595,179.62918951645918)scale(0.44364452304906066)\">Иркутск</text></g></g><g class=\"slice cursor-pointer\"><path class=\"surface\" d=\"M456.7177296535699,171.7490997629195L476.75873387578457,171.7490997629195L476.75873387578457,194.21434464938528L456.7177296535699,194.21434464938528Z\" style=\"pointer-events: all; stroke-width: 1; fill: rgb(255, 161, 90); fill-opacity: 1; stroke: rgb(255, 255, 255); stroke-opacity: 1; opacity: 1;\"/><g class=\"slicetext\"><text data-notex=\"1\" class=\"slicetext\" text-anchor=\"start\" x=\"0\" y=\"0\" style=\"font-family: 'Open Sans', verdana, arial, sans-serif; font-size: 12px; fill: rgb(68, 68, 68); fill-opacity: 1; white-space: pre;\" transform=\"translate(459.7177296535699,176.92016652602936)scale(0.19736970573725868)\">Усть-Илимск</text></g></g><g class=\"slice cursor-pointer\"><path class=\"surface\" d=\"M456.7177296535699,197.21434464938528L465.2382303913265,197.21434464938528L465.2382303913265,211.95418099339076L456.7177296535699,211.95418099339076Z\" style=\"pointer-events: all; stroke-width: 1; fill: rgb(255, 161, 90); fill-opacity: 1; stroke: rgb(255, 255, 255); stroke-opacity: 1; opacity: 1;\"/><g class=\"slicetext\"><text data-notex=\"1\" class=\"slicetext\" text-anchor=\"start\" x=\"0\" y=\"0\" style=\"font-family: 'Open Sans', verdana, arial, sans-serif; font-size: 12px; fill: rgb(68, 68, 68); fill-opacity: 1; white-space: pre;\" transform=\"translate(459.7177296535699,200.79746411023993)scale(0.05301086007769398)\">Усть-Кут</text></g></g><g class=\"slice cursor-pointer\"><path class=\"surface\" d=\"M468.2382303913265,197.21434464938528L476.75873387578457,197.21434464938528L476.75873387578457,211.9541767638852L468.2382303913265,211.9541767638852Z\" style=\"pointer-events: all; stroke-width: 1; fill: rgb(255, 161, 90); fill-opacity: 1; stroke: rgb(255, 255, 255); stroke-opacity: 1; opacity: 1;\"/><g class=\"slicetext\"><text data-notex=\"1\" class=\"slicetext\" text-anchor=\"start\" x=\"0\" y=\"0\" style=\"font-family: 'Open Sans', verdana, arial, sans-serif; font-size: 12px; fill: rgb(68, 68, 68); fill-opacity: 1; white-space: pre;\" transform=\"translate(471.2382303913265,200.93801286025743)scale(0.06578801917019408)\">Братск</text></g></g><g class=\"slice cursor-pointer\"><path class=\"surface\" d=\"M428.18350674806595,244.95418099339076L463.91670940122367,244.95418099339076L463.91670940122367,265.88336739067154L428.18350674806595,265.88336739067154Z\" style=\"pointer-events: all; stroke-width: 1; fill: rgb(255, 161, 90); fill-opacity: 1; stroke: rgb(255, 255, 255); stroke-opacity: 1; opacity: 1;\"/><g class=\"slicetext\"><text data-notex=\"1\" class=\"slicetext\" text-anchor=\"start\" x=\"0\" y=\"0\" style=\"font-family: 'Open Sans', verdana, arial, sans-serif; font-size: 12px; fill: rgb(68, 68, 68); fill-opacity: 1; white-space: pre;\" transform=\"translate(431.18350674806595,252.54054704681386)scale(0.4169423684930092)\">Новокузнецк</text></g></g><g class=\"slice cursor-pointer\"><path class=\"surface\" d=\"M466.91670940122367,244.95418099339076L476.75873387578457,244.95418099339076L476.75873387578457,265.88336739067154L466.91670940122367,265.88336739067154Z\" style=\"pointer-events: all; stroke-width: 1; fill: rgb(255, 161, 90); fill-opacity: 1; stroke: rgb(255, 255, 255); stroke-opacity: 1; opacity: 1;\"/><g class=\"slicetext\"><text data-notex=\"1\" class=\"slicetext\" text-anchor=\"start\" x=\"0\" y=\"0\" style=\"font-family: 'Open Sans', verdana, arial, sans-serif; font-size: 12px; fill: rgb(68, 68, 68); fill-opacity: 1; white-space: pre;\" transform=\"translate(469.91670940122367,248.7201921035836)scale(0.06963737365389343)\">Кемерово</text></g></g><g class=\"slice cursor-pointer\"><path class=\"surface\" d=\"M491.75873387578457,171.7490997629195L511.41153157519295,171.7490997629195L511.41153157519295,194.0950310583689L491.75873387578457,194.0950310583689Z\" style=\"pointer-events: all; stroke-width: 1; fill: rgb(255, 161, 90); fill-opacity: 1; stroke: rgb(255, 255, 255); stroke-opacity: 1; opacity: 1;\"/><g class=\"slicetext\"><text data-notex=\"1\" class=\"slicetext\" text-anchor=\"start\" x=\"0\" y=\"0\" style=\"font-family: 'Open Sans', verdana, arial, sans-serif; font-size: 12px; fill: rgb(68, 68, 68); fill-opacity: 1; white-space: pre;\" transform=\"translate(494.75873387578457,179.2573406542814)scale(0.409840081032897)\">Томск</text></g></g><g class=\"slice cursor-pointer\"><path class=\"surface\" d=\"M514.411531575193,171.7490997629195L516.813352802817,171.7490997629195L516.813352802817,194.0950310583689L514.411531575193,194.0950310583689Z\" style=\"pointer-events: all; stroke-width: 1; fill: rgb(255, 161, 90); fill-opacity: 1; stroke: rgb(255, 255, 255); stroke-opacity: 1; opacity: 1;\"/><g class=\"slicetext\"><text data-notex=\"1\" class=\"slicetext\" text-anchor=\"start\" x=\"0\" y=\"0\" style=\"font-family: 'Open Sans', verdana, arial, sans-serif; font-size: 12px; fill: rgb(68, 68, 68); fill-opacity: 1; white-space: pre;\" transform=\"translate(517.411531575193,172.1773880466701)scale(0.03893529852278103)\">Стрежевой</text></g></g><g class=\"slice cursor-pointer\"><path class=\"surface\" d=\"M531.813352802817,171.7490997629195L546.6677273296835,171.7490997629195L546.6677273296835,194.0950310583689L531.813352802817,194.0950310583689Z\" style=\"pointer-events: all; stroke-width: 1; fill: rgb(255, 161, 90); fill-opacity: 1; stroke: rgb(255, 255, 255); stroke-opacity: 1; opacity: 1;\"/><g class=\"slicetext\"><text data-notex=\"1\" class=\"slicetext\" text-anchor=\"start\" x=\"0\" y=\"0\" style=\"font-family: 'Open Sans', verdana, arial, sans-serif; font-size: 12px; fill: rgb(68, 68, 68); fill-opacity: 1; white-space: pre;\" transform=\"translate(534.813352802817,177.17930626074175)scale(0.2209278634383853)\">Абакан</text></g></g><g class=\"slice cursor-pointer\"><path class=\"surface\" d=\"M491.75873387578457,227.0950310583689L515.7244028674367,227.0950310583689L515.7244028674367,230.13882291423954L491.75873387578457,230.13882291423954Z\" style=\"pointer-events: all; stroke-width: 1; fill: rgb(255, 161, 90); fill-opacity: 1; stroke: rgb(255, 255, 255); stroke-opacity: 1; opacity: 1;\"/><g class=\"slicetext\"><text data-notex=\"1\" class=\"slicetext\" text-anchor=\"start\" x=\"0\" y=\"0\" style=\"font-family: 'Open Sans', verdana, arial, sans-serif; font-size: 12px; fill: rgb(68, 68, 68); fill-opacity: 1; white-space: pre;\" transform=\"translate(494.75873387578457,229.48658180226727)scale(0.2174137039907598)\">Омск</text></g></g><g class=\"slice cursor-pointer\"><path class=\"surface\" d=\"M530.7244028674367,227.0950310583689L546.6677273296835,227.0950310583689L546.6677273296835,230.13882291423954L530.7244028674367,230.13882291423954Z\" style=\"pointer-events: all; stroke-width: 1; fill: rgb(255, 161, 90); fill-opacity: 1; stroke: rgb(255, 255, 255); stroke-opacity: 1; opacity: 1;\"/><g class=\"slicetext\"><text data-notex=\"1\" class=\"slicetext\" text-anchor=\"start\" x=\"0\" y=\"0\" style=\"font-family: 'Open Sans', verdana, arial, sans-serif; font-size: 12px; fill: rgb(68, 68, 68); fill-opacity: 1; white-space: pre;\" transform=\"translate(533.7244028674367,229.48658180226727)scale(0.2174137039907598)\">Барнаул</text></g></g><g class=\"slice cursor-pointer\"><path class=\"surface\" d=\"M491.75873387578457,263.13882291423954L495.9692154207555,263.13882291423954L495.9692154207555,265.88336739067154L491.75873387578457,265.88336739067154Z\" style=\"pointer-events: all; stroke-width: 1; fill: rgb(255, 161, 90); fill-opacity: 1; stroke: rgb(255, 255, 255); stroke-opacity: 1; opacity: 1;\"/><g class=\"slicetext\"><text data-notex=\"1\" class=\"slicetext\" text-anchor=\"start\" x=\"0\" y=\"0\" style=\"font-family: 'Open Sans', verdana, arial, sans-serif; font-size: 12px; fill: rgb(68, 68, 68); fill-opacity: 1; white-space: pre;\" transform=\"translate(494.75873387578457,264.0458544343312)scale(0.08245741091742367)\">Улан-Удэ</text></g></g><g class=\"slice cursor-pointer\"><path class=\"surface\" d=\"M510.9692154207555,263.13882291423954L514.8447286111135,263.13882291423954L514.8447286111135,265.88336739067154L510.9692154207555,265.88336739067154Z\" style=\"pointer-events: all; stroke-width: 1; fill: rgb(255, 161, 90); fill-opacity: 1; stroke: rgb(255, 255, 255); stroke-opacity: 1; opacity: 1;\"/><g class=\"slicetext\"><text data-notex=\"1\" class=\"slicetext\" text-anchor=\"start\" x=\"0\" y=\"0\" style=\"font-family: 'Open Sans', verdana, arial, sans-serif; font-size: 12px; fill: rgb(68, 68, 68); fill-opacity: 1; white-space: pre;\" transform=\"translate(513.9692154207555,264.71408924565526)scale(0.14320603012870178)\">Чита</text></g></g><g class=\"slice cursor-pointer\"><path class=\"surface\" d=\"\" style=\"pointer-events: all; stroke-width: 1; fill: rgb(255, 161, 90); fill-opacity: 1; stroke: rgb(255, 255, 255); stroke-opacity: 1; opacity: 1;\"/><g class=\"slicetext\"><text data-notex=\"1\" class=\"slicetext\" text-anchor=\"start\" x=\"0\" y=\"0\" style=\"font-family: 'Open Sans', verdana, arial, sans-serif; font-size: 12px; fill: rgb(68, 68, 68); fill-opacity: 1; white-space: pre;\" transform=\"translate(532.8447286111135,255.94153967689522)scale(0)\"> </text></g></g><g class=\"slice cursor-pointer\"><path class=\"surface\" d=\"\" style=\"pointer-events: all; stroke-width: 1; fill: rgb(255, 161, 90); fill-opacity: 1; stroke: rgb(255, 255, 255); stroke-opacity: 1; opacity: 1;\"/><g class=\"slicetext\"><text data-notex=\"1\" class=\"slicetext\" text-anchor=\"start\" x=\"0\" y=\"0\" style=\"font-family: 'Open Sans', verdana, arial, sans-serif; font-size: 12px; fill: rgb(68, 68, 68); fill-opacity: 1; white-space: pre;\" transform=\"translate(532.8447286111135,273.8138119151113)scale(0)\"> </text></g></g><g class=\"slice cursor-pointer\"><path class=\"surface\" d=\"M573.6677273296835,72L682,72L682,146.12088881968845L573.6677273296835,146.12088881968845Z\" style=\"pointer-events: all; stroke-width: 1; fill: rgb(0, 204, 150); fill-opacity: 1; stroke: rgb(255, 255, 255); stroke-opacity: 1; opacity: 1;\"/><g class=\"slicetext\"><text data-notex=\"1\" class=\"slicetext\" text-anchor=\"start\" x=\"0\" y=\"0\" style=\"font-family: 'Open Sans', verdana, arial, sans-serif; font-size: 12px; fill: rgb(68, 68, 68); fill-opacity: 1; white-space: pre;\" transform=\"translate(576.6677273296835,86)\">Санкт-Петербург</text></g></g><g class=\"slice cursor-pointer\"><path class=\"surface\" d=\"M573.6677273296835,179.12088881968845L607.5201323622259,179.12088881968845L607.5201323622259,203.42741544115336L573.6677273296835,203.42741544115336Z\" style=\"pointer-events: all; stroke-width: 1; fill: rgb(0, 204, 150); fill-opacity: 1; stroke: rgb(255, 255, 255); stroke-opacity: 1; opacity: 1;\"/><g class=\"slicetext\"><text data-notex=\"1\" class=\"slicetext\" text-anchor=\"start\" x=\"0\" y=\"0\" style=\"font-family: 'Open Sans', verdana, arial, sans-serif; font-size: 12px; fill: rgb(68, 68, 68); fill-opacity: 1; white-space: pre;\" transform=\"translate(576.6677273296835,188.91509988791776)scale(0.6176555516572114)\">Воркута</text></g></g><g class=\"slice cursor-pointer\"><path class=\"surface\" d=\"M573.6677273296835,206.42741544115336L607.5201323622259,206.42741544115336L607.5201323622259,228.04174897683308L573.6677273296835,228.04174897683308Z\" style=\"pointer-events: all; stroke-width: 1; fill: rgb(0, 204, 150); fill-opacity: 1; stroke: rgb(255, 255, 255); stroke-opacity: 1; opacity: 1;\"/><g class=\"slicetext\"><text data-notex=\"1\" class=\"slicetext\" text-anchor=\"start\" x=\"0\" y=\"0\" style=\"font-family: 'Open Sans', verdana, arial, sans-serif; font-size: 12px; fill: rgb(68, 68, 68); fill-opacity: 1; white-space: pre;\" transform=\"translate(576.6677273296835,214.34049315172962)scale(0.446643428234205)\">Сыктывкар</text></g></g><g class=\"slice cursor-pointer\"><path class=\"surface\" d=\"M610.5201323622259,179.12088881968845L624.4449389703728,179.12088881968845L624.4449389703728,215.06153857963412L610.5201323622259,215.06153857963412Z\" style=\"pointer-events: all; stroke-width: 1; fill: rgb(0, 204, 150); fill-opacity: 1; stroke: rgb(255, 255, 255); stroke-opacity: 1; opacity: 1;\"/><g class=\"slicetext\"><text data-notex=\"1\" class=\"slicetext\" text-anchor=\"start\" x=\"0\" y=\"0\" style=\"font-family: 'Open Sans', verdana, arial, sans-serif; font-size: 12px; fill: rgb(68, 68, 68); fill-opacity: 1; white-space: pre;\" transform=\"translate(613.5201323622259,185.5668825517054)scale(0.3132721574560859)\">Ухта</text></g></g><g class=\"slice cursor-pointer\"><path class=\"surface\" d=\"M610.5201323622259,218.06153857963412L624.4449470407534,218.06153857963412L624.4449470407534,228.04174897683308L610.5201323622259,228.04174897683308Z\" style=\"pointer-events: all; stroke-width: 1; fill: rgb(0, 204, 150); fill-opacity: 1; stroke: rgb(255, 255, 255); stroke-opacity: 1; opacity: 1;\"/><g class=\"slicetext\"><text data-notex=\"1\" class=\"slicetext\" text-anchor=\"start\" x=\"0\" y=\"0\" style=\"font-family: 'Open Sans', verdana, arial, sans-serif; font-size: 12px; fill: rgb(68, 68, 68); fill-opacity: 1; white-space: pre;\" transform=\"translate(613.5201323622259,223.3471057790128)scale(0.207778836307152)\">Усинск</text></g></g><g class=\"slice cursor-pointer\"><path class=\"surface\" d=\"M573.6677273296835,261.0417489768331L624.4449389703728,261.0417489768331L624.4449389703728,265.88336739067154L573.6677273296835,265.88336739067154Z\" style=\"pointer-events: all; stroke-width: 1; fill: rgb(0, 204, 150); fill-opacity: 1; stroke: rgb(255, 255, 255); stroke-opacity: 1; opacity: 1;\"/><g class=\"slicetext\"><text data-notex=\"1\" class=\"slicetext\" text-anchor=\"start\" x=\"0\" y=\"0\" style=\"font-family: 'Open Sans', verdana, arial, sans-serif; font-size: 12px; fill: rgb(68, 68, 68); fill-opacity: 1; white-space: pre;\" transform=\"translate(576.6677273296835,264.8458777305633)scale(0.34582988670274517)\">Петрозаводск</text></g></g><g class=\"slice cursor-pointer\"><path class=\"surface\" d=\"M639.4449389703728,179.12088881968845L682,179.12088881968845L682,185.56646869606521L639.4449389703728,185.56646869606521Z\" style=\"pointer-events: all; stroke-width: 1; fill: rgb(0, 204, 150); fill-opacity: 1; stroke: rgb(255, 255, 255); stroke-opacity: 1; opacity: 1;\"/><g class=\"slicetext\"><text data-notex=\"1\" class=\"slicetext\" text-anchor=\"start\" x=\"0\" y=\"0\" style=\"font-family: 'Open Sans', verdana, arial, sans-serif; font-size: 12px; fill: rgb(68, 68, 68); fill-opacity: 1; white-space: pre;\" transform=\"translate(642.4449389703728,182.47098729398448)scale(0.03182713402691206)\">Архангельск</text></g></g><g class=\"slice cursor-pointer\"><path class=\"surface\" d=\"M639.4449389703728,218.56646869606521L653.4012117466348,218.56646869606521L653.4012117466348,223.8239263478968L639.4449389703728,223.8239263478968Z\" style=\"pointer-events: all; stroke-width: 1; fill: rgb(0, 204, 150); fill-opacity: 1; stroke: rgb(255, 255, 255); stroke-opacity: 1; opacity: 1;\"/><g class=\"slicetext\"><text data-notex=\"1\" class=\"slicetext\" text-anchor=\"start\" x=\"0\" y=\"0\" style=\"font-family: 'Open Sans', verdana, arial, sans-serif; font-size: 12px; fill: rgb(68, 68, 68); fill-opacity: 1; white-space: pre;\" transform=\"translate(642.4449389703728,220.78535217268862)scale(0.20171667969303597)\">Нарьян-Мар</text></g></g><g class=\"slice cursor-pointer\"><path class=\"surface\" d=\"M668.4012117466348,218.56646869606521L682,218.56646869606521L682,223.8239263478968L668.4012117466348,223.8239263478968Z\" style=\"pointer-events: all; stroke-width: 1; fill: rgb(0, 204, 150); fill-opacity: 1; stroke: rgb(255, 255, 255); stroke-opacity: 1; opacity: 1;\"/><g class=\"slicetext\"><text data-notex=\"1\" class=\"slicetext\" text-anchor=\"start\" x=\"0\" y=\"0\" style=\"font-family: 'Open Sans', verdana, arial, sans-serif; font-size: 12px; fill: rgb(68, 68, 68); fill-opacity: 1; white-space: pre;\" transform=\"translate(671.4012117466348,220.64270962652913)scale(0.1887491754967197)\">Калининград</text></g></g><g class=\"slice cursor-pointer\"><path class=\"surface\" d=\"M639.4449389703728,256.82392634789676L646.2313196199797,256.82392634789676L646.2313196199797,265.88336739067154L639.4449389703728,265.88336739067154Z\" style=\"pointer-events: all; stroke-width: 1; fill: rgb(0, 204, 150); fill-opacity: 1; stroke: rgb(255, 255, 255); stroke-opacity: 1; opacity: 1;\"/><g class=\"slicetext\"><text data-notex=\"1\" class=\"slicetext\" text-anchor=\"start\" x=\"0\" y=\"0\" style=\"font-family: 'Open Sans', verdana, arial, sans-serif; font-size: 12px; fill: rgb(68, 68, 68); fill-opacity: 1; white-space: pre;\" transform=\"translate(642.4449389703728,259.96551508890013)scale(0.012871703727579767)\">Череповец</text></g></g><g class=\"slice cursor-pointer\"><path class=\"surface\" d=\"\" style=\"pointer-events: all; stroke-width: 1; fill: rgb(0, 204, 150); fill-opacity: 1; stroke: rgb(255, 255, 255); stroke-opacity: 1; opacity: 1;\"/><g class=\"slicetext\"><text data-notex=\"1\" class=\"slicetext\" text-anchor=\"start\" x=\"0\" y=\"0\" style=\"font-family: 'Open Sans', verdana, arial, sans-serif; font-size: 12px; fill: rgb(68, 68, 68); fill-opacity: 1; white-space: pre;\" transform=\"translate(664.2313196199797,252.17704250142526)scale(0)\"> </text></g></g><g class=\"slice cursor-pointer\"><path class=\"surface\" d=\"\" style=\"pointer-events: all; stroke-width: 1; fill: rgb(0, 204, 150); fill-opacity: 1; stroke: rgb(255, 255, 255); stroke-opacity: 1; opacity: 1;\"/><g class=\"slicetext\"><text data-notex=\"1\" class=\"slicetext\" text-anchor=\"start\" x=\"0\" y=\"0\" style=\"font-family: 'Open Sans', verdana, arial, sans-serif; font-size: 12px; fill: rgb(68, 68, 68); fill-opacity: 1; white-space: pre;\" transform=\"translate(664.2313196199797,273.20676302281265)scale(0)\"> </text></g></g><g class=\"slice cursor-pointer\"><path class=\"surface\" d=\"M428.18350674806595,328.88336739067154L480.8202699046884,328.88336739067154L480.8202699046884,356.66096161122124L428.18350674806595,356.66096161122124Z\" style=\"pointer-events: all; stroke-width: 1; fill: rgb(182, 232, 128); fill-opacity: 1; stroke: rgb(255, 255, 255); stroke-opacity: 1; opacity: 1;\"/><g class=\"slicetext\"><text data-notex=\"1\" class=\"slicetext\" text-anchor=\"start\" x=\"0\" y=\"0\" style=\"font-family: 'Open Sans', verdana, arial, sans-serif; font-size: 12px; fill: rgb(68, 68, 68); fill-opacity: 1; white-space: pre;\" transform=\"translate(431.18350674806595,342.88336739067154)\">Сочи</text></g></g><g class=\"slice cursor-pointer\"><path class=\"surface\" d=\"M483.8202699046884,328.88336739067154L503.4110358194487,328.88336739067154L503.4110358194487,356.66096161122124L483.8202699046884,356.66096161122124Z\" style=\"pointer-events: all; stroke-width: 1; fill: rgb(182, 232, 128); fill-opacity: 1; stroke: rgb(255, 255, 255); stroke-opacity: 1; opacity: 1;\"/><g class=\"slicetext\"><text data-notex=\"1\" class=\"slicetext\" text-anchor=\"start\" x=\"0\" y=\"0\" style=\"font-family: 'Open Sans', verdana, arial, sans-serif; font-size: 12px; fill: rgb(68, 68, 68); fill-opacity: 1; white-space: pre;\" transform=\"translate(486.8202699046884,334.3730627338907)scale(0.22633594029265156)\">Краснодар</text></g></g><g class=\"slice cursor-pointer\"><path class=\"surface\" d=\"M506.4110358194487,328.88336739067154L530.915424093717,328.88336739067154L530.915424093717,342.66337325507845L506.4110358194487,342.66337325507845Z\" style=\"pointer-events: all; stroke-width: 1; fill: rgb(182, 232, 128); fill-opacity: 1; stroke: rgb(255, 255, 255); stroke-opacity: 1; opacity: 1;\"/><g class=\"slicetext\"><text data-notex=\"1\" class=\"slicetext\" text-anchor=\"start\" x=\"0\" y=\"0\" style=\"font-family: 'Open Sans', verdana, arial, sans-serif; font-size: 12px; fill: rgb(68, 68, 68); fill-opacity: 1; white-space: pre;\" transform=\"translate(509.4110358194487,335.2758385742874)scale(0.3084064712378042)\">Геленджик</text></g></g><g class=\"slice cursor-pointer\"><path class=\"surface\" d=\"M506.4110358194487,345.66337325507845L530.9154149914395,345.66337325507845L530.9154149914395,356.66096161122124L506.4110358194487,356.66096161122124Z\" style=\"pointer-events: all; stroke-width: 1; fill: rgb(182, 232, 128); fill-opacity: 1; stroke: rgb(255, 255, 255); stroke-opacity: 1; opacity: 1;\"/><g class=\"slicetext\"><text data-notex=\"1\" class=\"slicetext\" text-anchor=\"start\" x=\"0\" y=\"0\" style=\"font-family: 'Open Sans', verdana, arial, sans-serif; font-size: 12px; fill: rgb(68, 68, 68); fill-opacity: 1; white-space: pre;\" transform=\"translate(509.4110358194487,352.59004982061924)scale(0.3569705968673418)\">Анапа</text></g></g><g class=\"slice cursor-pointer\"><path class=\"surface\" d=\"M428.18350674806595,389.66096161122124L466.1796409622815,389.66096161122124L466.1796409622815,432L428.18350674806595,432Z\" style=\"pointer-events: all; stroke-width: 1; fill: rgb(182, 232, 128); fill-opacity: 1; stroke: rgb(255, 255, 255); stroke-opacity: 1; opacity: 1;\"/><g class=\"slicetext\"><text data-notex=\"1\" class=\"slicetext\" text-anchor=\"start\" x=\"0\" y=\"0\" style=\"font-family: 'Open Sans', verdana, arial, sans-serif; font-size: 12px; fill: rgb(68, 68, 68); fill-opacity: 1; white-space: pre;\" transform=\"translate(431.18350674806595,396.68764707543426)scale(0.36606231492845814)\">Ростов-на-Дону</text></g></g><g class=\"slice cursor-pointer\"><path class=\"surface\" d=\"M481.1796409622815,389.66096161122124L499.3828321588971,389.66096161122124L499.3828321588971,417.1664090421961L481.1796409622815,417.1664090421961Z\" style=\"pointer-events: all; stroke-width: 1; fill: rgb(182, 232, 128); fill-opacity: 1; stroke: rgb(255, 255, 255); stroke-opacity: 1; opacity: 1;\"/><g class=\"slicetext\"><text data-notex=\"1\" class=\"slicetext\" text-anchor=\"start\" x=\"0\" y=\"0\" style=\"font-family: 'Open Sans', verdana, arial, sans-serif; font-size: 12px; fill: rgb(68, 68, 68); fill-opacity: 1; white-space: pre;\" transform=\"translate(484.1796409622815,395.01919564976566)scale(0.21438491259494863)\">Волгоград</text></g></g><g class=\"slice cursor-pointer\"><path class=\"surface\" d=\"M514.3828321588971,389.66096161122124L530.915424093717,389.66096161122124L530.915424093717,417.1664090421961L514.3828321588971,417.1664090421961Z\" style=\"pointer-events: all; stroke-width: 1; fill: rgb(182, 232, 128); fill-opacity: 1; stroke: rgb(255, 255, 255); stroke-opacity: 1; opacity: 1;\"/><g class=\"slicetext\"><text data-notex=\"1\" class=\"slicetext\" text-anchor=\"start\" x=\"0\" y=\"0\" style=\"font-family: 'Open Sans', verdana, arial, sans-serif; font-size: 12px; fill: rgb(68, 68, 68); fill-opacity: 1; white-space: pre;\" transform=\"translate(517.3828321588971,395.53720083624574)scale(0.2614762931840455)\">Элиста</text></g></g><g class=\"slice cursor-pointer\"><path class=\"surface\" d=\"\" style=\"pointer-events: all; stroke-width: 1; fill: rgb(182, 232, 128); fill-opacity: 1; stroke: rgb(255, 255, 255); stroke-opacity: 1; opacity: 1;\"/><g class=\"slicetext\"><text data-notex=\"1\" class=\"slicetext\" text-anchor=\"start\" x=\"0\" y=\"0\" style=\"font-family: 'Open Sans', verdana, arial, sans-serif; font-size: 12px; fill: rgb(68, 68, 68); fill-opacity: 1; white-space: pre;\" transform=\"translate(484.1796409622815,441.0832045210981)scale(0)\"> </text></g></g><g class=\"slice cursor-pointer\"><path class=\"surface\" d=\"M557.915424093717,328.88336739067154L604.8631976964728,328.88336739067154L604.8631976964728,349.2934495686532L557.915424093717,349.2934495686532Z\" style=\"pointer-events: all; stroke-width: 1; fill: rgb(99, 110, 250); fill-opacity: 1; stroke: rgb(255, 255, 255); stroke-opacity: 1; opacity: 1;\"/><g class=\"slicetext\"><text data-notex=\"1\" class=\"slicetext\" text-anchor=\"start\" x=\"0\" y=\"0\" style=\"font-family: 'Open Sans', verdana, arial, sans-serif; font-size: 12px; fill: rgb(255, 255, 255); fill-opacity: 1; white-space: pre;\" transform=\"translate(560.915424093717,341.8203658795857)scale(0.903363498992199)\">Мирный</text></g></g><g class=\"slice cursor-pointer\"><path class=\"surface\" d=\"M557.915424093717,352.2934495686532L572.9198537472802,352.2934495686532L572.9198537472802,380.26678871075546L557.915424093717,380.26678871075546Z\" style=\"pointer-events: all; stroke-width: 1; fill: rgb(99, 110, 250); fill-opacity: 1; stroke: rgb(255, 255, 255); stroke-opacity: 1; opacity: 1;\"/><g class=\"slicetext\"><text data-notex=\"1\" class=\"slicetext\" text-anchor=\"start\" x=\"0\" y=\"0\" style=\"font-family: 'Open Sans', verdana, arial, sans-serif; font-size: 12px; fill: rgb(255, 255, 255); fill-opacity: 1; white-space: pre;\" transform=\"translate(560.915424093717,357.34428052177793)scale(0.1864391775567921)\">Удачный</text></g></g><g class=\"slice cursor-pointer\"><path class=\"surface\" d=\"M575.9198537472802,352.2934495686532L589.3755153047582,352.2934495686532L589.3755153047582,380.26678871075546L575.9198537472802,380.26678871075546Z\" style=\"pointer-events: all; stroke-width: 1; fill: rgb(99, 110, 250); fill-opacity: 1; stroke: rgb(255, 255, 255); stroke-opacity: 1; opacity: 1;\"/><g class=\"slicetext\"><text data-notex=\"1\" class=\"slicetext\" text-anchor=\"start\" x=\"0\" y=\"0\" style=\"font-family: 'Open Sans', verdana, arial, sans-serif; font-size: 12px; fill: rgb(255, 255, 255); fill-opacity: 1; white-space: pre;\" transform=\"translate(578.9198537472802,357.4859248136259)scale(0.19931593136115056)\">Якутск</text></g></g><g class=\"slice cursor-pointer\"><path class=\"surface\" d=\"M592.3755153047582,352.2934495686532L604.8631976964728,352.2934495686532L604.8631976964728,380.2667858492156L592.3755153047582,380.2667858492156Z\" style=\"pointer-events: all; stroke-width: 1; fill: rgb(99, 110, 250); fill-opacity: 1; stroke: rgb(255, 255, 255); stroke-opacity: 1; opacity: 1;\"/><g class=\"slicetext\"><text data-notex=\"1\" class=\"slicetext\" text-anchor=\"start\" x=\"0\" y=\"0\" style=\"font-family: 'Open Sans', verdana, arial, sans-serif; font-size: 12px; fill: rgb(255, 255, 255); fill-opacity: 1; white-space: pre;\" transform=\"translate(595.3755153047582,356.58183557817847)scale(0.11712600086593251)\">Нерюнгри</text></g></g><g class=\"slice cursor-pointer\"><path class=\"surface\" d=\"M619.8631976964728,328.88336739067154L649.1198910338616,328.88336739067154L649.1198910338616,350.78548021858387L619.8631976964728,350.78548021858387Z\" style=\"pointer-events: all; stroke-width: 1; fill: rgb(99, 110, 250); fill-opacity: 1; stroke: rgb(255, 255, 255); stroke-opacity: 1; opacity: 1;\"/><g class=\"slicetext\"><text data-notex=\"1\" class=\"slicetext\" text-anchor=\"start\" x=\"0\" y=\"0\" style=\"font-family: 'Open Sans', verdana, arial, sans-serif; font-size: 12px; fill: rgb(255, 255, 255); fill-opacity: 1; white-space: pre;\" transform=\"translate(622.8631976964728,336.1806671569502)scale(0.3906636151162425)\">Хабаровск</text></g></g><g class=\"slice cursor-pointer\"><path class=\"surface\" d=\"M652.1198910338616,328.88336739067154L654.0457900511306,328.88336739067154L654.0457900511306,350.78548021858387L652.1198910338616,350.78548021858387Z\" style=\"pointer-events: all; stroke-width: 1; fill: rgb(99, 110, 250); fill-opacity: 1; stroke: rgb(255, 255, 255); stroke-opacity: 1; opacity: 1;\"/><g class=\"slicetext\"><text data-notex=\"1\" class=\"slicetext\" text-anchor=\"start\" x=\"0\" y=\"0\" style=\"font-family: 'Open Sans', verdana, arial, sans-serif; font-size: 12px; fill: rgb(255, 255, 255); fill-opacity: 1; white-space: pre;\" transform=\"translate(655.1198910338616,329.04496845243045)scale(0.014691005614447594)\">Комсомольск-на-Амуре</text></g></g><g class=\"slice cursor-pointer\"><path class=\"surface\" d=\"M669.0457900511306,328.88336739067154L682,328.88336739067154L682,350.78548021858387L669.0457900511306,350.78548021858387Z\" style=\"pointer-events: all; stroke-width: 1; fill: rgb(99, 110, 250); fill-opacity: 1; stroke: rgb(255, 255, 255); stroke-opacity: 1; opacity: 1;\"/><g class=\"slicetext\"><text data-notex=\"1\" class=\"slicetext\" text-anchor=\"start\" x=\"0\" y=\"0\" style=\"font-family: 'Open Sans', verdana, arial, sans-serif; font-size: 12px; fill: rgb(255, 255, 255); fill-opacity: 1; white-space: pre;\" transform=\"translate(672.0457900511306,332.66568822863957)scale(0.07112007617891414)\">Южно-Сахалинск</text></g></g><g class=\"slice cursor-pointer\"><path class=\"surface\" d=\"\" style=\"pointer-events: all; stroke-width: 1; fill: rgb(99, 110, 250); fill-opacity: 1; stroke: rgb(255, 255, 255); stroke-opacity: 1; opacity: 1;\"/><g class=\"slicetext\"><text data-notex=\"1\" class=\"slicetext\" text-anchor=\"start\" x=\"0\" y=\"0\" style=\"font-family: 'Open Sans', verdana, arial, sans-serif; font-size: 12px; fill: rgb(255, 255, 255); fill-opacity: 1; white-space: pre;\" transform=\"translate(622.8631976964728,382.02613446466967)scale(0)\"> </text></g></g><g class=\"slice cursor-pointer\"><path class=\"surface\" d=\"\" style=\"pointer-events: all; stroke-width: 1; fill: rgb(99, 110, 250); fill-opacity: 1; stroke: rgb(255, 255, 255); stroke-opacity: 1; opacity: 1;\"/><g class=\"slicetext\"><text data-notex=\"1\" class=\"slicetext\" text-anchor=\"start\" x=\"0\" y=\"0\" style=\"font-family: 'Open Sans', verdana, arial, sans-serif; font-size: 12px; fill: rgb(255, 255, 255); fill-opacity: 1; white-space: pre;\" transform=\"translate(659.2648261572771,382.02613446466967)scale(0)\"> </text></g></g><g class=\"slice cursor-pointer\"><path class=\"surface\" d=\"\" style=\"pointer-events: all; stroke-width: 1; fill: rgb(99, 110, 250); fill-opacity: 1; stroke: rgb(255, 255, 255); stroke-opacity: 1; opacity: 1;\"/><g class=\"slicetext\"><text data-notex=\"1\" class=\"slicetext\" text-anchor=\"start\" x=\"0\" y=\"0\" style=\"font-family: 'Open Sans', verdana, arial, sans-serif; font-size: 12px; fill: rgb(255, 255, 255); fill-opacity: 1; white-space: pre;\" transform=\"translate(675.7322288886772,374.6558016306567)scale(0)\"> </text></g></g><g class=\"slice cursor-pointer\"><path class=\"surface\" d=\"\" style=\"pointer-events: all; stroke-width: 1; fill: rgb(99, 110, 250); fill-opacity: 1; stroke: rgb(255, 255, 255); stroke-opacity: 1; opacity: 1;\"/><g class=\"slicetext\"><text data-notex=\"1\" class=\"slicetext\" text-anchor=\"start\" x=\"0\" y=\"0\" style=\"font-family: 'Open Sans', verdana, arial, sans-serif; font-size: 12px; fill: rgb(255, 255, 255); fill-opacity: 1; white-space: pre;\" transform=\"translate(675.7322288886772,389.3964558767425)scale(0)\"> </text></g></g><g class=\"slice cursor-pointer\"><path class=\"surface\" d=\"\" style=\"pointer-events: all; stroke-width: 1; fill: rgb(171, 99, 250); fill-opacity: 1; stroke: rgb(255, 255, 255); stroke-opacity: 1; opacity: 1;\"/><g class=\"slicetext\"><text data-notex=\"1\" class=\"slicetext\" text-anchor=\"start\" x=\"0\" y=\"0\" style=\"font-family: 'Open Sans', verdana, arial, sans-serif; font-size: 12px; fill: rgb(68, 68, 68); fill-opacity: 1; white-space: pre;\" transform=\"translate(560.915424093717,437.63339435537773)scale(0)\"> </text></g></g><g class=\"slice cursor-pointer\"><path class=\"surface\" d=\"\" style=\"pointer-events: all; stroke-width: 1; fill: rgb(171, 99, 250); fill-opacity: 1; stroke: rgb(255, 255, 255); stroke-opacity: 1; opacity: 1;\"/><g class=\"slicetext\"><text data-notex=\"1\" class=\"slicetext\" text-anchor=\"start\" x=\"0\" y=\"0\" style=\"font-family: 'Open Sans', verdana, arial, sans-serif; font-size: 12px; fill: rgb(68, 68, 68); fill-opacity: 1; white-space: pre;\" transform=\"translate(560.915424093717,437.63339435537773)scale(0)\"> </text></g></g><g class=\"slice cursor-pointer\"><path class=\"surface\" d=\"\" style=\"pointer-events: all; stroke-width: 1; fill: rgb(171, 99, 250); fill-opacity: 1; stroke: rgb(255, 255, 255); stroke-opacity: 1; opacity: 1;\"/><g class=\"slicetext\"><text data-notex=\"1\" class=\"slicetext\" text-anchor=\"start\" x=\"0\" y=\"0\" style=\"font-family: 'Open Sans', verdana, arial, sans-serif; font-size: 12px; fill: rgb(68, 68, 68); fill-opacity: 1; white-space: pre;\" transform=\"translate(611.7115302712047,437.63339435537773)scale(0)\"> </text></g></g><g class=\"slice cursor-pointer\"><path class=\"surface\" d=\"\" style=\"pointer-events: all; stroke-width: 1; fill: rgb(171, 99, 250); fill-opacity: 1; stroke: rgb(255, 255, 255); stroke-opacity: 1; opacity: 1;\"/><g class=\"slicetext\"><text data-notex=\"1\" class=\"slicetext\" text-anchor=\"start\" x=\"0\" y=\"0\" style=\"font-family: 'Open Sans', verdana, arial, sans-serif; font-size: 12px; fill: rgb(68, 68, 68); fill-opacity: 1; white-space: pre;\" transform=\"translate(642.5520225094225,437.63339435537773)scale(0)\"> </text></g></g><g class=\"slice cursor-pointer\"><path class=\"surface\" d=\"\" style=\"pointer-events: all; stroke-width: 1; fill: rgb(171, 99, 250); fill-opacity: 1; stroke: rgb(255, 255, 255); stroke-opacity: 1; opacity: 1;\"/><g class=\"slicetext\"><text data-notex=\"1\" class=\"slicetext\" text-anchor=\"start\" x=\"0\" y=\"0\" style=\"font-family: 'Open Sans', verdana, arial, sans-serif; font-size: 12px; fill: rgb(68, 68, 68); fill-opacity: 1; white-space: pre;\" transform=\"translate(670.6712951729033,437.63339435537773)scale(0)\"> </text></g></g><g class=\"slice cursor-pointer\"><path class=\"surface\" d=\"\" style=\"pointer-events: all; stroke-width: 1; fill: rgb(171, 99, 250); fill-opacity: 1; stroke: rgb(255, 255, 255); stroke-opacity: 1; opacity: 1;\"/><g class=\"slicetext\"><text data-notex=\"1\" class=\"slicetext\" text-anchor=\"start\" x=\"0\" y=\"0\" style=\"font-family: 'Open Sans', verdana, arial, sans-serif; font-size: 12px; fill: rgb(68, 68, 68); fill-opacity: 1; white-space: pre;\" transform=\"translate(687.2087384742786,437.6333932080232)scale(0)\"> </text></g></g></g></g><g class=\"sunburstlayer\"/><g class=\"glimages\"/><defs id=\"topdefs-e77df3\"><g class=\"clips\"/></defs><g class=\"layer-above\"><g class=\"imagelayer\"/><g class=\"shapelayer\"/></g><g class=\"infolayer\"><g class=\"g-gtitle\"><text class=\"gtitle\" x=\"35\" y=\"0\" text-anchor=\"start\" dy=\"0em\" style=\"font-family: 'Open Sans', verdana, arial, sans-serif; font-size: 17px; fill: rgb(42, 63, 95); opacity: 1; font-weight: normal; white-space: pre;\">fff</text></g></g></svg>"
          },
          "metadata": {
            "tags": []
          }
        }
      ]
    },
    {
      "cell_type": "markdown",
      "metadata": {
        "id": "lbw3cKZOe-Ar"
      },
      "source": [
        "Общий вид диаграммы дает представление о среднесуточном количестве рейсов по различным федеральным округам. Сразу можно оценить насколько авиаперелеты в Москве превышают показатели сразу нескольких округов. При на жатии на карточку федерального округа появляется более детальная картина в разбивке по регионам, входящим в этот округ. И, наконец, в блоке региона мы видим как соотносятся показатели между городами одного региона. Точные значения среднего числа рейсов в сутки можно увидеть, если навести курсор на название города.\n",
        "\n",
        "В целом, график дает представление об активности авиаперевозок в различных городах. Лучше видны крупные города и транспортные центры регионов."
      ]
    },
    {
      "cell_type": "markdown",
      "metadata": {
        "id": "s2YVYPfbe-Ar"
      },
      "source": [
        "#### Построим диаграмму количества рейсов по десяти городам России с самыми большими показателями, полученным в пункте 3.1."
      ]
    },
    {
      "cell_type": "code",
      "metadata": {
        "id": "8zLyO5QJe-Ar",
        "colab": {
          "base_uri": "https://localhost:8080/",
          "height": 471
        },
        "outputId": "f69dc12a-bc28-44e4-cb76-eb53fe87015d"
      },
      "source": [
        "fig = px.pie(df_cities_top, values='average_flights', names='city', color='city',\n",
        "             title = 'Крупнейшие 10 городов по количеству рейсов в день'\n",
        "#              color_discrete_map={}\n",
        "            )\n",
        "fig.show(\"svg\")"
      ],
      "execution_count": 67,
      "outputs": [
        {
          "output_type": "display_data",
          "data": {
            "image/svg+xml": "<svg class=\"main-svg\" xmlns=\"http://www.w3.org/2000/svg\" xmlns:xlink=\"http://www.w3.org/1999/xlink\" width=\"700\" height=\"450\" viewBox=\"0 0 700 450\"><rect x=\"0\" y=\"0\" width=\"700\" height=\"450\" style=\"fill: rgb(255, 255, 255); fill-opacity: 1;\"/><defs id=\"defs-4eb8c2\"><g class=\"clips\"/><g class=\"gradients\"/></defs><g class=\"bglayer\"/><g class=\"layer-below\"><g class=\"imagelayer\"/><g class=\"shapelayer\"/></g><g class=\"cartesianlayer\"/><g class=\"polarlayer\"/><g class=\"ternarylayer\"/><g class=\"geolayer\"/><g class=\"funnelarealayer\"/><g class=\"pielayer\"><g class=\"trace\" stroke-linejoin=\"round\" style=\"opacity: 1;\"><g class=\"slice\"><path class=\"surface\" d=\"M309.5,235l0,-135a135,135 0 1 1 -14.977685138098382,269.1665716484698Z\" style=\"pointer-events: all; stroke-width: 0; fill: rgb(99, 110, 250); fill-opacity: 1; stroke: rgb(68, 68, 68); stroke-opacity: 1;\"/><g class=\"slicetext\"><text data-notex=\"1\" class=\"slicetext\" transform=\"translate(376.72386593789554,242.75021378484902)\" text-anchor=\"middle\" x=\"0\" y=\"0\" style=\"font-family: 'Open Sans', verdana, arial, sans-serif; font-size: 12px; fill: rgb(255, 255, 255); fill-opacity: 1; white-space: pre;\">51.8%</text></g></g><g class=\"slice\"><path class=\"surface\" d=\"M309.5,235l-95.04365615123321,-95.87337182662426a135,135 0 0 1 95.04365615123321,-39.126628173375735Z\" style=\"pointer-events: all; stroke-width: 0; fill: rgb(239, 85, 59); fill-opacity: 1; stroke: rgb(68, 68, 68); stroke-opacity: 1;\"/><g class=\"slicetext\"><text data-notex=\"1\" class=\"slicetext\" transform=\"translate(272.10638730266925,148.58356995700007)\" text-anchor=\"middle\" x=\"0\" y=\"0\" style=\"font-family: 'Open Sans', verdana, arial, sans-serif; font-size: 12px; fill: rgb(68, 68, 68); fill-opacity: 1; white-space: pre;\">12.4%</text></g></g><g class=\"slice\"><path class=\"surface\" d=\"M309.5,235l-126.55613444765093,-46.99515755551951a135,135 0 0 1 31.512478296417726,-48.87821427110475Z\" style=\"pointer-events: all; stroke-width: 0; fill: rgb(0, 204, 150); fill-opacity: 1; stroke: rgb(68, 68, 68); stroke-opacity: 1;\"/><g class=\"slicetext\"><text data-notex=\"1\" class=\"slicetext\" transform=\"translate(215.97296983295487,178.81260680385887)\" text-anchor=\"middle\" x=\"0\" y=\"0\" style=\"font-family: 'Open Sans', verdana, arial, sans-serif; font-size: 12px; fill: rgb(68, 68, 68); fill-opacity: 1; white-space: pre;\">6.91%</text></g></g><g class=\"slice\"><path class=\"surface\" d=\"M309.5,235l-134.71236560965704,-8.807868746188742a135,135 0 0 1 8.156231162006108,-38.18728880933077Z\" style=\"pointer-events: all; stroke-width: 0; fill: rgb(171, 99, 250); fill-opacity: 1; stroke: rgb(68, 68, 68); stroke-opacity: 1;\"/><g class=\"slicetext\"><text data-notex=\"1\" class=\"slicetext\" transform=\"translate(204.41739375929126,216.6461537091869)rotate(12.056364876220755)\" text-anchor=\"middle\" x=\"0\" y=\"0\" style=\"font-family: 'Open Sans', verdana, arial, sans-serif; font-size: 12px; fill: rgb(68, 68, 68); fill-opacity: 1; white-space: pre;\">4.62%</text></g></g><g class=\"slice\"><path class=\"surface\" d=\"M309.5,235l-131.7899466089715,29.264483128947347a135,135 0 0 1 -2.922419000685551,-38.07235187513609Z\" style=\"pointer-events: all; stroke-width: 0; fill: rgb(255, 161, 90); fill-opacity: 1; stroke: rgb(68, 68, 68); stroke-opacity: 1;\"/><g class=\"slicetext\"><text data-notex=\"1\" class=\"slicetext\" transform=\"translate(203.1384025637038,247.17604183984926)rotate(-4.389394545801906)\" text-anchor=\"middle\" x=\"0\" y=\"0\" style=\"font-family: 'Open Sans', verdana, arial, sans-serif; font-size: 12px; fill: rgb(68, 68, 68); fill-opacity: 1; white-space: pre;\">4.52%</text></g></g><g class=\"slice\"><path class=\"surface\" d=\"M309.5,235l-120.11569881414593,61.62157818807777a135,135 0 0 1 -11.674247794825561,-32.35709505913042Z\" style=\"pointer-events: all; stroke-width: 0; fill: rgb(25, 211, 243); fill-opacity: 1; stroke: rgb(68, 68, 68); stroke-opacity: 1;\"/><g class=\"slicetext\"><text data-notex=\"1\" class=\"slicetext\" transform=\"translate(208.56948995407538,275.66751139538366)rotate(-19.839142770231092)\" text-anchor=\"middle\" x=\"0\" y=\"0\" style=\"font-family: 'Open Sans', verdana, arial, sans-serif; font-size: 12px; fill: rgb(68, 68, 68); fill-opacity: 1; white-space: pre;\">4.07%</text></g></g><g class=\"slice\"><path class=\"surface\" d=\"M309.5,235l-100.78823331243069,89.81498775682729a135,135 0 0 1 -19.32746550171524,-28.193409568749523Z\" style=\"pointer-events: all; stroke-width: 0; fill: rgb(255, 102, 146); fill-opacity: 1; stroke: rgb(68, 68, 68); stroke-opacity: 1;\"/><g class=\"slicetext\"><text data-notex=\"1\" class=\"slicetext\" transform=\"translate(221.98483987423387,299.84404900196296)rotate(-34.43185859739333)\" text-anchor=\"middle\" x=\"0\" y=\"0\" style=\"font-family: 'Open Sans', verdana, arial, sans-serif; font-size: 12px; fill: rgb(68, 68, 68); fill-opacity: 1; white-space: pre;\">4.04%</text></g></g><g class=\"slice\"><path class=\"surface\" d=\"M309.5,235l-75.36179726692731,112.0071404540735a135,135 0 0 1 -25.42643604550338,-22.1921526972462Z\" style=\"pointer-events: all; stroke-width: 0; fill: rgb(182, 232, 128); fill-opacity: 1; stroke: rgb(68, 68, 68); stroke-opacity: 1;\"/><g class=\"slicetext\"><text data-notex=\"1\" class=\"slicetext\" transform=\"translate(240.8006747197181,319.7946138206829)rotate(-48.88559630901875)\" text-anchor=\"middle\" x=\"0\" y=\"0\" style=\"font-family: 'Open Sans', verdana, arial, sans-serif; font-size: 12px; fill: rgb(68, 68, 68); fill-opacity: 1; white-space: pre;\">3.99%</text></g></g><g class=\"slice\"><path class=\"surface\" d=\"M309.5,235l-46.4575299034265,126.75447887657553a135,135 0 0 1 -28.904267363500814,-14.74733842250204Z\" style=\"pointer-events: all; stroke-width: 0; fill: rgb(255, 151, 255); fill-opacity: 1; stroke: rgb(68, 68, 68); stroke-opacity: 1;\"/><g class=\"slicetext\"><text data-notex=\"1\" class=\"slicetext\" transform=\"translate(263.20475724588044,334.5383859009635)rotate(-62.96872571254619)\" text-anchor=\"middle\" x=\"0\" y=\"0\" style=\"font-family: 'Open Sans', verdana, arial, sans-serif; font-size: 12px; fill: rgb(68, 68, 68); fill-opacity: 1; white-space: pre;\">3.83%</text></g></g><g class=\"slice\"><path class=\"surface\" d=\"M309.5,235l-14.977685138098416,134.1665716484698a135,135 0 0 1 -31.47984476532808,-7.4120927718942795Z\" style=\"pointer-events: all; stroke-width: 0; fill: rgb(254, 203, 82); fill-opacity: 1; stroke: rgb(68, 68, 68); stroke-opacity: 1;\"/><g class=\"slicetext\"><text data-notex=\"1\" class=\"slicetext\" transform=\"translate(288.2379817019586,342.75469089095685)rotate(-76.75073586574376)\" text-anchor=\"middle\" x=\"0\" y=\"0\" style=\"font-family: 'Open Sans', verdana, arial, sans-serif; font-size: 12px; fill: rgb(68, 68, 68); fill-opacity: 1; white-space: pre;\">3.82%</text></g></g></g></g><g class=\"treemaplayer\"/><g class=\"sunburstlayer\"/><g class=\"glimages\"/><defs id=\"topdefs-4eb8c2\"><g class=\"clips\"/><clipPath id=\"legend4eb8c2\"><rect width=\"140\" height=\"200\" x=\"0\" y=\"0\"/></clipPath></defs><g class=\"layer-above\"><g class=\"imagelayer\"/><g class=\"shapelayer\"/></g><g class=\"infolayer\"><g class=\"legend\" pointer-events=\"all\" transform=\"translate(548.1800000000001, 100)\"><rect class=\"bg\" shape-rendering=\"crispEdges\" style=\"stroke: rgb(68, 68, 68); stroke-opacity: 1; fill: rgb(255, 255, 255); fill-opacity: 1; stroke-width: 0px;\" width=\"140\" height=\"200\" x=\"0\" y=\"0\"/><g class=\"scrollbox\" transform=\"translate(0, 0)\" clip-path=\"url('#legend4eb8c2')\"><g class=\"groups\"><g class=\"traces\" transform=\"translate(0, 14.5)\" style=\"opacity: 1;\"><text class=\"legendtext user-select-none\" text-anchor=\"start\" x=\"40\" y=\"4.680000000000001\" style=\"font-family: 'Open Sans', verdana, arial, sans-serif; font-size: 12px; fill: rgb(42, 63, 95); fill-opacity: 1; white-space: pre;\">Москва</text><g class=\"layers\" style=\"opacity: 1;\"><g class=\"legendfill\"/><g class=\"legendlines\"/><g class=\"legendsymbols\"><g class=\"legendpoints\"><path class=\"legendpie\" d=\"M6,6H-6V-6H6Z\" transform=\"translate(20,0)\" style=\"stroke-width: 0; fill: rgb(99, 110, 250); fill-opacity: 1; stroke: rgb(68, 68, 68); stroke-opacity: 1;\"/></g></g></g><rect class=\"legendtoggle\" pointer-events=\"all\" x=\"0\" y=\"-9.5\" width=\"134.734375\" height=\"19\" style=\"cursor: pointer; fill: rgb(0, 0, 0); fill-opacity: 0;\"/></g><g class=\"traces\" transform=\"translate(0, 33.5)\" style=\"opacity: 1;\"><text class=\"legendtext user-select-none\" text-anchor=\"start\" x=\"40\" y=\"4.680000000000001\" style=\"font-family: 'Open Sans', verdana, arial, sans-serif; font-size: 12px; fill: rgb(42, 63, 95); fill-opacity: 1; white-space: pre;\">Санкт-Петербург</text><g class=\"layers\" style=\"opacity: 1;\"><g class=\"legendfill\"/><g class=\"legendlines\"/><g class=\"legendsymbols\"><g class=\"legendpoints\"><path class=\"legendpie\" d=\"M6,6H-6V-6H6Z\" transform=\"translate(20,0)\" style=\"stroke-width: 0; fill: rgb(239, 85, 59); fill-opacity: 1; stroke: rgb(68, 68, 68); stroke-opacity: 1;\"/></g></g></g><rect class=\"legendtoggle\" pointer-events=\"all\" x=\"0\" y=\"-9.5\" width=\"134.734375\" height=\"19\" style=\"cursor: pointer; fill: rgb(0, 0, 0); fill-opacity: 0;\"/></g><g class=\"traces\" transform=\"translate(0, 52.5)\" style=\"opacity: 1;\"><text class=\"legendtext user-select-none\" text-anchor=\"start\" x=\"40\" y=\"4.680000000000001\" style=\"font-family: 'Open Sans', verdana, arial, sans-serif; font-size: 12px; fill: rgb(42, 63, 95); fill-opacity: 1; white-space: pre;\">Новосибирск</text><g class=\"layers\" style=\"opacity: 1;\"><g class=\"legendfill\"/><g class=\"legendlines\"/><g class=\"legendsymbols\"><g class=\"legendpoints\"><path class=\"legendpie\" d=\"M6,6H-6V-6H6Z\" transform=\"translate(20,0)\" style=\"stroke-width: 0; fill: rgb(0, 204, 150); fill-opacity: 1; stroke: rgb(68, 68, 68); stroke-opacity: 1;\"/></g></g></g><rect class=\"legendtoggle\" pointer-events=\"all\" x=\"0\" y=\"-9.5\" width=\"134.734375\" height=\"19\" style=\"cursor: pointer; fill: rgb(0, 0, 0); fill-opacity: 0;\"/></g><g class=\"traces\" transform=\"translate(0, 71.5)\" style=\"opacity: 1;\"><text class=\"legendtext user-select-none\" text-anchor=\"start\" x=\"40\" y=\"4.680000000000001\" style=\"font-family: 'Open Sans', verdana, arial, sans-serif; font-size: 12px; fill: rgb(42, 63, 95); fill-opacity: 1; white-space: pre;\">Красноярск</text><g class=\"layers\" style=\"opacity: 1;\"><g class=\"legendfill\"/><g class=\"legendlines\"/><g class=\"legendsymbols\"><g class=\"legendpoints\"><path class=\"legendpie\" d=\"M6,6H-6V-6H6Z\" transform=\"translate(20,0)\" style=\"stroke-width: 0; fill: rgb(171, 99, 250); fill-opacity: 1; stroke: rgb(68, 68, 68); stroke-opacity: 1;\"/></g></g></g><rect class=\"legendtoggle\" pointer-events=\"all\" x=\"0\" y=\"-9.5\" width=\"134.734375\" height=\"19\" style=\"cursor: pointer; fill: rgb(0, 0, 0); fill-opacity: 0;\"/></g><g class=\"traces\" transform=\"translate(0, 90.5)\" style=\"opacity: 1;\"><text class=\"legendtext user-select-none\" text-anchor=\"start\" x=\"40\" y=\"4.680000000000001\" style=\"font-family: 'Open Sans', verdana, arial, sans-serif; font-size: 12px; fill: rgb(42, 63, 95); fill-opacity: 1; white-space: pre;\">Екатеринбург</text><g class=\"layers\" style=\"opacity: 1;\"><g class=\"legendfill\"/><g class=\"legendlines\"/><g class=\"legendsymbols\"><g class=\"legendpoints\"><path class=\"legendpie\" d=\"M6,6H-6V-6H6Z\" transform=\"translate(20,0)\" style=\"stroke-width: 0; fill: rgb(255, 161, 90); fill-opacity: 1; stroke: rgb(68, 68, 68); stroke-opacity: 1;\"/></g></g></g><rect class=\"legendtoggle\" pointer-events=\"all\" x=\"0\" y=\"-9.5\" width=\"134.734375\" height=\"19\" style=\"cursor: pointer; fill: rgb(0, 0, 0); fill-opacity: 0;\"/></g><g class=\"traces\" transform=\"translate(0, 109.5)\" style=\"opacity: 1;\"><text class=\"legendtext user-select-none\" text-anchor=\"start\" x=\"40\" y=\"4.680000000000001\" style=\"font-family: 'Open Sans', verdana, arial, sans-serif; font-size: 12px; fill: rgb(42, 63, 95); fill-opacity: 1; white-space: pre;\">Ростов-на-Дону</text><g class=\"layers\" style=\"opacity: 1;\"><g class=\"legendfill\"/><g class=\"legendlines\"/><g class=\"legendsymbols\"><g class=\"legendpoints\"><path class=\"legendpie\" d=\"M6,6H-6V-6H6Z\" transform=\"translate(20,0)\" style=\"stroke-width: 0; fill: rgb(25, 211, 243); fill-opacity: 1; stroke: rgb(68, 68, 68); stroke-opacity: 1;\"/></g></g></g><rect class=\"legendtoggle\" pointer-events=\"all\" x=\"0\" y=\"-9.5\" width=\"134.734375\" height=\"19\" style=\"cursor: pointer; fill: rgb(0, 0, 0); fill-opacity: 0;\"/></g><g class=\"traces\" transform=\"translate(0, 128.5)\" style=\"opacity: 1;\"><text class=\"legendtext user-select-none\" text-anchor=\"start\" x=\"40\" y=\"4.680000000000001\" style=\"font-family: 'Open Sans', verdana, arial, sans-serif; font-size: 12px; fill: rgb(42, 63, 95); fill-opacity: 1; white-space: pre;\">Пермь</text><g class=\"layers\" style=\"opacity: 1;\"><g class=\"legendfill\"/><g class=\"legendlines\"/><g class=\"legendsymbols\"><g class=\"legendpoints\"><path class=\"legendpie\" d=\"M6,6H-6V-6H6Z\" transform=\"translate(20,0)\" style=\"stroke-width: 0; fill: rgb(255, 102, 146); fill-opacity: 1; stroke: rgb(68, 68, 68); stroke-opacity: 1;\"/></g></g></g><rect class=\"legendtoggle\" pointer-events=\"all\" x=\"0\" y=\"-9.5\" width=\"134.734375\" height=\"19\" style=\"cursor: pointer; fill: rgb(0, 0, 0); fill-opacity: 0;\"/></g><g class=\"traces\" transform=\"translate(0, 147.5)\" style=\"opacity: 1;\"><text class=\"legendtext user-select-none\" text-anchor=\"start\" x=\"40\" y=\"4.680000000000001\" style=\"font-family: 'Open Sans', verdana, arial, sans-serif; font-size: 12px; fill: rgb(42, 63, 95); fill-opacity: 1; white-space: pre;\">Брянск</text><g class=\"layers\" style=\"opacity: 1;\"><g class=\"legendfill\"/><g class=\"legendlines\"/><g class=\"legendsymbols\"><g class=\"legendpoints\"><path class=\"legendpie\" d=\"M6,6H-6V-6H6Z\" transform=\"translate(20,0)\" style=\"stroke-width: 0; fill: rgb(182, 232, 128); fill-opacity: 1; stroke: rgb(68, 68, 68); stroke-opacity: 1;\"/></g></g></g><rect class=\"legendtoggle\" pointer-events=\"all\" x=\"0\" y=\"-9.5\" width=\"134.734375\" height=\"19\" style=\"cursor: pointer; fill: rgb(0, 0, 0); fill-opacity: 0;\"/></g><g class=\"traces\" transform=\"translate(0, 166.5)\" style=\"opacity: 1;\"><text class=\"legendtext user-select-none\" text-anchor=\"start\" x=\"40\" y=\"4.680000000000001\" style=\"font-family: 'Open Sans', verdana, arial, sans-serif; font-size: 12px; fill: rgb(42, 63, 95); fill-opacity: 1; white-space: pre;\">Сочи</text><g class=\"layers\" style=\"opacity: 1;\"><g class=\"legendfill\"/><g class=\"legendlines\"/><g class=\"legendsymbols\"><g class=\"legendpoints\"><path class=\"legendpie\" d=\"M6,6H-6V-6H6Z\" transform=\"translate(20,0)\" style=\"stroke-width: 0; fill: rgb(255, 151, 255); fill-opacity: 1; stroke: rgb(68, 68, 68); stroke-opacity: 1;\"/></g></g></g><rect class=\"legendtoggle\" pointer-events=\"all\" x=\"0\" y=\"-9.5\" width=\"134.734375\" height=\"19\" style=\"cursor: pointer; fill: rgb(0, 0, 0); fill-opacity: 0;\"/></g><g class=\"traces\" transform=\"translate(0, 185.5)\" style=\"opacity: 1;\"><text class=\"legendtext user-select-none\" text-anchor=\"start\" x=\"40\" y=\"4.680000000000001\" style=\"font-family: 'Open Sans', verdana, arial, sans-serif; font-size: 12px; fill: rgb(42, 63, 95); fill-opacity: 1; white-space: pre;\">Ульяновск</text><g class=\"layers\" style=\"opacity: 1;\"><g class=\"legendfill\"/><g class=\"legendlines\"/><g class=\"legendsymbols\"><g class=\"legendpoints\"><path class=\"legendpie\" d=\"M6,6H-6V-6H6Z\" transform=\"translate(20,0)\" style=\"stroke-width: 0; fill: rgb(254, 203, 82); fill-opacity: 1; stroke: rgb(68, 68, 68); stroke-opacity: 1;\"/></g></g></g><rect class=\"legendtoggle\" pointer-events=\"all\" x=\"0\" y=\"-9.5\" width=\"134.734375\" height=\"19\" style=\"cursor: pointer; fill: rgb(0, 0, 0); fill-opacity: 0;\"/></g></g></g><rect class=\"scrollbar\" rx=\"20\" ry=\"3\" width=\"0\" height=\"0\" style=\"fill: rgb(128, 139, 164); fill-opacity: 1;\" x=\"0\" y=\"0\"/></g><g class=\"g-gtitle\"><text class=\"gtitle\" x=\"35\" y=\"50\" text-anchor=\"start\" dy=\"0em\" style=\"font-family: 'Open Sans', verdana, arial, sans-serif; font-size: 17px; fill: rgb(42, 63, 95); opacity: 1; font-weight: normal; white-space: pre;\">Крупнейшие 10 городов по количеству рейсов в день</text></g></g></svg>"
          },
          "metadata": {
            "tags": []
          }
        }
      ]
    },
    {
      "cell_type": "markdown",
      "metadata": {
        "id": "B61RBcS8e-Ar"
      },
      "source": [
        "На круговой диаграмме видно, что в Москве совершается более половины рейсов среди крупных городов России, дальше идет Санкт-Петербург с 12,4% авиаперевозок и за ним остальные 8 городов с показателями от 3,82% до 6,91%. "
      ]
    },
    {
      "cell_type": "markdown",
      "metadata": {
        "id": "TYXr7QDNe-As"
      },
      "source": [
        "### Общий вывод\n",
        "\n",
        "Проведен анализ поведения клиентов авиакомпании в разных городах России в августе-сентябре 2018 года. Была сделана выборка значений количества перелетов в Москве с указанием дат музыкальных фестивалей, проходящих в это время.\n",
        "По результатам анализа также выявлены наиболее часто ипользуемые модели самолетов. В таблице представлены данные о трех самых часто используемых моделях\n",
        "\n",
        "| |Cessna 208 Caravan|Bombardier CRJ-200|Sukhoi SuperJet-100|\n",
        "|:----|:----|:----|:----|\n",
        "|Количество рейсов|4557|4446|4185|\n",
        "\n",
        "Также были подсчитаны средние значения числа прибывающих в день рейсов для разных городов России и построены соответствующие графики. Для иллюстрации распределения среднесуточного количества рейсов по более чем ста городам, данные были обогащены информацией из Википедии о территориальной принадлежности каждого города к соответствующему региону и федеральному округу России. Группировка городов по регионам и визуализация данных с помощью Treemap дала полную картину числа пассажирских перелетов."
      ]
    }
  ]
}
