{
  "nbformat": 4,
  "nbformat_minor": 0,
  "metadata": {
    "kernelspec": {
      "display_name": "Python 3",
      "language": "python",
      "name": "python3"
    },
    "language_info": {
      "codemirror_mode": {
        "name": "ipython",
        "version": 3
      },
      "file_extension": ".py",
      "mimetype": "text/x-python",
      "name": "python",
      "nbconvert_exporter": "python",
      "pygments_lexer": "ipython3",
      "version": "3.7.8"
    },
    "toc": {
      "base_numbering": 1,
      "nav_menu": {},
      "number_sections": true,
      "sideBar": true,
      "skip_h1_title": true,
      "title_cell": "Table of Contents",
      "title_sidebar": "Contents",
      "toc_cell": false,
      "toc_position": {
        "height": "calc(100% - 180px)",
        "left": "10px",
        "top": "150px",
        "width": "494.391px"
      },
      "toc_section_display": true,
      "toc_window_display": false
    },
    "colab": {
      "name": "Выбор гипотез и А/В тест.ipynb",
      "provenance": [],
      "collapsed_sections": []
    }
  },
  "cells": [
    {
      "cell_type": "markdown",
      "metadata": {
        "id": "JlMJvDr9-2dv"
      },
      "source": [
        "# Приоретизация гипотез и анализ результатов А/В тестирования"
      ]
    },
    {
      "cell_type": "markdown",
      "metadata": {
        "id": "g8zfD5Nr-vH0"
      },
      "source": [
        "<b>Проверка гипотез</b>\n",
        "\n",
        "Цель иследования - проверить подготовленные гипотезы и проанализировать полученные результаты для увеличения выручки интернет-магазина.\n",
        "\n",
        "План анализа\n",
        "\n",
        "\n",
        "    1 - Приоритизация гипотез\n",
        "    2 - Загрузка и обзор данных \n",
        "    3 - Анализ A/B-теста\n",
        "    4 - Вывод"
      ]
    },
    {
      "cell_type": "code",
      "metadata": {
        "id": "RmBNXD3B-vH1"
      },
      "source": [
        "import pandas as pd\n",
        "import numpy as np\n",
        "from scipy import stats as st\n",
        "import datetime as dt\n",
        "import matplotlib.pyplot as plt\n",
        "import seaborn as sns\n",
        "sns.set()\n",
        "import warnings\n",
        "warnings.filterwarnings('ignore')\n"
      ],
      "execution_count": 5,
      "outputs": []
    },
    {
      "cell_type": "code",
      "metadata": {
        "colab": {
          "base_uri": "https://localhost:8080/",
          "height": 328
        },
        "id": "h_NIVFzE-vH2",
        "outputId": "1087a45d-c174-41f2-bbdb-9af7e4eb2dc8"
      },
      "source": [
        "pd.set_option('display.max_columns', None)\n",
        "pd.options.display.max_colwidth = 150  \n",
        "hyp = pd.read_csv('/hypothesis.csv')\n",
        "\n",
        "hyp"
      ],
      "execution_count": 6,
      "outputs": [
        {
          "output_type": "execute_result",
          "data": {
            "text/html": [
              "<div>\n",
              "<style scoped>\n",
              "    .dataframe tbody tr th:only-of-type {\n",
              "        vertical-align: middle;\n",
              "    }\n",
              "\n",
              "    .dataframe tbody tr th {\n",
              "        vertical-align: top;\n",
              "    }\n",
              "\n",
              "    .dataframe thead th {\n",
              "        text-align: right;\n",
              "    }\n",
              "</style>\n",
              "<table border=\"1\" class=\"dataframe\">\n",
              "  <thead>\n",
              "    <tr style=\"text-align: right;\">\n",
              "      <th></th>\n",
              "      <th>Hypothesis</th>\n",
              "      <th>Reach</th>\n",
              "      <th>Impact</th>\n",
              "      <th>Confidence</th>\n",
              "      <th>Efforts</th>\n",
              "    </tr>\n",
              "  </thead>\n",
              "  <tbody>\n",
              "    <tr>\n",
              "      <th>0</th>\n",
              "      <td>Добавить два новых канала привлечения трафика, что позволит привлекать на 30% больше пользователей</td>\n",
              "      <td>3</td>\n",
              "      <td>10</td>\n",
              "      <td>8</td>\n",
              "      <td>6</td>\n",
              "    </tr>\n",
              "    <tr>\n",
              "      <th>1</th>\n",
              "      <td>Запустить собственную службу доставки, что сократит срок доставки заказов</td>\n",
              "      <td>2</td>\n",
              "      <td>5</td>\n",
              "      <td>4</td>\n",
              "      <td>10</td>\n",
              "    </tr>\n",
              "    <tr>\n",
              "      <th>2</th>\n",
              "      <td>Добавить блоки рекомендаций товаров на сайт интернет магазина, чтобы повысить конверсию и средний чек заказа</td>\n",
              "      <td>8</td>\n",
              "      <td>3</td>\n",
              "      <td>7</td>\n",
              "      <td>3</td>\n",
              "    </tr>\n",
              "    <tr>\n",
              "      <th>3</th>\n",
              "      <td>Изменить структура категорий, что увеличит конверсию, т.к. пользователи быстрее найдут нужный товар</td>\n",
              "      <td>8</td>\n",
              "      <td>3</td>\n",
              "      <td>3</td>\n",
              "      <td>8</td>\n",
              "    </tr>\n",
              "    <tr>\n",
              "      <th>4</th>\n",
              "      <td>Изменить цвет фона главной страницы, чтобы увеличить вовлеченность пользователей</td>\n",
              "      <td>3</td>\n",
              "      <td>1</td>\n",
              "      <td>1</td>\n",
              "      <td>1</td>\n",
              "    </tr>\n",
              "    <tr>\n",
              "      <th>5</th>\n",
              "      <td>Добавить страницу отзывов клиентов о магазине, что позволит увеличить количество заказов</td>\n",
              "      <td>3</td>\n",
              "      <td>2</td>\n",
              "      <td>2</td>\n",
              "      <td>3</td>\n",
              "    </tr>\n",
              "    <tr>\n",
              "      <th>6</th>\n",
              "      <td>Показать на главной странице баннеры с актуальными акциями и распродажами, чтобы увеличить конверсию</td>\n",
              "      <td>5</td>\n",
              "      <td>3</td>\n",
              "      <td>8</td>\n",
              "      <td>3</td>\n",
              "    </tr>\n",
              "    <tr>\n",
              "      <th>7</th>\n",
              "      <td>Добавить форму подписки на все основные страницы, чтобы собрать базу клиентов для email-рассылок</td>\n",
              "      <td>10</td>\n",
              "      <td>7</td>\n",
              "      <td>8</td>\n",
              "      <td>5</td>\n",
              "    </tr>\n",
              "    <tr>\n",
              "      <th>8</th>\n",
              "      <td>Запустить акцию, дающую скидку на товар в день рождения</td>\n",
              "      <td>1</td>\n",
              "      <td>9</td>\n",
              "      <td>9</td>\n",
              "      <td>5</td>\n",
              "    </tr>\n",
              "  </tbody>\n",
              "</table>\n",
              "</div>"
            ],
            "text/plain": [
              "                                                                                                     Hypothesis  \\\n",
              "0            Добавить два новых канала привлечения трафика, что позволит привлекать на 30% больше пользователей   \n",
              "1                                     Запустить собственную службу доставки, что сократит срок доставки заказов   \n",
              "2  Добавить блоки рекомендаций товаров на сайт интернет магазина, чтобы повысить конверсию и средний чек заказа   \n",
              "3           Изменить структура категорий, что увеличит конверсию, т.к. пользователи быстрее найдут нужный товар   \n",
              "4                              Изменить цвет фона главной страницы, чтобы увеличить вовлеченность пользователей   \n",
              "5                      Добавить страницу отзывов клиентов о магазине, что позволит увеличить количество заказов   \n",
              "6          Показать на главной странице баннеры с актуальными акциями и распродажами, чтобы увеличить конверсию   \n",
              "7              Добавить форму подписки на все основные страницы, чтобы собрать базу клиентов для email-рассылок   \n",
              "8                                                       Запустить акцию, дающую скидку на товар в день рождения   \n",
              "\n",
              "   Reach  Impact  Confidence  Efforts  \n",
              "0      3      10           8        6  \n",
              "1      2       5           4       10  \n",
              "2      8       3           7        3  \n",
              "3      8       3           3        8  \n",
              "4      3       1           1        1  \n",
              "5      3       2           2        3  \n",
              "6      5       3           8        3  \n",
              "7     10       7           8        5  \n",
              "8      1       9           9        5  "
            ]
          },
          "metadata": {
            "tags": []
          },
          "execution_count": 6
        }
      ]
    },
    {
      "cell_type": "markdown",
      "metadata": {
        "id": "LYiyKbsR-vH2"
      },
      "source": [
        "#### Рассмотрим сформулированные гипотезы"
      ]
    },
    {
      "cell_type": "code",
      "metadata": {
        "colab": {
          "base_uri": "https://localhost:8080/",
          "height": 328
        },
        "id": "iZKk23Za-vH3",
        "outputId": "b2257adc-c291-4578-c284-8c97a49111e3"
      },
      "source": [
        "# Рассчитаем параметр ICE для приоритизации гипотез\n",
        "\n",
        "hyp['ICE'] = (hyp['Impact']*hyp['Confidence']/hyp['Efforts']).round(2)\n",
        "hyp[['Hypothesis', 'ICE']].sort_values(by = 'ICE', ascending  = False)"
      ],
      "execution_count": 7,
      "outputs": [
        {
          "output_type": "execute_result",
          "data": {
            "text/html": [
              "<div>\n",
              "<style scoped>\n",
              "    .dataframe tbody tr th:only-of-type {\n",
              "        vertical-align: middle;\n",
              "    }\n",
              "\n",
              "    .dataframe tbody tr th {\n",
              "        vertical-align: top;\n",
              "    }\n",
              "\n",
              "    .dataframe thead th {\n",
              "        text-align: right;\n",
              "    }\n",
              "</style>\n",
              "<table border=\"1\" class=\"dataframe\">\n",
              "  <thead>\n",
              "    <tr style=\"text-align: right;\">\n",
              "      <th></th>\n",
              "      <th>Hypothesis</th>\n",
              "      <th>ICE</th>\n",
              "    </tr>\n",
              "  </thead>\n",
              "  <tbody>\n",
              "    <tr>\n",
              "      <th>8</th>\n",
              "      <td>Запустить акцию, дающую скидку на товар в день рождения</td>\n",
              "      <td>16.20</td>\n",
              "    </tr>\n",
              "    <tr>\n",
              "      <th>0</th>\n",
              "      <td>Добавить два новых канала привлечения трафика, что позволит привлекать на 30% больше пользователей</td>\n",
              "      <td>13.33</td>\n",
              "    </tr>\n",
              "    <tr>\n",
              "      <th>7</th>\n",
              "      <td>Добавить форму подписки на все основные страницы, чтобы собрать базу клиентов для email-рассылок</td>\n",
              "      <td>11.20</td>\n",
              "    </tr>\n",
              "    <tr>\n",
              "      <th>6</th>\n",
              "      <td>Показать на главной странице баннеры с актуальными акциями и распродажами, чтобы увеличить конверсию</td>\n",
              "      <td>8.00</td>\n",
              "    </tr>\n",
              "    <tr>\n",
              "      <th>2</th>\n",
              "      <td>Добавить блоки рекомендаций товаров на сайт интернет магазина, чтобы повысить конверсию и средний чек заказа</td>\n",
              "      <td>7.00</td>\n",
              "    </tr>\n",
              "    <tr>\n",
              "      <th>1</th>\n",
              "      <td>Запустить собственную службу доставки, что сократит срок доставки заказов</td>\n",
              "      <td>2.00</td>\n",
              "    </tr>\n",
              "    <tr>\n",
              "      <th>5</th>\n",
              "      <td>Добавить страницу отзывов клиентов о магазине, что позволит увеличить количество заказов</td>\n",
              "      <td>1.33</td>\n",
              "    </tr>\n",
              "    <tr>\n",
              "      <th>3</th>\n",
              "      <td>Изменить структура категорий, что увеличит конверсию, т.к. пользователи быстрее найдут нужный товар</td>\n",
              "      <td>1.12</td>\n",
              "    </tr>\n",
              "    <tr>\n",
              "      <th>4</th>\n",
              "      <td>Изменить цвет фона главной страницы, чтобы увеличить вовлеченность пользователей</td>\n",
              "      <td>1.00</td>\n",
              "    </tr>\n",
              "  </tbody>\n",
              "</table>\n",
              "</div>"
            ],
            "text/plain": [
              "                                                                                                     Hypothesis  \\\n",
              "8                                                       Запустить акцию, дающую скидку на товар в день рождения   \n",
              "0            Добавить два новых канала привлечения трафика, что позволит привлекать на 30% больше пользователей   \n",
              "7              Добавить форму подписки на все основные страницы, чтобы собрать базу клиентов для email-рассылок   \n",
              "6          Показать на главной странице баннеры с актуальными акциями и распродажами, чтобы увеличить конверсию   \n",
              "2  Добавить блоки рекомендаций товаров на сайт интернет магазина, чтобы повысить конверсию и средний чек заказа   \n",
              "1                                     Запустить собственную службу доставки, что сократит срок доставки заказов   \n",
              "5                      Добавить страницу отзывов клиентов о магазине, что позволит увеличить количество заказов   \n",
              "3           Изменить структура категорий, что увеличит конверсию, т.к. пользователи быстрее найдут нужный товар   \n",
              "4                              Изменить цвет фона главной страницы, чтобы увеличить вовлеченность пользователей   \n",
              "\n",
              "     ICE  \n",
              "8  16.20  \n",
              "0  13.33  \n",
              "7  11.20  \n",
              "6   8.00  \n",
              "2   7.00  \n",
              "1   2.00  \n",
              "5   1.33  \n",
              "3   1.12  \n",
              "4   1.00  "
            ]
          },
          "metadata": {
            "tags": []
          },
          "execution_count": 7
        }
      ]
    },
    {
      "cell_type": "code",
      "metadata": {
        "colab": {
          "base_uri": "https://localhost:8080/",
          "height": 328
        },
        "id": "PBLmVaEU-vH5",
        "outputId": "50469b25-2a39-4414-b5e8-778602343706"
      },
      "source": [
        "# Рассчитаем параметр RICE для приоритизации гипотез\n",
        "\n",
        "hyp['RICE'] = hyp['Reach']*hyp['Impact']*hyp['Confidence']/hyp['Efforts'] \n",
        "hyp[['Hypothesis', 'RICE']].sort_values(by = 'RICE', ascending  = False)"
      ],
      "execution_count": 8,
      "outputs": [
        {
          "output_type": "execute_result",
          "data": {
            "text/html": [
              "<div>\n",
              "<style scoped>\n",
              "    .dataframe tbody tr th:only-of-type {\n",
              "        vertical-align: middle;\n",
              "    }\n",
              "\n",
              "    .dataframe tbody tr th {\n",
              "        vertical-align: top;\n",
              "    }\n",
              "\n",
              "    .dataframe thead th {\n",
              "        text-align: right;\n",
              "    }\n",
              "</style>\n",
              "<table border=\"1\" class=\"dataframe\">\n",
              "  <thead>\n",
              "    <tr style=\"text-align: right;\">\n",
              "      <th></th>\n",
              "      <th>Hypothesis</th>\n",
              "      <th>RICE</th>\n",
              "    </tr>\n",
              "  </thead>\n",
              "  <tbody>\n",
              "    <tr>\n",
              "      <th>7</th>\n",
              "      <td>Добавить форму подписки на все основные страницы, чтобы собрать базу клиентов для email-рассылок</td>\n",
              "      <td>112.0</td>\n",
              "    </tr>\n",
              "    <tr>\n",
              "      <th>2</th>\n",
              "      <td>Добавить блоки рекомендаций товаров на сайт интернет магазина, чтобы повысить конверсию и средний чек заказа</td>\n",
              "      <td>56.0</td>\n",
              "    </tr>\n",
              "    <tr>\n",
              "      <th>0</th>\n",
              "      <td>Добавить два новых канала привлечения трафика, что позволит привлекать на 30% больше пользователей</td>\n",
              "      <td>40.0</td>\n",
              "    </tr>\n",
              "    <tr>\n",
              "      <th>6</th>\n",
              "      <td>Показать на главной странице баннеры с актуальными акциями и распродажами, чтобы увеличить конверсию</td>\n",
              "      <td>40.0</td>\n",
              "    </tr>\n",
              "    <tr>\n",
              "      <th>8</th>\n",
              "      <td>Запустить акцию, дающую скидку на товар в день рождения</td>\n",
              "      <td>16.2</td>\n",
              "    </tr>\n",
              "    <tr>\n",
              "      <th>3</th>\n",
              "      <td>Изменить структура категорий, что увеличит конверсию, т.к. пользователи быстрее найдут нужный товар</td>\n",
              "      <td>9.0</td>\n",
              "    </tr>\n",
              "    <tr>\n",
              "      <th>1</th>\n",
              "      <td>Запустить собственную службу доставки, что сократит срок доставки заказов</td>\n",
              "      <td>4.0</td>\n",
              "    </tr>\n",
              "    <tr>\n",
              "      <th>5</th>\n",
              "      <td>Добавить страницу отзывов клиентов о магазине, что позволит увеличить количество заказов</td>\n",
              "      <td>4.0</td>\n",
              "    </tr>\n",
              "    <tr>\n",
              "      <th>4</th>\n",
              "      <td>Изменить цвет фона главной страницы, чтобы увеличить вовлеченность пользователей</td>\n",
              "      <td>3.0</td>\n",
              "    </tr>\n",
              "  </tbody>\n",
              "</table>\n",
              "</div>"
            ],
            "text/plain": [
              "                                                                                                     Hypothesis  \\\n",
              "7              Добавить форму подписки на все основные страницы, чтобы собрать базу клиентов для email-рассылок   \n",
              "2  Добавить блоки рекомендаций товаров на сайт интернет магазина, чтобы повысить конверсию и средний чек заказа   \n",
              "0            Добавить два новых канала привлечения трафика, что позволит привлекать на 30% больше пользователей   \n",
              "6          Показать на главной странице баннеры с актуальными акциями и распродажами, чтобы увеличить конверсию   \n",
              "8                                                       Запустить акцию, дающую скидку на товар в день рождения   \n",
              "3           Изменить структура категорий, что увеличит конверсию, т.к. пользователи быстрее найдут нужный товар   \n",
              "1                                     Запустить собственную службу доставки, что сократит срок доставки заказов   \n",
              "5                      Добавить страницу отзывов клиентов о магазине, что позволит увеличить количество заказов   \n",
              "4                              Изменить цвет фона главной страницы, чтобы увеличить вовлеченность пользователей   \n",
              "\n",
              "    RICE  \n",
              "7  112.0  \n",
              "2   56.0  \n",
              "0   40.0  \n",
              "6   40.0  \n",
              "8   16.2  \n",
              "3    9.0  \n",
              "1    4.0  \n",
              "5    4.0  \n",
              "4    3.0  "
            ]
          },
          "metadata": {
            "tags": []
          },
          "execution_count": 8
        }
      ]
    },
    {
      "cell_type": "code",
      "metadata": {
        "colab": {
          "base_uri": "https://localhost:8080/",
          "height": 229
        },
        "id": "mS6uQAKy_rmA",
        "outputId": "0e522947-5bc6-4c1f-de00-a1ad83c63013"
      },
      "source": [
        "cm = sns.light_palette(\"green\", as_cmap=True)\n",
        "\n",
        "s = hyp[['Hypothesis','ICE','RICE']].style.background_gradient(cmap=cm)\n",
        "s\n"
      ],
      "execution_count": 9,
      "outputs": [
        {
          "output_type": "execute_result",
          "data": {
            "text/html": [
              "<style  type=\"text/css\" >\n",
              "#T_ca3c028c_cad0_11eb_8277_0242ac1c0002row0_col1{\n",
              "            background-color:  #2c962c;\n",
              "            color:  #000000;\n",
              "        }#T_ca3c028c_cad0_11eb_8277_0242ac1c0002row0_col2,#T_ca3c028c_cad0_11eb_8277_0242ac1c0002row6_col2{\n",
              "            background-color:  #9bcc9b;\n",
              "            color:  #000000;\n",
              "        }#T_ca3c028c_cad0_11eb_8277_0242ac1c0002row1_col1{\n",
              "            background-color:  #dcecdc;\n",
              "            color:  #000000;\n",
              "        }#T_ca3c028c_cad0_11eb_8277_0242ac1c0002row1_col2,#T_ca3c028c_cad0_11eb_8277_0242ac1c0002row3_col1,#T_ca3c028c_cad0_11eb_8277_0242ac1c0002row5_col2{\n",
              "            background-color:  #e9f2e9;\n",
              "            color:  #000000;\n",
              "        }#T_ca3c028c_cad0_11eb_8277_0242ac1c0002row2_col1{\n",
              "            background-color:  #8ec58e;\n",
              "            color:  #000000;\n",
              "        }#T_ca3c028c_cad0_11eb_8277_0242ac1c0002row2_col2{\n",
              "            background-color:  #78bb78;\n",
              "            color:  #000000;\n",
              "        }#T_ca3c028c_cad0_11eb_8277_0242ac1c0002row3_col2{\n",
              "            background-color:  #deedde;\n",
              "            color:  #000000;\n",
              "        }#T_ca3c028c_cad0_11eb_8277_0242ac1c0002row4_col1,#T_ca3c028c_cad0_11eb_8277_0242ac1c0002row4_col2{\n",
              "            background-color:  #ebf3eb;\n",
              "            color:  #000000;\n",
              "        }#T_ca3c028c_cad0_11eb_8277_0242ac1c0002row5_col1{\n",
              "            background-color:  #e6f1e6;\n",
              "            color:  #000000;\n",
              "        }#T_ca3c028c_cad0_11eb_8277_0242ac1c0002row6_col1{\n",
              "            background-color:  #7fbe7f;\n",
              "            color:  #000000;\n",
              "        }#T_ca3c028c_cad0_11eb_8277_0242ac1c0002row7_col1{\n",
              "            background-color:  #4da64d;\n",
              "            color:  #000000;\n",
              "        }#T_ca3c028c_cad0_11eb_8277_0242ac1c0002row7_col2,#T_ca3c028c_cad0_11eb_8277_0242ac1c0002row8_col1{\n",
              "            background-color:  #008000;\n",
              "            color:  #f1f1f1;\n",
              "        }#T_ca3c028c_cad0_11eb_8277_0242ac1c0002row8_col2{\n",
              "            background-color:  #cee5ce;\n",
              "            color:  #000000;\n",
              "        }</style><table id=\"T_ca3c028c_cad0_11eb_8277_0242ac1c0002\" ><thead>    <tr>        <th class=\"blank level0\" ></th>        <th class=\"col_heading level0 col0\" >Hypothesis</th>        <th class=\"col_heading level0 col1\" >ICE</th>        <th class=\"col_heading level0 col2\" >RICE</th>    </tr></thead><tbody>\n",
              "                <tr>\n",
              "                        <th id=\"T_ca3c028c_cad0_11eb_8277_0242ac1c0002level0_row0\" class=\"row_heading level0 row0\" >0</th>\n",
              "                        <td id=\"T_ca3c028c_cad0_11eb_8277_0242ac1c0002row0_col0\" class=\"data row0 col0\" >Добавить два новых канала привлечения трафика, что позволит привлекать на 30% больше пользователей</td>\n",
              "                        <td id=\"T_ca3c028c_cad0_11eb_8277_0242ac1c0002row0_col1\" class=\"data row0 col1\" >13.330000</td>\n",
              "                        <td id=\"T_ca3c028c_cad0_11eb_8277_0242ac1c0002row0_col2\" class=\"data row0 col2\" >40.000000</td>\n",
              "            </tr>\n",
              "            <tr>\n",
              "                        <th id=\"T_ca3c028c_cad0_11eb_8277_0242ac1c0002level0_row1\" class=\"row_heading level0 row1\" >1</th>\n",
              "                        <td id=\"T_ca3c028c_cad0_11eb_8277_0242ac1c0002row1_col0\" class=\"data row1 col0\" >Запустить собственную службу доставки, что сократит срок доставки заказов</td>\n",
              "                        <td id=\"T_ca3c028c_cad0_11eb_8277_0242ac1c0002row1_col1\" class=\"data row1 col1\" >2.000000</td>\n",
              "                        <td id=\"T_ca3c028c_cad0_11eb_8277_0242ac1c0002row1_col2\" class=\"data row1 col2\" >4.000000</td>\n",
              "            </tr>\n",
              "            <tr>\n",
              "                        <th id=\"T_ca3c028c_cad0_11eb_8277_0242ac1c0002level0_row2\" class=\"row_heading level0 row2\" >2</th>\n",
              "                        <td id=\"T_ca3c028c_cad0_11eb_8277_0242ac1c0002row2_col0\" class=\"data row2 col0\" >Добавить блоки рекомендаций товаров на сайт интернет магазина, чтобы повысить конверсию и средний чек заказа</td>\n",
              "                        <td id=\"T_ca3c028c_cad0_11eb_8277_0242ac1c0002row2_col1\" class=\"data row2 col1\" >7.000000</td>\n",
              "                        <td id=\"T_ca3c028c_cad0_11eb_8277_0242ac1c0002row2_col2\" class=\"data row2 col2\" >56.000000</td>\n",
              "            </tr>\n",
              "            <tr>\n",
              "                        <th id=\"T_ca3c028c_cad0_11eb_8277_0242ac1c0002level0_row3\" class=\"row_heading level0 row3\" >3</th>\n",
              "                        <td id=\"T_ca3c028c_cad0_11eb_8277_0242ac1c0002row3_col0\" class=\"data row3 col0\" >Изменить структура категорий, что увеличит конверсию, т.к. пользователи быстрее найдут нужный товар</td>\n",
              "                        <td id=\"T_ca3c028c_cad0_11eb_8277_0242ac1c0002row3_col1\" class=\"data row3 col1\" >1.120000</td>\n",
              "                        <td id=\"T_ca3c028c_cad0_11eb_8277_0242ac1c0002row3_col2\" class=\"data row3 col2\" >9.000000</td>\n",
              "            </tr>\n",
              "            <tr>\n",
              "                        <th id=\"T_ca3c028c_cad0_11eb_8277_0242ac1c0002level0_row4\" class=\"row_heading level0 row4\" >4</th>\n",
              "                        <td id=\"T_ca3c028c_cad0_11eb_8277_0242ac1c0002row4_col0\" class=\"data row4 col0\" >Изменить цвет фона главной страницы, чтобы увеличить вовлеченность пользователей</td>\n",
              "                        <td id=\"T_ca3c028c_cad0_11eb_8277_0242ac1c0002row4_col1\" class=\"data row4 col1\" >1.000000</td>\n",
              "                        <td id=\"T_ca3c028c_cad0_11eb_8277_0242ac1c0002row4_col2\" class=\"data row4 col2\" >3.000000</td>\n",
              "            </tr>\n",
              "            <tr>\n",
              "                        <th id=\"T_ca3c028c_cad0_11eb_8277_0242ac1c0002level0_row5\" class=\"row_heading level0 row5\" >5</th>\n",
              "                        <td id=\"T_ca3c028c_cad0_11eb_8277_0242ac1c0002row5_col0\" class=\"data row5 col0\" >Добавить страницу отзывов клиентов о магазине, что позволит увеличить количество заказов</td>\n",
              "                        <td id=\"T_ca3c028c_cad0_11eb_8277_0242ac1c0002row5_col1\" class=\"data row5 col1\" >1.330000</td>\n",
              "                        <td id=\"T_ca3c028c_cad0_11eb_8277_0242ac1c0002row5_col2\" class=\"data row5 col2\" >4.000000</td>\n",
              "            </tr>\n",
              "            <tr>\n",
              "                        <th id=\"T_ca3c028c_cad0_11eb_8277_0242ac1c0002level0_row6\" class=\"row_heading level0 row6\" >6</th>\n",
              "                        <td id=\"T_ca3c028c_cad0_11eb_8277_0242ac1c0002row6_col0\" class=\"data row6 col0\" >Показать на главной странице баннеры с актуальными акциями и распродажами, чтобы увеличить конверсию</td>\n",
              "                        <td id=\"T_ca3c028c_cad0_11eb_8277_0242ac1c0002row6_col1\" class=\"data row6 col1\" >8.000000</td>\n",
              "                        <td id=\"T_ca3c028c_cad0_11eb_8277_0242ac1c0002row6_col2\" class=\"data row6 col2\" >40.000000</td>\n",
              "            </tr>\n",
              "            <tr>\n",
              "                        <th id=\"T_ca3c028c_cad0_11eb_8277_0242ac1c0002level0_row7\" class=\"row_heading level0 row7\" >7</th>\n",
              "                        <td id=\"T_ca3c028c_cad0_11eb_8277_0242ac1c0002row7_col0\" class=\"data row7 col0\" >Добавить форму подписки на все основные страницы, чтобы собрать базу клиентов для email-рассылок</td>\n",
              "                        <td id=\"T_ca3c028c_cad0_11eb_8277_0242ac1c0002row7_col1\" class=\"data row7 col1\" >11.200000</td>\n",
              "                        <td id=\"T_ca3c028c_cad0_11eb_8277_0242ac1c0002row7_col2\" class=\"data row7 col2\" >112.000000</td>\n",
              "            </tr>\n",
              "            <tr>\n",
              "                        <th id=\"T_ca3c028c_cad0_11eb_8277_0242ac1c0002level0_row8\" class=\"row_heading level0 row8\" >8</th>\n",
              "                        <td id=\"T_ca3c028c_cad0_11eb_8277_0242ac1c0002row8_col0\" class=\"data row8 col0\" >Запустить акцию, дающую скидку на товар в день рождения</td>\n",
              "                        <td id=\"T_ca3c028c_cad0_11eb_8277_0242ac1c0002row8_col1\" class=\"data row8 col1\" >16.200000</td>\n",
              "                        <td id=\"T_ca3c028c_cad0_11eb_8277_0242ac1c0002row8_col2\" class=\"data row8 col2\" >16.200000</td>\n",
              "            </tr>\n",
              "    </tbody></table>"
            ],
            "text/plain": [
              "<pandas.io.formats.style.Styler at 0x7ff50a1c6dd0>"
            ]
          },
          "metadata": {
            "tags": []
          },
          "execution_count": 9
        }
      ]
    },
    {
      "cell_type": "markdown",
      "metadata": {
        "id": "ebED8w8_-vH5"
      },
      "source": [
        "Как видно, при использовании фреймворка ICE первой гипотезой для проверки является гипотеза \"Запустить акцию, дающую скидку на товар в день рождения\", в то время как по параметру RICE она находится лишь на 5м месте. Это связано с очень низким показателем Reach этой гипотезы. При этом гипотезы \"Добавить форму подписки на все основные страницы, чтобы собрать базу клиентов для email-рассылок\" и \"Добавить блоки рекомендаций товаров на сайт интернет магазина, чтобы повысить конверсию и средний чек заказа\" имеют большие значения Reach и выходят по показателю RICE на первое и второе место. Нулевая гипотеза входит в тройку в обоих случаях. \n",
        "\n",
        "Гипотезы \n",
        "\n",
        "- 3 Изменить структура категорий, что увеличит конверсию, т.к. пользователи быстрее найдут нужный товар\n",
        "- 1\tЗапустить собственную службу доставки, что сократит срок доставки заказов\n",
        "- 5\tДобавить страницу отзывов клиентов о магазине, что позволит увеличить количество заказов\n",
        "- 4\tИзменить цвет фона главной страницы, чтобы увеличить вовлеченность пользователей\t\n",
        "\n",
        "находятся в конце обоих списков."
      ]
    },
    {
      "cell_type": "markdown",
      "metadata": {
        "id": "2rZUSeyW-vH6"
      },
      "source": [
        "#### Загрузка и обзор данных\n",
        "\n",
        "Изучим полученные данные в таблицах orders и visitors"
      ]
    },
    {
      "cell_type": "code",
      "metadata": {
        "id": "ZQnW61Q_-vH6",
        "colab": {
          "base_uri": "https://localhost:8080/",
          "height": 204
        },
        "outputId": "b87692fd-6c93-4c5d-9222-8f6efed31c73"
      },
      "source": [
        "orders = pd.read_csv('/orders.csv')\n",
        "orders.head()"
      ],
      "execution_count": 10,
      "outputs": [
        {
          "output_type": "execute_result",
          "data": {
            "text/html": [
              "<div>\n",
              "<style scoped>\n",
              "    .dataframe tbody tr th:only-of-type {\n",
              "        vertical-align: middle;\n",
              "    }\n",
              "\n",
              "    .dataframe tbody tr th {\n",
              "        vertical-align: top;\n",
              "    }\n",
              "\n",
              "    .dataframe thead th {\n",
              "        text-align: right;\n",
              "    }\n",
              "</style>\n",
              "<table border=\"1\" class=\"dataframe\">\n",
              "  <thead>\n",
              "    <tr style=\"text-align: right;\">\n",
              "      <th></th>\n",
              "      <th>transactionId</th>\n",
              "      <th>visitorId</th>\n",
              "      <th>date</th>\n",
              "      <th>revenue</th>\n",
              "      <th>group</th>\n",
              "    </tr>\n",
              "  </thead>\n",
              "  <tbody>\n",
              "    <tr>\n",
              "      <th>0</th>\n",
              "      <td>3667963787</td>\n",
              "      <td>3312258926</td>\n",
              "      <td>2019-08-15</td>\n",
              "      <td>1650</td>\n",
              "      <td>B</td>\n",
              "    </tr>\n",
              "    <tr>\n",
              "      <th>1</th>\n",
              "      <td>2804400009</td>\n",
              "      <td>3642806036</td>\n",
              "      <td>2019-08-15</td>\n",
              "      <td>730</td>\n",
              "      <td>B</td>\n",
              "    </tr>\n",
              "    <tr>\n",
              "      <th>2</th>\n",
              "      <td>2961555356</td>\n",
              "      <td>4069496402</td>\n",
              "      <td>2019-08-15</td>\n",
              "      <td>400</td>\n",
              "      <td>A</td>\n",
              "    </tr>\n",
              "    <tr>\n",
              "      <th>3</th>\n",
              "      <td>3797467345</td>\n",
              "      <td>1196621759</td>\n",
              "      <td>2019-08-15</td>\n",
              "      <td>9759</td>\n",
              "      <td>B</td>\n",
              "    </tr>\n",
              "    <tr>\n",
              "      <th>4</th>\n",
              "      <td>2282983706</td>\n",
              "      <td>2322279887</td>\n",
              "      <td>2019-08-15</td>\n",
              "      <td>2308</td>\n",
              "      <td>B</td>\n",
              "    </tr>\n",
              "  </tbody>\n",
              "</table>\n",
              "</div>"
            ],
            "text/plain": [
              "   transactionId   visitorId        date  revenue group\n",
              "0     3667963787  3312258926  2019-08-15     1650     B\n",
              "1     2804400009  3642806036  2019-08-15      730     B\n",
              "2     2961555356  4069496402  2019-08-15      400     A\n",
              "3     3797467345  1196621759  2019-08-15     9759     B\n",
              "4     2282983706  2322279887  2019-08-15     2308     B"
            ]
          },
          "metadata": {
            "tags": []
          },
          "execution_count": 10
        }
      ]
    },
    {
      "cell_type": "code",
      "metadata": {
        "id": "Cl1ZB4X6-vH7",
        "colab": {
          "base_uri": "https://localhost:8080/"
        },
        "outputId": "d6740ddc-84a9-4186-f6b5-fffd777020d7"
      },
      "source": [
        "orders.info()"
      ],
      "execution_count": 11,
      "outputs": [
        {
          "output_type": "stream",
          "text": [
            "<class 'pandas.core.frame.DataFrame'>\n",
            "RangeIndex: 1197 entries, 0 to 1196\n",
            "Data columns (total 5 columns):\n",
            " #   Column         Non-Null Count  Dtype \n",
            "---  ------         --------------  ----- \n",
            " 0   transactionId  1197 non-null   int64 \n",
            " 1   visitorId      1197 non-null   int64 \n",
            " 2   date           1197 non-null   object\n",
            " 3   revenue        1197 non-null   int64 \n",
            " 4   group          1197 non-null   object\n",
            "dtypes: int64(3), object(2)\n",
            "memory usage: 46.9+ KB\n"
          ],
          "name": "stdout"
        }
      ]
    },
    {
      "cell_type": "code",
      "metadata": {
        "id": "sa6dt4zI-vH7",
        "colab": {
          "base_uri": "https://localhost:8080/"
        },
        "outputId": "aed48b9c-9bdb-42ce-a75c-d498c4785a61"
      },
      "source": [
        "orders.duplicated().sum()"
      ],
      "execution_count": 12,
      "outputs": [
        {
          "output_type": "execute_result",
          "data": {
            "text/plain": [
              "0"
            ]
          },
          "metadata": {
            "tags": []
          },
          "execution_count": 12
        }
      ]
    },
    {
      "cell_type": "code",
      "metadata": {
        "id": "ymcKepe--vH7",
        "colab": {
          "base_uri": "https://localhost:8080/",
          "height": 204
        },
        "outputId": "0e9f08f3-1b6f-40f1-fc5a-7e18b187817e"
      },
      "source": [
        "visitors = pd.read_csv('/visitors.csv')\n",
        "visitors.head()"
      ],
      "execution_count": 13,
      "outputs": [
        {
          "output_type": "execute_result",
          "data": {
            "text/html": [
              "<div>\n",
              "<style scoped>\n",
              "    .dataframe tbody tr th:only-of-type {\n",
              "        vertical-align: middle;\n",
              "    }\n",
              "\n",
              "    .dataframe tbody tr th {\n",
              "        vertical-align: top;\n",
              "    }\n",
              "\n",
              "    .dataframe thead th {\n",
              "        text-align: right;\n",
              "    }\n",
              "</style>\n",
              "<table border=\"1\" class=\"dataframe\">\n",
              "  <thead>\n",
              "    <tr style=\"text-align: right;\">\n",
              "      <th></th>\n",
              "      <th>date</th>\n",
              "      <th>group</th>\n",
              "      <th>visitors</th>\n",
              "    </tr>\n",
              "  </thead>\n",
              "  <tbody>\n",
              "    <tr>\n",
              "      <th>0</th>\n",
              "      <td>2019-08-01</td>\n",
              "      <td>A</td>\n",
              "      <td>719</td>\n",
              "    </tr>\n",
              "    <tr>\n",
              "      <th>1</th>\n",
              "      <td>2019-08-02</td>\n",
              "      <td>A</td>\n",
              "      <td>619</td>\n",
              "    </tr>\n",
              "    <tr>\n",
              "      <th>2</th>\n",
              "      <td>2019-08-03</td>\n",
              "      <td>A</td>\n",
              "      <td>507</td>\n",
              "    </tr>\n",
              "    <tr>\n",
              "      <th>3</th>\n",
              "      <td>2019-08-04</td>\n",
              "      <td>A</td>\n",
              "      <td>717</td>\n",
              "    </tr>\n",
              "    <tr>\n",
              "      <th>4</th>\n",
              "      <td>2019-08-05</td>\n",
              "      <td>A</td>\n",
              "      <td>756</td>\n",
              "    </tr>\n",
              "  </tbody>\n",
              "</table>\n",
              "</div>"
            ],
            "text/plain": [
              "         date group  visitors\n",
              "0  2019-08-01     A       719\n",
              "1  2019-08-02     A       619\n",
              "2  2019-08-03     A       507\n",
              "3  2019-08-04     A       717\n",
              "4  2019-08-05     A       756"
            ]
          },
          "metadata": {
            "tags": []
          },
          "execution_count": 13
        }
      ]
    },
    {
      "cell_type": "code",
      "metadata": {
        "id": "VnRb5B6x-vH8",
        "colab": {
          "base_uri": "https://localhost:8080/"
        },
        "outputId": "12f1dfeb-2c09-4490-ce28-3e33d8952539"
      },
      "source": [
        "visitors.info()"
      ],
      "execution_count": 14,
      "outputs": [
        {
          "output_type": "stream",
          "text": [
            "<class 'pandas.core.frame.DataFrame'>\n",
            "RangeIndex: 62 entries, 0 to 61\n",
            "Data columns (total 3 columns):\n",
            " #   Column    Non-Null Count  Dtype \n",
            "---  ------    --------------  ----- \n",
            " 0   date      62 non-null     object\n",
            " 1   group     62 non-null     object\n",
            " 2   visitors  62 non-null     int64 \n",
            "dtypes: int64(1), object(2)\n",
            "memory usage: 1.6+ KB\n"
          ],
          "name": "stdout"
        }
      ]
    },
    {
      "cell_type": "code",
      "metadata": {
        "id": "OpDZDaUZ-vH8",
        "colab": {
          "base_uri": "https://localhost:8080/"
        },
        "outputId": "33058082-55b7-4d9c-d376-e7e1d22fd265"
      },
      "source": [
        "visitors.duplicated().sum()"
      ],
      "execution_count": 15,
      "outputs": [
        {
          "output_type": "execute_result",
          "data": {
            "text/plain": [
              "0"
            ]
          },
          "metadata": {
            "tags": []
          },
          "execution_count": 15
        }
      ]
    },
    {
      "cell_type": "markdown",
      "metadata": {
        "id": "VbxZfFM6-vH8"
      },
      "source": [
        "В данных нет пропущенных значений и полных дубликатов. Формат данных можно оптимизировать для дальнейшего анализа."
      ]
    },
    {
      "cell_type": "code",
      "metadata": {
        "id": "lAgg9SdC-vIB"
      },
      "source": [
        "# Произведем замену форматов данных\n",
        "\n",
        "def mem_usage(data):\n",
        "    usage_b = data.memory_usage(deep=True).sum()\n",
        "    usage_mb = usage_b / 1024 ** 2 \n",
        "    return usage_b.round(3)\n",
        "\n",
        "# Функция замены формата данных и оптимизации числовых подформатов\n",
        "\n",
        "def dtype_optim(data):\n",
        "        \n",
        "    dt_columns, obj_columns = ([],[])\n",
        "    data_dt = data.drop(axis = 1, columns = data.columns)\n",
        "    converted_dt = data.drop(axis = 1, columns = data.columns) \n",
        "    \n",
        "# Преобразуем столбцы типа 'object' в числовой формат или формат datetime\n",
        "    for column in data.columns:\n",
        "        if data[column].dtype == 'object':\n",
        "            try:\n",
        "                data[column] = pd.to_numeric(data[column])\n",
        "            except:\n",
        "                data_dt = pd.concat([data_dt, data[column]], axis=1)\n",
        "                try:\n",
        "                    data[column] = pd.to_datetime(data[column], format = '%Y-%m-%d')\n",
        "                    dt_columns.append(column)\n",
        "                    converted_dt = pd.concat([converted_dt, data[column]], axis=1)\n",
        "                except:\n",
        "                    obj_columns.append(column)\n",
        "                    pass\n",
        "        pass\n",
        "    \n",
        "    data_dt = data_dt[converted_dt.columns]   \n",
        "    \n",
        "    data_int = data.select_dtypes(include=['int'])\n",
        "    converted_int = data_int.apply(pd.to_numeric,downcast='integer')\n",
        "\n",
        "    data_float = data.select_dtypes(include=['float'])\n",
        "    converted_float = data_float.apply(pd.to_numeric,downcast='float')\n",
        "    \n",
        "    data.loc[:, data_int.columns] = converted_int\n",
        "    data.loc[:, data_float.columns] = converted_float\n",
        "    \n",
        "    tot_mem_before = (mem_usage(data_int) + mem_usage(data_float) + mem_usage(data_dt)).round(3)\n",
        "    tot_mem_after = (mem_usage(converted_int) + mem_usage(converted_float) + mem_usage(converted_dt)).round(3)\n",
        "    reduced_int = (100*(1-mem_usage(converted_int)/ mem_usage(data_int))).round(3)\n",
        "    reduced_float = (100*(1-mem_usage(converted_float)/ mem_usage(data_float))).round(3)\n",
        "    reduced_total = (100*(1-tot_mem_after/tot_mem_before)).round(3)\n",
        "    reduced_dt = (100*(1-mem_usage(converted_dt)/ mem_usage(data_dt))).round(3)\n",
        "\n",
        "# Строим итоговую таблицу экономленной памяти\n",
        "    mem_optimized = pd.DataFrame({'dtype' : ['int', 'float', 'datetime', 'total'], \n",
        "                                 'before, B' : [mem_usage(data_int), mem_usage(data_float), mem_usage(data_dt), tot_mem_before], \n",
        "                                 'after, B' : [mem_usage(converted_int), mem_usage(converted_float), mem_usage(converted_dt), tot_mem_after],\n",
        "                                 'reduced, %' : [reduced_int, reduced_float, reduced_dt, reduced_total]})\n",
        "    display(mem_optimized)\n",
        "    display(data.info())"
      ],
      "execution_count": 16,
      "outputs": []
    },
    {
      "cell_type": "code",
      "metadata": {
        "id": "ylR-DKBq-vIC",
        "colab": {
          "base_uri": "https://localhost:8080/",
          "height": 394
        },
        "outputId": "e9e3dada-43ab-494b-ec49-9f26a560510a"
      },
      "source": [
        "dtype_optim(orders)"
      ],
      "execution_count": 17,
      "outputs": [
        {
          "output_type": "display_data",
          "data": {
            "text/html": [
              "<div>\n",
              "<style scoped>\n",
              "    .dataframe tbody tr th:only-of-type {\n",
              "        vertical-align: middle;\n",
              "    }\n",
              "\n",
              "    .dataframe tbody tr th {\n",
              "        vertical-align: top;\n",
              "    }\n",
              "\n",
              "    .dataframe thead th {\n",
              "        text-align: right;\n",
              "    }\n",
              "</style>\n",
              "<table border=\"1\" class=\"dataframe\">\n",
              "  <thead>\n",
              "    <tr style=\"text-align: right;\">\n",
              "      <th></th>\n",
              "      <th>dtype</th>\n",
              "      <th>before, B</th>\n",
              "      <th>after, B</th>\n",
              "      <th>reduced, %</th>\n",
              "    </tr>\n",
              "  </thead>\n",
              "  <tbody>\n",
              "    <tr>\n",
              "      <th>0</th>\n",
              "      <td>int</td>\n",
              "      <td>28856</td>\n",
              "      <td>24068</td>\n",
              "      <td>16.593</td>\n",
              "    </tr>\n",
              "    <tr>\n",
              "      <th>1</th>\n",
              "      <td>float</td>\n",
              "      <td>128</td>\n",
              "      <td>128</td>\n",
              "      <td>0.000</td>\n",
              "    </tr>\n",
              "    <tr>\n",
              "      <th>2</th>\n",
              "      <td>datetime</td>\n",
              "      <td>80327</td>\n",
              "      <td>9704</td>\n",
              "      <td>87.919</td>\n",
              "    </tr>\n",
              "    <tr>\n",
              "      <th>3</th>\n",
              "      <td>total</td>\n",
              "      <td>109311</td>\n",
              "      <td>33900</td>\n",
              "      <td>68.988</td>\n",
              "    </tr>\n",
              "  </tbody>\n",
              "</table>\n",
              "</div>"
            ],
            "text/plain": [
              "      dtype  before, B  after, B  reduced, %\n",
              "0       int      28856     24068      16.593\n",
              "1     float        128       128       0.000\n",
              "2  datetime      80327      9704      87.919\n",
              "3     total     109311     33900      68.988"
            ]
          },
          "metadata": {
            "tags": []
          }
        },
        {
          "output_type": "stream",
          "text": [
            "<class 'pandas.core.frame.DataFrame'>\n",
            "RangeIndex: 1197 entries, 0 to 1196\n",
            "Data columns (total 5 columns):\n",
            " #   Column         Non-Null Count  Dtype         \n",
            "---  ------         --------------  -----         \n",
            " 0   transactionId  1197 non-null   int64         \n",
            " 1   visitorId      1197 non-null   int64         \n",
            " 2   date           1197 non-null   datetime64[ns]\n",
            " 3   revenue        1197 non-null   int32         \n",
            " 4   group          1197 non-null   object        \n",
            "dtypes: datetime64[ns](1), int32(1), int64(2), object(1)\n",
            "memory usage: 42.2+ KB\n"
          ],
          "name": "stdout"
        },
        {
          "output_type": "display_data",
          "data": {
            "text/plain": [
              "None"
            ]
          },
          "metadata": {
            "tags": []
          }
        }
      ]
    },
    {
      "cell_type": "code",
      "metadata": {
        "id": "YVZNHiMZ-vIC",
        "colab": {
          "base_uri": "https://localhost:8080/",
          "height": 360
        },
        "outputId": "e20c43ed-9a57-4a5b-f9ad-f7ca327535a1"
      },
      "source": [
        "dtype_optim(visitors)"
      ],
      "execution_count": 18,
      "outputs": [
        {
          "output_type": "display_data",
          "data": {
            "text/html": [
              "<div>\n",
              "<style scoped>\n",
              "    .dataframe tbody tr th:only-of-type {\n",
              "        vertical-align: middle;\n",
              "    }\n",
              "\n",
              "    .dataframe tbody tr th {\n",
              "        vertical-align: top;\n",
              "    }\n",
              "\n",
              "    .dataframe thead th {\n",
              "        text-align: right;\n",
              "    }\n",
              "</style>\n",
              "<table border=\"1\" class=\"dataframe\">\n",
              "  <thead>\n",
              "    <tr style=\"text-align: right;\">\n",
              "      <th></th>\n",
              "      <th>dtype</th>\n",
              "      <th>before, B</th>\n",
              "      <th>after, B</th>\n",
              "      <th>reduced, %</th>\n",
              "    </tr>\n",
              "  </thead>\n",
              "  <tbody>\n",
              "    <tr>\n",
              "      <th>0</th>\n",
              "      <td>int</td>\n",
              "      <td>624</td>\n",
              "      <td>252</td>\n",
              "      <td>59.615</td>\n",
              "    </tr>\n",
              "    <tr>\n",
              "      <th>1</th>\n",
              "      <td>float</td>\n",
              "      <td>128</td>\n",
              "      <td>128</td>\n",
              "      <td>0.000</td>\n",
              "    </tr>\n",
              "    <tr>\n",
              "      <th>2</th>\n",
              "      <td>datetime</td>\n",
              "      <td>4282</td>\n",
              "      <td>624</td>\n",
              "      <td>85.427</td>\n",
              "    </tr>\n",
              "    <tr>\n",
              "      <th>3</th>\n",
              "      <td>total</td>\n",
              "      <td>5034</td>\n",
              "      <td>1004</td>\n",
              "      <td>80.056</td>\n",
              "    </tr>\n",
              "  </tbody>\n",
              "</table>\n",
              "</div>"
            ],
            "text/plain": [
              "      dtype  before, B  after, B  reduced, %\n",
              "0       int        624       252      59.615\n",
              "1     float        128       128       0.000\n",
              "2  datetime       4282       624      85.427\n",
              "3     total       5034      1004      80.056"
            ]
          },
          "metadata": {
            "tags": []
          }
        },
        {
          "output_type": "stream",
          "text": [
            "<class 'pandas.core.frame.DataFrame'>\n",
            "RangeIndex: 62 entries, 0 to 61\n",
            "Data columns (total 3 columns):\n",
            " #   Column    Non-Null Count  Dtype         \n",
            "---  ------    --------------  -----         \n",
            " 0   date      62 non-null     datetime64[ns]\n",
            " 1   group     62 non-null     object        \n",
            " 2   visitors  62 non-null     int16         \n",
            "dtypes: datetime64[ns](1), int16(1), object(1)\n",
            "memory usage: 1.2+ KB\n"
          ],
          "name": "stdout"
        },
        {
          "output_type": "display_data",
          "data": {
            "text/plain": [
              "None"
            ]
          },
          "metadata": {
            "tags": []
          }
        }
      ]
    },
    {
      "cell_type": "markdown",
      "metadata": {
        "id": "t09A3MLT-vID"
      },
      "source": [
        "Получилось преобразовать данные в таблицах orders и visitors к нужному типу, а также сократить использование памяти на 69% и 80% соответственно."
      ]
    },
    {
      "cell_type": "markdown",
      "metadata": {
        "id": "Ik7EMrPX-vID"
      },
      "source": [
        "#### Анализ данных A/B теста"
      ]
    },
    {
      "cell_type": "code",
      "metadata": {
        "id": "rGtKy5aH-vID"
      },
      "source": [
        "# Создадим массив уникальных пар значений дат и групп теста\n",
        "\n",
        "datesGroups = orders[['date', 'group']].drop_duplicates()"
      ],
      "execution_count": 19,
      "outputs": []
    },
    {
      "cell_type": "code",
      "metadata": {
        "id": "2qQu-wY_-vID"
      },
      "source": [
        "# Расчитаем агрегированные кумулятивные по дням данные о заказах и клиентах\n",
        "\n",
        "ordersAggregated = datesGroups.apply(\n",
        "    lambda x: orders[\n",
        "        np.logical_and(\n",
        "            orders['date'] <= x['date'], orders['group'] == x['group']\n",
        "        )\n",
        "    ].agg(\n",
        "        {\n",
        "            'date': 'max',\n",
        "            'group': 'max',\n",
        "            'transactionId': pd.Series.nunique,\n",
        "            'visitorId': pd.Series.nunique,\n",
        "            'revenue': 'sum',\n",
        "        }\n",
        "    ),\n",
        "    axis=1,\n",
        ").sort_values(by=['date', 'group'])\n",
        "\n",
        "visitorsAggregated = datesGroups.apply(\n",
        "    lambda x: visitors[\n",
        "        np.logical_and(\n",
        "            visitors['date'] <= x['date'], visitors['group'] == x['group']\n",
        "        )\n",
        "    ].agg({'date': 'max', 'group': 'max', 'visitors': 'sum'}),\n",
        "    axis=1,\n",
        ").sort_values(by=['date', 'group'])"
      ],
      "execution_count": 20,
      "outputs": []
    },
    {
      "cell_type": "code",
      "metadata": {
        "id": "wJtNQGsn-vID"
      },
      "source": [
        "# Объединим кумулятивные данные в одной таблице\n",
        "\n",
        "cumulativeData = ordersAggregated.merge(\n",
        "    visitorsAggregated, left_on=['date', 'group'], right_on=['date', 'group']\n",
        ")\n",
        "cumulativeData.columns = [\n",
        "    'date',\n",
        "    'group',\n",
        "    'orders',\n",
        "    'buyers',\n",
        "    'revenue',\n",
        "    'visitors',\n",
        "]"
      ],
      "execution_count": 22,
      "outputs": []
    },
    {
      "cell_type": "code",
      "metadata": {
        "id": "7YPpTWXV-vIE"
      },
      "source": [
        "# Выделим датафрейм с кумулятивным количеством заказов и кумулятивной выручкой по дням в группах А и В\n",
        "\n",
        "cumulativeRevenueA = cumulativeData[cumulativeData['group']=='A'][['date','revenue', 'orders']]\n",
        "cumulativeRevenueB = cumulativeData[cumulativeData['group']=='B'][['date','revenue', 'orders']]"
      ],
      "execution_count": 23,
      "outputs": []
    },
    {
      "cell_type": "markdown",
      "metadata": {
        "id": "pb8m3OE4-vIE"
      },
      "source": [
        "##### Анализ изменения конверсии и среднего чека по группам"
      ]
    },
    {
      "cell_type": "code",
      "metadata": {
        "id": "myk_Kxkn-vIE",
        "colab": {
          "base_uri": "https://localhost:8080/",
          "height": 561
        },
        "outputId": "e097ad23-20fb-44ce-b3a9-e01bdc072c86"
      },
      "source": [
        "# Поcтроим график кумулятивной выручки по группам\n",
        "\n",
        "plt.figure(figsize=(13,8))\n",
        "\n",
        "plt.plot(cumulativeRevenueA['date'], cumulativeRevenueA['revenue'], label='A')\n",
        "plt.plot(cumulativeRevenueB['date'], cumulativeRevenueB['revenue'], label='B')\n",
        "plt.xlabel('Дата')\n",
        "plt.ylabel('Кумулятивная выручка')\n",
        "plt.title('Кумулятивная выручка')\n",
        "plt.legend()\n",
        "plt.xticks(cumulativeRevenueA['date'][::5],  rotation=45)\n",
        "plt.show()"
      ],
      "execution_count": 25,
      "outputs": [
        {
          "output_type": "display_data",
          "data": {
            "image/png": "[encoded data removed]",
            "text/plain": [
              "<Figure size 936x576 with 1 Axes>"
            ]
          },
          "metadata": {
            "tags": []
          }
        }
      ]
    },
    {
      "cell_type": "markdown",
      "metadata": {
        "id": "2KwYT9zt-vIE"
      },
      "source": [
        "На графике хорошо видно, что кумулятивные выручки вариантов А и В почти одинаковы в первую неделю эксперимента, начинают расходиться в течении второй недели. В районе 18-го августа произошло резкое значительное увеличение выручки варианта В, после чего графики продолжают идти почти параллельно.\n",
        "\n",
        "Вероятно, 18-го августа было разовое воздействие, сказавшееся только на тестовую группу. Итоговые значения выручки в группах различаются почти на 2млн.р."
      ]
    },
    {
      "cell_type": "code",
      "metadata": {
        "id": "dobes1j5-vIE",
        "colab": {
          "base_uri": "https://localhost:8080/",
          "height": 561
        },
        "outputId": "5b9d3101-79ef-4f4d-b2d9-86de13fae8ad"
      },
      "source": [
        "# Построим графики кумулятивного среднего чека по группам\n",
        "\n",
        "plt.figure(figsize=(13,8))\n",
        "\n",
        "plt.plot(cumulativeRevenueA['date'], cumulativeRevenueA['revenue']/cumulativeRevenueA['orders'], label='A')\n",
        "plt.plot(cumulativeRevenueB['date'], cumulativeRevenueB['revenue']/cumulativeRevenueB['orders'], label='B')\n",
        "plt.xlabel('Дата')\n",
        "plt.ylabel('Кумулятивный средний чек')\n",
        "plt.title('Кумулятивный средний чек')\n",
        "plt.legend()\n",
        "plt.xticks(cumulativeRevenueA['date'][::5],  rotation=45)\n",
        "plt.show()"
      ],
      "execution_count": 26,
      "outputs": [
        {
          "output_type": "display_data",
          "data": {
            "image/png": "[encoded data removed]",
            "text/plain": [
              "<Figure size 936x576 with 1 Axes>"
            ]
          },
          "metadata": {
            "tags": []
          }
        }
      ]
    },
    {
      "cell_type": "markdown",
      "metadata": {
        "id": "_-KxypW7-vIF"
      },
      "source": [
        "На графике кумулятивного среднего чека в двух группах также отчетливо видно воздействие, произошедшее 18-го августа, преведшее к значительному увеличению и этого показателя в группе В. После этой даты графики начинают сходиться, что свидетельствует о кратковременном характере этого воздействия.\n",
        "Группа В показывает значительно большее итоговое значение."
      ]
    },
    {
      "cell_type": "code",
      "metadata": {
        "id": "akvLuX2Z-vIF",
        "colab": {
          "base_uri": "https://localhost:8080/",
          "height": 204
        },
        "outputId": "fae11551-2ac5-4c2e-d7dc-face1ea699f7"
      },
      "source": [
        "# Построим график относительного изменения кумулятивного среднего чека группы B к группе A\n",
        "\n",
        "mergedCumulativeRevenue = cumulativeRevenueA.merge(cumulativeRevenueB, left_on='date', right_on='date', how='left', suffixes=['A', 'B'])\n",
        "\n",
        "mergedCumulativeRevenue.head()"
      ],
      "execution_count": 27,
      "outputs": [
        {
          "output_type": "execute_result",
          "data": {
            "text/html": [
              "<div>\n",
              "<style scoped>\n",
              "    .dataframe tbody tr th:only-of-type {\n",
              "        vertical-align: middle;\n",
              "    }\n",
              "\n",
              "    .dataframe tbody tr th {\n",
              "        vertical-align: top;\n",
              "    }\n",
              "\n",
              "    .dataframe thead th {\n",
              "        text-align: right;\n",
              "    }\n",
              "</style>\n",
              "<table border=\"1\" class=\"dataframe\">\n",
              "  <thead>\n",
              "    <tr style=\"text-align: right;\">\n",
              "      <th></th>\n",
              "      <th>date</th>\n",
              "      <th>revenueA</th>\n",
              "      <th>ordersA</th>\n",
              "      <th>revenueB</th>\n",
              "      <th>ordersB</th>\n",
              "    </tr>\n",
              "  </thead>\n",
              "  <tbody>\n",
              "    <tr>\n",
              "      <th>0</th>\n",
              "      <td>2019-08-01</td>\n",
              "      <td>148579</td>\n",
              "      <td>24</td>\n",
              "      <td>101217</td>\n",
              "      <td>21</td>\n",
              "    </tr>\n",
              "    <tr>\n",
              "      <th>1</th>\n",
              "      <td>2019-08-02</td>\n",
              "      <td>242401</td>\n",
              "      <td>44</td>\n",
              "      <td>266748</td>\n",
              "      <td>45</td>\n",
              "    </tr>\n",
              "    <tr>\n",
              "      <th>2</th>\n",
              "      <td>2019-08-03</td>\n",
              "      <td>354874</td>\n",
              "      <td>68</td>\n",
              "      <td>380996</td>\n",
              "      <td>61</td>\n",
              "    </tr>\n",
              "    <tr>\n",
              "      <th>3</th>\n",
              "      <td>2019-08-04</td>\n",
              "      <td>425699</td>\n",
              "      <td>84</td>\n",
              "      <td>489567</td>\n",
              "      <td>78</td>\n",
              "    </tr>\n",
              "    <tr>\n",
              "      <th>4</th>\n",
              "      <td>2019-08-05</td>\n",
              "      <td>549917</td>\n",
              "      <td>109</td>\n",
              "      <td>581995</td>\n",
              "      <td>101</td>\n",
              "    </tr>\n",
              "  </tbody>\n",
              "</table>\n",
              "</div>"
            ],
            "text/plain": [
              "        date  revenueA  ordersA  revenueB  ordersB\n",
              "0 2019-08-01    148579       24    101217       21\n",
              "1 2019-08-02    242401       44    266748       45\n",
              "2 2019-08-03    354874       68    380996       61\n",
              "3 2019-08-04    425699       84    489567       78\n",
              "4 2019-08-05    549917      109    581995      101"
            ]
          },
          "metadata": {
            "tags": []
          },
          "execution_count": 27
        }
      ]
    },
    {
      "cell_type": "code",
      "metadata": {
        "colab": {
          "base_uri": "https://localhost:8080/",
          "height": 561
        },
        "id": "eaLQvsodDQaX",
        "outputId": "a2b410bb-1a4e-4ac6-ef1d-dcc994894921"
      },
      "source": [
        "plt.figure(figsize=(13,8))\n",
        "\n",
        "plt.plot(mergedCumulativeRevenue['date'], (mergedCumulativeRevenue['revenueB']/mergedCumulativeRevenue['ordersB'])/(mergedCumulativeRevenue['revenueA']/mergedCumulativeRevenue['ordersA'])-1)\n",
        "plt.axhline(y=0, color='black', linestyle='--') \n",
        "plt.xlabel('Дата')\n",
        "plt.ylabel('Разница кумулятивных средних чеков в группах А и В')\n",
        "plt.title('Разница кумулятивных средних чеков в группах А и В')\n",
        "plt.xticks(mergedCumulativeRevenue['date'][::5],  rotation=45)\n",
        "plt.show()\n"
      ],
      "execution_count": 28,
      "outputs": [
        {
          "output_type": "display_data",
          "data": {
            "image/png": "[encoded data removed]",
            "text/plain": [
              "<Figure size 936x576 with 1 Axes>"
            ]
          },
          "metadata": {
            "tags": []
          }
        }
      ]
    },
    {
      "cell_type": "markdown",
      "metadata": {
        "id": "BmTMF4ak-vIF"
      },
      "source": [
        "На графике хорошо видно, что группа В на протяжении значительного времени имеет больший средний чек."
      ]
    },
    {
      "cell_type": "code",
      "metadata": {
        "id": "yPhzrsLl-vIF",
        "colab": {
          "base_uri": "https://localhost:8080/",
          "height": 561
        },
        "outputId": "fb8cd068-33f4-4027-9781-321a053bbe70"
      },
      "source": [
        "# Построим график кумулятивной конверсии по группам\n",
        "\n",
        "cumulativeData['conversion'] = (cumulativeData['orders'] / cumulativeData['visitors'])\n",
        "\n",
        "cumulativeDataA = cumulativeData[cumulativeData['group'] == 'A']\n",
        "cumulativeDataB = cumulativeData[cumulativeData['group'] == 'B']\n",
        "\n",
        "plt.figure(figsize=(13,8))\n",
        "\n",
        "plt.plot(cumulativeDataA['date'], cumulativeDataA['conversion'], label='A')\n",
        "plt.plot(cumulativeDataB['date'], cumulativeDataB['conversion'], label='B')\n",
        "plt.xlabel('Дата')\n",
        "plt.ylabel('Кумулятивная конверсия')\n",
        "plt.title('Кумулятивная конверсия')\n",
        "plt.xticks(mergedCumulativeRevenue['date'][::5],  rotation=45)\n",
        "plt.legend()\n",
        "plt.show()"
      ],
      "execution_count": 29,
      "outputs": [
        {
          "output_type": "display_data",
          "data": {
            "image/png": "[encoded data removed]",
            "text/plain": [
              "<Figure size 936x576 with 1 Axes>"
            ]
          },
          "metadata": {
            "tags": []
          }
        }
      ]
    },
    {
      "cell_type": "markdown",
      "metadata": {
        "id": "lHZ4b0ca-vIF"
      },
      "source": [
        "График кумулятивной конверсии показывает что в первые дни накопления данных, значения конверсии колебались, а с 6-го дня отчетливо виден тренд расхождения линий групп А и В. Конверсия группы В после 10-го дня эксперимента достигает максимума и плавно снижается к концу месяца. При этом различие между группами остается существенным.\n",
        "\n",
        "Стоит отметить, что мы не наблюдаем никаких значительных изменений на графике 18-го числа, что говорит нам о характере того воздействия. Люди в этот день стали покупать более дорогие товары или большее их количество, но количество клиентов, совершивших покупку осталось прежним."
      ]
    },
    {
      "cell_type": "code",
      "metadata": {
        "id": "IcU7rDDp-vIF",
        "colab": {
          "base_uri": "https://localhost:8080/",
          "height": 561
        },
        "outputId": "e6602769-32bb-4107-ac3c-e46a374f7a40"
      },
      "source": [
        "# Построим график относительного изменения кумулятивной конверсии группы B к группе A\n",
        "\n",
        "mergedCumulativeConversions = cumulativeDataA[['date','conversion']].merge(cumulativeDataB[['date','conversion']], left_on='date', right_on='date', how='left', suffixes=['A', 'B'])\n",
        "\n",
        "\n",
        "plt.figure(figsize=(13,8))\n",
        "plt.plot(mergedCumulativeConversions['date'], mergedCumulativeConversions['conversionB']/mergedCumulativeConversions['conversionA']-1, label=\"Относительный прирост конверсии группы B относительно группы A\")\n",
        "\n",
        "plt.xlabel('Дата')\n",
        "plt.ylabel('Разница кумулятивных конверсий в группах А и В')\n",
        "plt.title('Разница кумулятивных конверсий в группах А и В')\n",
        "plt.axhline(y=0, color='grey', linestyle='-')\n",
        "plt.axhline(y=0.1, color='g', linestyle=':')\n",
        "\n",
        "plt.xticks(mergedCumulativeRevenue['date'][::5],  rotation=45)\n",
        "\n",
        "plt.show()"
      ],
      "execution_count": 30,
      "outputs": [
        {
          "output_type": "display_data",
          "data": {
            "image/png": "[encoded data removed]",
            "text/plain": [
              "<Figure size 936x576 with 1 Axes>"
            ]
          },
          "metadata": {
            "tags": []
          }
        }
      ]
    },
    {
      "cell_type": "markdown",
      "metadata": {
        "id": "TzfI5zUL-vIG"
      },
      "source": [
        "На графике видно превосходство конверсии варианта В над вариантом А. Максимальное значение относительного изменения конверсии равно 0.2\n",
        "К концу эксперимента оно равно 0.13"
      ]
    },
    {
      "cell_type": "markdown",
      "metadata": {
        "id": "6OZih_MS-vIG"
      },
      "source": [
        "##### Выявление аномальных значений в данных"
      ]
    },
    {
      "cell_type": "code",
      "metadata": {
        "colab": {
          "base_uri": "https://localhost:8080/",
          "height": 419
        },
        "id": "rjmPgFWaKUZw",
        "outputId": "9f82a050-d02e-44db-8855-696fb27ca996"
      },
      "source": [
        "orders"
      ],
      "execution_count": 31,
      "outputs": [
        {
          "output_type": "execute_result",
          "data": {
            "text/html": [
              "<div>\n",
              "<style scoped>\n",
              "    .dataframe tbody tr th:only-of-type {\n",
              "        vertical-align: middle;\n",
              "    }\n",
              "\n",
              "    .dataframe tbody tr th {\n",
              "        vertical-align: top;\n",
              "    }\n",
              "\n",
              "    .dataframe thead th {\n",
              "        text-align: right;\n",
              "    }\n",
              "</style>\n",
              "<table border=\"1\" class=\"dataframe\">\n",
              "  <thead>\n",
              "    <tr style=\"text-align: right;\">\n",
              "      <th></th>\n",
              "      <th>transactionId</th>\n",
              "      <th>visitorId</th>\n",
              "      <th>date</th>\n",
              "      <th>revenue</th>\n",
              "      <th>group</th>\n",
              "    </tr>\n",
              "  </thead>\n",
              "  <tbody>\n",
              "    <tr>\n",
              "      <th>0</th>\n",
              "      <td>3667963787</td>\n",
              "      <td>3312258926</td>\n",
              "      <td>2019-08-15</td>\n",
              "      <td>1650</td>\n",
              "      <td>B</td>\n",
              "    </tr>\n",
              "    <tr>\n",
              "      <th>1</th>\n",
              "      <td>2804400009</td>\n",
              "      <td>3642806036</td>\n",
              "      <td>2019-08-15</td>\n",
              "      <td>730</td>\n",
              "      <td>B</td>\n",
              "    </tr>\n",
              "    <tr>\n",
              "      <th>2</th>\n",
              "      <td>2961555356</td>\n",
              "      <td>4069496402</td>\n",
              "      <td>2019-08-15</td>\n",
              "      <td>400</td>\n",
              "      <td>A</td>\n",
              "    </tr>\n",
              "    <tr>\n",
              "      <th>3</th>\n",
              "      <td>3797467345</td>\n",
              "      <td>1196621759</td>\n",
              "      <td>2019-08-15</td>\n",
              "      <td>9759</td>\n",
              "      <td>B</td>\n",
              "    </tr>\n",
              "    <tr>\n",
              "      <th>4</th>\n",
              "      <td>2282983706</td>\n",
              "      <td>2322279887</td>\n",
              "      <td>2019-08-15</td>\n",
              "      <td>2308</td>\n",
              "      <td>B</td>\n",
              "    </tr>\n",
              "    <tr>\n",
              "      <th>...</th>\n",
              "      <td>...</td>\n",
              "      <td>...</td>\n",
              "      <td>...</td>\n",
              "      <td>...</td>\n",
              "      <td>...</td>\n",
              "    </tr>\n",
              "    <tr>\n",
              "      <th>1192</th>\n",
              "      <td>2662137336</td>\n",
              "      <td>3733762160</td>\n",
              "      <td>2019-08-14</td>\n",
              "      <td>6490</td>\n",
              "      <td>B</td>\n",
              "    </tr>\n",
              "    <tr>\n",
              "      <th>1193</th>\n",
              "      <td>2203539145</td>\n",
              "      <td>370388673</td>\n",
              "      <td>2019-08-14</td>\n",
              "      <td>3190</td>\n",
              "      <td>A</td>\n",
              "    </tr>\n",
              "    <tr>\n",
              "      <th>1194</th>\n",
              "      <td>1807773912</td>\n",
              "      <td>573423106</td>\n",
              "      <td>2019-08-14</td>\n",
              "      <td>10550</td>\n",
              "      <td>A</td>\n",
              "    </tr>\n",
              "    <tr>\n",
              "      <th>1195</th>\n",
              "      <td>1947021204</td>\n",
              "      <td>1614305549</td>\n",
              "      <td>2019-08-14</td>\n",
              "      <td>100</td>\n",
              "      <td>A</td>\n",
              "    </tr>\n",
              "    <tr>\n",
              "      <th>1196</th>\n",
              "      <td>3936777065</td>\n",
              "      <td>2108080724</td>\n",
              "      <td>2019-08-15</td>\n",
              "      <td>202740</td>\n",
              "      <td>B</td>\n",
              "    </tr>\n",
              "  </tbody>\n",
              "</table>\n",
              "<p>1197 rows × 5 columns</p>\n",
              "</div>"
            ],
            "text/plain": [
              "      transactionId   visitorId       date  revenue group\n",
              "0        3667963787  3312258926 2019-08-15     1650     B\n",
              "1        2804400009  3642806036 2019-08-15      730     B\n",
              "2        2961555356  4069496402 2019-08-15      400     A\n",
              "3        3797467345  1196621759 2019-08-15     9759     B\n",
              "4        2282983706  2322279887 2019-08-15     2308     B\n",
              "...             ...         ...        ...      ...   ...\n",
              "1192     2662137336  3733762160 2019-08-14     6490     B\n",
              "1193     2203539145   370388673 2019-08-14     3190     A\n",
              "1194     1807773912   573423106 2019-08-14    10550     A\n",
              "1195     1947021204  1614305549 2019-08-14      100     A\n",
              "1196     3936777065  2108080724 2019-08-15   202740     B\n",
              "\n",
              "[1197 rows x 5 columns]"
            ]
          },
          "metadata": {
            "tags": []
          },
          "execution_count": 31
        }
      ]
    },
    {
      "cell_type": "code",
      "metadata": {
        "id": "eDHa2c81-vIG"
      },
      "source": [
        "# Подсчитаем количество заказов по по пользователям\n",
        "\n",
        "ordersByUsers = (\n",
        "    orders.drop(['group', 'revenue', 'date'], axis=1)\n",
        "    .groupby('visitorId', as_index=False)\n",
        "    .agg({'transactionId': pd.Series.nunique})\n",
        ")\n",
        "\n",
        "ordersByUsers.columns = ['visitorId', 'orders']"
      ],
      "execution_count": 32,
      "outputs": []
    },
    {
      "cell_type": "code",
      "metadata": {
        "id": "7RvAWjY0-vIG",
        "colab": {
          "base_uri": "https://localhost:8080/",
          "height": 518
        },
        "outputId": "ef61d12d-a093-48e0-a175-cc60c523cd70"
      },
      "source": [
        "# Построим график распределения количества заказов по пользователям\n",
        "\n",
        "x = np.arange(0, len(ordersByUsers), 1)\n",
        "\n",
        "plt.figure(figsize=(13,8))\n",
        "plt.xlabel('Индекс пользователя')\n",
        "plt.ylabel('Количество заказов')\n",
        "plt.title('Количество заказов')\n",
        "plt.scatter(x, ordersByUsers['orders']) \n",
        "\n",
        "plt.show()"
      ],
      "execution_count": 33,
      "outputs": [
        {
          "output_type": "display_data",
          "data": {
            "image/png": "[encoded data removed]",
            "text/plain": [
              "<Figure size 936x576 with 1 Axes>"
            ]
          },
          "metadata": {
            "tags": []
          }
        }
      ]
    },
    {
      "cell_type": "markdown",
      "metadata": {
        "id": "Jlyh50Cx-vIG"
      },
      "source": [
        "Наибольшее число людей совершают одну покупку, однако есть пользователи, купившие 8,9 и даже 11 раз"
      ]
    },
    {
      "cell_type": "code",
      "metadata": {
        "id": "CRGySU5D-vIH",
        "colab": {
          "base_uri": "https://localhost:8080/"
        },
        "outputId": "307aaab8-b517-43c1-fec1-0dc363a8222c"
      },
      "source": [
        "# Посчитаем 95-й и 99-й перцентили количества заказов на одного пользователя\n",
        "\n",
        "print(np.percentile(ordersByUsers['orders'], [95, 99]))"
      ],
      "execution_count": 34,
      "outputs": [
        {
          "output_type": "stream",
          "text": [
            "[2. 4.]\n"
          ],
          "name": "stdout"
        }
      ]
    },
    {
      "cell_type": "markdown",
      "metadata": {
        "id": "tpOLdXH4-vIH"
      },
      "source": [
        "1% покупателей совершили 4 и более покупок. Принимая во внимание график распределения числа покупок, этот уровень выглядит оптимальным для определения аномальных пользователей "
      ]
    },
    {
      "cell_type": "code",
      "metadata": {
        "id": "LraYhhPR-vIH",
        "colab": {
          "base_uri": "https://localhost:8080/",
          "height": 518
        },
        "outputId": "115ea19f-ee39-42f8-91dd-ba4724162533"
      },
      "source": [
        "# Построим точечный график стоимостей заказов\n",
        "\n",
        "x = np.arange(0, len(orders['revenue']), 1)\n",
        "\n",
        "plt.figure(figsize=(13,8))\n",
        "plt.xlabel('Индекс пользователя')\n",
        "plt.ylabel('Количество заказов')\n",
        "plt.title('Количество заказов')\n",
        "plt.scatter(x, orders['revenue']) \n",
        "\n",
        "plt.show()"
      ],
      "execution_count": 35,
      "outputs": [
        {
          "output_type": "display_data",
          "data": {
            "image/png": "[encoded data removed]",
            "text/plain": [
              "<Figure size 936x576 with 1 Axes>"
            ]
          },
          "metadata": {
            "tags": []
          }
        }
      ]
    },
    {
      "cell_type": "markdown",
      "metadata": {
        "id": "iLLQCIE3-vIH"
      },
      "source": [
        "На графике хорошо видно, что подавляющее больоинство чеков не выходит за границу 200000р. Только одна точка в районе 1300000р. резко выбивается из картины. Построим график без нее для более детального анализа. "
      ]
    },
    {
      "cell_type": "code",
      "metadata": {
        "id": "Lq0uiJDM-vIH",
        "colab": {
          "base_uri": "https://localhost:8080/",
          "height": 518
        },
        "outputId": "acca5750-b843-4e49-bb7f-34cb0587a8a5"
      },
      "source": [
        "orders_filtered = orders[orders['revenue']<1000000]\n",
        "\n",
        "x = np.arange(0, len(orders_filtered['revenue']), 1)\n",
        "\n",
        "plt.figure(figsize=(13,8))\n",
        "plt.xlabel('Индекс пользователя')\n",
        "plt.ylabel('Стоимость заказа')\n",
        "plt.title('Стоимость заказа')\n",
        "plt.scatter(x, orders_filtered['revenue']) \n",
        "\n",
        "plt.show()"
      ],
      "execution_count": 36,
      "outputs": [
        {
          "output_type": "display_data",
          "data": {
            "image/png": "[encoded data removed]",
            "text/plain": [
              "<Figure size 936x576 with 1 Axes>"
            ]
          },
          "metadata": {
            "tags": []
          }
        }
      ]
    },
    {
      "cell_type": "markdown",
      "metadata": {
        "id": "PN1vIZXC-vII"
      },
      "source": [
        "Теперь лучше видно распределение стоимости покупок. Большинство не превышает нескольки тысяч рублей."
      ]
    },
    {
      "cell_type": "code",
      "metadata": {
        "id": "SpbIa8f7-vII",
        "colab": {
          "base_uri": "https://localhost:8080/"
        },
        "outputId": "ca365d0f-34c3-4e9d-bba9-0f4a859a1b82"
      },
      "source": [
        "# Посчитаем 95-й и 99-й перцентили стоимости заказов\n",
        "\n",
        "print(np.percentile(orders['revenue'], [95, 99]))"
      ],
      "execution_count": 37,
      "outputs": [
        {
          "output_type": "stream",
          "text": [
            "[28000.  58233.2]\n"
          ],
          "name": "stdout"
        }
      ]
    },
    {
      "cell_type": "markdown",
      "metadata": {
        "id": "yIjSwQtn-vII"
      },
      "source": [
        "Стоимость 95% заказов не превышает 28000р, а 1% самых дорогих покупок стоят больше 58233.2р\n",
        "Принимая во внимание график распределения стоимости покупок, уровень в 30000р выглядит оптимальным для определения аномальных пользователей "
      ]
    },
    {
      "cell_type": "markdown",
      "metadata": {
        "id": "LmJclMMH-vII"
      },
      "source": [
        "##### Рассчет статистической значимости различий между группами\n",
        "\n",
        "\n",
        "<br><b>Проведем тест равенства конверсий в тестовой и контрольной группах.</b>\n",
        "\n",
        "<br>H0 : Конверсии в тестовой и контрольной группах равны\n",
        "<br>H1 : Конверсии в тестовой и контрольной группах не равны\n",
        "\n"
      ]
    },
    {
      "cell_type": "code",
      "metadata": {
        "id": "PO61nzQL-vII"
      },
      "source": [
        "# Возьмем данные о пользователях из групп А и В по дням\n",
        "\n",
        "visitorsADaily = visitors[visitors['group'] == 'A'][['date', 'visitors']]\n",
        "visitorsADaily.columns = ['date', 'visitorsPerDateA']\n",
        "\n",
        "visitorsBDaily = visitors[visitors['group'] == 'B'][['date', 'visitors']]\n",
        "visitorsBDaily.columns = ['date', 'visitorsPerDateB']"
      ],
      "execution_count": 38,
      "outputs": []
    },
    {
      "cell_type": "code",
      "metadata": {
        "id": "8uzHoAsL-vIJ",
        "colab": {
          "base_uri": "https://localhost:8080/"
        },
        "outputId": "006260bc-c459-4fcc-bd04-747ec3f445d2"
      },
      "source": [
        "# Посчитаем статистическую значимость различия в конверсии между группами\n",
        "\n",
        "ordersByUsersA = orders[orders['group'] == 'A'].groupby('visitorId', as_index=False).agg({'transactionId': pd.Series.nunique})\n",
        "\n",
        "ordersByUsersB = orders[orders['group'] == 'B'].groupby('visitorId', as_index=False).agg({'transactionId': pd.Series.nunique})\n",
        "\n",
        "ordersByUsersA.columns = ['visitorId', 'orders']\n",
        "ordersByUsersB.columns = ['visitorId', 'orders'] \n",
        "\n",
        "sampleA = pd.concat([ordersByUsersA['orders'],pd.Series(0,index=np.arange(visitorsADaily['visitorsPerDateA'].sum() - len(ordersByUsersA['orders'])),name='orders')],axis=0)\n",
        "\n",
        "sampleB = pd.concat([ordersByUsersB['orders'],pd.Series(0,index=np.arange(visitorsBDaily['visitorsPerDateB'].sum() - len(ordersByUsersB['orders'])),name='orders')],axis=0)\n",
        "\n",
        "print(\"p-value = {0:.4f}\".format(st.mannwhitneyu(sampleA, sampleB, alternative = 'two-sided')[1]))\n",
        "\n",
        "print(\"Относительный прирост конверсии группы B = {0:.3f}\".format(sampleB.mean() / sampleA.mean() - 1))"
      ],
      "execution_count": 39,
      "outputs": [
        {
          "output_type": "stream",
          "text": [
            "p-value = 0.0168\n",
            "Относительный прирост конверсии группы B = 0.138\n"
          ],
          "name": "stdout"
        }
      ]
    },
    {
      "cell_type": "markdown",
      "metadata": {
        "id": "Ch-EN42F-vIJ"
      },
      "source": [
        "Так как p-value меньше уровня статистической значимости alpha = 0.05, то мы можем отвергнуть нулевую гипотезу и подтвердить, что конверсии в двух группах отличаются. При этом относительный прирост конверсии группы B равен 0.231.\n",
        "\n"
      ]
    },
    {
      "cell_type": "markdown",
      "metadata": {
        "id": "COBwB0Mb-vIK"
      },
      "source": [
        "<br><b>Проведем тест равенства среднего чека в тестовой и контрольной группах.</b>\n",
        "\n",
        "<br>H0 : Средний чек в тестовой и контрольной группах равны\n",
        "<br>H1 : Средний чек в тестовой и контрольной группах не равны"
      ]
    },
    {
      "cell_type": "code",
      "metadata": {
        "id": "Wjp9JRxs-vIK",
        "colab": {
          "base_uri": "https://localhost:8080/"
        },
        "outputId": "437feb67-b744-48f9-98b2-e3b4c51b7b79"
      },
      "source": [
        "# Найдём относительные различия в среднем чеке между группами\n",
        "\n",
        "print('p-value = {0:.3f}'.format(st.mannwhitneyu(orders[orders['group']=='A']['revenue'], orders[orders['group']=='B']['revenue'], alternative = 'two-sided')[1]))\n",
        "print('Относительное различие в среднем чеке между группами = {0:.3f}'.format(orders[orders['group']=='B']['revenue'].mean()/orders[orders['group']=='A']['revenue'].mean()-1)) \n"
      ],
      "execution_count": 40,
      "outputs": [
        {
          "output_type": "stream",
          "text": [
            "p-value = 0.729\n",
            "Относительное различие в среднем чеке между группами = 0.259\n"
          ],
          "name": "stdout"
        }
      ]
    },
    {
      "cell_type": "markdown",
      "metadata": {
        "id": "x0Zcbity-vIK"
      },
      "source": [
        "P-value значительно больше 0.05. Значит, причин отвергать нулевую гипотезу и считать, что в среднем чеке есть различия, нет. При этом средний чек группы B значительно выше среднего чека группы A.\n",
        "\n",
        "\n",
        "95-й и 99-й перцентили стоимости заказа равны 28000 и 58233.2 рублям. А 95-й и 99-й перцентили количества заказов на одного пользователя равны 2 и 4 заказа на пользователя. Примем за аномальных пользователей тех, кто совершил от 4 заказов или совершил заказ дороже 30 000 рублей. Так мы уберём от 1% до 5% пользователей с дорогими заказами и 1% пользователей с наибольшим числом заказов."
      ]
    },
    {
      "cell_type": "code",
      "metadata": {
        "id": "9CasJf-d-vIK",
        "colab": {
          "base_uri": "https://localhost:8080/"
        },
        "outputId": "ee9d830d-d650-4d50-a18b-ae70eb17e436"
      },
      "source": [
        "# Узнаем, сколько всего аномальных пользователей\n",
        "\n",
        "usersWithManyOrders = pd.concat([ordersByUsersA[ordersByUsersA['orders'] > 3]['visitorId'],ordersByUsersB[ordersByUsersB['orders'] > 3]['visitorId']],axis=0)\n",
        "usersWithExpensiveOrders = orders[orders['revenue'] > 30000]['visitorId']\n",
        "abnormalUsers = pd.concat([usersWithManyOrders, usersWithExpensiveOrders], axis=0).drop_duplicates().sort_values()\n",
        "\n",
        "print(abnormalUsers.head(5))\n",
        "print(abnormalUsers.shape)"
      ],
      "execution_count": 41,
      "outputs": [
        {
          "output_type": "stream",
          "text": [
            "1099    148427295\n",
            "18      199603092\n",
            "928     204675465\n",
            "23      237748145\n",
            "684     358944393\n",
            "Name: visitorId, dtype: int64\n",
            "(57,)\n"
          ],
          "name": "stdout"
        }
      ]
    },
    {
      "cell_type": "markdown",
      "metadata": {
        "id": "V8nNBlZz-vIK"
      },
      "source": [
        "Всего 57 аномальных пользователей\n",
        "\n",
        "Повторим анализ статистической значимости различий между группами без аномальных пользователей\n",
        "\n",
        "\n",
        "<br><b>Проведем тест равенства конверсий в тестовой и контрольной группах без аномальных покупателей.</b>\n",
        "\n",
        "<br>H0 : Конверсии в тестовой и контрольной группах без аномальных покупателей равны\n",
        "<br>H1 : Конверсии в тестовой и контрольной группах без аномальных покупателей не равны\n",
        "\n"
      ]
    },
    {
      "cell_type": "code",
      "metadata": {
        "id": "puGQmgXV-vIL"
      },
      "source": [
        "# Подготовим выборки количества заказов по пользователям\n",
        "\n",
        "sampleAFiltered = pd.concat([ordersByUsersA[np.logical_not(ordersByUsersA['visitorId']\n",
        "                                                           .isin(abnormalUsers))]['orders'],pd.Series(0,index=np.arange(visitorsADaily['visitorsPerDateA']\n",
        "                                                                                                                        .sum() - len(ordersByUsersA['orders'])),name='orders')],axis=0)\n",
        "\n",
        "sampleBFiltered = pd.concat([ordersByUsersB[np.logical_not(ordersByUsersB['visitorId']\n",
        "                                                           .isin(abnormalUsers))]['orders'],pd.Series(0,index=np.arange(visitorsBDaily['visitorsPerDateB']\n",
        "                                                                                                                        .sum() - len(ordersByUsersB['orders'])),name='orders')],axis=0) "
      ],
      "execution_count": 42,
      "outputs": []
    },
    {
      "cell_type": "code",
      "metadata": {
        "id": "BpdxDu2t-vIL",
        "colab": {
          "base_uri": "https://localhost:8080/"
        },
        "outputId": "b1e3f74a-2f2d-4b98-8827-a1f63d9fcfaf"
      },
      "source": [
        "# Посчитаем статистическую значимость различия в конверсии между группами без выбросов\n",
        "\n",
        "print('p-value = {0:.4f}'.format(st.mannwhitneyu(sampleAFiltered, sampleBFiltered, alternative = 'two-sided')[1]))\n",
        "print('Относительный прирост конверсии группы B = {0:.3f}'.format(sampleBFiltered.mean()/sampleAFiltered.mean()-1))"
      ],
      "execution_count": 43,
      "outputs": [
        {
          "output_type": "stream",
          "text": [
            "p-value = 0.0183\n",
            "Относительный прирост конверсии группы B = 0.148\n"
          ],
          "name": "stdout"
        }
      ]
    },
    {
      "cell_type": "markdown",
      "metadata": {
        "id": "hfjP2qxa-vIL"
      },
      "source": [
        "Как и в первый раз, p-value меньше уровня статистической значимости alpha = 0.05, т.е. мы можем отвергнуть нулевую гипотезу и подтвердить, что конверсии в двух группах отличаются. При этом относительный прирост конверсии группы B равен 0.242."
      ]
    },
    {
      "cell_type": "markdown",
      "metadata": {
        "id": "T5QsPNDn-vIL"
      },
      "source": [
        "<br><b>Проведем тест равенства среднего чека в тестовой и контрольной группах без аномальных пользователей.</b>\n",
        "\n",
        "<br>H0 : Средний чек в тестовой и контрольной группах без аномальных пользователей равны\n",
        "<br>H1 : Средний чек в тестовой и контрольной группах без аномальных пользователей не равны"
      ]
    },
    {
      "cell_type": "code",
      "metadata": {
        "id": "NjdFe8uA-vIL",
        "colab": {
          "base_uri": "https://localhost:8080/"
        },
        "outputId": "8bebde50-3653-403a-cd2c-f8460339f0a8"
      },
      "source": [
        "# Посчитаем статистическую значимость различия среднего чека между группами без выбросов\n",
        "    \n",
        "avgAOrder = orders[np.logical_and(orders['group'] == 'A',np.logical_not(orders['visitorId'].isin(abnormalUsers)))]['revenue']\n",
        "avgBOrder = orders[np.logical_and(orders['group'] == 'B',np.logical_not(orders['visitorId'].isin(abnormalUsers)))]['revenue']\n",
        "\n",
        "print('p-value = {0:.3f}'.format(st.mannwhitneyu(avgAOrder,avgBOrder, alternative = 'two-sided')[1]))\n",
        "print(\"Относительная разница размеров среднего чека между группами = {0:.3f}\".format(avgBOrder.mean()/avgAOrder.mean()-1))\n"
      ],
      "execution_count": 44,
      "outputs": [
        {
          "output_type": "stream",
          "text": [
            "p-value = 0.958\n",
            "Относительная разница размеров среднего чека между группами = -0.020\n"
          ],
          "name": "stdout"
        }
      ]
    },
    {
      "cell_type": "markdown",
      "metadata": {
        "id": "2HE9CZrS-vIL"
      },
      "source": [
        "Как и в случае с аномальными пользователями, P-value значительно больше 0.05. Причин отвергать нулевую гипотезу и считать, что в среднем чеке есть различия, нет. При этом средний чек группы B без аномальных пользователей стал ниже среднего чека группы A, т.к. видимо, мы убрали преимущественно большие заказы из группы В."
      ]
    },
    {
      "cell_type": "markdown",
      "metadata": {
        "id": "RESw0xna-vIM"
      },
      "source": [
        "### Вывод\n",
        "\n",
        "Применив фреймворки ICE и RICE были приоретизированы гипотезы для дальнейшей их проверки.\n",
        "В результате анализа результатов А/В тестирования удалось определить лучший вариант из тестового и контрольного. \n",
        "\n",
        "Проведен временной анализ продаж интернет-магазина в августе 2018 года. По динамике продаж определено существенное воздействие на размер выручки и величину чека в группе В, произошедшее 18-го августа, не повлиявшее на размер конверсии в группах. Возможно, это была маркетинговая компания, побудившая покупателей делать большие по стоимости покупки. \n",
        "\n",
        "По проведенному анализу числа заказов и их стоимости выявлены 95-й и 99-й персентили распределений, а также определены условно аномальные покупатели, совершившие 4 и более заказов или заплатившие дороже 30 000 рублей за покупку. \n",
        "\n",
        "Проверены гипотезы о различии в размере конверсии и среднего чека в группах А и В. На уровне статистической значимости  alpha = 0.05 мы смогли отвергнуть нулевую гипотезу и подтвердить, что конверсии в двух группах отличаются. При этом относительный прирост конверсии группы B равен 0.231. Причин отвергать нулевую гипотезу о равенстве среднего чека в группах А и В нет.\n",
        "\n",
        "Проверка статистической значимости различий была повторена с изъятием данных аномальных покупателей. Результаты совпадают с предыдущими тестами на всем объеме данных. Конверсии в группах имеют различие, а средние чеки - нет.\n",
        "\n",
        "\n",
        "По результатам исследования можно рекоммендовать использовать в дальнейшем в работе тестовый вариант В, как обладающий большей конверсией.\n",
        "\n",
        "Стоит изучить источник воздействия на размер выручки и среднего чека в группе В 18-го августа. Несмотря на то, что это воздействие не повлияло на конверсию в группах и мы смогли принять решение о выборе варианта с большей конверсией, подобные резкие изменения исследуемых параметров могут сделать результаты A/B теста недостоверными.\n"
      ]
    }
  ]
}
